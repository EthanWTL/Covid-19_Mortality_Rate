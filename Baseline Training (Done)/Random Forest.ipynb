{
 "cells": [
  {
   "cell_type": "code",
   "execution_count": 17,
   "id": "12a8294d",
   "metadata": {},
   "outputs": [],
   "source": [
    "import numpy as np\n",
    "import pandas as pd\n",
    "from sklearn.ensemble import RandomForestClassifier\n",
    "from sklearn.metrics import confusion_matrix, classification_report"
   ]
  },
  {
   "cell_type": "code",
   "execution_count": 18,
   "id": "2df0a46f",
   "metadata": {},
   "outputs": [
    {
     "name": "stdout",
     "output_type": "stream",
     "text": [
      "[[27944  9234]\n",
      " [ 6269 13289]]\n",
      "              precision    recall  f1-score   support\n",
      "\n",
      "           0     0.7516    0.8168    0.7828     34213\n",
      "           1     0.6795    0.5900    0.6316     22523\n",
      "\n",
      "    accuracy                         0.7268     56736\n",
      "   macro avg     0.7155    0.7034    0.7072     56736\n",
      "weighted avg     0.7230    0.7268    0.7228     56736\n",
      "\n"
     ]
    }
   ],
   "source": [
    "def rf_train():\n",
    "    Train = pd.read_csv('../TrainTestData/com_train.csv')\n",
    "    Test = pd.read_csv('../TrainTestData/com_test.csv')\n",
    "    \n",
    "    X_train = Train.iloc[:,:-1]\n",
    "    Y_train = Train.iloc[:,-1]\n",
    "\n",
    "    X_test = Test.iloc[:,:-1]\n",
    "    Y_test = Test.iloc[:,-1]\n",
    "\n",
    "    #binarize the target\n",
    "    Y_train_binary = Y_train.apply(lambda x: 1 if x > 0 else 0)\n",
    "    Y_test_binary = Y_test.apply(lambda x: 1 if x > 0 else 0)\n",
    "\n",
    "    #Bayesian Classifier\n",
    "    classifier.fit(X_train, Y_train_binary)\n",
    "    Y_pred = classifier.predict(X_test)\n",
    "    cm = confusion_matrix(Y_pred, Y_test_binary)\n",
    "    print(cm)\n",
    "    print(classification_report(Y_test_binary, Y_pred, digits = 4))\n",
    "\n",
    "classifier = RandomForestClassifier(n_estimators=100, random_state=42)\n",
    "rf_train()"
   ]
  },
  {
   "cell_type": "code",
   "execution_count": 19,
   "id": "8ede55bd",
   "metadata": {},
   "outputs": [],
   "source": [
    "def rf_test(path_test):\n",
    "    Test = pd.read_csv(path_test)\n",
    "\n",
    "    X_test = Test.iloc[:,:-1]\n",
    "    Y_test = Test.iloc[:,-1]\n",
    "\n",
    "    #binarize the target\n",
    "    Y_test_binary = Y_test.apply(lambda x: 1 if x > 0 else 0)\n",
    "    Y_pred = classifier.predict(X_test)\n",
    "    cm = confusion_matrix(Y_pred, Y_test_binary)\n",
    "    print(cm)\n",
    "    print(classification_report(Y_test_binary, Y_pred, digits = 4))"
   ]
  },
  {
   "cell_type": "markdown",
   "id": "f221abe5",
   "metadata": {},
   "source": [
    "# Cleveland"
   ]
  },
  {
   "cell_type": "code",
   "execution_count": 20,
   "id": "34da9a86",
   "metadata": {},
   "outputs": [
    {
     "name": "stdout",
     "output_type": "stream",
     "text": [
      "[[7004 2336]\n",
      " [1531 3313]]\n",
      "              precision    recall  f1-score   support\n",
      "\n",
      "           0     0.7499    0.8206    0.7837      8535\n",
      "           1     0.6839    0.5865    0.6315      5649\n",
      "\n",
      "    accuracy                         0.7274     14184\n",
      "   macro avg     0.7169    0.7035    0.7076     14184\n",
      "weighted avg     0.7236    0.7274    0.7231     14184\n",
      "\n"
     ]
    }
   ],
   "source": [
    "path_test = '../TrainTestData/cle_test.csv'\n",
    "rf_test(path_test)"
   ]
  },
  {
   "cell_type": "markdown",
   "id": "82fc6d33",
   "metadata": {},
   "source": [
    "# Virginia"
   ]
  },
  {
   "cell_type": "code",
   "execution_count": 21,
   "id": "8686863d",
   "metadata": {
    "scrolled": true
   },
   "outputs": [
    {
     "name": "stdout",
     "output_type": "stream",
     "text": [
      "[[7083 2229]\n",
      " [1564 3308]]\n",
      "              precision    recall  f1-score   support\n",
      "\n",
      "           0     0.7606    0.8191    0.7888      8647\n",
      "           1     0.6790    0.5974    0.6356      5537\n",
      "\n",
      "    accuracy                         0.7326     14184\n",
      "   macro avg     0.7198    0.7083    0.7122     14184\n",
      "weighted avg     0.7288    0.7326    0.7290     14184\n",
      "\n"
     ]
    }
   ],
   "source": [
    "path_test = '../TrainTestData/vir_test.csv'\n",
    "rf_test(path_test)"
   ]
  },
  {
   "cell_type": "markdown",
   "id": "e9e5ba85",
   "metadata": {},
   "source": [
    "# Hungary"
   ]
  },
  {
   "cell_type": "code",
   "execution_count": 22,
   "id": "c6addee2",
   "metadata": {},
   "outputs": [
    {
     "name": "stdout",
     "output_type": "stream",
     "text": [
      "[[6980 2303]\n",
      " [1561 3340]]\n",
      "              precision    recall  f1-score   support\n",
      "\n",
      "           0     0.7519    0.8172    0.7832      8541\n",
      "           1     0.6815    0.5919    0.6335      5643\n",
      "\n",
      "    accuracy                         0.7276     14184\n",
      "   macro avg     0.7167    0.7046    0.7084     14184\n",
      "weighted avg     0.7239    0.7276    0.7237     14184\n",
      "\n"
     ]
    }
   ],
   "source": [
    "path_test = '../TrainTestData/hun_test.csv'\n",
    "rf_test(path_test)"
   ]
  },
  {
   "cell_type": "markdown",
   "id": "daf016ac",
   "metadata": {},
   "source": [
    "# Switzerland"
   ]
  },
  {
   "cell_type": "code",
   "execution_count": 14,
   "id": "77f8dcb9",
   "metadata": {},
   "outputs": [
    {
     "name": "stdout",
     "output_type": "stream",
     "text": [
      "[[6808 2343]\n",
      " [1682 3351]]\n",
      "              precision    recall  f1-score   support\n",
      "\n",
      "           0     0.7440    0.8019    0.7718      8490\n",
      "           1     0.6658    0.5885    0.6248      5694\n",
      "\n",
      "    accuracy                         0.7162     14184\n",
      "   macro avg     0.7049    0.6952    0.6983     14184\n",
      "weighted avg     0.7126    0.7162    0.7128     14184\n",
      "\n"
     ]
    }
   ],
   "source": [
    "path_test = '../TrainTestData/swi_test.csv'\n",
    "rf_test(path_test)"
   ]
  },
  {
   "cell_type": "code",
   "execution_count": null,
   "id": "c06f29c9",
   "metadata": {},
   "outputs": [],
   "source": []
  },
  {
   "cell_type": "code",
   "execution_count": null,
   "id": "ef9f0b36",
   "metadata": {},
   "outputs": [],
   "source": []
  }
 ],
 "metadata": {
  "kernelspec": {
   "display_name": "Python 3 (ipykernel)",
   "language": "python",
   "name": "python3"
  },
  "language_info": {
   "codemirror_mode": {
    "name": "ipython",
    "version": 3
   },
   "file_extension": ".py",
   "mimetype": "text/x-python",
   "name": "python",
   "nbconvert_exporter": "python",
   "pygments_lexer": "ipython3",
   "version": "3.9.16"
  }
 },
 "nbformat": 4,
 "nbformat_minor": 5
}
