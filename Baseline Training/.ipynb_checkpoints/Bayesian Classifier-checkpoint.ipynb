{
 "cells": [
  {
   "cell_type": "code",
   "execution_count": 13,
   "id": "de74fb36",
   "metadata": {},
   "outputs": [],
   "source": [
    "import numpy as np\n",
    "import pandas as pd\n",
    "from sklearn.naive_bayes import GaussianNB\n",
    "from sklearn.metrics import confusion_matrix, classification_report"
   ]
  },
  {
   "cell_type": "code",
   "execution_count": 22,
   "id": "2d2667e8",
   "metadata": {},
   "outputs": [
    {
     "name": "stdout",
     "output_type": "stream",
     "text": [
      "[[33060 13886]\n",
      " [ 1153  8637]]\n",
      "              precision    recall  f1-score   support\n",
      "\n",
      "           0     0.7042    0.9663    0.8147     34213\n",
      "           1     0.8822    0.3835    0.5346     22523\n",
      "\n",
      "    accuracy                         0.7349     56736\n",
      "   macro avg     0.7932    0.6749    0.6746     56736\n",
      "weighted avg     0.7749    0.7349    0.7035     56736\n",
      "\n"
     ]
    }
   ],
   "source": [
    "def bc_train():\n",
    "    Train = pd.read_csv('../TrainTestData/com_train.csv')\n",
    "    Test = pd.read_csv('../TrainTestData/com_test.csv')\n",
    "    \n",
    "    X_train = Train.iloc[:,:-1]\n",
    "    Y_train = Train.iloc[:,-1]\n",
    "\n",
    "    X_test = Test.iloc[:,:-1]\n",
    "    Y_test = Test.iloc[:,-1]\n",
    "\n",
    "    #Bayesian Classifier\n",
    "    classifier.fit(X_train, Y_train)\n",
    "    Y_pred = classifier.predict(X_test)\n",
    "    cm = confusion_matrix(Y_pred, Y_test)\n",
    "    print(cm)\n",
    "    print(classification_report(Y_test, Y_pred,digits = 4))\n",
    "\n",
    "classifier = GaussianNB()\n",
    "bc_train()"
   ]
  },
  {
   "cell_type": "code",
   "execution_count": 23,
   "id": "33f25da1",
   "metadata": {},
   "outputs": [],
   "source": [
    "def bc_test(path_test):\n",
    "    Test = pd.read_csv(path_test)\n",
    "\n",
    "    X_test = Test.iloc[:,:-1]\n",
    "    Y_test = Test.iloc[:,-1]\n",
    "    Y_test_binary = Y_test.apply(lambda x: 1 if x > 0 else 0)\n",
    "\n",
    "    #Bayesian Classifier\n",
    "    Y_pred = classifier.predict(X_test)\n",
    "    cm = confusion_matrix(Y_pred, Y_test_binary)\n",
    "    print(cm)\n",
    "    print(classification_report(Y_test_binary, Y_pred,digits = 4))"
   ]
  },
  {
   "cell_type": "markdown",
   "id": "2226ba52",
   "metadata": {},
   "source": [
    "# Cleveland"
   ]
  },
  {
   "cell_type": "code",
   "execution_count": 24,
   "id": "9897cc53",
   "metadata": {
    "scrolled": true
   },
   "outputs": [
    {
     "name": "stdout",
     "output_type": "stream",
     "text": [
      "[[8237 3472]\n",
      " [ 298 2177]]\n",
      "              precision    recall  f1-score   support\n",
      "\n",
      "           0     0.7035    0.9651    0.8138      8535\n",
      "           1     0.8796    0.3854    0.5359      5649\n",
      "\n",
      "    accuracy                         0.7342     14184\n",
      "   macro avg     0.7915    0.6752    0.6749     14184\n",
      "weighted avg     0.7736    0.7342    0.7031     14184\n",
      "\n"
     ]
    }
   ],
   "source": [
    "path_test = '../TrainTestData/cle_test.csv'\n",
    "bc_test(path_test)"
   ]
  },
  {
   "cell_type": "markdown",
   "id": "cbf856e1",
   "metadata": {},
   "source": [
    "# Virginia"
   ]
  },
  {
   "cell_type": "code",
   "execution_count": 25,
   "id": "534f5c11",
   "metadata": {
    "scrolled": true
   },
   "outputs": [
    {
     "name": "stdout",
     "output_type": "stream",
     "text": [
      "[[8362 3408]\n",
      " [ 285 2129]]\n",
      "              precision    recall  f1-score   support\n",
      "\n",
      "           0     0.7105    0.9670    0.8191      8647\n",
      "           1     0.8819    0.3845    0.5355      5537\n",
      "\n",
      "    accuracy                         0.7396     14184\n",
      "   macro avg     0.7962    0.6758    0.6773     14184\n",
      "weighted avg     0.7774    0.7396    0.7084     14184\n",
      "\n"
     ]
    }
   ],
   "source": [
    "path_train = '../TrainTestData/vir_train.csv'\n",
    "path_test = '../TrainTestData/vir_test.csv'\n",
    "BayesianClassifier(path_train,path_test)"
   ]
  },
  {
   "cell_type": "markdown",
   "id": "6e9954e2",
   "metadata": {},
   "source": [
    "# Hungary"
   ]
  },
  {
   "cell_type": "code",
   "execution_count": 26,
   "id": "8ff2bdae",
   "metadata": {},
   "outputs": [
    {
     "name": "stdout",
     "output_type": "stream",
     "text": [
      "[[8272 3526]\n",
      " [ 269 2117]]\n",
      "              precision    recall  f1-score   support\n",
      "\n",
      "           0     0.7011    0.9685    0.8134      8541\n",
      "           1     0.8873    0.3752    0.5273      5643\n",
      "\n",
      "    accuracy                         0.7324     14184\n",
      "   macro avg     0.7942    0.6718    0.6704     14184\n",
      "weighted avg     0.7752    0.7324    0.6996     14184\n",
      "\n"
     ]
    }
   ],
   "source": [
    "path_train = '../TrainTestData/hun_train.csv'\n",
    "path_test = '../TrainTestData/hun_test.csv'\n",
    "BayesianClassifier(path_train,path_test)"
   ]
  },
  {
   "cell_type": "markdown",
   "id": "69ce3d28",
   "metadata": {},
   "source": [
    "# Switzerland"
   ]
  },
  {
   "cell_type": "code",
   "execution_count": 27,
   "id": "bdbe4c6c",
   "metadata": {
    "scrolled": true
   },
   "outputs": [
    {
     "name": "stdout",
     "output_type": "stream",
     "text": [
      "[[5812 1639]\n",
      " [2678 4055]]\n",
      "              precision    recall  f1-score   support\n",
      "\n",
      "           0     0.7800    0.6846    0.7292      8490\n",
      "           1     0.6023    0.7122    0.6526      5694\n",
      "\n",
      "    accuracy                         0.6956     14184\n",
      "   macro avg     0.6911    0.6984    0.6909     14184\n",
      "weighted avg     0.7087    0.6956    0.6984     14184\n",
      "\n"
     ]
    }
   ],
   "source": [
    "path_train = '../TrainTestData/swi_train.csv'\n",
    "path_test = '../TrainTestData/swi_test.csv'\n",
    "BayesianClassifier(path_train,path_test)"
   ]
  },
  {
   "cell_type": "code",
   "execution_count": null,
   "id": "f7a47c7f",
   "metadata": {},
   "outputs": [],
   "source": []
  }
 ],
 "metadata": {
  "kernelspec": {
   "display_name": "Python 3 (ipykernel)",
   "language": "python",
   "name": "python3"
  },
  "language_info": {
   "codemirror_mode": {
    "name": "ipython",
    "version": 3
   },
   "file_extension": ".py",
   "mimetype": "text/x-python",
   "name": "python",
   "nbconvert_exporter": "python",
   "pygments_lexer": "ipython3",
   "version": "3.9.16"
  }
 },
 "nbformat": 4,
 "nbformat_minor": 5
}
