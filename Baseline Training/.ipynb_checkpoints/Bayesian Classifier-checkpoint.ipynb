{
 "cells": [
  {
   "cell_type": "code",
   "execution_count": 1,
   "id": "de74fb36",
   "metadata": {},
   "outputs": [],
   "source": [
    "import numpy as np\n",
    "import pandas as pd\n",
    "from sklearn.naive_bayes import GaussianNB\n",
    "from sklearn.metrics import confusion_matrix, classification_report"
   ]
  },
  {
   "cell_type": "code",
   "execution_count": 2,
   "id": "15dd0ec5",
   "metadata": {},
   "outputs": [],
   "source": [
    "def BayesianClassifier(path_train,path_test):\n",
    "    #Split the data\n",
    "    Train = pd.read_csv(path_train)\n",
    "    Test = pd.read_csv(path_test)\n",
    "    \n",
    "    X_train = Train.iloc[:,:-1]\n",
    "    Y_train = Train.iloc[:,-1]\n",
    "\n",
    "    X_test = Test.iloc[:,:-1]\n",
    "    Y_test = Test.iloc[:,-1]\n",
    "\n",
    "    #binarize the target\n",
    "    Y_train_binary = Y_train.apply(lambda x: 1 if x > 0 else 0)\n",
    "    Y_test_binary = Y_test.apply(lambda x: 1 if x > 0 else 0)\n",
    "\n",
    "    #Bayesian Classifier\n",
    "    classifier = GaussianNB()\n",
    "    classifier.fit(X_train, Y_train_binary)\n",
    "    Y_pred = classifier.predict(X_test)\n",
    "    cm = confusion_matrix(Y_pred, Y_test_binary)\n",
    "    print(cm)\n",
    "    print(classification_report(Y_test_binary, Y_pred))"
   ]
  },
  {
   "cell_type": "markdown",
   "id": "2226ba52",
   "metadata": {},
   "source": [
    "# Cleveland"
   ]
  },
  {
   "cell_type": "code",
   "execution_count": 4,
   "id": "9897cc53",
   "metadata": {},
   "outputs": [
    {
     "name": "stdout",
     "output_type": "stream",
     "text": [
      "[[6331 1827]\n",
      " [2204 3822]]\n",
      "              precision    recall  f1-score   support\n",
      "\n",
      "           0       0.78      0.74      0.76      8535\n",
      "           1       0.63      0.68      0.65      5649\n",
      "\n",
      "    accuracy                           0.72     14184\n",
      "   macro avg       0.71      0.71      0.71     14184\n",
      "weighted avg       0.72      0.72      0.72     14184\n",
      "\n"
     ]
    }
   ],
   "source": [
    "path_train = '../TrainTestData/cle_train.csv'\n",
    "path_test = '../traintestdata/cle_test.csv'\n",
    "BayesianClassifier(path_train,path_test)"
   ]
  },
  {
   "cell_type": "markdown",
   "id": "cbf856e1",
   "metadata": {},
   "source": [
    "# Virginia"
   ]
  },
  {
   "cell_type": "code",
   "execution_count": 5,
   "id": "534f5c11",
   "metadata": {
    "scrolled": true
   },
   "outputs": [
    {
     "name": "stdout",
     "output_type": "stream",
     "text": [
      "[[6648 1907]\n",
      " [1999 3630]]\n",
      "              precision    recall  f1-score   support\n",
      "\n",
      "           0       0.78      0.77      0.77      8647\n",
      "           1       0.64      0.66      0.65      5537\n",
      "\n",
      "    accuracy                           0.72     14184\n",
      "   macro avg       0.71      0.71      0.71     14184\n",
      "weighted avg       0.73      0.72      0.73     14184\n",
      "\n"
     ]
    }
   ],
   "source": [
    "path_train = '../traintestdata/vir_train.csv'\n",
    "path_test = '../traintestdata/vir_test.csv'\n",
    "BayesianClassifier(path_train,path_test)"
   ]
  },
  {
   "cell_type": "markdown",
   "id": "6e9954e2",
   "metadata": {},
   "source": [
    "# Hungary"
   ]
  },
  {
   "cell_type": "code",
   "execution_count": 6,
   "id": "8ff2bdae",
   "metadata": {},
   "outputs": [
    {
     "name": "stdout",
     "output_type": "stream",
     "text": [
      "[[6463 1927]\n",
      " [2078 3716]]\n",
      "              precision    recall  f1-score   support\n",
      "\n",
      "           0       0.77      0.76      0.76      8541\n",
      "           1       0.64      0.66      0.65      5643\n",
      "\n",
      "    accuracy                           0.72     14184\n",
      "   macro avg       0.71      0.71      0.71     14184\n",
      "weighted avg       0.72      0.72      0.72     14184\n",
      "\n"
     ]
    }
   ],
   "source": [
    "path_train = '../traintestdata/hun_train.csv'\n",
    "path_test = '../traintestdata/hun_test.csv'\n",
    "BayesianClassifier(path_train,path_test)"
   ]
  },
  {
   "cell_type": "markdown",
   "id": "69ce3d28",
   "metadata": {},
   "source": [
    "# Switzerland"
   ]
  },
  {
   "cell_type": "code",
   "execution_count": 7,
   "id": "bdbe4c6c",
   "metadata": {},
   "outputs": [
    {
     "name": "stdout",
     "output_type": "stream",
     "text": [
      "[[6178 1802]\n",
      " [2312 3892]]\n",
      "              precision    recall  f1-score   support\n",
      "\n",
      "           0       0.77      0.73      0.75      8490\n",
      "           1       0.63      0.68      0.65      5694\n",
      "\n",
      "    accuracy                           0.71     14184\n",
      "   macro avg       0.70      0.71      0.70     14184\n",
      "weighted avg       0.72      0.71      0.71     14184\n",
      "\n"
     ]
    }
   ],
   "source": [
    "path_train = '../traintestdata/swi_train.csv'\n",
    "path_test = '../traintestdata/swi_test.csv'\n",
    "BayesianClassifier(path_train,path_test)"
   ]
  },
  {
   "cell_type": "markdown",
   "id": "693c119b",
   "metadata": {},
   "source": [
    "# European"
   ]
  },
  {
   "cell_type": "code",
   "execution_count": 7,
   "id": "27fe20ac",
   "metadata": {},
   "outputs": [
    {
     "name": "stdout",
     "output_type": "stream",
     "text": [
      "[[52  8]\n",
      " [ 7 59]]\n",
      "              precision    recall  f1-score   support\n",
      "\n",
      "           0       0.87      0.88      0.87        59\n",
      "           1       0.89      0.88      0.89        67\n",
      "\n",
      "    accuracy                           0.88       126\n",
      "   macro avg       0.88      0.88      0.88       126\n",
      "weighted avg       0.88      0.88      0.88       126\n",
      "\n"
     ]
    }
   ],
   "source": [
    "path_train = '../traintestdata/euro_train.csv'\n",
    "path_test = '../traintestdata/euro_test.csv'\n",
    "BayesianClassifier(path_train,path_test)"
   ]
  },
  {
   "cell_type": "markdown",
   "id": "56f9a575",
   "metadata": {},
   "source": [
    "# Combined"
   ]
  },
  {
   "cell_type": "code",
   "execution_count": 8,
   "id": "eb29f71f",
   "metadata": {},
   "outputs": [
    {
     "name": "stdout",
     "output_type": "stream",
     "text": [
      "[[ 98  23]\n",
      " [ 24 131]]\n",
      "              precision    recall  f1-score   support\n",
      "\n",
      "           0       0.81      0.80      0.81       122\n",
      "           1       0.85      0.85      0.85       154\n",
      "\n",
      "    accuracy                           0.83       276\n",
      "   macro avg       0.83      0.83      0.83       276\n",
      "weighted avg       0.83      0.83      0.83       276\n",
      "\n"
     ]
    }
   ],
   "source": [
    "path_train = '../traintestdata/com_train.csv'\n",
    "path_test = '../traintestdata/com_test.csv'\n",
    "BayesianClassifier(path_train,path_test)"
   ]
  },
  {
   "cell_type": "code",
   "execution_count": null,
   "id": "68cf185a",
   "metadata": {},
   "outputs": [],
   "source": []
  }
 ],
 "metadata": {
  "kernelspec": {
   "display_name": "Python 3 (ipykernel)",
   "language": "python",
   "name": "python3"
  },
  "language_info": {
   "codemirror_mode": {
    "name": "ipython",
    "version": 3
   },
   "file_extension": ".py",
   "mimetype": "text/x-python",
   "name": "python",
   "nbconvert_exporter": "python",
   "pygments_lexer": "ipython3",
   "version": "3.9.12"
  }
 },
 "nbformat": 4,
 "nbformat_minor": 5
}
