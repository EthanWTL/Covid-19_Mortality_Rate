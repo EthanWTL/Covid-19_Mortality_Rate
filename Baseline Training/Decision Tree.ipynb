{
 "cells": [
  {
   "cell_type": "code",
   "execution_count": 2,
   "id": "a4ab5c3a",
   "metadata": {},
   "outputs": [],
   "source": [
    "import numpy as np \n",
    "import pandas as pd\n",
    "import matplotlib.pyplot as plt\n",
    "from sklearn import tree\n",
    "from sklearn.model_selection import train_test_split\n",
    "from sklearn.metrics import confusion_matrix, classification_report"
   ]
  },
  {
   "cell_type": "code",
   "execution_count": 10,
   "id": "3237263f",
   "metadata": {},
   "outputs": [
    {
     "name": "stdout",
     "output_type": "stream",
     "text": [
      "Confusion Matrix is:\n",
      "[[27717 10058]\n",
      " [ 6496 12465]]\n",
      "Accuracy is : 0.7082275803722504\n",
      "Report\n",
      "              precision    recall  f1-score   support\n",
      "\n",
      "           0     0.7337    0.8101    0.7700     34213\n",
      "           1     0.6574    0.5534    0.6010     22523\n",
      "\n",
      "    accuracy                         0.7082     56736\n",
      "   macro avg     0.6956    0.6818    0.6855     56736\n",
      "weighted avg     0.7034    0.7082    0.7029     56736\n",
      "\n"
     ]
    }
   ],
   "source": [
    "def df_train():\n",
    "    Train = pd.read_csv('../TrainTestData/com_train.csv')\n",
    "    Test = pd.read_csv('../TrainTestData/com_test.csv')\n",
    "    \n",
    "    X_train = Train.iloc[:,:-1]\n",
    "    Y_train = Train.iloc[:,-1]\n",
    "\n",
    "    X_test = Test.iloc[:,:-1]\n",
    "    Y_test = Test.iloc[:,-1]\n",
    "\n",
    "    #binarize the target\n",
    "    Y_train_binary = Y_train.apply(lambda x: 1 if x > 0 else 0)\n",
    "    Y_test_binary = Y_test.apply(lambda x: 1 if x > 0 else 0)\n",
    "\n",
    "    #Desision Tree\n",
    "    clf.fit(X_train, Y_train_binary)\n",
    "    Y_predictions = clf.predict(X_test)\n",
    "    cm = confusion_matrix(Y_predictions, Y_test_binary)\n",
    "    print(\"Confusion Matrix is:\")\n",
    "    print(cm)\n",
    "    def accuracy(confusion_matrix):\n",
    "        diagonal_sum = confusion_matrix.trace()\n",
    "        sum_of_all_elements = confusion_matrix.sum()\n",
    "        return diagonal_sum / sum_of_all_elements\n",
    "    print(\"Accuracy is : \" + str(accuracy(cm)))\n",
    "    \n",
    "    print(\"Report\")\n",
    "    print(classification_report(Y_test_binary, Y_predictions,digits = 4))\n",
    "    \n",
    "clf = tree.DecisionTreeClassifier(criterion='entropy')\n",
    "df_train()"
   ]
  },
  {
   "cell_type": "code",
   "execution_count": 14,
   "id": "d704d7e9",
   "metadata": {},
   "outputs": [],
   "source": [
    "def df_test(path_test):\n",
    "    Test = pd.read_csv(path_test)\n",
    "    \n",
    "    X_test = Test.iloc[:,:-1]\n",
    "    Y_test = Test.iloc[:,-1]\n",
    "    \n",
    "    Y_predictions = clf.predict(X_test)\n",
    "    cm = confusion_matrix(Y_predictions, Y_test)\n",
    "    print(\"Confusion Matrix is:\")\n",
    "    print(cm)\n",
    "    def accuracy(confusion_matrix):\n",
    "        diagonal_sum = confusion_matrix.trace()\n",
    "        sum_of_all_elements = confusion_matrix.sum()\n",
    "        return diagonal_sum / sum_of_all_elements\n",
    "    print(\"Accuracy is : \" + str(accuracy(cm)))\n",
    "    \n",
    "    print(\"Report\")\n",
    "    print(classification_report(Y_test, Y_predictions,digits = 4))"
   ]
  },
  {
   "cell_type": "markdown",
   "id": "5ba72269",
   "metadata": {},
   "source": [
    "# Cleveland"
   ]
  },
  {
   "cell_type": "code",
   "execution_count": 15,
   "id": "cb00f441",
   "metadata": {},
   "outputs": [
    {
     "name": "stdout",
     "output_type": "stream",
     "text": [
      "Confusion Matrix is:\n",
      "[[6901 2535]\n",
      " [1634 3114]]\n",
      "Accuracy is : 0.7060772701635646\n",
      "Report\n",
      "              precision    recall  f1-score   support\n",
      "\n",
      "           0     0.7313    0.8086    0.7680      8535\n",
      "           1     0.6559    0.5512    0.5990      5649\n",
      "\n",
      "    accuracy                         0.7061     14184\n",
      "   macro avg     0.6936    0.6799    0.6835     14184\n",
      "weighted avg     0.7013    0.7061    0.7007     14184\n",
      "\n"
     ]
    }
   ],
   "source": [
    "path_test = '../TrainTestData/cle_test.csv'\n",
    "df_test(path_test)"
   ]
  },
  {
   "cell_type": "markdown",
   "id": "b8d71e16",
   "metadata": {},
   "source": [
    "# Virginia"
   ]
  },
  {
   "cell_type": "code",
   "execution_count": 18,
   "id": "a6e3a530",
   "metadata": {
    "scrolled": true
   },
   "outputs": [
    {
     "name": "stdout",
     "output_type": "stream",
     "text": [
      "Confusion Matrix is:\n",
      "[[7049 2447]\n",
      " [1598 3090]]\n",
      "Accuracy is : 0.7148195149464185\n",
      "Report\n",
      "              precision    recall  f1-score   support\n",
      "\n",
      "           0     0.7423    0.8152    0.7770      8647\n",
      "           1     0.6591    0.5581    0.6044      5537\n",
      "\n",
      "    accuracy                         0.7148     14184\n",
      "   macro avg     0.7007    0.6866    0.6907     14184\n",
      "weighted avg     0.7098    0.7148    0.7097     14184\n",
      "\n"
     ]
    }
   ],
   "source": [
    "path_test = '../TrainTestData/vir_test.csv'\n",
    "df_test(path_test)"
   ]
  },
  {
   "cell_type": "markdown",
   "id": "84d9433c",
   "metadata": {},
   "source": [
    "# Hungarian"
   ]
  },
  {
   "cell_type": "code",
   "execution_count": 16,
   "id": "a0297d17",
   "metadata": {},
   "outputs": [
    {
     "name": "stdout",
     "output_type": "stream",
     "text": [
      "Confusion Matrix is:\n",
      "[[6910 2495]\n",
      " [1631 3148]]\n",
      "Accuracy is : 0.7091088550479413\n",
      "Report\n",
      "              precision    recall  f1-score   support\n",
      "\n",
      "           0     0.7347    0.8090    0.7701      8541\n",
      "           1     0.6587    0.5579    0.6041      5643\n",
      "\n",
      "    accuracy                         0.7091     14184\n",
      "   macro avg     0.6967    0.6834    0.6871     14184\n",
      "weighted avg     0.7045    0.7091    0.7041     14184\n",
      "\n"
     ]
    }
   ],
   "source": [
    "path_test = '../TrainTestData/hun_test.csv'\n",
    "df_test(path_test)"
   ]
  },
  {
   "cell_type": "markdown",
   "id": "92bdf0bc",
   "metadata": {},
   "source": [
    "# Switzerland"
   ]
  },
  {
   "cell_type": "code",
   "execution_count": 17,
   "id": "e691a842",
   "metadata": {},
   "outputs": [
    {
     "name": "stdout",
     "output_type": "stream",
     "text": [
      "Confusion Matrix is:\n",
      "[[6857 2581]\n",
      " [1633 3113]]\n",
      "Accuracy is : 0.7029046813310773\n",
      "Report\n",
      "              precision    recall  f1-score   support\n",
      "\n",
      "           0     0.7265    0.8077    0.7649      8490\n",
      "           1     0.6559    0.5467    0.5964      5694\n",
      "\n",
      "    accuracy                         0.7029     14184\n",
      "   macro avg     0.6912    0.6772    0.6807     14184\n",
      "weighted avg     0.6982    0.7029    0.6973     14184\n",
      "\n"
     ]
    }
   ],
   "source": [
    "path_test = '../TrainTestData/swi_test.csv'\n",
    "df_test(path_test)"
   ]
  },
  {
   "cell_type": "code",
   "execution_count": null,
   "id": "42fb5400",
   "metadata": {},
   "outputs": [],
   "source": []
  }
 ],
 "metadata": {
  "kernelspec": {
   "display_name": "Python 3 (ipykernel)",
   "language": "python",
   "name": "python3"
  },
  "language_info": {
   "codemirror_mode": {
    "name": "ipython",
    "version": 3
   },
   "file_extension": ".py",
   "mimetype": "text/x-python",
   "name": "python",
   "nbconvert_exporter": "python",
   "pygments_lexer": "ipython3",
   "version": "3.9.16"
  }
 },
 "nbformat": 4,
 "nbformat_minor": 5
}
