{
 "cells": [
  {
   "cell_type": "code",
   "execution_count": 1,
   "id": "12a8294d",
   "metadata": {},
   "outputs": [],
   "source": [
    "import numpy as np\n",
    "import pandas as pd\n",
    "from sklearn.ensemble import RandomForestClassifier\n",
    "from sklearn.metrics import confusion_matrix, classification_report"
   ]
  },
  {
   "cell_type": "code",
   "execution_count": 2,
   "id": "10fafc0b",
   "metadata": {},
   "outputs": [],
   "source": [
    "def RandomForest(path_train,path_test):\n",
    "    #Split the data\n",
    "    Train = pd.read_csv(path_train)\n",
    "    Test = pd.read_csv(path_test)\n",
    "    \n",
    "    X_train = Train.iloc[:,:-1]\n",
    "    Y_train = Train.iloc[:,-1]\n",
    "\n",
    "    X_test = Test.iloc[:,:-1]\n",
    "    Y_test = Test.iloc[:,-1]\n",
    "\n",
    "    #binarize the target\n",
    "    Y_train_binary = Y_train.apply(lambda x: 1 if x > 0 else 0)\n",
    "    Y_test_binary = Y_test.apply(lambda x: 1 if x > 0 else 0)\n",
    "\n",
    "    #Bayesian Classifier\n",
    "    classifier = RandomForestClassifier(n_estimators=100, random_state=42)\n",
    "    classifier.fit(X_train, Y_train_binary)\n",
    "    Y_pred = classifier.predict(X_test)\n",
    "    cm = confusion_matrix(Y_pred, Y_test_binary)\n",
    "    print(cm)\n",
    "    print(classification_report(Y_test_binary, Y_pred))"
   ]
  },
  {
   "cell_type": "markdown",
   "id": "f221abe5",
   "metadata": {},
   "source": [
    "# Cleveland"
   ]
  },
  {
   "cell_type": "code",
   "execution_count": 3,
   "id": "34da9a86",
   "metadata": {},
   "outputs": [
    {
     "name": "stdout",
     "output_type": "stream",
     "text": [
      "[[6825 2258]\n",
      " [1710 3391]]\n",
      "              precision    recall  f1-score   support\n",
      "\n",
      "           0       0.75      0.80      0.77      8535\n",
      "           1       0.66      0.60      0.63      5649\n",
      "\n",
      "    accuracy                           0.72     14184\n",
      "   macro avg       0.71      0.70      0.70     14184\n",
      "weighted avg       0.72      0.72      0.72     14184\n",
      "\n"
     ]
    }
   ],
   "source": [
    "path_train = '../TrainTestData/cle_train.csv'\n",
    "path_test = '../TrainTestData/cle_test.csv'\n",
    "RandomForest(path_train,path_test)"
   ]
  },
  {
   "cell_type": "markdown",
   "id": "82fc6d33",
   "metadata": {},
   "source": [
    "# Virginia"
   ]
  },
  {
   "cell_type": "code",
   "execution_count": 4,
   "id": "8686863d",
   "metadata": {
    "scrolled": true
   },
   "outputs": [
    {
     "name": "stdout",
     "output_type": "stream",
     "text": [
      "[[6938 2276]\n",
      " [1709 3261]]\n",
      "              precision    recall  f1-score   support\n",
      "\n",
      "           0       0.75      0.80      0.78      8647\n",
      "           1       0.66      0.59      0.62      5537\n",
      "\n",
      "    accuracy                           0.72     14184\n",
      "   macro avg       0.70      0.70      0.70     14184\n",
      "weighted avg       0.72      0.72      0.72     14184\n",
      "\n"
     ]
    }
   ],
   "source": [
    "path_train = '../TrainTestData/vir_train.csv'\n",
    "path_test = '../TrainTestData/vir_test.csv'\n",
    "RandomForest(path_train,path_test)"
   ]
  },
  {
   "cell_type": "markdown",
   "id": "e9e5ba85",
   "metadata": {},
   "source": [
    "# Hungary"
   ]
  },
  {
   "cell_type": "code",
   "execution_count": 5,
   "id": "c6addee2",
   "metadata": {},
   "outputs": [
    {
     "name": "stdout",
     "output_type": "stream",
     "text": [
      "[[6838 2346]\n",
      " [1703 3297]]\n",
      "              precision    recall  f1-score   support\n",
      "\n",
      "           0       0.74      0.80      0.77      8541\n",
      "           1       0.66      0.58      0.62      5643\n",
      "\n",
      "    accuracy                           0.71     14184\n",
      "   macro avg       0.70      0.69      0.70     14184\n",
      "weighted avg       0.71      0.71      0.71     14184\n",
      "\n"
     ]
    }
   ],
   "source": [
    "path_train = '../TrainTestData/hun_train.csv'\n",
    "path_test = '../TrainTestData/hun_test.csv'\n",
    "RandomForest(path_train,path_test)"
   ]
  },
  {
   "cell_type": "markdown",
   "id": "daf016ac",
   "metadata": {},
   "source": [
    "# Switzerland"
   ]
  },
  {
   "cell_type": "code",
   "execution_count": 6,
   "id": "77f8dcb9",
   "metadata": {},
   "outputs": [
    {
     "name": "stdout",
     "output_type": "stream",
     "text": [
      "[[6861 2350]\n",
      " [1629 3344]]\n",
      "              precision    recall  f1-score   support\n",
      "\n",
      "           0       0.74      0.81      0.78      8490\n",
      "           1       0.67      0.59      0.63      5694\n",
      "\n",
      "    accuracy                           0.72     14184\n",
      "   macro avg       0.71      0.70      0.70     14184\n",
      "weighted avg       0.72      0.72      0.72     14184\n",
      "\n"
     ]
    }
   ],
   "source": [
    "path_train = '../TrainTestData/swi_train.csv'\n",
    "path_test = '../TrainTestData/swi_test.csv'\n",
    "RandomForest(path_train,path_test)"
   ]
  },
  {
   "cell_type": "markdown",
   "id": "65fb3a7d",
   "metadata": {},
   "source": [
    "# Combined"
   ]
  },
  {
   "cell_type": "code",
   "execution_count": 8,
   "id": "9092c9d2",
   "metadata": {},
   "outputs": [
    {
     "name": "stdout",
     "output_type": "stream",
     "text": [
      "[[28003  9237]\n",
      " [ 6210 13286]]\n",
      "              precision    recall  f1-score   support\n",
      "\n",
      "           0       0.75      0.82      0.78     34213\n",
      "           1       0.68      0.59      0.63     22523\n",
      "\n",
      "    accuracy                           0.73     56736\n",
      "   macro avg       0.72      0.70      0.71     56736\n",
      "weighted avg       0.72      0.73      0.72     56736\n",
      "\n"
     ]
    }
   ],
   "source": [
    "path_train = '../TrainTestData/com_train.csv'\n",
    "path_test = '../TrainTestData/com_test.csv'\n",
    "RandomForest(path_train,path_test)"
   ]
  },
  {
   "cell_type": "code",
   "execution_count": null,
   "id": "c06f29c9",
   "metadata": {},
   "outputs": [],
   "source": []
  }
 ],
 "metadata": {
  "kernelspec": {
   "display_name": "Python 3 (ipykernel)",
   "language": "python",
   "name": "python3"
  },
  "language_info": {
   "codemirror_mode": {
    "name": "ipython",
    "version": 3
   },
   "file_extension": ".py",
   "mimetype": "text/x-python",
   "name": "python",
   "nbconvert_exporter": "python",
   "pygments_lexer": "ipython3",
   "version": "3.8.3"
  }
 },
 "nbformat": 4,
 "nbformat_minor": 5
}
