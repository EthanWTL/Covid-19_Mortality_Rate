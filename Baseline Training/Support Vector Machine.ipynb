{
 "cells": [
  {
   "cell_type": "code",
   "execution_count": 2,
   "id": "a4ab5c3a",
   "metadata": {},
   "outputs": [],
   "source": [
    "import numpy as np \n",
    "import pandas as pd\n",
    "import matplotlib.pyplot as plt\n",
    "from sklearn.model_selection import train_test_split\n",
    "from sklearn.svm import SVC\n",
    "from sklearn.metrics import confusion_matrix, classification_report\n",
    "from sklearn import preprocessing as sk_preprocessing"
   ]
  },
  {
   "cell_type": "code",
   "execution_count": null,
   "id": "6ed8ec07",
   "metadata": {},
   "outputs": [],
   "source": [
    "def svm_train():\n",
    "    #load the train-test data\n",
    "    Train = pd.read_csv('../TrainTestdata/com_train.csv')\n",
    "    Test = pd.read_csv('../TrainTestdata/com_test.csv')\n",
    "    \n",
    "    X_train = Train.iloc[:,:-1]\n",
    "    Y_train = Train.iloc[:,-1]\n",
    "\n",
    "    X_test = Test.iloc[:,:-1]\n",
    "    Y_test = Test.iloc[:,-1]\n",
    "\n",
    "    #binarylize the target\n",
    "    Y_train_binary = Y_train.apply(lambda x: 1 if x > 0 else 0)\n",
    "    Y_test_binary = Y_test.apply(lambda x: 1 if x > 0 else 0)\n",
    "    \n",
    "    #SVM\n",
    "    svc.fit(X_train, Y_train_binary.values.ravel())\n",
    "    y_pred = svc.predict(X_test)\n",
    "    print(confusion_matrix(Y_test_binary, y_pred))\n",
    "    print(classification_report(Y_test_binary, y_pred,digits = 4))\n",
    "\n",
    "\n",
    "svc = SVC()\n",
    "svm_train()"
   ]
  },
  {
   "cell_type": "code",
   "execution_count": null,
   "id": "cbd751d6",
   "metadata": {},
   "outputs": [],
   "source": [
    "def svm_test(path_test):\n",
    "    #load the train-test data\n",
    "    Test = pd.read_csv(path_test)\n",
    "\n",
    "    X_test = Test.iloc[:,:-1]\n",
    "    Y_test = Test.iloc[:,-1]\n",
    "\n",
    "    #binarylize the target\n",
    "    Y_test_binary = Y_test.apply(lambda x: 1 if x > 0 else 0)\n",
    "    \n",
    "    #SVM\n",
    "    y_pred = svc.predict(X_test)\n",
    "    print(confusion_matrix(Y_test_binary, y_pred))\n",
    "    print(classification_report(Y_test_binary, y_pred,digits = 4))"
   ]
  },
  {
   "cell_type": "markdown",
   "id": "b5a10de3",
   "metadata": {},
   "source": [
    "# Cleveland"
   ]
  },
  {
   "cell_type": "code",
   "execution_count": null,
   "id": "93b4053f",
   "metadata": {},
   "outputs": [],
   "source": [
    "path_test = '../TrainTestdata/cle_test.csv'\n",
    "svm_test(path_test)"
   ]
  },
  {
   "cell_type": "markdown",
   "id": "3988ed16",
   "metadata": {},
   "source": [
    "# Virginia"
   ]
  },
  {
   "cell_type": "code",
   "execution_count": null,
   "id": "9c2b2f91",
   "metadata": {
    "scrolled": true
   },
   "outputs": [],
   "source": [
    "path_test = '../TrainTestdata/vir_test.csv'\n",
    "svm_test(path_test)"
   ]
  },
  {
   "cell_type": "markdown",
   "id": "6b2629f9",
   "metadata": {},
   "source": [
    "# Hungary"
   ]
  },
  {
   "cell_type": "code",
   "execution_count": null,
   "id": "89081fc4",
   "metadata": {},
   "outputs": [],
   "source": [
    "path_test = '../TrainTestdata/hun_test.csv'\n",
    "svm_test(path_test)"
   ]
  },
  {
   "cell_type": "markdown",
   "id": "54ff20d6",
   "metadata": {},
   "source": [
    "# Switzerland"
   ]
  },
  {
   "cell_type": "code",
   "execution_count": null,
   "id": "72beaf45",
   "metadata": {},
   "outputs": [],
   "source": [
    "path_test = '../TrainTestdata/swi_test.csv'\n",
    "svm_test(path_test)"
   ]
  },
  {
   "cell_type": "code",
   "execution_count": null,
   "id": "75a889bf",
   "metadata": {},
   "outputs": [],
   "source": []
  }
 ],
 "metadata": {
  "kernelspec": {
   "display_name": "Python 3 (ipykernel)",
   "language": "python",
   "name": "python3"
  },
  "language_info": {
   "codemirror_mode": {
    "name": "ipython",
    "version": 3
   },
   "file_extension": ".py",
   "mimetype": "text/x-python",
   "name": "python",
   "nbconvert_exporter": "python",
   "pygments_lexer": "ipython3",
   "version": "3.9.12"
  }
 },
 "nbformat": 4,
 "nbformat_minor": 5
}
