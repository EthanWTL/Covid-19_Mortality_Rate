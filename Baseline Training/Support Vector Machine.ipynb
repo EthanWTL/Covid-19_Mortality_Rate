{
 "cells": [
  {
   "cell_type": "code",
   "execution_count": 1,
   "id": "a4ab5c3a",
   "metadata": {},
   "outputs": [],
   "source": [
    "import numpy as np \n",
    "import pandas as pd\n",
    "import matplotlib.pyplot as plt\n",
    "from sklearn.model_selection import train_test_split\n",
    "from sklearn.svm import SVC\n",
    "from sklearn.metrics import confusion_matrix, classification_report\n",
    "from sklearn import preprocessing as sk_preprocessing"
   ]
  },
  {
   "cell_type": "code",
   "execution_count": 2,
   "id": "6ed8ec07",
   "metadata": {},
   "outputs": [
    {
     "name": "stdout",
     "output_type": "stream",
     "text": [
      "[[31468  2745]\n",
      " [10699 11824]]\n",
      "              precision    recall  f1-score   support\n",
      "\n",
      "           0     0.7463    0.9198    0.8240     34213\n",
      "           1     0.8116    0.5250    0.6375     22523\n",
      "\n",
      "    accuracy                         0.7630     56736\n",
      "   macro avg     0.7789    0.7224    0.7308     56736\n",
      "weighted avg     0.7722    0.7630    0.7500     56736\n",
      "\n"
     ]
    }
   ],
   "source": [
    "def svm_train():\n",
    "    #load the train-test data\n",
    "    Train = pd.read_csv('../TrainTestdata/com_train.csv')\n",
    "    Test = pd.read_csv('../TrainTestdata/com_test.csv')\n",
    "    \n",
    "    X_train = Train.iloc[:,:-1]\n",
    "    Y_train = Train.iloc[:,-1]\n",
    "\n",
    "    X_test = Test.iloc[:,:-1]\n",
    "    Y_test = Test.iloc[:,-1]\n",
    "\n",
    "    #binarylize the target\n",
    "    Y_train_binary = Y_train.apply(lambda x: 1 if x > 0 else 0)\n",
    "    Y_test_binary = Y_test.apply(lambda x: 1 if x > 0 else 0)\n",
    "    \n",
    "    #SVM\n",
    "    svc.fit(X_train, Y_train_binary.values.ravel())\n",
    "    y_pred = svc.predict(X_test)\n",
    "    print(confusion_matrix(Y_test_binary, y_pred))\n",
    "    print(classification_report(Y_test_binary, y_pred,digits = 4))\n",
    "\n",
    "\n",
    "svc = SVC()\n",
    "svm_train()"
   ]
  },
  {
   "cell_type": "code",
   "execution_count": 3,
   "id": "cbd751d6",
   "metadata": {},
   "outputs": [],
   "source": [
    "def svm_test(path_test):\n",
    "    #load the train-test data\n",
    "    Test = pd.read_csv(path_test)\n",
    "\n",
    "    X_test = Test.iloc[:,:-1]\n",
    "    Y_test = Test.iloc[:,-1]\n",
    "\n",
    "    #binarylize the target\n",
    "    Y_test_binary = Y_test.apply(lambda x: 1 if x > 0 else 0)\n",
    "    \n",
    "    #SVM\n",
    "    y_pred = svc.predict(X_test)\n",
    "    print(confusion_matrix(Y_test_binary, y_pred))\n",
    "    print(classification_report(Y_test_binary, y_pred,digits = 4))"
   ]
  },
  {
   "cell_type": "markdown",
   "id": "b5a10de3",
   "metadata": {},
   "source": [
    "# Cleveland"
   ]
  },
  {
   "cell_type": "code",
   "execution_count": 4,
   "id": "93b4053f",
   "metadata": {},
   "outputs": [
    {
     "name": "stdout",
     "output_type": "stream",
     "text": [
      "[[7828  707]\n",
      " [2670 2979]]\n",
      "              precision    recall  f1-score   support\n",
      "\n",
      "           0     0.7457    0.9172    0.8226      8535\n",
      "           1     0.8082    0.5273    0.6382      5649\n",
      "\n",
      "    accuracy                         0.7619     14184\n",
      "   macro avg     0.7769    0.7223    0.7304     14184\n",
      "weighted avg     0.7706    0.7619    0.7492     14184\n",
      "\n"
     ]
    }
   ],
   "source": [
    "path_test = '../TrainTestdata/cle_test.csv'\n",
    "svm_test(path_test)"
   ]
  },
  {
   "cell_type": "markdown",
   "id": "3988ed16",
   "metadata": {},
   "source": [
    "# Virginia"
   ]
  },
  {
   "cell_type": "code",
   "execution_count": 5,
   "id": "9c2b2f91",
   "metadata": {
    "scrolled": true
   },
   "outputs": [
    {
     "name": "stdout",
     "output_type": "stream",
     "text": [
      "[[7978  669]\n",
      " [2602 2935]]\n",
      "              precision    recall  f1-score   support\n",
      "\n",
      "           0     0.7541    0.9226    0.8299      8647\n",
      "           1     0.8144    0.5301    0.6422      5537\n",
      "\n",
      "    accuracy                         0.7694     14184\n",
      "   macro avg     0.7842    0.7264    0.7360     14184\n",
      "weighted avg     0.7776    0.7694    0.7566     14184\n",
      "\n"
     ]
    }
   ],
   "source": [
    "path_test = '../TrainTestdata/vir_test.csv'\n",
    "svm_test(path_test)"
   ]
  },
  {
   "cell_type": "markdown",
   "id": "6b2629f9",
   "metadata": {},
   "source": [
    "# Hungary"
   ]
  },
  {
   "cell_type": "code",
   "execution_count": 6,
   "id": "89081fc4",
   "metadata": {},
   "outputs": [
    {
     "name": "stdout",
     "output_type": "stream",
     "text": [
      "[[7861  680]\n",
      " [2684 2959]]\n",
      "              precision    recall  f1-score   support\n",
      "\n",
      "           0     0.7455    0.9204    0.8237      8541\n",
      "           1     0.8131    0.5244    0.6376      5643\n",
      "\n",
      "    accuracy                         0.7628     14184\n",
      "   macro avg     0.7793    0.7224    0.7307     14184\n",
      "weighted avg     0.7724    0.7628    0.7497     14184\n",
      "\n"
     ]
    }
   ],
   "source": [
    "path_test = '../TrainTestdata/hun_test.csv'\n",
    "svm_test(path_test)"
   ]
  },
  {
   "cell_type": "markdown",
   "id": "54ff20d6",
   "metadata": {},
   "source": [
    "# Switzerland"
   ]
  },
  {
   "cell_type": "code",
   "execution_count": 7,
   "id": "72beaf45",
   "metadata": {},
   "outputs": [
    {
     "name": "stdout",
     "output_type": "stream",
     "text": [
      "[[7801  689]\n",
      " [2743 2951]]\n",
      "              precision    recall  f1-score   support\n",
      "\n",
      "           0     0.7399    0.9188    0.8197      8490\n",
      "           1     0.8107    0.5183    0.6323      5694\n",
      "\n",
      "    accuracy                         0.7580     14184\n",
      "   macro avg     0.7753    0.7186    0.7260     14184\n",
      "weighted avg     0.7683    0.7580    0.7445     14184\n",
      "\n"
     ]
    }
   ],
   "source": [
    "path_test = '../TrainTestdata/swi_test.csv'\n",
    "svm_test(path_test)"
   ]
  },
  {
   "cell_type": "code",
   "execution_count": null,
   "id": "75a889bf",
   "metadata": {},
   "outputs": [],
   "source": []
  },
  {
   "cell_type": "code",
   "execution_count": null,
   "id": "8a507947",
   "metadata": {},
   "outputs": [],
   "source": []
  }
 ],
 "metadata": {
  "kernelspec": {
   "display_name": "Python 3 (ipykernel)",
   "language": "python",
   "name": "python3"
  },
  "language_info": {
   "codemirror_mode": {
    "name": "ipython",
    "version": 3
   },
   "file_extension": ".py",
   "mimetype": "text/x-python",
   "name": "python",
   "nbconvert_exporter": "python",
   "pygments_lexer": "ipython3",
   "version": "3.9.16"
  }
 },
 "nbformat": 4,
 "nbformat_minor": 5
}
