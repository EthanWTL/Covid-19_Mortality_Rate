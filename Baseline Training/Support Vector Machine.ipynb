{
 "cells": [
  {
   "cell_type": "code",
   "execution_count": 1,
   "id": "a4ab5c3a",
   "metadata": {},
   "outputs": [],
   "source": [
    "import numpy as np \n",
    "import pandas as pd\n",
    "import matplotlib.pyplot as plt\n",
    "from sklearn.model_selection import train_test_split\n",
    "from sklearn.svm import SVC\n",
    "from sklearn.metrics import confusion_matrix, classification_report\n",
    "from sklearn import preprocessing as sk_preprocessing"
   ]
  },
  {
   "cell_type": "code",
   "execution_count": 2,
   "id": "40ce4c8c",
   "metadata": {},
   "outputs": [],
   "source": [
    "def svm(path_train,path_test):\n",
    "    #load the train-test data\n",
    "    Train = pd.read_csv(path_train)\n",
    "    Test = pd.read_csv(path_test)\n",
    "    \n",
    "    X_train = Train.iloc[:,:-1]\n",
    "    Y_train = Train.iloc[:,-1]\n",
    "\n",
    "    X_test = Test.iloc[:,:-1]\n",
    "    Y_test = Test.iloc[:,-1]\n",
    "\n",
    "    #binarylize the target\n",
    "    Y_train_binary = Y_train.apply(lambda x: 1 if x > 0 else 0)\n",
    "    Y_test_binary = Y_test.apply(lambda x: 1 if x > 0 else 0)\n",
    "    \n",
    "    #SVM\n",
    "    svc = SVC()\n",
    "    svc.fit(X_train, Y_train_binary.values.ravel())\n",
    "    y_pred = svc.predict(X_test)\n",
    "    print(confusion_matrix(Y_test_binary, y_pred))\n",
    "    print(classification_report(Y_test_binary, y_pred))"
   ]
  },
  {
   "cell_type": "markdown",
   "id": "b5a10de3",
   "metadata": {},
   "source": [
    "# Cleveland"
   ]
  },
  {
   "cell_type": "code",
   "execution_count": 3,
   "id": "93b4053f",
   "metadata": {},
   "outputs": [
    {
     "name": "stdout",
     "output_type": "stream",
     "text": [
      "[[7868  667]\n",
      " [2899 2750]]\n",
      "              precision    recall  f1-score   support\n",
      "\n",
      "           0       0.73      0.92      0.82      8535\n",
      "           1       0.80      0.49      0.61      5649\n",
      "\n",
      "    accuracy                           0.75     14184\n",
      "   macro avg       0.77      0.70      0.71     14184\n",
      "weighted avg       0.76      0.75      0.73     14184\n",
      "\n"
     ]
    }
   ],
   "source": [
    "path_train = '../TrainTestdata/cle_train.csv'\n",
    "path_test = '../TrainTestdata/cle_test.csv'\n",
    "svm(path_train,path_test)"
   ]
  },
  {
   "cell_type": "markdown",
   "id": "3988ed16",
   "metadata": {},
   "source": [
    "# Virginia"
   ]
  },
  {
   "cell_type": "code",
   "execution_count": 4,
   "id": "9c2b2f91",
   "metadata": {
    "scrolled": true
   },
   "outputs": [
    {
     "name": "stdout",
     "output_type": "stream",
     "text": [
      "[[8172  475]\n",
      " [3052 2485]]\n",
      "              precision    recall  f1-score   support\n",
      "\n",
      "           0       0.73      0.95      0.82      8647\n",
      "           1       0.84      0.45      0.58      5537\n",
      "\n",
      "    accuracy                           0.75     14184\n",
      "   macro avg       0.78      0.70      0.70     14184\n",
      "weighted avg       0.77      0.75      0.73     14184\n",
      "\n"
     ]
    }
   ],
   "source": [
    "path_train = '../TrainTestData/vir_train.csv'\n",
    "path_test = '../TrainTestData/vir_test.csv'\n",
    "svm(path_train,path_test)"
   ]
  },
  {
   "cell_type": "markdown",
   "id": "6b2629f9",
   "metadata": {},
   "source": [
    "# Hungary"
   ]
  },
  {
   "cell_type": "code",
   "execution_count": 5,
   "id": "89081fc4",
   "metadata": {},
   "outputs": [
    {
     "name": "stdout",
     "output_type": "stream",
     "text": [
      "[[8019  522]\n",
      " [3083 2560]]\n",
      "              precision    recall  f1-score   support\n",
      "\n",
      "           0       0.72      0.94      0.82      8541\n",
      "           1       0.83      0.45      0.59      5643\n",
      "\n",
      "    accuracy                           0.75     14184\n",
      "   macro avg       0.78      0.70      0.70     14184\n",
      "weighted avg       0.77      0.75      0.73     14184\n",
      "\n"
     ]
    }
   ],
   "source": [
    "path_train = '../TrainTestData/hun_train.csv'\n",
    "path_test = '../TrainTestData/hun_test.csv'\n",
    "svm(path_train,path_test)"
   ]
  },
  {
   "cell_type": "markdown",
   "id": "54ff20d6",
   "metadata": {},
   "source": [
    "# Switzerland"
   ]
  },
  {
   "cell_type": "code",
   "execution_count": 6,
   "id": "72beaf45",
   "metadata": {},
   "outputs": [
    {
     "name": "stdout",
     "output_type": "stream",
     "text": [
      "[[7921  569]\n",
      " [3098 2596]]\n",
      "              precision    recall  f1-score   support\n",
      "\n",
      "           0       0.72      0.93      0.81      8490\n",
      "           1       0.82      0.46      0.59      5694\n",
      "\n",
      "    accuracy                           0.74     14184\n",
      "   macro avg       0.77      0.69      0.70     14184\n",
      "weighted avg       0.76      0.74      0.72     14184\n",
      "\n"
     ]
    }
   ],
   "source": [
    "path_train = '../TrainTestData/swi_train.csv'\n",
    "path_test = '../TrainTestData/swi_test.csv'\n",
    "svm(path_train,path_test)"
   ]
  },
  {
   "cell_type": "markdown",
   "id": "0c511f1a",
   "metadata": {},
   "source": [
    "# Combined"
   ]
  },
  {
   "cell_type": "code",
   "execution_count": 7,
   "id": "b87fb8eb",
   "metadata": {},
   "outputs": [
    {
     "name": "stdout",
     "output_type": "stream",
     "text": [
      "[[32171  2042]\n",
      " [12300 10223]]\n",
      "              precision    recall  f1-score   support\n",
      "\n",
      "           0       0.72      0.94      0.82     34213\n",
      "           1       0.83      0.45      0.59     22523\n",
      "\n",
      "    accuracy                           0.75     56736\n",
      "   macro avg       0.78      0.70      0.70     56736\n",
      "weighted avg       0.77      0.75      0.73     56736\n",
      "\n"
     ]
    }
   ],
   "source": [
    "path_train = '../TrainTestData/com_train.csv'\n",
    "path_test = '../TrainTestData/com_test.csv'\n",
    "svm(path_train,path_test)"
   ]
  }
 ],
 "metadata": {
  "kernelspec": {
   "display_name": "Python 3 (ipykernel)",
   "language": "python",
   "name": "python3"
  },
  "language_info": {
   "codemirror_mode": {
    "name": "ipython",
    "version": 3
   },
   "file_extension": ".py",
   "mimetype": "text/x-python",
   "name": "python",
   "nbconvert_exporter": "python",
   "pygments_lexer": "ipython3",
   "version": "3.8.3"
  }
 },
 "nbformat": 4,
 "nbformat_minor": 5
}
