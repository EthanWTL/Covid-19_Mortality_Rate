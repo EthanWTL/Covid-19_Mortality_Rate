{
 "cells": [
  {
   "cell_type": "code",
   "execution_count": 1,
   "id": "db0bad94",
   "metadata": {},
   "outputs": [
    {
     "name": "stderr",
     "output_type": "stream",
     "text": [
      "C:\\Users\\Ethan\\AppData\\Roaming\\Python\\Python39\\site-packages\\scipy\\__init__.py:146: UserWarning: A NumPy version >=1.16.5 and <1.23.0 is required for this version of SciPy (detected version 1.26.0\n",
      "  warnings.warn(f\"A NumPy version >={np_minversion} and <{np_maxversion}\"\n"
     ]
    }
   ],
   "source": [
    "# Imports\n",
    "import numpy as np\n",
    "import matplotlib.pyplot as plt\n",
    "import tensorflow as tf\n",
    "import tensorflow_probability as tfp\n",
    "tfd = tfp.distributions\n",
    "import pandas as pd"
   ]
  },
  {
   "cell_type": "code",
   "execution_count": 2,
   "id": "9014cf44",
   "metadata": {},
   "outputs": [],
   "source": [
    "train = pd.read_csv('../TrainTestData/com_train.csv').sample(1000)\n",
    "test = pd.read_csv('../TrainTestData/com_test.csv').sample(1000)\n",
    "\n",
    "x = train.iloc[:,:35]\n",
    "y = train.iloc[:,35]\n",
    "x_val = test.iloc[:,:35]\n",
    "y_val = test.iloc[:,35]\n",
    "\n",
    "temp = x.astype('float32')\n",
    "x = temp.copy()\n",
    "\n",
    "temp_val = x_val.astype('float32')\n",
    "x_val = temp_val.copy()\n",
    "\n",
    "y = y.values\n",
    "y = y.reshape(-1,1)\n",
    "y_val = y_val.values\n",
    "y_val = y_val.reshape(-1,1)\n",
    "\n",
    "# Cast to float32\n",
    "x = x.astype('float32')\n",
    "y = y.astype('float32')"
   ]
  },
  {
   "cell_type": "code",
   "execution_count": 3,
   "id": "bdb7e3f7",
   "metadata": {},
   "outputs": [],
   "source": [
    "# Settings\n",
    "D = 35   #number of dimensions\n",
    "N = 1000 #number of datapoints to generate\n",
    "EPOCHS = 300\n",
    "BATCH_SIZE = 50\n",
    "L_RATE = 0.02\n",
    "\n",
    "# Make a TensorFlow Dataset from training data\n",
    "data_train = tf.data.Dataset.from_tensor_slices(\n",
    "    (x, y)).shuffle(10000).batch(BATCH_SIZE)"
   ]
  },
  {
   "cell_type": "code",
   "execution_count": 4,
   "id": "6c5202b5",
   "metadata": {},
   "outputs": [],
   "source": [
    "class BayesianLinearRegression(tf.keras.Model):\n",
    "\n",
    "\n",
    "    def __init__(self, d, name=None):\n",
    "        super(BayesianLinearRegression, self).__init__(name=name)\n",
    "        self.w_loc = tf.Variable(tf.random.normal([d, 1]), name='w_loc')\n",
    "        self.w_std = tf.Variable(tf.random.normal([d, 1]), name='w_std')\n",
    "        self.b_loc = tf.Variable(tf.random.normal([1]), name='b_loc')\n",
    "        self.b_std = tf.Variable(tf.random.normal([1]), name='b_std')\n",
    "        self.s_alpha = tf.Variable(tf.exp(tf.random.normal([1])), name='s_alpha')\n",
    "        self.s_beta = tf.Variable(tf.exp(tf.random.normal([1])), name='s_beta')\n",
    "    \n",
    "    \n",
    "    @property\n",
    "    def weight(self):\n",
    "        \"\"\"Variational posterior for the weight\"\"\"\n",
    "        return tfd.Normal(self.w_loc, tf.exp(self.w_std))\n",
    "    \n",
    "    \n",
    "    @property\n",
    "    def bias(self):\n",
    "        \"\"\"Variational posterior for the bias\"\"\"\n",
    "        return tfd.Normal(self.b_loc, tf.exp(self.b_std))\n",
    "\n",
    "\n",
    "    @property\n",
    "    def std(self):\n",
    "        \"\"\"Variational posterior for the noise standard deviation\"\"\"\n",
    "        return tfd.InverseGamma(tf.exp(self.s_alpha), tf.exp(self.s_beta))\n",
    "\n",
    "    \n",
    "    def call(self, x, sampling=True):\n",
    "        \"\"\"Predict p(y|x)\"\"\"\n",
    "        sample = lambda x: x.sample() if sampling else x.mean()\n",
    "        loc = x @ sample(self.weight) + sample(self.bias)\n",
    "        std = tf.sqrt(sample(self.std))\n",
    "        return tfd.Normal(loc, std)\n",
    "    \n",
    "    \n",
    "    @property\n",
    "    def losses(self):\n",
    "        \"\"\"Sum of KL divergences between posteriors and priors\"\"\"\n",
    "        prior = tfd.Normal(0, 1)\n",
    "        return (tf.reduce_sum(tfd.kl_divergence(self.weight, prior)) +\n",
    "                tf.reduce_sum(tfd.kl_divergence(self.bias, prior)))"
   ]
  },
  {
   "cell_type": "code",
   "execution_count": 5,
   "id": "457d6ad1",
   "metadata": {},
   "outputs": [],
   "source": [
    "model = BayesianLinearRegression(D)"
   ]
  },
  {
   "cell_type": "code",
   "execution_count": 6,
   "id": "853bbe02",
   "metadata": {},
   "outputs": [
    {
     "name": "stderr",
     "output_type": "stream",
     "text": [
      "D:\\Anaconda\\envs\\GPU3090\\lib\\site-packages\\keras\\optimizers\\optimizer_v2\\adam.py:114: UserWarning: The `lr` argument is deprecated, use `learning_rate` instead.\n",
      "  super().__init__(name, **kwargs)\n"
     ]
    }
   ],
   "source": [
    "optimizer = tf.keras.optimizers.Adam(lr=L_RATE)\n",
    "\n",
    "@tf.function\n",
    "def train_step(x_data, y_data):\n",
    "    with tf.GradientTape() as tape:\n",
    "        log_prob = tf.reduce_mean(model(x_data).log_prob(y_data))\n",
    "        kl_loss = model.losses/N\n",
    "        elbo_loss = kl_loss - log_prob\n",
    "    gradients = tape.gradient(elbo_loss, model.trainable_variables)\n",
    "    optimizer.apply_gradients(zip(gradients, model.trainable_variables))"
   ]
  },
  {
   "cell_type": "code",
   "execution_count": 7,
   "id": "0506e1db",
   "metadata": {},
   "outputs": [],
   "source": [
    "from tensorflow.python.ops.numpy_ops import np_config\n",
    "\n",
    "np_config.enable_numpy_behavior()"
   ]
  },
  {
   "cell_type": "code",
   "execution_count": 8,
   "id": "e6fde7e5",
   "metadata": {},
   "outputs": [],
   "source": [
    "# Fit the model\n",
    "for epoch in range(EPOCHS):\n",
    "    \n",
    "    # Update weights each batch\n",
    "    for x_data, y_data in data_train:\n",
    "        x_data = x_data.astype('float32')\n",
    "        y_data = y_data.astype('float32')\n",
    "        train_step(x_data, y_data)"
   ]
  },
  {
   "cell_type": "code",
   "execution_count": null,
   "id": "d5f29e68",
   "metadata": {},
   "outputs": [],
   "source": []
  },
  {
   "cell_type": "code",
   "execution_count": null,
   "id": "38546047",
   "metadata": {},
   "outputs": [],
   "source": []
  },
  {
   "cell_type": "code",
   "execution_count": 9,
   "id": "83aa7fb8",
   "metadata": {},
   "outputs": [
    {
     "ename": "NameError",
     "evalue": "name 'w_true' is not defined",
     "output_type": "error",
     "traceback": [
      "\u001b[1;31m---------------------------------------------------------------------------\u001b[0m",
      "\u001b[1;31mNameError\u001b[0m                                 Traceback (most recent call last)",
      "Cell \u001b[1;32mIn[9], line 10\u001b[0m\n\u001b[0;32m      8\u001b[0m     plt\u001b[38;5;241m.\u001b[39msubplot(D\u001b[38;5;241m+\u001b[39m\u001b[38;5;241m1\u001b[39m, \u001b[38;5;241m1\u001b[39m, i\u001b[38;5;241m+\u001b[39m\u001b[38;5;241m1\u001b[39m)\n\u001b[0;32m      9\u001b[0m     plt\u001b[38;5;241m.\u001b[39mplot(v, probs[i, :])\n\u001b[1;32m---> 10\u001b[0m     plt\u001b[38;5;241m.\u001b[39maxvline(x\u001b[38;5;241m=\u001b[39m\u001b[43mw_true\u001b[49m[i], linestyle\u001b[38;5;241m=\u001b[39m\u001b[38;5;124m'\u001b[39m\u001b[38;5;124m--\u001b[39m\u001b[38;5;124m'\u001b[39m, color\u001b[38;5;241m=\u001b[39m\u001b[38;5;124m'\u001b[39m\u001b[38;5;124mk\u001b[39m\u001b[38;5;124m'\u001b[39m)\n\u001b[0;32m     11\u001b[0m     plt\u001b[38;5;241m.\u001b[39mtitle(\u001b[38;5;124m'\u001b[39m\u001b[38;5;124mW[\u001b[39m\u001b[38;5;132;01m{}\u001b[39;00m\u001b[38;5;124m]\u001b[39m\u001b[38;5;124m'\u001b[39m\u001b[38;5;241m.\u001b[39mformat(i))\n\u001b[0;32m     13\u001b[0m \u001b[38;5;66;03m# Plot Bias posterior\u001b[39;00m\n",
      "\u001b[1;31mNameError\u001b[0m: name 'w_true' is not defined"
     ]
    },
    {
     "data": {
      "image/png": "[encoded data removed]",
      "text/plain": [
       "<Figure size 640x800 with 1 Axes>"
      ]
     },
     "metadata": {},
     "output_type": "display_data"
    }
   ],
   "source": [
    "fig = plt.figure()\n",
    "fig.set_size_inches(6.4, 8)\n",
    "v = np.linspace(-2, 2, 400)\n",
    "\n",
    "# Plot weight posteriors\n",
    "probs = model.weight.prob(v*np.ones([D, 1]))\n",
    "for i in range(D):\n",
    "    plt.subplot(D+1, 1, i+1)\n",
    "    plt.plot(v, probs[i, :])\n",
    "    plt.axvline(x=w_true[i], linestyle='--', color='k')\n",
    "    plt.title('W[{}]'.format(i))\n",
    "    \n",
    "# Plot Bias posterior\n",
    "plt.subplot(D+1, 1, D+1)\n",
    "plt.plot(v, model.bias.prob(v))\n",
    "plt.axvline(x=b_true, linestyle='--', color='k')\n",
    "plt.title('Bias')\n",
    "\n",
    "plt.tight_layout()\n",
    "plt.show()"
   ]
  },
  {
   "cell_type": "code",
   "execution_count": null,
   "id": "26ccce78",
   "metadata": {},
   "outputs": [],
   "source": []
  }
 ],
 "metadata": {
  "kernelspec": {
   "display_name": "GPU3090",
   "language": "python",
   "name": "gpu3090"
  },
  "language_info": {
   "codemirror_mode": {
    "name": "ipython",
    "version": 3
   },
   "file_extension": ".py",
   "mimetype": "text/x-python",
   "name": "python",
   "nbconvert_exporter": "python",
   "pygments_lexer": "ipython3",
   "version": "3.9.18"
  }
 },
 "nbformat": 4,
 "nbformat_minor": 5
}
