{
 "cells": [
  {
   "cell_type": "code",
   "execution_count": 1,
   "id": "c773be18",
   "metadata": {},
   "outputs": [],
   "source": [
    "import numpy as np\n",
    "import pandas as pd\n",
    "from keras.models import Sequential\n",
    "from keras.layers import Conv1D, MaxPooling1D, Flatten, Dense, Dropout\n",
    "from sklearn.metrics import confusion_matrix, classification_report"
   ]
  },
  {
   "cell_type": "code",
   "execution_count": 2,
   "id": "9a9d0451",
   "metadata": {},
   "outputs": [],
   "source": [
    "def CNN(x_train, x_test, y_train, y_test):\n",
    "    \n",
    "    X_train = pd.read_csv(x_train)\n",
    "    Y_train = pd.read_csv(y_train)\n",
    "\n",
    "    X_test = pd.read_csv(x_test)\n",
    "    Y_test = pd.read_csv(y_test)\n",
    "    \n",
    "    X_train['Covid_or_Not'] = [0 if i=='Not a Covid 19 Carrier' else 1 for i in X_train.Covid_or_Not]\n",
    "    X_test['Covid_or_Not'] = [0 if i=='Not a Covid 19 Carrier' else 1 for i in X_test.Covid_or_Not]\n",
    "\n",
    "    # CNN\n",
    "    model = Sequential()\n",
    "    model.add(Conv1D(filters=256, kernel_size=3, activation='relu', input_shape=(21,1)))\n",
    "    model.add(Conv1D(filters=256, kernel_size=3, activation='relu'))\n",
    "    model.add(MaxPooling1D(pool_size=2))\n",
    "\n",
    "    model.add(Conv1D(filters=512, kernel_size=3, activation='relu'))\n",
    "    model.add(MaxPooling1D(pool_size=2))\n",
    "\n",
    "    model.add(Flatten())\n",
    "    model.add(Dense(512, activation='relu'))\n",
    "    model.add(Dense(2, activation='sigmoid'))\n",
    "\n",
    "    model.compile(loss='sparse_categorical_crossentropy', optimizer='adam', metrics=['accuracy'])\n",
    "    \n",
    "    model.fit(X_train, Y_train, epochs=20, batch_size=32)\n",
    "    Y_pred = model.predict(X_test).argmax(axis=1)\n",
    "    \n",
    "    cm = confusion_matrix(Y_pred, Y_test)\n",
    "    print(cm)\n",
    "    print(classification_report(Y_test, Y_pred))"
   ]
  },
  {
   "cell_type": "code",
   "execution_count": 3,
   "id": "c01339e4",
   "metadata": {},
   "outputs": [
    {
     "name": "stdout",
     "output_type": "stream",
     "text": [
      "Epoch 1/20\n",
      "214/214 [==============================] - 5s 20ms/step - loss: 0.6727 - accuracy: 0.6494\n",
      "Epoch 2/20\n",
      "214/214 [==============================] - 4s 20ms/step - loss: 0.5741 - accuracy: 0.7177\n",
      "Epoch 3/20\n",
      "214/214 [==============================] - 4s 20ms/step - loss: 0.5654 - accuracy: 0.7236\n",
      "Epoch 4/20\n",
      "214/214 [==============================] - 4s 20ms/step - loss: 0.5638 - accuracy: 0.7230\n",
      "Epoch 5/20\n",
      "214/214 [==============================] - 4s 20ms/step - loss: 0.5583 - accuracy: 0.7291\n",
      "Epoch 6/20\n",
      "214/214 [==============================] - 4s 20ms/step - loss: 0.5578 - accuracy: 0.7296\n",
      "Epoch 7/20\n",
      "214/214 [==============================] - 4s 20ms/step - loss: 0.5523 - accuracy: 0.7291\n",
      "Epoch 8/20\n",
      "214/214 [==============================] - 4s 20ms/step - loss: 0.5536 - accuracy: 0.7332\n",
      "Epoch 9/20\n",
      "214/214 [==============================] - 4s 20ms/step - loss: 0.5557 - accuracy: 0.7343\n",
      "Epoch 10/20\n",
      "214/214 [==============================] - 4s 20ms/step - loss: 0.5530 - accuracy: 0.7337\n",
      "Epoch 11/20\n",
      "214/214 [==============================] - 4s 20ms/step - loss: 0.5515 - accuracy: 0.7337\n",
      "Epoch 12/20\n",
      "214/214 [==============================] - 4s 20ms/step - loss: 0.5523 - accuracy: 0.7299\n",
      "Epoch 13/20\n",
      "214/214 [==============================] - 4s 20ms/step - loss: 0.5535 - accuracy: 0.7308\n",
      "Epoch 14/20\n",
      "214/214 [==============================] - 4s 20ms/step - loss: 0.5527 - accuracy: 0.7330\n",
      "Epoch 15/20\n",
      "214/214 [==============================] - 4s 20ms/step - loss: 0.5468 - accuracy: 0.7356\n",
      "Epoch 16/20\n",
      "214/214 [==============================] - 4s 20ms/step - loss: 0.5476 - accuracy: 0.7322\n",
      "Epoch 17/20\n",
      "214/214 [==============================] - 4s 21ms/step - loss: 0.5483 - accuracy: 0.7344\n",
      "Epoch 18/20\n",
      "214/214 [==============================] - 4s 21ms/step - loss: 0.5533 - accuracy: 0.7272\n",
      "Epoch 19/20\n",
      "214/214 [==============================] - 4s 21ms/step - loss: 0.5485 - accuracy: 0.7337\n",
      "Epoch 20/20\n",
      "214/214 [==============================] - 4s 21ms/step - loss: 0.5497 - accuracy: 0.7312\n",
      "[[ 830  297]\n",
      " [ 608 1632]]\n",
      "              precision    recall  f1-score   support\n",
      "\n",
      "           0       0.74      0.58      0.65      1438\n",
      "           1       0.73      0.85      0.78      1929\n",
      "\n",
      "    accuracy                           0.73      3367\n",
      "   macro avg       0.73      0.71      0.72      3367\n",
      "weighted avg       0.73      0.73      0.72      3367\n",
      "\n"
     ]
    }
   ],
   "source": [
    "x_train = '../Covid-19_Mortality_Rate/covidicudata_xtrain.csv'\n",
    "x_test = '../Covid-19_Mortality_Rate/covidicudata_xtest.csv'\n",
    "y_train = '../Covid-19_Mortality_Rate/covidicudata_ytrain.csv'\n",
    "y_test = '../Covid-19_Mortality_Rate/covidicudata_ytest.csv'\n",
    "CNN(x_train, x_test, y_train, y_test)"
   ]
  },
  {
   "cell_type": "code",
   "execution_count": null,
   "id": "18a46966",
   "metadata": {},
   "outputs": [],
   "source": []
  }
 ],
 "metadata": {
  "kernelspec": {
   "display_name": "Python 3 (ipykernel)",
   "language": "python",
   "name": "python3"
  },
  "language_info": {
   "codemirror_mode": {
    "name": "ipython",
    "version": 3
   },
   "file_extension": ".py",
   "mimetype": "text/x-python",
   "name": "python",
   "nbconvert_exporter": "python",
   "pygments_lexer": "ipython3",
   "version": "3.8.3"
  }
 },
 "nbformat": 4,
 "nbformat_minor": 5
}
