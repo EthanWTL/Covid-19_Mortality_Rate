{
 "cells": [
  {
   "cell_type": "code",
   "execution_count": 1,
   "id": "c773be18",
   "metadata": {},
   "outputs": [],
   "source": [
    "import numpy as np\n",
    "import pandas as pd\n",
    "from keras.models import Sequential\n",
    "from keras.layers import Conv1D, MaxPooling1D, Flatten, Dense, Dropout\n",
    "from sklearn.metrics import confusion_matrix, classification_report"
   ]
  },
  {
   "cell_type": "code",
   "execution_count": 8,
   "id": "9a9d0451",
   "metadata": {},
   "outputs": [],
   "source": [
    "def CNN(x_train, x_test, y_train, y_test):\n",
    "    \n",
    "    X_train = pd.read_csv(x_train)\n",
    "    Y_train = pd.read_csv(y_train)\n",
    "\n",
    "    X_test = pd.read_csv(x_test)\n",
    "    Y_test = pd.read_csv(y_test)\n",
    "\n",
    "    # CNN\n",
    "    model = Sequential()\n",
    "    model.add(Conv1D(filters=256, kernel_size=3, activation='relu', input_shape=(20,1)))\n",
    "    model.add(Conv1D(filters=256, kernel_size=3, activation='relu'))\n",
    "    model.add(MaxPooling1D(pool_size=2))\n",
    "\n",
    "    model.add(Conv1D(filters=512, kernel_size=3, activation='relu'))\n",
    "    model.add(MaxPooling1D(pool_size=2))\n",
    "\n",
    "    model.add(Flatten())\n",
    "    model.add(Dense(512, activation='relu'))\n",
    "    model.add(Dense(2, activation='sigmoid'))\n",
    "\n",
    "    model.compile(loss='sparse_categorical_crossentropy', optimizer='adam', metrics=['accuracy'])\n",
    "    \n",
    "    model.fit(X_train, Y_train, epochs=20, batch_size=32)\n",
    "    Y_pred = model.predict(X_test).argmax(axis=1)\n",
    "    \n",
    "    cm = confusion_matrix(Y_pred, Y_test)\n",
    "    print(cm)\n",
    "    print(classification_report(Y_test, Y_pred))"
   ]
  },
  {
   "cell_type": "markdown",
   "id": "0df87b63",
   "metadata": {},
   "source": [
    "# 3 epoch"
   ]
  },
  {
   "cell_type": "code",
   "execution_count": 9,
   "id": "c01339e4",
   "metadata": {},
   "outputs": [
    {
     "name": "stdout",
     "output_type": "stream",
     "text": [
      "Epoch 1/3\n",
      "3960/3960 [==============================] - 62s 16ms/step - loss: 0.5317 - accuracy: 0.7372\n",
      "Epoch 2/3\n",
      "3960/3960 [==============================] - 62s 16ms/step - loss: 0.5112 - accuracy: 0.7516\n",
      "Epoch 3/3\n",
      "3960/3960 [==============================] - 61s 16ms/step - loss: 0.5059 - accuracy: 0.7541\n",
      "1951/1951 [==============================] - 7s 4ms/step\n",
      "[[34526 11921]\n",
      " [ 3118 12842]]\n",
      "              precision    recall  f1-score   support\n",
      "\n",
      "           0       0.74      0.92      0.82     37644\n",
      "           1       0.80      0.52      0.63     24763\n",
      "\n",
      "    accuracy                           0.76     62407\n",
      "   macro avg       0.77      0.72      0.73     62407\n",
      "weighted avg       0.77      0.76      0.75     62407\n",
      "\n"
     ]
    }
   ],
   "source": [
    "x_train = 'Hospitalized Data/hospitalized_coverted_xtrain.csv'\n",
    "x_test = 'Hospitalized Data/hospitalized_coverted_xtest.csv'\n",
    "y_train = 'Hospitalized Data/hospitalized_coverted_ytrain.csv'\n",
    "y_test = 'Hospitalized Data/hospitalized_coverted_ytest.csv'\n",
    "CNN(x_train, x_test, y_train, y_test)"
   ]
  },
  {
   "cell_type": "code",
   "execution_count": null,
   "id": "deb1e687",
   "metadata": {},
   "outputs": [],
   "source": []
  }
 ],
 "metadata": {
  "kernelspec": {
   "display_name": "Python 3 (ipykernel)",
   "language": "python",
   "name": "python3"
  },
  "language_info": {
   "codemirror_mode": {
    "name": "ipython",
    "version": 3
   },
   "file_extension": ".py",
   "mimetype": "text/x-python",
   "name": "python",
   "nbconvert_exporter": "python",
   "pygments_lexer": "ipython3",
   "version": "3.9.16"
  }
 },
 "nbformat": 4,
 "nbformat_minor": 5
}
