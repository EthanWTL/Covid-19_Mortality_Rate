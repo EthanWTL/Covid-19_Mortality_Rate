{
 "cells": [
  {
   "cell_type": "code",
   "execution_count": 1,
   "id": "5f5c0d94",
   "metadata": {},
   "outputs": [],
   "source": [
    "import pandas as pd\n",
    "import numpy as np\n",
    "import seaborn as sns\n",
    "import matplotlib.pyplot as plt\n",
    "from matplotlib.ticker import FormatStrFormatter # To adjust the ticks formatting\n",
    "import warnings\n",
    "warnings.filterwarnings('ignore') # To ignore warning messages\n",
    "from sklearn.model_selection import train_test_split\n",
    "from sklearn.ensemble import RandomForestClassifier\n",
    "from sklearn.linear_model import LogisticRegression\n",
    "from sklearn.tree import DecisionTreeClassifier\n",
    "from sklearn.svm import SVC\n",
    "from sklearn.neighbors import KNeighborsClassifier\n",
    "from sklearn.naive_bayes import GaussianNB\n",
    "from sklearn.metrics import classification_report\n",
    "import random"
   ]
  },
  {
   "cell_type": "markdown",
   "id": "c628196e",
   "metadata": {},
   "source": [
    "# Adding filters to dataset"
   ]
  },
  {
   "cell_type": "markdown",
   "id": "98c3fd35",
   "metadata": {},
   "source": [
    "### Full patient data"
   ]
  },
  {
   "cell_type": "code",
   "execution_count": 2,
   "id": "76c2179a",
   "metadata": {},
   "outputs": [],
   "source": [
    "df = pd.read_csv('fulldata_clean.csv')"
   ]
  },
  {
   "cell_type": "markdown",
   "id": "e4b90e63",
   "metadata": {},
   "source": [
    "### Covid data"
   ]
  },
  {
   "cell_type": "code",
   "execution_count": 3,
   "id": "72083186",
   "metadata": {},
   "outputs": [
    {
     "data": {
      "text/html": [
       "<div>\n",
       "<style scoped>\n",
       "    .dataframe tbody tr th:only-of-type {\n",
       "        vertical-align: middle;\n",
       "    }\n",
       "\n",
       "    .dataframe tbody tr th {\n",
       "        vertical-align: top;\n",
       "    }\n",
       "\n",
       "    .dataframe thead th {\n",
       "        text-align: right;\n",
       "    }\n",
       "</style>\n",
       "<table border=\"1\" class=\"dataframe\">\n",
       "  <thead>\n",
       "    <tr style=\"text-align: right;\">\n",
       "      <th></th>\n",
       "      <th>USMER</th>\n",
       "      <th>MEDICAL_UNIT</th>\n",
       "      <th>SEX</th>\n",
       "      <th>PATIENT_TYPE</th>\n",
       "      <th>INTUBED</th>\n",
       "      <th>PNEUMONIA</th>\n",
       "      <th>AGE</th>\n",
       "      <th>PREGNANT</th>\n",
       "      <th>DIABETES</th>\n",
       "      <th>COPD</th>\n",
       "      <th>...</th>\n",
       "      <th>HIPERTENSION</th>\n",
       "      <th>OTHER_DISEASE</th>\n",
       "      <th>CARDIOVASCULAR</th>\n",
       "      <th>OBESITY</th>\n",
       "      <th>RENAL_CHRONIC</th>\n",
       "      <th>TOBACCO</th>\n",
       "      <th>CLASIFFICATION_FINAL</th>\n",
       "      <th>ICU</th>\n",
       "      <th>DEAD</th>\n",
       "      <th>Covid_or_Not</th>\n",
       "    </tr>\n",
       "  </thead>\n",
       "  <tbody>\n",
       "    <tr>\n",
       "      <th>0</th>\n",
       "      <td>2</td>\n",
       "      <td>1</td>\n",
       "      <td>1</td>\n",
       "      <td>1</td>\n",
       "      <td>2.0</td>\n",
       "      <td>1.0</td>\n",
       "      <td>65.0</td>\n",
       "      <td>2.0</td>\n",
       "      <td>2.0</td>\n",
       "      <td>2.0</td>\n",
       "      <td>...</td>\n",
       "      <td>1.0</td>\n",
       "      <td>2.0</td>\n",
       "      <td>2.0</td>\n",
       "      <td>2.0</td>\n",
       "      <td>2.0</td>\n",
       "      <td>2.0</td>\n",
       "      <td>3</td>\n",
       "      <td>2.0</td>\n",
       "      <td>1</td>\n",
       "      <td>A Covid 19 Carrier</td>\n",
       "    </tr>\n",
       "    <tr>\n",
       "      <th>2</th>\n",
       "      <td>2</td>\n",
       "      <td>1</td>\n",
       "      <td>2</td>\n",
       "      <td>2</td>\n",
       "      <td>1.0</td>\n",
       "      <td>2.0</td>\n",
       "      <td>55.0</td>\n",
       "      <td>2.0</td>\n",
       "      <td>1.0</td>\n",
       "      <td>2.0</td>\n",
       "      <td>...</td>\n",
       "      <td>2.0</td>\n",
       "      <td>2.0</td>\n",
       "      <td>2.0</td>\n",
       "      <td>2.0</td>\n",
       "      <td>2.0</td>\n",
       "      <td>2.0</td>\n",
       "      <td>3</td>\n",
       "      <td>2.0</td>\n",
       "      <td>1</td>\n",
       "      <td>A Covid 19 Carrier</td>\n",
       "    </tr>\n",
       "    <tr>\n",
       "      <th>4</th>\n",
       "      <td>2</td>\n",
       "      <td>1</td>\n",
       "      <td>2</td>\n",
       "      <td>1</td>\n",
       "      <td>2.0</td>\n",
       "      <td>2.0</td>\n",
       "      <td>68.0</td>\n",
       "      <td>2.0</td>\n",
       "      <td>1.0</td>\n",
       "      <td>2.0</td>\n",
       "      <td>...</td>\n",
       "      <td>1.0</td>\n",
       "      <td>2.0</td>\n",
       "      <td>2.0</td>\n",
       "      <td>2.0</td>\n",
       "      <td>2.0</td>\n",
       "      <td>2.0</td>\n",
       "      <td>3</td>\n",
       "      <td>2.0</td>\n",
       "      <td>1</td>\n",
       "      <td>A Covid 19 Carrier</td>\n",
       "    </tr>\n",
       "    <tr>\n",
       "      <th>5</th>\n",
       "      <td>2</td>\n",
       "      <td>1</td>\n",
       "      <td>1</td>\n",
       "      <td>2</td>\n",
       "      <td>2.0</td>\n",
       "      <td>1.0</td>\n",
       "      <td>40.0</td>\n",
       "      <td>2.0</td>\n",
       "      <td>2.0</td>\n",
       "      <td>2.0</td>\n",
       "      <td>...</td>\n",
       "      <td>2.0</td>\n",
       "      <td>2.0</td>\n",
       "      <td>2.0</td>\n",
       "      <td>2.0</td>\n",
       "      <td>2.0</td>\n",
       "      <td>2.0</td>\n",
       "      <td>3</td>\n",
       "      <td>2.0</td>\n",
       "      <td>0</td>\n",
       "      <td>A Covid 19 Carrier</td>\n",
       "    </tr>\n",
       "    <tr>\n",
       "      <th>6</th>\n",
       "      <td>2</td>\n",
       "      <td>1</td>\n",
       "      <td>1</td>\n",
       "      <td>1</td>\n",
       "      <td>2.0</td>\n",
       "      <td>2.0</td>\n",
       "      <td>64.0</td>\n",
       "      <td>2.0</td>\n",
       "      <td>2.0</td>\n",
       "      <td>2.0</td>\n",
       "      <td>...</td>\n",
       "      <td>2.0</td>\n",
       "      <td>2.0</td>\n",
       "      <td>2.0</td>\n",
       "      <td>2.0</td>\n",
       "      <td>2.0</td>\n",
       "      <td>2.0</td>\n",
       "      <td>3</td>\n",
       "      <td>2.0</td>\n",
       "      <td>0</td>\n",
       "      <td>A Covid 19 Carrier</td>\n",
       "    </tr>\n",
       "    <tr>\n",
       "      <th>...</th>\n",
       "      <td>...</td>\n",
       "      <td>...</td>\n",
       "      <td>...</td>\n",
       "      <td>...</td>\n",
       "      <td>...</td>\n",
       "      <td>...</td>\n",
       "      <td>...</td>\n",
       "      <td>...</td>\n",
       "      <td>...</td>\n",
       "      <td>...</td>\n",
       "      <td>...</td>\n",
       "      <td>...</td>\n",
       "      <td>...</td>\n",
       "      <td>...</td>\n",
       "      <td>...</td>\n",
       "      <td>...</td>\n",
       "      <td>...</td>\n",
       "      <td>...</td>\n",
       "      <td>...</td>\n",
       "      <td>...</td>\n",
       "      <td>...</td>\n",
       "    </tr>\n",
       "    <tr>\n",
       "      <th>1018888</th>\n",
       "      <td>1</td>\n",
       "      <td>13</td>\n",
       "      <td>1</td>\n",
       "      <td>2</td>\n",
       "      <td>2.0</td>\n",
       "      <td>2.0</td>\n",
       "      <td>77.0</td>\n",
       "      <td>2.0</td>\n",
       "      <td>1.0</td>\n",
       "      <td>2.0</td>\n",
       "      <td>...</td>\n",
       "      <td>1.0</td>\n",
       "      <td>2.0</td>\n",
       "      <td>2.0</td>\n",
       "      <td>2.0</td>\n",
       "      <td>2.0</td>\n",
       "      <td>2.0</td>\n",
       "      <td>3</td>\n",
       "      <td>2.0</td>\n",
       "      <td>0</td>\n",
       "      <td>A Covid 19 Carrier</td>\n",
       "    </tr>\n",
       "    <tr>\n",
       "      <th>1018889</th>\n",
       "      <td>1</td>\n",
       "      <td>13</td>\n",
       "      <td>1</td>\n",
       "      <td>1</td>\n",
       "      <td>2.0</td>\n",
       "      <td>2.0</td>\n",
       "      <td>55.0</td>\n",
       "      <td>2.0</td>\n",
       "      <td>1.0</td>\n",
       "      <td>2.0</td>\n",
       "      <td>...</td>\n",
       "      <td>2.0</td>\n",
       "      <td>2.0</td>\n",
       "      <td>2.0</td>\n",
       "      <td>2.0</td>\n",
       "      <td>2.0</td>\n",
       "      <td>2.0</td>\n",
       "      <td>3</td>\n",
       "      <td>2.0</td>\n",
       "      <td>0</td>\n",
       "      <td>A Covid 19 Carrier</td>\n",
       "    </tr>\n",
       "    <tr>\n",
       "      <th>1018890</th>\n",
       "      <td>1</td>\n",
       "      <td>13</td>\n",
       "      <td>2</td>\n",
       "      <td>1</td>\n",
       "      <td>2.0</td>\n",
       "      <td>2.0</td>\n",
       "      <td>70.0</td>\n",
       "      <td>2.0</td>\n",
       "      <td>2.0</td>\n",
       "      <td>2.0</td>\n",
       "      <td>...</td>\n",
       "      <td>1.0</td>\n",
       "      <td>2.0</td>\n",
       "      <td>2.0</td>\n",
       "      <td>2.0</td>\n",
       "      <td>2.0</td>\n",
       "      <td>2.0</td>\n",
       "      <td>3</td>\n",
       "      <td>2.0</td>\n",
       "      <td>0</td>\n",
       "      <td>A Covid 19 Carrier</td>\n",
       "    </tr>\n",
       "    <tr>\n",
       "      <th>1018891</th>\n",
       "      <td>2</td>\n",
       "      <td>13</td>\n",
       "      <td>2</td>\n",
       "      <td>1</td>\n",
       "      <td>2.0</td>\n",
       "      <td>2.0</td>\n",
       "      <td>32.0</td>\n",
       "      <td>2.0</td>\n",
       "      <td>2.0</td>\n",
       "      <td>2.0</td>\n",
       "      <td>...</td>\n",
       "      <td>2.0</td>\n",
       "      <td>2.0</td>\n",
       "      <td>2.0</td>\n",
       "      <td>2.0</td>\n",
       "      <td>2.0</td>\n",
       "      <td>2.0</td>\n",
       "      <td>3</td>\n",
       "      <td>2.0</td>\n",
       "      <td>0</td>\n",
       "      <td>A Covid 19 Carrier</td>\n",
       "    </tr>\n",
       "    <tr>\n",
       "      <th>1018892</th>\n",
       "      <td>2</td>\n",
       "      <td>13</td>\n",
       "      <td>1</td>\n",
       "      <td>1</td>\n",
       "      <td>2.0</td>\n",
       "      <td>2.0</td>\n",
       "      <td>30.0</td>\n",
       "      <td>2.0</td>\n",
       "      <td>2.0</td>\n",
       "      <td>2.0</td>\n",
       "      <td>...</td>\n",
       "      <td>2.0</td>\n",
       "      <td>2.0</td>\n",
       "      <td>2.0</td>\n",
       "      <td>2.0</td>\n",
       "      <td>2.0</td>\n",
       "      <td>2.0</td>\n",
       "      <td>3</td>\n",
       "      <td>2.0</td>\n",
       "      <td>0</td>\n",
       "      <td>A Covid 19 Carrier</td>\n",
       "    </tr>\n",
       "  </tbody>\n",
       "</table>\n",
       "<p>385975 rows × 22 columns</p>\n",
       "</div>"
      ],
      "text/plain": [
       "         USMER  MEDICAL_UNIT  SEX  PATIENT_TYPE  INTUBED  PNEUMONIA   AGE  \\\n",
       "0            2             1    1             1      2.0        1.0  65.0   \n",
       "2            2             1    2             2      1.0        2.0  55.0   \n",
       "4            2             1    2             1      2.0        2.0  68.0   \n",
       "5            2             1    1             2      2.0        1.0  40.0   \n",
       "6            2             1    1             1      2.0        2.0  64.0   \n",
       "...        ...           ...  ...           ...      ...        ...   ...   \n",
       "1018888      1            13    1             2      2.0        2.0  77.0   \n",
       "1018889      1            13    1             1      2.0        2.0  55.0   \n",
       "1018890      1            13    2             1      2.0        2.0  70.0   \n",
       "1018891      2            13    2             1      2.0        2.0  32.0   \n",
       "1018892      2            13    1             1      2.0        2.0  30.0   \n",
       "\n",
       "         PREGNANT  DIABETES  COPD  ...  HIPERTENSION  OTHER_DISEASE  \\\n",
       "0             2.0       2.0   2.0  ...           1.0            2.0   \n",
       "2             2.0       1.0   2.0  ...           2.0            2.0   \n",
       "4             2.0       1.0   2.0  ...           1.0            2.0   \n",
       "5             2.0       2.0   2.0  ...           2.0            2.0   \n",
       "6             2.0       2.0   2.0  ...           2.0            2.0   \n",
       "...           ...       ...   ...  ...           ...            ...   \n",
       "1018888       2.0       1.0   2.0  ...           1.0            2.0   \n",
       "1018889       2.0       1.0   2.0  ...           2.0            2.0   \n",
       "1018890       2.0       2.0   2.0  ...           1.0            2.0   \n",
       "1018891       2.0       2.0   2.0  ...           2.0            2.0   \n",
       "1018892       2.0       2.0   2.0  ...           2.0            2.0   \n",
       "\n",
       "         CARDIOVASCULAR  OBESITY  RENAL_CHRONIC  TOBACCO  \\\n",
       "0                   2.0      2.0            2.0      2.0   \n",
       "2                   2.0      2.0            2.0      2.0   \n",
       "4                   2.0      2.0            2.0      2.0   \n",
       "5                   2.0      2.0            2.0      2.0   \n",
       "6                   2.0      2.0            2.0      2.0   \n",
       "...                 ...      ...            ...      ...   \n",
       "1018888             2.0      2.0            2.0      2.0   \n",
       "1018889             2.0      2.0            2.0      2.0   \n",
       "1018890             2.0      2.0            2.0      2.0   \n",
       "1018891             2.0      2.0            2.0      2.0   \n",
       "1018892             2.0      2.0            2.0      2.0   \n",
       "\n",
       "         CLASIFFICATION_FINAL  ICU  DEAD        Covid_or_Not  \n",
       "0                           3  2.0     1  A Covid 19 Carrier  \n",
       "2                           3  2.0     1  A Covid 19 Carrier  \n",
       "4                           3  2.0     1  A Covid 19 Carrier  \n",
       "5                           3  2.0     0  A Covid 19 Carrier  \n",
       "6                           3  2.0     0  A Covid 19 Carrier  \n",
       "...                       ...  ...   ...                 ...  \n",
       "1018888                     3  2.0     0  A Covid 19 Carrier  \n",
       "1018889                     3  2.0     0  A Covid 19 Carrier  \n",
       "1018890                     3  2.0     0  A Covid 19 Carrier  \n",
       "1018891                     3  2.0     0  A Covid 19 Carrier  \n",
       "1018892                     3  2.0     0  A Covid 19 Carrier  \n",
       "\n",
       "[385975 rows x 22 columns]"
      ]
     },
     "execution_count": 3,
     "metadata": {},
     "output_type": "execute_result"
    }
   ],
   "source": [
    "df_covid = df[(df['Covid_or_Not'] == \"A Covid 19 Carrier\")]\n",
    "df_covid"
   ]
  },
  {
   "cell_type": "code",
   "execution_count": 4,
   "id": "03f00b11",
   "metadata": {},
   "outputs": [],
   "source": [
    "df_covid.to_csv('coviddata_clean.csv',index = False)"
   ]
  },
  {
   "cell_type": "markdown",
   "id": "a9a894ab",
   "metadata": {},
   "source": [
    "### Covid data with icu"
   ]
  },
  {
   "cell_type": "code",
   "execution_count": 5,
   "id": "f0e96500",
   "metadata": {},
   "outputs": [],
   "source": [
    "df_covid_icu = df_covid[(df_covid['ICU'] == 1)]"
   ]
  },
  {
   "cell_type": "code",
   "execution_count": 6,
   "id": "1446c6e1",
   "metadata": {},
   "outputs": [
    {
     "data": {
      "text/html": [
       "<div>\n",
       "<style scoped>\n",
       "    .dataframe tbody tr th:only-of-type {\n",
       "        vertical-align: middle;\n",
       "    }\n",
       "\n",
       "    .dataframe tbody tr th {\n",
       "        vertical-align: top;\n",
       "    }\n",
       "\n",
       "    .dataframe thead th {\n",
       "        text-align: right;\n",
       "    }\n",
       "</style>\n",
       "<table border=\"1\" class=\"dataframe\">\n",
       "  <thead>\n",
       "    <tr style=\"text-align: right;\">\n",
       "      <th></th>\n",
       "      <th>USMER</th>\n",
       "      <th>MEDICAL_UNIT</th>\n",
       "      <th>SEX</th>\n",
       "      <th>PATIENT_TYPE</th>\n",
       "      <th>INTUBED</th>\n",
       "      <th>PNEUMONIA</th>\n",
       "      <th>AGE</th>\n",
       "      <th>PREGNANT</th>\n",
       "      <th>DIABETES</th>\n",
       "      <th>COPD</th>\n",
       "      <th>...</th>\n",
       "      <th>HIPERTENSION</th>\n",
       "      <th>OTHER_DISEASE</th>\n",
       "      <th>CARDIOVASCULAR</th>\n",
       "      <th>OBESITY</th>\n",
       "      <th>RENAL_CHRONIC</th>\n",
       "      <th>TOBACCO</th>\n",
       "      <th>CLASIFFICATION_FINAL</th>\n",
       "      <th>ICU</th>\n",
       "      <th>DEAD</th>\n",
       "      <th>Covid_or_Not</th>\n",
       "    </tr>\n",
       "  </thead>\n",
       "  <tbody>\n",
       "    <tr>\n",
       "      <th>16</th>\n",
       "      <td>2</td>\n",
       "      <td>1</td>\n",
       "      <td>1</td>\n",
       "      <td>2</td>\n",
       "      <td>2.0</td>\n",
       "      <td>1.0</td>\n",
       "      <td>80.0</td>\n",
       "      <td>2.0</td>\n",
       "      <td>2.0</td>\n",
       "      <td>2.0</td>\n",
       "      <td>...</td>\n",
       "      <td>1.0</td>\n",
       "      <td>2.0</td>\n",
       "      <td>2.0</td>\n",
       "      <td>2.0</td>\n",
       "      <td>2.0</td>\n",
       "      <td>2.0</td>\n",
       "      <td>3</td>\n",
       "      <td>1.0</td>\n",
       "      <td>0</td>\n",
       "      <td>A Covid 19 Carrier</td>\n",
       "    </tr>\n",
       "    <tr>\n",
       "      <th>20</th>\n",
       "      <td>2</td>\n",
       "      <td>1</td>\n",
       "      <td>2</td>\n",
       "      <td>2</td>\n",
       "      <td>2.0</td>\n",
       "      <td>1.0</td>\n",
       "      <td>59.0</td>\n",
       "      <td>2.0</td>\n",
       "      <td>1.0</td>\n",
       "      <td>2.0</td>\n",
       "      <td>...</td>\n",
       "      <td>2.0</td>\n",
       "      <td>2.0</td>\n",
       "      <td>2.0</td>\n",
       "      <td>2.0</td>\n",
       "      <td>2.0</td>\n",
       "      <td>1.0</td>\n",
       "      <td>3</td>\n",
       "      <td>1.0</td>\n",
       "      <td>0</td>\n",
       "      <td>A Covid 19 Carrier</td>\n",
       "    </tr>\n",
       "    <tr>\n",
       "      <th>41</th>\n",
       "      <td>2</td>\n",
       "      <td>1</td>\n",
       "      <td>2</td>\n",
       "      <td>2</td>\n",
       "      <td>1.0</td>\n",
       "      <td>1.0</td>\n",
       "      <td>45.0</td>\n",
       "      <td>2.0</td>\n",
       "      <td>2.0</td>\n",
       "      <td>2.0</td>\n",
       "      <td>...</td>\n",
       "      <td>2.0</td>\n",
       "      <td>2.0</td>\n",
       "      <td>2.0</td>\n",
       "      <td>2.0</td>\n",
       "      <td>2.0</td>\n",
       "      <td>2.0</td>\n",
       "      <td>3</td>\n",
       "      <td>1.0</td>\n",
       "      <td>0</td>\n",
       "      <td>A Covid 19 Carrier</td>\n",
       "    </tr>\n",
       "    <tr>\n",
       "      <th>319</th>\n",
       "      <td>1</td>\n",
       "      <td>3</td>\n",
       "      <td>2</td>\n",
       "      <td>2</td>\n",
       "      <td>1.0</td>\n",
       "      <td>1.0</td>\n",
       "      <td>90.0</td>\n",
       "      <td>2.0</td>\n",
       "      <td>2.0</td>\n",
       "      <td>2.0</td>\n",
       "      <td>...</td>\n",
       "      <td>1.0</td>\n",
       "      <td>2.0</td>\n",
       "      <td>2.0</td>\n",
       "      <td>2.0</td>\n",
       "      <td>2.0</td>\n",
       "      <td>2.0</td>\n",
       "      <td>3</td>\n",
       "      <td>1.0</td>\n",
       "      <td>1</td>\n",
       "      <td>A Covid 19 Carrier</td>\n",
       "    </tr>\n",
       "    <tr>\n",
       "      <th>320</th>\n",
       "      <td>1</td>\n",
       "      <td>3</td>\n",
       "      <td>2</td>\n",
       "      <td>2</td>\n",
       "      <td>1.0</td>\n",
       "      <td>1.0</td>\n",
       "      <td>61.0</td>\n",
       "      <td>2.0</td>\n",
       "      <td>2.0</td>\n",
       "      <td>2.0</td>\n",
       "      <td>...</td>\n",
       "      <td>1.0</td>\n",
       "      <td>2.0</td>\n",
       "      <td>2.0</td>\n",
       "      <td>1.0</td>\n",
       "      <td>2.0</td>\n",
       "      <td>2.0</td>\n",
       "      <td>3</td>\n",
       "      <td>1.0</td>\n",
       "      <td>1</td>\n",
       "      <td>A Covid 19 Carrier</td>\n",
       "    </tr>\n",
       "    <tr>\n",
       "      <th>...</th>\n",
       "      <td>...</td>\n",
       "      <td>...</td>\n",
       "      <td>...</td>\n",
       "      <td>...</td>\n",
       "      <td>...</td>\n",
       "      <td>...</td>\n",
       "      <td>...</td>\n",
       "      <td>...</td>\n",
       "      <td>...</td>\n",
       "      <td>...</td>\n",
       "      <td>...</td>\n",
       "      <td>...</td>\n",
       "      <td>...</td>\n",
       "      <td>...</td>\n",
       "      <td>...</td>\n",
       "      <td>...</td>\n",
       "      <td>...</td>\n",
       "      <td>...</td>\n",
       "      <td>...</td>\n",
       "      <td>...</td>\n",
       "      <td>...</td>\n",
       "    </tr>\n",
       "    <tr>\n",
       "      <th>1018691</th>\n",
       "      <td>1</td>\n",
       "      <td>13</td>\n",
       "      <td>2</td>\n",
       "      <td>2</td>\n",
       "      <td>1.0</td>\n",
       "      <td>1.0</td>\n",
       "      <td>55.0</td>\n",
       "      <td>2.0</td>\n",
       "      <td>2.0</td>\n",
       "      <td>2.0</td>\n",
       "      <td>...</td>\n",
       "      <td>2.0</td>\n",
       "      <td>2.0</td>\n",
       "      <td>2.0</td>\n",
       "      <td>2.0</td>\n",
       "      <td>2.0</td>\n",
       "      <td>2.0</td>\n",
       "      <td>3</td>\n",
       "      <td>1.0</td>\n",
       "      <td>0</td>\n",
       "      <td>A Covid 19 Carrier</td>\n",
       "    </tr>\n",
       "    <tr>\n",
       "      <th>1018693</th>\n",
       "      <td>1</td>\n",
       "      <td>13</td>\n",
       "      <td>2</td>\n",
       "      <td>2</td>\n",
       "      <td>2.0</td>\n",
       "      <td>2.0</td>\n",
       "      <td>56.0</td>\n",
       "      <td>2.0</td>\n",
       "      <td>2.0</td>\n",
       "      <td>2.0</td>\n",
       "      <td>...</td>\n",
       "      <td>2.0</td>\n",
       "      <td>2.0</td>\n",
       "      <td>2.0</td>\n",
       "      <td>2.0</td>\n",
       "      <td>2.0</td>\n",
       "      <td>2.0</td>\n",
       "      <td>3</td>\n",
       "      <td>1.0</td>\n",
       "      <td>0</td>\n",
       "      <td>A Covid 19 Carrier</td>\n",
       "    </tr>\n",
       "    <tr>\n",
       "      <th>1018696</th>\n",
       "      <td>1</td>\n",
       "      <td>13</td>\n",
       "      <td>2</td>\n",
       "      <td>2</td>\n",
       "      <td>2.0</td>\n",
       "      <td>1.0</td>\n",
       "      <td>68.0</td>\n",
       "      <td>2.0</td>\n",
       "      <td>2.0</td>\n",
       "      <td>2.0</td>\n",
       "      <td>...</td>\n",
       "      <td>1.0</td>\n",
       "      <td>2.0</td>\n",
       "      <td>2.0</td>\n",
       "      <td>2.0</td>\n",
       "      <td>2.0</td>\n",
       "      <td>2.0</td>\n",
       "      <td>3</td>\n",
       "      <td>1.0</td>\n",
       "      <td>0</td>\n",
       "      <td>A Covid 19 Carrier</td>\n",
       "    </tr>\n",
       "    <tr>\n",
       "      <th>1018706</th>\n",
       "      <td>1</td>\n",
       "      <td>13</td>\n",
       "      <td>2</td>\n",
       "      <td>2</td>\n",
       "      <td>1.0</td>\n",
       "      <td>2.0</td>\n",
       "      <td>35.0</td>\n",
       "      <td>2.0</td>\n",
       "      <td>1.0</td>\n",
       "      <td>2.0</td>\n",
       "      <td>...</td>\n",
       "      <td>2.0</td>\n",
       "      <td>2.0</td>\n",
       "      <td>2.0</td>\n",
       "      <td>2.0</td>\n",
       "      <td>2.0</td>\n",
       "      <td>2.0</td>\n",
       "      <td>3</td>\n",
       "      <td>1.0</td>\n",
       "      <td>0</td>\n",
       "      <td>A Covid 19 Carrier</td>\n",
       "    </tr>\n",
       "    <tr>\n",
       "      <th>1018711</th>\n",
       "      <td>1</td>\n",
       "      <td>13</td>\n",
       "      <td>2</td>\n",
       "      <td>2</td>\n",
       "      <td>1.0</td>\n",
       "      <td>1.0</td>\n",
       "      <td>57.0</td>\n",
       "      <td>2.0</td>\n",
       "      <td>1.0</td>\n",
       "      <td>2.0</td>\n",
       "      <td>...</td>\n",
       "      <td>2.0</td>\n",
       "      <td>2.0</td>\n",
       "      <td>2.0</td>\n",
       "      <td>2.0</td>\n",
       "      <td>2.0</td>\n",
       "      <td>2.0</td>\n",
       "      <td>3</td>\n",
       "      <td>1.0</td>\n",
       "      <td>0</td>\n",
       "      <td>A Covid 19 Carrier</td>\n",
       "    </tr>\n",
       "  </tbody>\n",
       "</table>\n",
       "<p>10201 rows × 22 columns</p>\n",
       "</div>"
      ],
      "text/plain": [
       "         USMER  MEDICAL_UNIT  SEX  PATIENT_TYPE  INTUBED  PNEUMONIA   AGE  \\\n",
       "16           2             1    1             2      2.0        1.0  80.0   \n",
       "20           2             1    2             2      2.0        1.0  59.0   \n",
       "41           2             1    2             2      1.0        1.0  45.0   \n",
       "319          1             3    2             2      1.0        1.0  90.0   \n",
       "320          1             3    2             2      1.0        1.0  61.0   \n",
       "...        ...           ...  ...           ...      ...        ...   ...   \n",
       "1018691      1            13    2             2      1.0        1.0  55.0   \n",
       "1018693      1            13    2             2      2.0        2.0  56.0   \n",
       "1018696      1            13    2             2      2.0        1.0  68.0   \n",
       "1018706      1            13    2             2      1.0        2.0  35.0   \n",
       "1018711      1            13    2             2      1.0        1.0  57.0   \n",
       "\n",
       "         PREGNANT  DIABETES  COPD  ...  HIPERTENSION  OTHER_DISEASE  \\\n",
       "16            2.0       2.0   2.0  ...           1.0            2.0   \n",
       "20            2.0       1.0   2.0  ...           2.0            2.0   \n",
       "41            2.0       2.0   2.0  ...           2.0            2.0   \n",
       "319           2.0       2.0   2.0  ...           1.0            2.0   \n",
       "320           2.0       2.0   2.0  ...           1.0            2.0   \n",
       "...           ...       ...   ...  ...           ...            ...   \n",
       "1018691       2.0       2.0   2.0  ...           2.0            2.0   \n",
       "1018693       2.0       2.0   2.0  ...           2.0            2.0   \n",
       "1018696       2.0       2.0   2.0  ...           1.0            2.0   \n",
       "1018706       2.0       1.0   2.0  ...           2.0            2.0   \n",
       "1018711       2.0       1.0   2.0  ...           2.0            2.0   \n",
       "\n",
       "         CARDIOVASCULAR  OBESITY  RENAL_CHRONIC  TOBACCO  \\\n",
       "16                  2.0      2.0            2.0      2.0   \n",
       "20                  2.0      2.0            2.0      1.0   \n",
       "41                  2.0      2.0            2.0      2.0   \n",
       "319                 2.0      2.0            2.0      2.0   \n",
       "320                 2.0      1.0            2.0      2.0   \n",
       "...                 ...      ...            ...      ...   \n",
       "1018691             2.0      2.0            2.0      2.0   \n",
       "1018693             2.0      2.0            2.0      2.0   \n",
       "1018696             2.0      2.0            2.0      2.0   \n",
       "1018706             2.0      2.0            2.0      2.0   \n",
       "1018711             2.0      2.0            2.0      2.0   \n",
       "\n",
       "         CLASIFFICATION_FINAL  ICU  DEAD        Covid_or_Not  \n",
       "16                          3  1.0     0  A Covid 19 Carrier  \n",
       "20                          3  1.0     0  A Covid 19 Carrier  \n",
       "41                          3  1.0     0  A Covid 19 Carrier  \n",
       "319                         3  1.0     1  A Covid 19 Carrier  \n",
       "320                         3  1.0     1  A Covid 19 Carrier  \n",
       "...                       ...  ...   ...                 ...  \n",
       "1018691                     3  1.0     0  A Covid 19 Carrier  \n",
       "1018693                     3  1.0     0  A Covid 19 Carrier  \n",
       "1018696                     3  1.0     0  A Covid 19 Carrier  \n",
       "1018706                     3  1.0     0  A Covid 19 Carrier  \n",
       "1018711                     3  1.0     0  A Covid 19 Carrier  \n",
       "\n",
       "[10201 rows x 22 columns]"
      ]
     },
     "execution_count": 6,
     "metadata": {},
     "output_type": "execute_result"
    }
   ],
   "source": [
    "df_covid_icu"
   ]
  },
  {
   "cell_type": "code",
   "execution_count": 7,
   "id": "1bb3af08",
   "metadata": {},
   "outputs": [],
   "source": [
    "df_covid_icu.to_csv('coviddata_icu_clean.csv',index = False)"
   ]
  },
  {
   "cell_type": "markdown",
   "id": "bb705d0f",
   "metadata": {},
   "source": [
    "# Data Split"
   ]
  },
  {
   "cell_type": "markdown",
   "id": "ac04d6f0",
   "metadata": {},
   "source": [
    "### Split full dataset for traintest"
   ]
  },
  {
   "cell_type": "code",
   "execution_count": 8,
   "id": "8f64c937",
   "metadata": {
    "scrolled": true
   },
   "outputs": [],
   "source": [
    "X = df.drop(['DEAD'],axis=1)\n",
    "Y = df['DEAD']"
   ]
  },
  {
   "cell_type": "code",
   "execution_count": 9,
   "id": "903a71ba",
   "metadata": {},
   "outputs": [],
   "source": [
    "X_train, X_test, Y_train, Y_test = train_test_split(X, Y, test_size=0.33, random_state=42)"
   ]
  },
  {
   "cell_type": "code",
   "execution_count": 10,
   "id": "b2c32e64",
   "metadata": {},
   "outputs": [
    {
     "data": {
      "text/plain": [
       "0    633728\n",
       "1     49233\n",
       "Name: DEAD, dtype: int64"
      ]
     },
     "execution_count": 10,
     "metadata": {},
     "output_type": "execute_result"
    }
   ],
   "source": [
    "Y_train.value_counts()"
   ]
  },
  {
   "cell_type": "code",
   "execution_count": 11,
   "id": "ff2f01cb",
   "metadata": {},
   "outputs": [
    {
     "data": {
      "text/plain": [
       "0    312408\n",
       "1     23976\n",
       "Name: DEAD, dtype: int64"
      ]
     },
     "execution_count": 11,
     "metadata": {},
     "output_type": "execute_result"
    }
   ],
   "source": [
    "Y_test.value_counts()"
   ]
  },
  {
   "cell_type": "code",
   "execution_count": 12,
   "id": "78b38683",
   "metadata": {},
   "outputs": [],
   "source": [
    "X_train.to_csv('fulldata_xtrain.csv',index = False)\n",
    "X_test.to_csv('fulldata_xtest.csv',index = False)\n",
    "Y_train.to_csv('fulldata_ytrain.csv',index = False)\n",
    "Y_test.to_csv('fulldata_ytest.csv',index = False)"
   ]
  },
  {
   "cell_type": "markdown",
   "id": "82cbcb49",
   "metadata": {},
   "source": [
    "### Split full dataset into data shards"
   ]
  },
  {
   "cell_type": "code",
   "execution_count": null,
   "id": "9a97f0d6",
   "metadata": {},
   "outputs": [],
   "source": []
  },
  {
   "cell_type": "code",
   "execution_count": 13,
   "id": "a1ff9c8e",
   "metadata": {},
   "outputs": [],
   "source": [
    "X = df.drop(['DEAD'],axis=1)\n",
    "Y = df['DEAD']"
   ]
  },
  {
   "cell_type": "code",
   "execution_count": 14,
   "id": "f3600e9d",
   "metadata": {},
   "outputs": [],
   "source": [
    "X_train, X_test, Y_train, Y_test = train_test_split(X, Y, test_size=0.5, random_state=42)"
   ]
  },
  {
   "cell_type": "code",
   "execution_count": 15,
   "id": "d0e97ef0",
   "metadata": {},
   "outputs": [
    {
     "data": {
      "text/plain": [
       "0    473029\n",
       "1     36643\n",
       "Name: DEAD, dtype: int64"
      ]
     },
     "execution_count": 15,
     "metadata": {},
     "output_type": "execute_result"
    }
   ],
   "source": [
    "Y_train.value_counts()"
   ]
  },
  {
   "cell_type": "code",
   "execution_count": 16,
   "id": "319c111c",
   "metadata": {},
   "outputs": [
    {
     "data": {
      "text/plain": [
       "0    473107\n",
       "1     36566\n",
       "Name: DEAD, dtype: int64"
      ]
     },
     "execution_count": 16,
     "metadata": {},
     "output_type": "execute_result"
    }
   ],
   "source": [
    "Y_test.value_counts()"
   ]
  },
  {
   "cell_type": "code",
   "execution_count": 17,
   "id": "3137bd05",
   "metadata": {},
   "outputs": [],
   "source": [
    "A_train,B_train,A_test,B_test = train_test_split(X_train, Y_train, test_size=0.5, random_state=42)"
   ]
  },
  {
   "cell_type": "code",
   "execution_count": 18,
   "id": "97fde2ce",
   "metadata": {},
   "outputs": [
    {
     "data": {
      "text/plain": [
       "0    236534\n",
       "1     18302\n",
       "Name: DEAD, dtype: int64"
      ]
     },
     "execution_count": 18,
     "metadata": {},
     "output_type": "execute_result"
    }
   ],
   "source": [
    "A_test.value_counts()"
   ]
  },
  {
   "cell_type": "code",
   "execution_count": 19,
   "id": "18d21317",
   "metadata": {},
   "outputs": [
    {
     "data": {
      "text/plain": [
       "0    236495\n",
       "1     18341\n",
       "Name: DEAD, dtype: int64"
      ]
     },
     "execution_count": 19,
     "metadata": {},
     "output_type": "execute_result"
    }
   ],
   "source": [
    "B_test.value_counts()"
   ]
  },
  {
   "cell_type": "code",
   "execution_count": 20,
   "id": "0b931e27",
   "metadata": {},
   "outputs": [],
   "source": [
    "C_train,D_train,C_test,D_test = train_test_split(X_train, Y_train, test_size=0.5, random_state=42)"
   ]
  },
  {
   "cell_type": "code",
   "execution_count": 21,
   "id": "d28c87d0",
   "metadata": {},
   "outputs": [
    {
     "data": {
      "text/plain": [
       "0    236534\n",
       "1     18302\n",
       "Name: DEAD, dtype: int64"
      ]
     },
     "execution_count": 21,
     "metadata": {},
     "output_type": "execute_result"
    }
   ],
   "source": [
    "C_test.value_counts()"
   ]
  },
  {
   "cell_type": "code",
   "execution_count": 22,
   "id": "1ae4ede3",
   "metadata": {},
   "outputs": [
    {
     "data": {
      "text/plain": [
       "0    236495\n",
       "1     18341\n",
       "Name: DEAD, dtype: int64"
      ]
     },
     "execution_count": 22,
     "metadata": {},
     "output_type": "execute_result"
    }
   ],
   "source": [
    "D_test.value_counts()"
   ]
  },
  {
   "cell_type": "code",
   "execution_count": 23,
   "id": "90db8d4d",
   "metadata": {},
   "outputs": [],
   "source": [
    "A_train.to_csv('full_A_train.csv',index=False)\n",
    "A_train.to_csv('full_A_train.csv',index=False)\n",
    "\n",
    "B_train.to_csv('full_B_train.csv',index=False)\n",
    "B_train.to_csv('full_B_train.csv',index=False)\n",
    "\n",
    "C_train.to_csv('full_C_train.csv',index=False)\n",
    "C_train.to_csv('full_C_train.csv',index=False)\n",
    "\n",
    "D_train.to_csv('full_D_train.csv',index=False)\n",
    "D_train.to_csv('full_D_train.csv',index=False)"
   ]
  },
  {
   "cell_type": "markdown",
   "id": "506ebdbc",
   "metadata": {},
   "source": [
    "### Splite Covid data into train test"
   ]
  },
  {
   "cell_type": "code",
   "execution_count": 24,
   "id": "8ce6f268",
   "metadata": {},
   "outputs": [],
   "source": [
    "X = df_covid.drop(['DEAD'],axis=1)\n",
    "Y = df_covid['DEAD']\n",
    "\n",
    "X_train, X_test, Y_train, Y_test = train_test_split(X, Y, test_size=0.33, random_state=42)\n",
    "\n",
    "X_train.to_csv('coviddata_xtrain.csv',index = False)\n",
    "X_test.to_csv('coviddata_xtest.csv',index = False)\n",
    "Y_train.to_csv('coviddata_ytrain.csv',index = False)\n",
    "Y_test.to_csv('coviddata_ytest.csv',index = False)"
   ]
  },
  {
   "cell_type": "code",
   "execution_count": 25,
   "id": "5ac75203",
   "metadata": {},
   "outputs": [
    {
     "data": {
      "text/plain": [
       "0    223673\n",
       "1     34930\n",
       "Name: DEAD, dtype: int64"
      ]
     },
     "execution_count": 25,
     "metadata": {},
     "output_type": "execute_result"
    }
   ],
   "source": [
    "Y_train.value_counts()"
   ]
  },
  {
   "cell_type": "code",
   "execution_count": 26,
   "id": "d75486cf",
   "metadata": {},
   "outputs": [
    {
     "data": {
      "text/plain": [
       "0    110219\n",
       "1     17153\n",
       "Name: DEAD, dtype: int64"
      ]
     },
     "execution_count": 26,
     "metadata": {},
     "output_type": "execute_result"
    }
   ],
   "source": [
    "Y_test.value_counts()"
   ]
  },
  {
   "cell_type": "markdown",
   "id": "b7f46dee",
   "metadata": {},
   "source": [
    "### Split covid data into data shards"
   ]
  },
  {
   "cell_type": "code",
   "execution_count": 27,
   "id": "694b0262",
   "metadata": {},
   "outputs": [
    {
     "name": "stdout",
     "output_type": "stream",
     "text": [
      "0    83455\n",
      "1    13038\n",
      "Name: DEAD, dtype: int64\n",
      "0    83401\n",
      "1    13093\n",
      "Name: DEAD, dtype: int64\n",
      "0    83455\n",
      "1    13038\n",
      "Name: DEAD, dtype: int64\n",
      "0    83401\n",
      "1    13093\n",
      "Name: DEAD, dtype: int64\n"
     ]
    }
   ],
   "source": [
    "X = df_covid.drop(['DEAD'],axis=1)\n",
    "Y = df_covid['DEAD']\n",
    "\n",
    "X_train, X_test, Y_train, Y_test = train_test_split(X, Y, test_size=0.5, random_state=42)\n",
    "A_train,B_train,A_test,B_test = train_test_split(X_train, Y_train, test_size=0.5, random_state=42)\n",
    "C_train,D_train,C_test,D_test = train_test_split(X_train, Y_train, test_size=0.5, random_state=42)\n",
    "print(A_test.value_counts())\n",
    "print(B_test.value_counts())\n",
    "print(C_test.value_counts())\n",
    "print(D_test.value_counts())\n",
    "\n",
    "A_train.to_csv('covid_A_train.csv',index=False)\n",
    "A_train.to_csv('covid_A_train.csv',index=False)\n",
    "\n",
    "B_train.to_csv('covid_B_train.csv',index=False)\n",
    "B_train.to_csv('covid_B_train.csv',index=False)\n",
    "\n",
    "C_train.to_csv('covid_C_train.csv',index=False)\n",
    "C_train.to_csv('covid_C_train.csv',index=False)\n",
    "\n",
    "D_train.to_csv('covid_D_train.csv',index=False)\n",
    "D_train.to_csv('covid_D_train.csv',index=False)"
   ]
  },
  {
   "cell_type": "markdown",
   "id": "fd80c893",
   "metadata": {},
   "source": [
    "# Split COVID ICU dataset into train test"
   ]
  },
  {
   "cell_type": "code",
   "execution_count": 28,
   "id": "b7361015",
   "metadata": {},
   "outputs": [],
   "source": [
    "X = df_covid_icu.drop(['DEAD'],axis=1)\n",
    "Y = df_covid_icu['DEAD']\n",
    "\n",
    "X_train, X_test, Y_train, Y_test = train_test_split(X, Y, test_size=0.33, random_state=42)\n",
    "\n",
    "X_train.to_csv('covidicudata_xtrain.csv',index = False)\n",
    "X_test.to_csv('covidicudata_xtest.csv',index = False)\n",
    "Y_train.to_csv('covidicudata_ytrain.csv',index = False)\n",
    "Y_test.to_csv('covidicudata_ytest.csv',index = False)"
   ]
  },
  {
   "cell_type": "markdown",
   "id": "35872d0d",
   "metadata": {},
   "source": [
    "### split covid icu into data shards"
   ]
  },
  {
   "cell_type": "code",
   "execution_count": 29,
   "id": "bbab73af",
   "metadata": {
    "scrolled": true
   },
   "outputs": [
    {
     "name": "stdout",
     "output_type": "stream",
     "text": [
      "1    1477\n",
      "0    1073\n",
      "Name: DEAD, dtype: int64\n",
      "1    1426\n",
      "0    1124\n",
      "Name: DEAD, dtype: int64\n",
      "1    1477\n",
      "0    1073\n",
      "Name: DEAD, dtype: int64\n",
      "1    1426\n",
      "0    1124\n",
      "Name: DEAD, dtype: int64\n"
     ]
    }
   ],
   "source": [
    "X = df_covid_icu.drop(['DEAD'],axis=1)\n",
    "Y = df_covid_icu['DEAD']\n",
    "\n",
    "X_train, X_test, Y_train, Y_test = train_test_split(X, Y, test_size=0.5, random_state=42)\n",
    "A_train,B_train,A_test,B_test = train_test_split(X_train, Y_train, test_size=0.5, random_state=42)\n",
    "C_train,D_train,C_test,D_test = train_test_split(X_train, Y_train, test_size=0.5, random_state=42)\n",
    "print(A_test.value_counts())\n",
    "print(B_test.value_counts())\n",
    "print(C_test.value_counts())\n",
    "print(D_test.value_counts())\n",
    "\n",
    "A_train.to_csv('covidicu_A_train.csv',index=False)\n",
    "A_train.to_csv('covidicu_A_train.csv',index=False)\n",
    "\n",
    "B_train.to_csv('covidicu_B_train.csv',index=False)\n",
    "B_train.to_csv('covidicu_B_train.csv',index=False)\n",
    "\n",
    "C_train.to_csv('covidicu_C_train.csv',index=False)\n",
    "C_train.to_csv('covidicu_C_train.csv',index=False)\n",
    "\n",
    "D_train.to_csv('covidicu_D_train.csv',index=False)\n",
    "D_train.to_csv('covidicu_D_train.csv',index=False)"
   ]
  },
  {
   "cell_type": "code",
   "execution_count": null,
   "id": "f7a16961",
   "metadata": {},
   "outputs": [],
   "source": []
  },
  {
   "cell_type": "code",
   "execution_count": null,
   "id": "0e9536d7",
   "metadata": {},
   "outputs": [],
   "source": []
  },
  {
   "cell_type": "markdown",
   "id": "b1e5ca07",
   "metadata": {},
   "source": [
    "# Split Hospitalized dataset into train test"
   ]
  },
  {
   "cell_type": "code",
   "execution_count": 30,
   "id": "feb57934",
   "metadata": {},
   "outputs": [],
   "source": [
    "df = pd.read_csv('hospitalized.csv')"
   ]
  },
  {
   "cell_type": "code",
   "execution_count": 28,
   "id": "be0b55bd",
   "metadata": {},
   "outputs": [],
   "source": [
    "X = df.drop(['ICU'],axis=1)\n",
    "Y = df['ICU']\n",
    "\n",
    "X_train, X_test, Y_train, Y_test = train_test_split(X, Y, test_size=0.33, random_state=42)\n",
    "\n",
    "X_train.to_csv('hosplitalized_xtrain.csv',index = False)\n",
    "X_test.to_csv('hosplitalized_xtest.csv',index = False)\n",
    "Y_train.to_csv('hosplitalized_ytrain.csv',index = False)\n",
    "Y_test.to_csv('covidicudata_ytest.csv',index = False)"
   ]
  },
  {
   "cell_type": "markdown",
   "id": "50c9b7bc",
   "metadata": {},
   "source": [
    "### split covid icu into data shards"
   ]
  },
  {
   "cell_type": "code",
   "execution_count": 29,
   "id": "da615c33",
   "metadata": {
    "scrolled": true
   },
   "outputs": [
    {
     "name": "stdout",
     "output_type": "stream",
     "text": [
      "1    1477\n",
      "0    1073\n",
      "Name: DEAD, dtype: int64\n",
      "1    1426\n",
      "0    1124\n",
      "Name: DEAD, dtype: int64\n",
      "1    1477\n",
      "0    1073\n",
      "Name: DEAD, dtype: int64\n",
      "1    1426\n",
      "0    1124\n",
      "Name: DEAD, dtype: int64\n"
     ]
    }
   ],
   "source": [
    "X = df_covid_icu.drop(['DEAD'],axis=1)\n",
    "Y = df_covid_icu['DEAD']\n",
    "\n",
    "X_train, X_test, Y_train, Y_test = train_test_split(X, Y, test_size=0.5, random_state=42)\n",
    "A_train,B_train,A_test,B_test = train_test_split(X_train, Y_train, test_size=0.5, random_state=42)\n",
    "C_train,D_train,C_test,D_test = train_test_split(X_train, Y_train, test_size=0.5, random_state=42)\n",
    "print(A_test.value_counts())\n",
    "print(B_test.value_counts())\n",
    "print(C_test.value_counts())\n",
    "print(D_test.value_counts())\n",
    "\n",
    "A_train.to_csv('covidicu_A_train.csv',index=False)\n",
    "A_train.to_csv('covidicu_A_train.csv',index=False)\n",
    "\n",
    "B_train.to_csv('covidicu_B_train.csv',index=False)\n",
    "B_train.to_csv('covidicu_B_train.csv',index=False)\n",
    "\n",
    "C_train.to_csv('covidicu_C_train.csv',index=False)\n",
    "C_train.to_csv('covidicu_C_train.csv',index=False)\n",
    "\n",
    "D_train.to_csv('covidicu_D_train.csv',index=False)\n",
    "D_train.to_csv('covidicu_D_train.csv',index=False)"
   ]
  }
 ],
 "metadata": {
  "kernelspec": {
   "display_name": "Python 3 (ipykernel)",
   "language": "python",
   "name": "python3"
  },
  "language_info": {
   "codemirror_mode": {
    "name": "ipython",
    "version": 3
   },
   "file_extension": ".py",
   "mimetype": "text/x-python",
   "name": "python",
   "nbconvert_exporter": "python",
   "pygments_lexer": "ipython3",
   "version": "3.9.12"
  }
 },
 "nbformat": 4,
 "nbformat_minor": 5
}
