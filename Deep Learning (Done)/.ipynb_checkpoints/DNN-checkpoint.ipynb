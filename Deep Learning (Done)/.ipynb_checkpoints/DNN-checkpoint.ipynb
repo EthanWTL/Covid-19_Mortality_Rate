{
 "cells": [
  {
   "cell_type": "code",
   "execution_count": 9,
   "id": "c773be18",
   "metadata": {},
   "outputs": [],
   "source": [
    "import numpy as np\n",
    "import pandas as pd\n",
    "import tensorflow as tf\n",
    "from keras.models import Sequential\n",
    "from keras.layers import Conv1D, MaxPooling1D, Flatten, Dense, Dropout\n",
    "from sklearn.metrics import confusion_matrix, classification_report\n",
    "\n",
    "import keras\n",
    "import keras_tuner as kt\n",
    "from keras.callbacks import ModelCheckpoint\n",
    "from keras.models import load_model\n",
    "from matplotlib import pyplot as plt"
   ]
  },
  {
   "cell_type": "code",
   "execution_count": 10,
   "id": "e477d902",
   "metadata": {},
   "outputs": [
    {
     "name": "stdout",
     "output_type": "stream",
     "text": [
      "GPU Device: /device:GPU:0\n"
     ]
    }
   ],
   "source": [
    "print('GPU Device:', tf.test.gpu_device_name())"
   ]
  },
  {
   "cell_type": "markdown",
   "id": "b1ffa3df",
   "metadata": {},
   "source": [
    "# Hyper parameter training"
   ]
  },
  {
   "cell_type": "code",
   "execution_count": 11,
   "id": "e5a678e9",
   "metadata": {},
   "outputs": [],
   "source": [
    "Train = pd.read_csv('../TrainTestData/cle_train.csv')\n",
    "Test = pd.read_csv('../TrainTestData/cle_test.csv')\n",
    "\n",
    "X_train = Train.iloc[:,:-1]\n",
    "Y_train = Train.iloc[:,-1]"
   ]
  },
  {
   "cell_type": "code",
   "execution_count": 12,
   "id": "3bdd420f",
   "metadata": {},
   "outputs": [],
   "source": [
    "def model_builder(hp):\n",
    "    hp_units_1 = hp.Int('units_FC1', min_value=32, max_value=512, step=32)\n",
    "    hp_units_2 = hp.Int('units_FC2', min_value=32, max_value=512, step=32)\n",
    "    hp_learning_rate = hp.Choice('learning_rate', values=[1e-2, 1e-3, 1e-4])\n",
    "    \n",
    "    model = Sequential()\n",
    "    model.add(Dense(hp_units_1, input_shape=(35,), activation='relu'))\n",
    "    model.add(Dense(hp_units_2, activation='relu'))\n",
    "    model.add(Dense(2, activation='sigmoid'))\n",
    "\n",
    "    model.compile(loss='sparse_categorical_crossentropy', \n",
    "                  optimizer=keras.optimizers.Adam(learning_rate=hp_learning_rate), \n",
    "                  metrics=['accuracy'])\n",
    "\n",
    "    return model"
   ]
  },
  {
   "cell_type": "code",
   "execution_count": 13,
   "id": "10432f05",
   "metadata": {},
   "outputs": [],
   "source": [
    "tuner = kt.Hyperband(model_builder,\n",
    "                     objective='val_accuracy',\n",
    "                     max_epochs=10,\n",
    "                     factor=3,\n",
    "                     directory='../Models/Baseline_DNN/HP',\n",
    "                     project_name = 'DNN_HP')"
   ]
  },
  {
   "cell_type": "code",
   "execution_count": 14,
   "id": "acae3897",
   "metadata": {},
   "outputs": [
    {
     "name": "stdout",
     "output_type": "stream",
     "text": [
      "Trial 30 Complete [00h 00m 23s]\n",
      "val_accuracy: 0.7650702595710754\n",
      "\n",
      "Best val_accuracy So Far: 0.7650702595710754\n",
      "Total elapsed time: 00h 06m 29s\n",
      "\n",
      "The hyperparameter search is complete. The optimal number of units in the first FC\n",
      "layer is 64, The optimal number of units in the second FC\n",
      "layer is 192,\n",
      "The optimal learning rate is 0.001\n",
      "\n"
     ]
    }
   ],
   "source": [
    "stop_early = tf.keras.callbacks.EarlyStopping(monitor='val_loss', patience=5)\n",
    "\n",
    "with tf.device('/device:GPU:0'):\n",
    "    tuner.search(X_train, Y_train, epochs=50, validation_split=0.2, callbacks=[stop_early])\n",
    "\n",
    "# Get the optimal hyperparameters\n",
    "best_hps=tuner.get_best_hyperparameters(num_trials=1)[0]\n",
    "\n",
    "print(f\"\"\"\n",
    "The hyperparameter search is complete. The optimal number of units in the first FC\n",
    "layer is {best_hps.get('units_FC1')}, The optimal number of units in the second FC\n",
    "layer is {best_hps.get('units_FC2')},\n",
    "The optimal learning rate is {best_hps.get('learning_rate')}\n",
    "\"\"\")"
   ]
  },
  {
   "cell_type": "markdown",
   "id": "13c3d170",
   "metadata": {},
   "source": [
    "# Training"
   ]
  },
  {
   "cell_type": "code",
   "execution_count": 17,
   "id": "d518ce51",
   "metadata": {},
   "outputs": [],
   "source": [
    "def DNN_train():\n",
    "    \n",
    "    #load the data\n",
    "    Train = pd.read_csv('../TrainTestData/com_train.csv')\n",
    "    Test = pd.read_csv('../TrainTestData/com_test.csv')\n",
    "    \n",
    "    X_train = Train.iloc[:,:-1]\n",
    "    Y_train = Train.iloc[:,-1]\n",
    "\n",
    "    X_test = Test.iloc[:,:-1]\n",
    "    Y_test = Test.iloc[:,-1]\n",
    "    \n",
    "    #train the CNN model\n",
    "    filepath = \"../Models/Baseline_DNN/train/baseline_DNN_model_at_epoch_{epoch}.hdf5\"\n",
    "    checkpoint = ModelCheckpoint(filepath, monitor='val_loss', verbose=1, save_best_only=False, mode='auto', save_freq=\"epoch\")\n",
    "    with tf.device('/device:GPU:0'):\n",
    "        history = model.fit(X_train, Y_train,validation_split = 0.1, epochs=20, batch_size=32,callbacks=[checkpoint])\n",
    "    \n",
    "    #save model history\n",
    "    np.save('../Models/Baseline_DNN/baseline_DNN_hist.npy',history.history)\n",
    "    #history=np.load('my_history.npy',allow_pickle='TRUE').item()\n",
    "\n",
    "    \n",
    "    #plot train val loss\n",
    "    plt.plot(history.history['loss'])\n",
    "    plt.plot(history.history['val_loss'])\n",
    "    plt.title('model loss')\n",
    "    plt.ylabel('loss')\n",
    "    plt.xlabel('epoch')\n",
    "    plt.legend(['train', 'val'], loc='upper left')\n",
    "    plt.show()\n",
    "\n",
    "def DNN_test():\n",
    "    testlists = ['../TrainTestData/com_test.csv','../TrainTestData/cle_test.csv','../TrainTestData/vir_test.csv',\n",
    "                '../TrainTestData/hun_test.csv','../TrainTestData/swi_test.csv']\n",
    "    for i in testlists:\n",
    "        Test = pd.read_csv(i)\n",
    "\n",
    "        X_test = Test.iloc[:,:-1]\n",
    "        Y_test = Test.iloc[:,-1]\n",
    "\n",
    "        Y_pred = model.predict(X_test).argmax(axis=1)\n",
    "\n",
    "        cm = confusion_matrix(Y_pred, Y_test)\n",
    "        print(\"this is the test for \" + str(i[-12:][:3]))\n",
    "        print(cm)\n",
    "        print(classification_report(Y_test, Y_pred,digits = 4))\n",
    "        print(\"============================================\")"
   ]
  },
  {
   "cell_type": "code",
   "execution_count": 19,
   "id": "c0c15284",
   "metadata": {},
   "outputs": [
    {
     "name": "stdout",
     "output_type": "stream",
     "text": [
      "Epoch 1/20\n",
      "3722/3724 [============================>.] - ETA: 0s - loss: 0.5040 - accuracy: 0.7559\n",
      "Epoch 1: saving model to ../Models/Baseline_DNN/train\\baseline_DNN_model_at_epoch_1.hdf5\n",
      "3724/3724 [==============================] - 13s 3ms/step - loss: 0.5041 - accuracy: 0.7559 - val_loss: 0.4980 - val_accuracy: 0.7588\n",
      "Epoch 2/20\n",
      "3722/3724 [============================>.] - ETA: 0s - loss: 0.4965 - accuracy: 0.7607\n",
      "Epoch 2: saving model to ../Models/Baseline_DNN/train\\baseline_DNN_model_at_epoch_2.hdf5\n",
      "3724/3724 [==============================] - 10s 3ms/step - loss: 0.4965 - accuracy: 0.7607 - val_loss: 0.4947 - val_accuracy: 0.7626\n",
      "Epoch 3/20\n",
      "3710/3724 [============================>.] - ETA: 0s - loss: 0.4952 - accuracy: 0.7614\n",
      "Epoch 3: saving model to ../Models/Baseline_DNN/train\\baseline_DNN_model_at_epoch_3.hdf5\n",
      "3724/3724 [==============================] - 12s 3ms/step - loss: 0.4952 - accuracy: 0.7615 - val_loss: 0.4934 - val_accuracy: 0.7635\n",
      "Epoch 4/20\n",
      "3714/3724 [============================>.] - ETA: 0s - loss: 0.4939 - accuracy: 0.7623\n",
      "Epoch 4: saving model to ../Models/Baseline_DNN/train\\baseline_DNN_model_at_epoch_4.hdf5\n",
      "3724/3724 [==============================] - 13s 4ms/step - loss: 0.4939 - accuracy: 0.7622 - val_loss: 0.4960 - val_accuracy: 0.7647\n",
      "Epoch 5/20\n",
      "3721/3724 [============================>.] - ETA: 0s - loss: 0.4933 - accuracy: 0.7632\n",
      "Epoch 5: saving model to ../Models/Baseline_DNN/train\\baseline_DNN_model_at_epoch_5.hdf5\n",
      "3724/3724 [==============================] - 14s 4ms/step - loss: 0.4933 - accuracy: 0.7632 - val_loss: 0.4922 - val_accuracy: 0.7648\n",
      "Epoch 6/20\n",
      "3721/3724 [============================>.] - ETA: 0s - loss: 0.4928 - accuracy: 0.7625\n",
      "Epoch 6: saving model to ../Models/Baseline_DNN/train\\baseline_DNN_model_at_epoch_6.hdf5\n",
      "3724/3724 [==============================] - 13s 4ms/step - loss: 0.4927 - accuracy: 0.7625 - val_loss: 0.4950 - val_accuracy: 0.7620\n",
      "Epoch 7/20\n",
      "3714/3724 [============================>.] - ETA: 0s - loss: 0.4920 - accuracy: 0.7627\n",
      "Epoch 7: saving model to ../Models/Baseline_DNN/train\\baseline_DNN_model_at_epoch_7.hdf5\n",
      "3724/3724 [==============================] - 13s 3ms/step - loss: 0.4920 - accuracy: 0.7626 - val_loss: 0.4922 - val_accuracy: 0.7645\n",
      "Epoch 8/20\n",
      "3709/3724 [============================>.] - ETA: 0s - loss: 0.4917 - accuracy: 0.7631\n",
      "Epoch 8: saving model to ../Models/Baseline_DNN/train\\baseline_DNN_model_at_epoch_8.hdf5\n",
      "3724/3724 [==============================] - 13s 3ms/step - loss: 0.4916 - accuracy: 0.7632 - val_loss: 0.4919 - val_accuracy: 0.7650\n",
      "Epoch 9/20\n",
      "3722/3724 [============================>.] - ETA: 0s - loss: 0.4910 - accuracy: 0.7627\n",
      "Epoch 9: saving model to ../Models/Baseline_DNN/train\\baseline_DNN_model_at_epoch_9.hdf5\n",
      "3724/3724 [==============================] - 13s 4ms/step - loss: 0.4910 - accuracy: 0.7627 - val_loss: 0.4935 - val_accuracy: 0.7667\n",
      "Epoch 10/20\n",
      "3716/3724 [============================>.] - ETA: 0s - loss: 0.4909 - accuracy: 0.7630\n",
      "Epoch 10: saving model to ../Models/Baseline_DNN/train\\baseline_DNN_model_at_epoch_10.hdf5\n",
      "3724/3724 [==============================] - 13s 3ms/step - loss: 0.4908 - accuracy: 0.7630 - val_loss: 0.4934 - val_accuracy: 0.7650\n",
      "Epoch 11/20\n",
      "3711/3724 [============================>.] - ETA: 0s - loss: 0.4904 - accuracy: 0.7627\n",
      "Epoch 11: saving model to ../Models/Baseline_DNN/train\\baseline_DNN_model_at_epoch_11.hdf5\n",
      "3724/3724 [==============================] - 12s 3ms/step - loss: 0.4903 - accuracy: 0.7628 - val_loss: 0.4930 - val_accuracy: 0.7654\n",
      "Epoch 12/20\n",
      "3718/3724 [============================>.] - ETA: 0s - loss: 0.4896 - accuracy: 0.7640\n",
      "Epoch 12: saving model to ../Models/Baseline_DNN/train\\baseline_DNN_model_at_epoch_12.hdf5\n",
      "3724/3724 [==============================] - 11s 3ms/step - loss: 0.4897 - accuracy: 0.7640 - val_loss: 0.4934 - val_accuracy: 0.7648\n",
      "Epoch 13/20\n",
      "3711/3724 [============================>.] - ETA: 0s - loss: 0.4891 - accuracy: 0.7640\n",
      "Epoch 13: saving model to ../Models/Baseline_DNN/train\\baseline_DNN_model_at_epoch_13.hdf5\n",
      "3724/3724 [==============================] - 13s 3ms/step - loss: 0.4891 - accuracy: 0.7640 - val_loss: 0.4928 - val_accuracy: 0.7633\n",
      "Epoch 14/20\n",
      "3720/3724 [============================>.] - ETA: 0s - loss: 0.4889 - accuracy: 0.7641\n",
      "Epoch 14: saving model to ../Models/Baseline_DNN/train\\baseline_DNN_model_at_epoch_14.hdf5\n",
      "3724/3724 [==============================] - 13s 4ms/step - loss: 0.4888 - accuracy: 0.7642 - val_loss: 0.4933 - val_accuracy: 0.7655\n",
      "Epoch 15/20\n",
      "3723/3724 [============================>.] - ETA: 0s - loss: 0.4883 - accuracy: 0.7644\n",
      "Epoch 15: saving model to ../Models/Baseline_DNN/train\\baseline_DNN_model_at_epoch_15.hdf5\n",
      "3724/3724 [==============================] - 14s 4ms/step - loss: 0.4883 - accuracy: 0.7644 - val_loss: 0.4939 - val_accuracy: 0.7646\n",
      "Epoch 16/20\n",
      "3716/3724 [============================>.] - ETA: 0s - loss: 0.4878 - accuracy: 0.7648\n",
      "Epoch 16: saving model to ../Models/Baseline_DNN/train\\baseline_DNN_model_at_epoch_16.hdf5\n",
      "3724/3724 [==============================] - 13s 4ms/step - loss: 0.4878 - accuracy: 0.7648 - val_loss: 0.4952 - val_accuracy: 0.7655\n",
      "Epoch 17/20\n",
      "3709/3724 [============================>.] - ETA: 0s - loss: 0.4878 - accuracy: 0.7652\n",
      "Epoch 17: saving model to ../Models/Baseline_DNN/train\\baseline_DNN_model_at_epoch_17.hdf5\n",
      "3724/3724 [==============================] - 12s 3ms/step - loss: 0.4878 - accuracy: 0.7652 - val_loss: 0.4977 - val_accuracy: 0.7634\n",
      "Epoch 18/20\n",
      "3717/3724 [============================>.] - ETA: 0s - loss: 0.4872 - accuracy: 0.7650\n",
      "Epoch 18: saving model to ../Models/Baseline_DNN/train\\baseline_DNN_model_at_epoch_18.hdf5\n",
      "3724/3724 [==============================] - 13s 4ms/step - loss: 0.4871 - accuracy: 0.7650 - val_loss: 0.4939 - val_accuracy: 0.7673\n",
      "Epoch 19/20\n",
      "3711/3724 [============================>.] - ETA: 0s - loss: 0.4866 - accuracy: 0.7649\n",
      "Epoch 19: saving model to ../Models/Baseline_DNN/train\\baseline_DNN_model_at_epoch_19.hdf5\n",
      "3724/3724 [==============================] - 13s 4ms/step - loss: 0.4865 - accuracy: 0.7650 - val_loss: 0.4936 - val_accuracy: 0.7645\n",
      "Epoch 20/20\n",
      "3712/3724 [============================>.] - ETA: 0s - loss: 0.4862 - accuracy: 0.7655\n",
      "Epoch 20: saving model to ../Models/Baseline_DNN/train\\baseline_DNN_model_at_epoch_20.hdf5\n",
      "3724/3724 [==============================] - 14s 4ms/step - loss: 0.4861 - accuracy: 0.7657 - val_loss: 0.4933 - val_accuracy: 0.7659\n"
     ]
    },
    {
     "data": {
      "image/png": "[encoded data removed]",
      "text/plain": [
       "<Figure size 640x480 with 1 Axes>"
      ]
     },
     "metadata": {},
     "output_type": "display_data"
    }
   ],
   "source": [
    "# DNN\n",
    "model = tuner.hypermodel.build(best_hps)\n",
    "DNN_train()"
   ]
  },
  {
   "cell_type": "markdown",
   "id": "d54fe889",
   "metadata": {},
   "source": [
    "# Testing"
   ]
  },
  {
   "cell_type": "code",
   "execution_count": 20,
   "id": "70c2a068",
   "metadata": {},
   "outputs": [
    {
     "name": "stdout",
     "output_type": "stream",
     "text": [
      "1773/1773 [==============================] - 2s 1ms/step\n",
      "this is the test for com\n",
      "[[30046  9229]\n",
      " [ 4167 13294]]\n",
      "              precision    recall  f1-score   support\n",
      "\n",
      "           0     0.7650    0.8782    0.8177     34213\n",
      "           1     0.7614    0.5902    0.6650     22523\n",
      "\n",
      "    accuracy                         0.7639     56736\n",
      "   macro avg     0.7632    0.7342    0.7413     56736\n",
      "weighted avg     0.7636    0.7639    0.7571     56736\n",
      "\n",
      "============================================\n",
      "444/444 [==============================] - 1s 2ms/step\n",
      "this is the test for cle\n",
      "[[7482 2298]\n",
      " [1053 3351]]\n",
      "              precision    recall  f1-score   support\n",
      "\n",
      "           0     0.7650    0.8766    0.8170      8535\n",
      "           1     0.7609    0.5932    0.6667      5649\n",
      "\n",
      "    accuracy                         0.7637     14184\n",
      "   macro avg     0.7630    0.7349    0.7419     14184\n",
      "weighted avg     0.7634    0.7637    0.7571     14184\n",
      "\n",
      "============================================\n",
      "444/444 [==============================] - 0s 975us/step\n",
      "this is the test for vir\n",
      "[[7613 2264]\n",
      " [1034 3273]]\n",
      "              precision    recall  f1-score   support\n",
      "\n",
      "           0     0.7708    0.8804    0.8220      8647\n",
      "           1     0.7599    0.5911    0.6650      5537\n",
      "\n",
      "    accuracy                         0.7675     14184\n",
      "   macro avg     0.7654    0.7358    0.7435     14184\n",
      "weighted avg     0.7665    0.7675    0.7607     14184\n",
      "\n",
      "============================================\n",
      "444/444 [==============================] - 1s 1ms/step\n",
      "this is the test for hun\n",
      "[[7512 2311]\n",
      " [1029 3332]]\n",
      "              precision    recall  f1-score   support\n",
      "\n",
      "           0     0.7647    0.8795    0.8181      8541\n",
      "           1     0.7640    0.5905    0.6661      5643\n",
      "\n",
      "    accuracy                         0.7645     14184\n",
      "   macro avg     0.7644    0.7350    0.7421     14184\n",
      "weighted avg     0.7645    0.7645    0.7577     14184\n",
      "\n",
      "============================================\n",
      "444/444 [==============================] - 0s 937us/step\n",
      "this is the test for swi\n",
      "[[7439 2356]\n",
      " [1051 3338]]\n",
      "              precision    recall  f1-score   support\n",
      "\n",
      "           0     0.7595    0.8762    0.8137      8490\n",
      "           1     0.7605    0.5862    0.6621      5694\n",
      "\n",
      "    accuracy                         0.7598     14184\n",
      "   macro avg     0.7600    0.7312    0.7379     14184\n",
      "weighted avg     0.7599    0.7598    0.7528     14184\n",
      "\n",
      "============================================\n"
     ]
    }
   ],
   "source": [
    "model = load_model('../Models/Baseline_DNN/train/baseline_DNN_model_at_epoch_8.hdf5')\n",
    "DNN_test()"
   ]
  },
  {
   "cell_type": "code",
   "execution_count": null,
   "id": "5d4187d1",
   "metadata": {},
   "outputs": [],
   "source": []
  }
 ],
 "metadata": {
  "kernelspec": {
   "display_name": "GPU3090",
   "language": "python",
   "name": "gpu3090"
  },
  "language_info": {
   "codemirror_mode": {
    "name": "ipython",
    "version": 3
   },
   "file_extension": ".py",
   "mimetype": "text/x-python",
   "name": "python",
   "nbconvert_exporter": "python",
   "pygments_lexer": "ipython3",
   "version": "3.9.18"
  }
 },
 "nbformat": 4,
 "nbformat_minor": 5
}
