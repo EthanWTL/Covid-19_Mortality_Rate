{
 "cells": [
  {
   "cell_type": "code",
   "execution_count": null,
   "id": "c773be18",
   "metadata": {},
   "outputs": [],
   "source": [
    "import numpy as np\n",
    "import pandas as pd\n",
    "from keras.models import Sequential\n",
    "from keras.layers import Conv1D, MaxPooling1D, Flatten, Dense, Dropout\n",
    "from sklearn.metrics import confusion_matrix, classification_report\n",
    "import tensorflow as tf"
   ]
  },
  {
   "cell_type": "code",
   "execution_count": null,
   "id": "965281c5",
   "metadata": {},
   "outputs": [],
   "source": [
    "def DNN_train():\n",
    "    Train = pd.read_csv('../TrainTestData/com_train.csv').sample(5000)\n",
    "    Test = pd.read_csv('../TrainTestData/com_test.csv').sample(5000)\n",
    "    \n",
    "    X_train = Train.iloc[:,:-1]\n",
    "    Y_train = Train.iloc[:,-1]\n",
    "\n",
    "    X_test = Test.iloc[:,:-1]\n",
    "    Y_test = Test.iloc[:,-1]\n",
    "    \n",
    "    #train the RNN model\n",
    "    callback = tf.keras.callbacks.EarlyStopping(monitor='loss', patience=5)\n",
    "    with tf.device('/device:GPU:0'):\n",
    "        history = model.fit(X_train, Y_train,validation_split = 0.1, epochs=25, batch_size=32,callbacks=[callback])\n",
    "    \n",
    "    #save model history\n",
    "    np.save('../Models/history/baseline_RNN_hist.npy',history.history)\n",
    "    #history=np.load('my_history.npy',allow_pickle='TRUE').item()\n",
    "    \n",
    "    #save model\n",
    "    model.save('../Models/baseline_CNN.h5')\n",
    "    #new_model = tf.keras.models.load_model('saved_model/my_model')\n",
    "    \n",
    "    #plot train val loss\n",
    "    plt.plot(history.history['loss'])\n",
    "    plt.plot(history.history['val_loss'])\n",
    "    plt.title('model loss')\n",
    "    plt.ylabel('loss')\n",
    "    plt.xlabel('epoch')\n",
    "    plt.legend(['train', 'val'], loc='upper left')\n",
    "    plt.show()    \n",
    "    \n",
    "    #test the model\n",
    "    Y_pred = model.predict(X_test).argmax(axis=1)\n",
    "    cm = confusion_matrix(Y_pred, Y_test)\n",
    "    print(cm)\n",
    "    print(classification_report(Y_test, Y_pred,digits=4))\n",
    "\n",
    "def DNN_test(path_test):\n",
    "    Test = pd.read_csv(path_test)\n",
    "\n",
    "    X_test = Test.iloc[:,:-1]\n",
    "    Y_test = Test.iloc[:,-1]\n",
    "\n",
    "    Y_pred = model.predict(X_test).argmax(axis=1)\n",
    "    \n",
    "    cm = confusion_matrix(Y_pred, Y_test)\n",
    "    print(cm)\n",
    "    print(classification_report(Y_test, Y_pred,digits = 4))"
   ]
  },
  {
   "cell_type": "code",
   "execution_count": null,
   "id": "eef9a404",
   "metadata": {},
   "outputs": [],
   "source": [
    "# DNN\n",
    "model = Sequential()\n",
    "model.add(Dense(64, input_shape=(35,), activation='relu'))\n",
    "model.add(Dense(128, activation='relu'))\n",
    "model.add(Dense(256, activation='relu'))\n",
    "model.add(Dense(2, activation='sigmoid'))\n",
    "\n",
    "model.compile(loss='sparse_categorical_crossentropy', optimizer='adam', metrics=['accuracy'])\n",
    "\n",
    "DNN_train()"
   ]
  },
  {
   "cell_type": "code",
   "execution_count": null,
   "id": "deb1e687",
   "metadata": {},
   "outputs": [],
   "source": [
    "path_test = '../TrainTestData/cle_test.csv'\n",
    "DNN_test(path_test)"
   ]
  },
  {
   "cell_type": "code",
   "execution_count": null,
   "id": "a0780c01",
   "metadata": {},
   "outputs": [],
   "source": [
    "path_test = '../TrainTestData/vir_test.csv'\n",
    "DNN_test(path_test)"
   ]
  },
  {
   "cell_type": "code",
   "execution_count": null,
   "id": "3677c005",
   "metadata": {},
   "outputs": [],
   "source": [
    "path_test = '../TrainTestData/hun_test.csv'\n",
    "DNN_test(path_test)"
   ]
  },
  {
   "cell_type": "code",
   "execution_count": null,
   "id": "4af57fda",
   "metadata": {},
   "outputs": [],
   "source": [
    "path_test = '../TrainTestData/swi_test.csv'\n",
    "DNN_test(path_test)"
   ]
  }
 ],
 "metadata": {
  "kernelspec": {
   "display_name": "Python 3 (ipykernel)",
   "language": "python",
   "name": "python3"
  },
  "language_info": {
   "codemirror_mode": {
    "name": "ipython",
    "version": 3
   },
   "file_extension": ".py",
   "mimetype": "text/x-python",
   "name": "python",
   "nbconvert_exporter": "python",
   "pygments_lexer": "ipython3",
   "version": "3.9.12"
  }
 },
 "nbformat": 4,
 "nbformat_minor": 5
}
