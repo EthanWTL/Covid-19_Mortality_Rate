{
 "cells": [
  {
   "cell_type": "code",
   "execution_count": 6,
   "id": "c773be18",
   "metadata": {},
   "outputs": [],
   "source": [
    "import numpy as np\n",
    "import pandas as pd\n",
    "from keras.models import Sequential\n",
    "from keras.layers import Dense, SimpleRNN\n",
    "from sklearn.metrics import confusion_matrix, classification_report"
   ]
  },
  {
   "cell_type": "code",
   "execution_count": 9,
   "id": "9a9d0451",
   "metadata": {},
   "outputs": [],
   "source": [
    "def RNN(x_train, x_test, y_train, y_test):\n",
    "    \n",
    "    X_train = pd.read_csv(x_train)\n",
    "    Y_train = pd.read_csv(y_train)\n",
    "\n",
    "    X_test = pd.read_csv(x_test)\n",
    "    Y_test = pd.read_csv(y_test)\n",
    "\n",
    "    # RNN\n",
    "    model = Sequential()\n",
    "    model.add(SimpleRNN(units=64, return_sequences=True, input_shape=(20, 1)))\n",
    "    model.add(SimpleRNN(units=32, return_sequences=True))\n",
    "    model.add(SimpleRNN(units=16))\n",
    "    model.add(Dense(units=2, activation='sigmoid'))\n",
    "    model.compile(optimizer='adam', loss='sparse_categorical_crossentropy', metrics=['accuracy'])\n",
    "    \n",
    "    model.fit(X_train, Y_train, epochs=3, batch_size=32)\n",
    "    Y_pred = model.predict(X_test).argmax(axis=1)\n",
    "    \n",
    "    cm = confusion_matrix(Y_pred, Y_test)\n",
    "    print(cm)\n",
    "    print(classification_report(Y_test, Y_pred))"
   ]
  },
  {
   "cell_type": "markdown",
   "id": "0df87b63",
   "metadata": {},
   "source": [
    "# 3 epoch"
   ]
  },
  {
   "cell_type": "code",
   "execution_count": 10,
   "id": "c01339e4",
   "metadata": {},
   "outputs": [
    {
     "name": "stdout",
     "output_type": "stream",
     "text": [
      "Epoch 1/3\n",
      "3960/3960 [==============================] - 31s 7ms/step - loss: 0.5326 - accuracy: 0.7350\n",
      "Epoch 2/3\n",
      "3960/3960 [==============================] - 29s 7ms/step - loss: 0.5169 - accuracy: 0.7474\n",
      "Epoch 3/3\n",
      "3960/3960 [==============================] - 29s 7ms/step - loss: 0.5188 - accuracy: 0.7466\n",
      "1951/1951 [==============================] - 6s 3ms/step\n",
      "[[35682 13760]\n",
      " [ 1962 11003]]\n",
      "              precision    recall  f1-score   support\n",
      "\n",
      "           0       0.72      0.95      0.82     37644\n",
      "           1       0.85      0.44      0.58     24763\n",
      "\n",
      "    accuracy                           0.75     62407\n",
      "   macro avg       0.79      0.70      0.70     62407\n",
      "weighted avg       0.77      0.75      0.73     62407\n",
      "\n"
     ]
    }
   ],
   "source": [
    "x_train = '../Hospitalized Data/hospitalized_coverted_xtrain.csv'\n",
    "x_test = '../Hospitalized Data/hospitalized_coverted_xtest.csv'\n",
    "y_train = '../Hospitalized Data/hospitalized_coverted_ytrain.csv'\n",
    "y_test = '../Hospitalized Data/hospitalized_coverted_ytest.csv'\n",
    "RNN(x_train, x_test, y_train, y_test)"
   ]
  },
  {
   "cell_type": "code",
   "execution_count": null,
   "id": "deb1e687",
   "metadata": {},
   "outputs": [],
   "source": []
  }
 ],
 "metadata": {
  "kernelspec": {
   "display_name": "Python 3 (ipykernel)",
   "language": "python",
   "name": "python3"
  },
  "language_info": {
   "codemirror_mode": {
    "name": "ipython",
    "version": 3
   },
   "file_extension": ".py",
   "mimetype": "text/x-python",
   "name": "python",
   "nbconvert_exporter": "python",
   "pygments_lexer": "ipython3",
   "version": "3.9.12"
  }
 },
 "nbformat": 4,
 "nbformat_minor": 5
}
