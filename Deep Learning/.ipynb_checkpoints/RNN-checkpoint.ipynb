{
 "cells": [
  {
   "cell_type": "code",
   "execution_count": 6,
   "id": "c773be18",
   "metadata": {},
   "outputs": [],
   "source": [
    "import numpy as np\n",
    "import pandas as pd\n",
    "import tensorflow as tf\n",
    "from keras.models import Sequential\n",
    "from keras.layers import Conv1D, MaxPooling1D, Flatten, Dense, Dropout, CuDNNLSTM\n",
    "from sklearn.metrics import confusion_matrix, classification_report\n",
    "\n",
    "import keras\n",
    "import keras_tuner as kt\n",
    "from keras.callbacks import ModelCheckpoint\n",
    "from keras.models import load_model\n",
    "from matplotlib import pyplot as plt"
   ]
  },
  {
   "cell_type": "code",
   "execution_count": 2,
   "id": "f035bf10",
   "metadata": {},
   "outputs": [
    {
     "name": "stdout",
     "output_type": "stream",
     "text": [
      "GPU Device: /device:GPU:0\n"
     ]
    }
   ],
   "source": [
    "print('GPU Device:', tf.test.gpu_device_name())"
   ]
  },
  {
   "cell_type": "markdown",
   "id": "34342a6e",
   "metadata": {},
   "source": [
    "# Hyperparameter Training"
   ]
  },
  {
   "cell_type": "code",
   "execution_count": 3,
   "id": "30f1af80",
   "metadata": {},
   "outputs": [],
   "source": [
    "Train = pd.read_csv('../TrainTestData/cle_train.csv')\n",
    "Test = pd.read_csv('../TrainTestData/cle_test.csv')\n",
    "\n",
    "X_train = Train.iloc[:,:-1]\n",
    "Y_train = Train.iloc[:,-1]"
   ]
  },
  {
   "cell_type": "code",
   "execution_count": 16,
   "id": "a36ad7ff",
   "metadata": {},
   "outputs": [],
   "source": [
    "def model_builder(hp):\n",
    "    hp_units_1 = hp.Int('units_Conv1', min_value=32, max_value=256, step=32)\n",
    "    hp_units_2 = hp.Int('units_FC', min_value=32, max_value=256, step=32)\n",
    "    hp_learning_rate = hp.Choice('learning_rate', values=[1e-2, 1e-3, 1e-4])\n",
    "    \n",
    "    model = Sequential()\n",
    "    model.add(CuDNNLSTM(units=hp_units_1, return_sequences=True, input_shape=(35, 1)))\n",
    "    model.add(CuDNNLSTM(units=hp_units_2, return_sequences=True))\n",
    "    model.add(Flatten())\n",
    "    model.add(Dense(units=2, activation='sigmoid'))\n",
    "    model.compile(loss='sparse_categorical_crossentropy', \n",
    "                  optimizer=keras.optimizers.Adam(learning_rate=hp_learning_rate), \n",
    "                  metrics=['accuracy'])\n",
    "    \n",
    "    return model"
   ]
  },
  {
   "cell_type": "code",
   "execution_count": 17,
   "id": "1793c0d4",
   "metadata": {},
   "outputs": [],
   "source": [
    "tuner = kt.Hyperband(model_builder,\n",
    "                     objective='val_accuracy',\n",
    "                     max_epochs=10,\n",
    "                     factor=3,\n",
    "                     directory='../Models/Baseline_RNN/HP',\n",
    "                     project_name = 'RNN_HP')"
   ]
  },
  {
   "cell_type": "code",
   "execution_count": 19,
   "id": "acecad5b",
   "metadata": {
    "scrolled": true
   },
   "outputs": [
    {
     "name": "stdout",
     "output_type": "stream",
     "text": [
      "Trial 30 Complete [00h 01m 09s]\n",
      "val_accuracy: 0.7561565041542053\n",
      "\n",
      "Best val_accuracy So Far: 0.7618975639343262\n",
      "Total elapsed time: 00h 14m 03s\n",
      "\n",
      "The hyperparameter search is complete. The optimal number of units in the first Conv\n",
      "layer is 64, The optimal number of units in the FC \n",
      "layer is 96.\n",
      "\n"
     ]
    }
   ],
   "source": [
    "stop_early = tf.keras.callbacks.EarlyStopping(monitor='val_loss', patience=5)\n",
    "\n",
    "with tf.device('/device:GPU:0'):\n",
    "    tuner.search(X_train, Y_train, epochs=50, validation_split=0.2, callbacks=[stop_early])\n",
    "\n",
    "# Get the optimal hyperparameters\n",
    "best_hps=tuner.get_best_hyperparameters(num_trials=1)[0]\n",
    "\n",
    "print(f\"\"\"\n",
    "The hyperparameter search is complete. The optimal number of units in the first Conv\n",
    "layer is {best_hps.get('units_Conv1')}, The optimal number of units in the FC \n",
    "layer is {best_hps.get('units_FC')}.\n",
    "\"\"\")"
   ]
  },
  {
   "cell_type": "markdown",
   "id": "adf9db6e",
   "metadata": {},
   "source": [
    "# Train"
   ]
  },
  {
   "cell_type": "code",
   "execution_count": 28,
   "id": "dd0652ed",
   "metadata": {},
   "outputs": [],
   "source": [
    "def RNN_train():\n",
    "    #load the data\n",
    "    Train = pd.read_csv('../TrainTestData/com_train.csv')\n",
    "    Test = pd.read_csv('../TrainTestData/com_test.csv')\n",
    "    \n",
    "    X_train = Train.iloc[:,:-1]\n",
    "    Y_train = Train.iloc[:,-1]\n",
    "\n",
    "    X_test = Test.iloc[:,:-1]\n",
    "    Y_test = Test.iloc[:,-1]\n",
    "    \n",
    "    \n",
    "    #train the RNN model\n",
    "    filepath = \"../Models/Baseline_RNN/train/baseline_RNN_model_at_epoch_{epoch}.hdf5\"\n",
    "    checkpoint = ModelCheckpoint(filepath, monitor='val_loss', verbose=1, save_best_only=False, mode='auto', save_freq=\"epoch\")\n",
    "    with tf.device('/device:GPU:0'):\n",
    "        history = model.fit(X_train, Y_train,validation_split = 0.1, epochs=25, batch_size=32,callbacks=[checkpoint])\n",
    "        \n",
    "    #save model history\n",
    "    #np.save('../Models/Baseline_RNN/baseline_RNN_hist.npy',history.history)\n",
    "    #history=np.load('my_history.npy',allow_pickle='TRUE').item()\n",
    "    \n",
    "    #plot train val loss\n",
    "    plt.plot(history.history['loss'])\n",
    "    plt.plot(history.history['val_loss'])\n",
    "    plt.title('model loss')\n",
    "    plt.ylabel('loss')\n",
    "    plt.xlabel('epoch')\n",
    "    plt.legend(['train', 'val'], loc='upper left')\n",
    "    plt.show()\n",
    "\n",
    "def RNN_test():\n",
    "    testlists = ['../TrainTestData/com_test.csv','../TrainTestData/cle_test.csv','../TrainTestData/vir_test.csv',\n",
    "                '../TrainTestData/hun_test.csv','../TrainTestData/swi_test.csv']\n",
    "    \n",
    "    for i in testlists:\n",
    "        Test = pd.read_csv(i)\n",
    "\n",
    "        X_test = Test.iloc[:,:-1]\n",
    "        Y_test = Test.iloc[:,-1]\n",
    "\n",
    "        Y_pred = model.predict(X_test).argmax(axis=1)\n",
    "\n",
    "        cm = confusion_matrix(Y_pred, Y_test)\n",
    "        print(\"this is the test for \" + str(i[-12:][:3]))\n",
    "        print(cm)\n",
    "        print(classification_report(Y_test, Y_pred,digits = 4))\n",
    "        print(\"============================================\")\n",
    "    "
   ]
  },
  {
   "cell_type": "code",
   "execution_count": 21,
   "id": "50bf1d50",
   "metadata": {
    "scrolled": true
   },
   "outputs": [
    {
     "name": "stdout",
     "output_type": "stream",
     "text": [
      "Epoch 1/25\n",
      "3724/3724 [==============================] - ETA: 0s - loss: 0.5171 - accuracy: 0.7488\n",
      "Epoch 1: saving model to ../Models/Baseline_CNN/train\\baseline_CNN_model_at_epoch_1.hdf5\n",
      "3724/3724 [==============================] - 25s 6ms/step - loss: 0.5171 - accuracy: 0.7488 - val_loss: 0.5092 - val_accuracy: 0.7588\n",
      "Epoch 2/25\n",
      "3716/3724 [============================>.] - ETA: 0s - loss: 0.5065 - accuracy: 0.7561\n",
      "Epoch 2: saving model to ../Models/Baseline_CNN/train\\baseline_CNN_model_at_epoch_2.hdf5\n",
      "3724/3724 [==============================] - 24s 6ms/step - loss: 0.5066 - accuracy: 0.7560 - val_loss: 0.5134 - val_accuracy: 0.7466\n",
      "Epoch 3/25\n",
      "3720/3724 [============================>.] - ETA: 0s - loss: 0.5050 - accuracy: 0.7562\n",
      "Epoch 3: saving model to ../Models/Baseline_CNN/train\\baseline_CNN_model_at_epoch_3.hdf5\n",
      "3724/3724 [==============================] - 24s 6ms/step - loss: 0.5051 - accuracy: 0.7561 - val_loss: 0.5173 - val_accuracy: 0.7509\n",
      "Epoch 4/25\n",
      "3720/3724 [============================>.] - ETA: 0s - loss: 0.5039 - accuracy: 0.7573\n",
      "Epoch 4: saving model to ../Models/Baseline_CNN/train\\baseline_CNN_model_at_epoch_4.hdf5\n",
      "3724/3724 [==============================] - 24s 6ms/step - loss: 0.5039 - accuracy: 0.7573 - val_loss: 0.5011 - val_accuracy: 0.7611\n",
      "Epoch 5/25\n",
      "3717/3724 [============================>.] - ETA: 0s - loss: 0.5030 - accuracy: 0.7573\n",
      "Epoch 5: saving model to ../Models/Baseline_CNN/train\\baseline_CNN_model_at_epoch_5.hdf5\n",
      "3724/3724 [==============================] - 24s 6ms/step - loss: 0.5029 - accuracy: 0.7574 - val_loss: 0.5086 - val_accuracy: 0.7531\n",
      "Epoch 6/25\n",
      "3716/3724 [============================>.] - ETA: 0s - loss: 0.5025 - accuracy: 0.7575\n",
      "Epoch 6: saving model to ../Models/Baseline_CNN/train\\baseline_CNN_model_at_epoch_6.hdf5\n",
      "3724/3724 [==============================] - 24s 6ms/step - loss: 0.5026 - accuracy: 0.7574 - val_loss: 0.5012 - val_accuracy: 0.7593\n",
      "Epoch 7/25\n",
      "3719/3724 [============================>.] - ETA: 0s - loss: 0.5024 - accuracy: 0.7577\n",
      "Epoch 7: saving model to ../Models/Baseline_CNN/train\\baseline_CNN_model_at_epoch_7.hdf5\n",
      "3724/3724 [==============================] - 24s 6ms/step - loss: 0.5024 - accuracy: 0.7577 - val_loss: 0.5027 - val_accuracy: 0.7598\n",
      "Epoch 8/25\n",
      "3722/3724 [============================>.] - ETA: 0s - loss: 0.5018 - accuracy: 0.7584\n",
      "Epoch 8: saving model to ../Models/Baseline_CNN/train\\baseline_CNN_model_at_epoch_8.hdf5\n",
      "3724/3724 [==============================] - 24s 6ms/step - loss: 0.5018 - accuracy: 0.7584 - val_loss: 0.5007 - val_accuracy: 0.7587\n",
      "Epoch 9/25\n",
      "3716/3724 [============================>.] - ETA: 0s - loss: 0.5015 - accuracy: 0.7582\n",
      "Epoch 9: saving model to ../Models/Baseline_CNN/train\\baseline_CNN_model_at_epoch_9.hdf5\n",
      "3724/3724 [==============================] - 24s 6ms/step - loss: 0.5015 - accuracy: 0.7583 - val_loss: 0.5032 - val_accuracy: 0.7556\n",
      "Epoch 10/25\n",
      "3716/3724 [============================>.] - ETA: 0s - loss: 0.5011 - accuracy: 0.7585\n",
      "Epoch 10: saving model to ../Models/Baseline_CNN/train\\baseline_CNN_model_at_epoch_10.hdf5\n",
      "3724/3724 [==============================] - 24s 6ms/step - loss: 0.5011 - accuracy: 0.7585 - val_loss: 0.5013 - val_accuracy: 0.7608\n",
      "Epoch 11/25\n",
      "3724/3724 [==============================] - ETA: 0s - loss: 0.5011 - accuracy: 0.7578\n",
      "Epoch 11: saving model to ../Models/Baseline_CNN/train\\baseline_CNN_model_at_epoch_11.hdf5\n",
      "3724/3724 [==============================] - 25s 7ms/step - loss: 0.5011 - accuracy: 0.7578 - val_loss: 0.5128 - val_accuracy: 0.7472\n",
      "Epoch 12/25\n",
      "3717/3724 [============================>.] - ETA: 0s - loss: 0.5007 - accuracy: 0.7584\n",
      "Epoch 12: saving model to ../Models/Baseline_CNN/train\\baseline_CNN_model_at_epoch_12.hdf5\n",
      "3724/3724 [==============================] - 24s 7ms/step - loss: 0.5006 - accuracy: 0.7585 - val_loss: 0.5006 - val_accuracy: 0.7601\n",
      "Epoch 13/25\n",
      "3723/3724 [============================>.] - ETA: 0s - loss: 0.5006 - accuracy: 0.7589\n",
      "Epoch 13: saving model to ../Models/Baseline_CNN/train\\baseline_CNN_model_at_epoch_13.hdf5\n",
      "3724/3724 [==============================] - 24s 7ms/step - loss: 0.5006 - accuracy: 0.7589 - val_loss: 0.4992 - val_accuracy: 0.7611\n",
      "Epoch 14/25\n",
      "3722/3724 [============================>.] - ETA: 0s - loss: 0.4999 - accuracy: 0.7593\n",
      "Epoch 14: saving model to ../Models/Baseline_CNN/train\\baseline_CNN_model_at_epoch_14.hdf5\n",
      "3724/3724 [==============================] - 24s 7ms/step - loss: 0.5000 - accuracy: 0.7593 - val_loss: 0.4999 - val_accuracy: 0.7614\n",
      "Epoch 15/25\n",
      "3719/3724 [============================>.] - ETA: 0s - loss: 0.4993 - accuracy: 0.7596\n",
      "Epoch 15: saving model to ../Models/Baseline_CNN/train\\baseline_CNN_model_at_epoch_15.hdf5\n",
      "3724/3724 [==============================] - 24s 6ms/step - loss: 0.4993 - accuracy: 0.7596 - val_loss: 0.5003 - val_accuracy: 0.7588\n",
      "Epoch 16/25\n",
      "3723/3724 [============================>.] - ETA: 0s - loss: 0.4988 - accuracy: 0.7596\n",
      "Epoch 16: saving model to ../Models/Baseline_CNN/train\\baseline_CNN_model_at_epoch_16.hdf5\n",
      "3724/3724 [==============================] - 24s 6ms/step - loss: 0.4988 - accuracy: 0.7596 - val_loss: 0.4992 - val_accuracy: 0.7609\n",
      "Epoch 17/25\n",
      "3717/3724 [============================>.] - ETA: 0s - loss: 0.4984 - accuracy: 0.7605\n",
      "Epoch 17: saving model to ../Models/Baseline_CNN/train\\baseline_CNN_model_at_epoch_17.hdf5\n",
      "3724/3724 [==============================] - 24s 6ms/step - loss: 0.4985 - accuracy: 0.7605 - val_loss: 0.4971 - val_accuracy: 0.7622\n",
      "Epoch 18/25\n",
      "3724/3724 [==============================] - ETA: 0s - loss: 0.4982 - accuracy: 0.7598\n",
      "Epoch 18: saving model to ../Models/Baseline_CNN/train\\baseline_CNN_model_at_epoch_18.hdf5\n",
      "3724/3724 [==============================] - 24s 6ms/step - loss: 0.4982 - accuracy: 0.7598 - val_loss: 0.5033 - val_accuracy: 0.7619\n",
      "Epoch 19/25\n",
      "3724/3724 [==============================] - ETA: 0s - loss: 0.4983 - accuracy: 0.7593\n",
      "Epoch 19: saving model to ../Models/Baseline_CNN/train\\baseline_CNN_model_at_epoch_19.hdf5\n",
      "3724/3724 [==============================] - 24s 6ms/step - loss: 0.4983 - accuracy: 0.7593 - val_loss: 0.5005 - val_accuracy: 0.7594\n",
      "Epoch 20/25\n",
      "3722/3724 [============================>.] - ETA: 0s - loss: 0.4979 - accuracy: 0.7603\n",
      "Epoch 20: saving model to ../Models/Baseline_CNN/train\\baseline_CNN_model_at_epoch_20.hdf5\n",
      "3724/3724 [==============================] - 24s 6ms/step - loss: 0.4979 - accuracy: 0.7604 - val_loss: 0.4976 - val_accuracy: 0.7626\n",
      "Epoch 21/25\n",
      "3716/3724 [============================>.] - ETA: 0s - loss: 0.4976 - accuracy: 0.7608\n",
      "Epoch 21: saving model to ../Models/Baseline_CNN/train\\baseline_CNN_model_at_epoch_21.hdf5\n",
      "3724/3724 [==============================] - 24s 6ms/step - loss: 0.4977 - accuracy: 0.7607 - val_loss: 0.4969 - val_accuracy: 0.7608\n",
      "Epoch 22/25\n",
      "3721/3724 [============================>.] - ETA: 0s - loss: 0.4976 - accuracy: 0.7602\n",
      "Epoch 22: saving model to ../Models/Baseline_CNN/train\\baseline_CNN_model_at_epoch_22.hdf5\n",
      "3724/3724 [==============================] - 24s 6ms/step - loss: 0.4975 - accuracy: 0.7602 - val_loss: 0.4995 - val_accuracy: 0.7587\n",
      "Epoch 23/25\n",
      "3720/3724 [============================>.] - ETA: 0s - loss: 0.4974 - accuracy: 0.7602\n",
      "Epoch 23: saving model to ../Models/Baseline_CNN/train\\baseline_CNN_model_at_epoch_23.hdf5\n",
      "3724/3724 [==============================] - 24s 6ms/step - loss: 0.4973 - accuracy: 0.7602 - val_loss: 0.4963 - val_accuracy: 0.7620\n",
      "Epoch 24/25\n",
      "3718/3724 [============================>.] - ETA: 0s - loss: 0.4974 - accuracy: 0.7606\n",
      "Epoch 24: saving model to ../Models/Baseline_CNN/train\\baseline_CNN_model_at_epoch_24.hdf5\n",
      "3724/3724 [==============================] - 24s 6ms/step - loss: 0.4975 - accuracy: 0.7606 - val_loss: 0.4994 - val_accuracy: 0.7607\n",
      "Epoch 25/25\n",
      "3718/3724 [============================>.] - ETA: 0s - loss: 0.4973 - accuracy: 0.7611\n",
      "Epoch 25: saving model to ../Models/Baseline_CNN/train\\baseline_CNN_model_at_epoch_25.hdf5\n",
      "3724/3724 [==============================] - 25s 7ms/step - loss: 0.4972 - accuracy: 0.7611 - val_loss: 0.4955 - val_accuracy: 0.7621\n"
     ]
    },
    {
     "ename": "FileNotFoundError",
     "evalue": "[Errno 2] No such file or directory: '../Models/history/baseline_RNN_hist.npy'",
     "output_type": "error",
     "traceback": [
      "\u001b[1;31m---------------------------------------------------------------------------\u001b[0m",
      "\u001b[1;31mFileNotFoundError\u001b[0m                         Traceback (most recent call last)",
      "Cell \u001b[1;32mIn[21], line 3\u001b[0m\n\u001b[0;32m      1\u001b[0m \u001b[38;5;66;03m# RNN\u001b[39;00m\n\u001b[0;32m      2\u001b[0m model \u001b[38;5;241m=\u001b[39m tuner\u001b[38;5;241m.\u001b[39mhypermodel\u001b[38;5;241m.\u001b[39mbuild(best_hps)\n\u001b[1;32m----> 3\u001b[0m \u001b[43mRNN_train\u001b[49m\u001b[43m(\u001b[49m\u001b[43m)\u001b[49m\n",
      "Cell \u001b[1;32mIn[20], line 20\u001b[0m, in \u001b[0;36mRNN_train\u001b[1;34m()\u001b[0m\n\u001b[0;32m     17\u001b[0m     history \u001b[38;5;241m=\u001b[39m model\u001b[38;5;241m.\u001b[39mfit(X_train, Y_train,validation_split \u001b[38;5;241m=\u001b[39m \u001b[38;5;241m0.1\u001b[39m, epochs\u001b[38;5;241m=\u001b[39m\u001b[38;5;241m25\u001b[39m, batch_size\u001b[38;5;241m=\u001b[39m\u001b[38;5;241m32\u001b[39m,callbacks\u001b[38;5;241m=\u001b[39m[checkpoint])\n\u001b[0;32m     19\u001b[0m \u001b[38;5;66;03m#save model history\u001b[39;00m\n\u001b[1;32m---> 20\u001b[0m \u001b[43mnp\u001b[49m\u001b[38;5;241;43m.\u001b[39;49m\u001b[43msave\u001b[49m\u001b[43m(\u001b[49m\u001b[38;5;124;43m'\u001b[39;49m\u001b[38;5;124;43m../Models/history/baseline_RNN_hist.npy\u001b[39;49m\u001b[38;5;124;43m'\u001b[39;49m\u001b[43m,\u001b[49m\u001b[43mhistory\u001b[49m\u001b[38;5;241;43m.\u001b[39;49m\u001b[43mhistory\u001b[49m\u001b[43m)\u001b[49m\n\u001b[0;32m     21\u001b[0m \u001b[38;5;66;03m#history=np.load('my_history.npy',allow_pickle='TRUE').item()\u001b[39;00m\n\u001b[0;32m     22\u001b[0m \n\u001b[0;32m     23\u001b[0m \u001b[38;5;66;03m#plot train val loss\u001b[39;00m\n\u001b[0;32m     24\u001b[0m plt\u001b[38;5;241m.\u001b[39mplot(history\u001b[38;5;241m.\u001b[39mhistory[\u001b[38;5;124m'\u001b[39m\u001b[38;5;124mloss\u001b[39m\u001b[38;5;124m'\u001b[39m])\n",
      "File \u001b[1;32mD:\\Anaconda\\envs\\GPU3090\\lib\\site-packages\\numpy\\lib\\npyio.py:542\u001b[0m, in \u001b[0;36msave\u001b[1;34m(file, arr, allow_pickle, fix_imports)\u001b[0m\n\u001b[0;32m    540\u001b[0m     \u001b[38;5;28;01mif\u001b[39;00m \u001b[38;5;129;01mnot\u001b[39;00m file\u001b[38;5;241m.\u001b[39mendswith(\u001b[38;5;124m'\u001b[39m\u001b[38;5;124m.npy\u001b[39m\u001b[38;5;124m'\u001b[39m):\n\u001b[0;32m    541\u001b[0m         file \u001b[38;5;241m=\u001b[39m file \u001b[38;5;241m+\u001b[39m \u001b[38;5;124m'\u001b[39m\u001b[38;5;124m.npy\u001b[39m\u001b[38;5;124m'\u001b[39m\n\u001b[1;32m--> 542\u001b[0m     file_ctx \u001b[38;5;241m=\u001b[39m \u001b[38;5;28;43mopen\u001b[39;49m\u001b[43m(\u001b[49m\u001b[43mfile\u001b[49m\u001b[43m,\u001b[49m\u001b[43m \u001b[49m\u001b[38;5;124;43m\"\u001b[39;49m\u001b[38;5;124;43mwb\u001b[39;49m\u001b[38;5;124;43m\"\u001b[39;49m\u001b[43m)\u001b[49m\n\u001b[0;32m    544\u001b[0m \u001b[38;5;28;01mwith\u001b[39;00m file_ctx \u001b[38;5;28;01mas\u001b[39;00m fid:\n\u001b[0;32m    545\u001b[0m     arr \u001b[38;5;241m=\u001b[39m np\u001b[38;5;241m.\u001b[39masanyarray(arr)\n",
      "\u001b[1;31mFileNotFoundError\u001b[0m: [Errno 2] No such file or directory: '../Models/history/baseline_RNN_hist.npy'"
     ]
    }
   ],
   "source": [
    "# RNN\n",
    "model = tuner.hypermodel.build(best_hps)\n",
    "RNN_train()"
   ]
  },
  {
   "cell_type": "markdown",
   "id": "071c46d3",
   "metadata": {},
   "source": [
    "# Testing"
   ]
  },
  {
   "cell_type": "code",
   "execution_count": 29,
   "id": "deb1e687",
   "metadata": {
    "scrolled": false
   },
   "outputs": [
    {
     "name": "stdout",
     "output_type": "stream",
     "text": [
      "1773/1773 [==============================] - 4s 2ms/step\n",
      "this is the test for com\n",
      "[[30728  9982]\n",
      " [ 3485 12541]]\n",
      "              precision    recall  f1-score   support\n",
      "\n",
      "           0     0.7548    0.8981    0.8203     34213\n",
      "           1     0.7825    0.5568    0.6507     22523\n",
      "\n",
      "    accuracy                         0.7626     56736\n",
      "   macro avg     0.7687    0.7275    0.7355     56736\n",
      "weighted avg     0.7658    0.7626    0.7529     56736\n",
      "\n",
      "============================================\n",
      "444/444 [==============================] - 1s 2ms/step\n",
      "this is the test for cle\n",
      "[[7641 2504]\n",
      " [ 894 3145]]\n",
      "              precision    recall  f1-score   support\n",
      "\n",
      "           0     0.7532    0.8953    0.8181      8535\n",
      "           1     0.7787    0.5567    0.6493      5649\n",
      "\n",
      "    accuracy                         0.7604     14184\n",
      "   macro avg     0.7659    0.7260    0.7337     14184\n",
      "weighted avg     0.7633    0.7604    0.7509     14184\n",
      "\n",
      "============================================\n",
      "444/444 [==============================] - 1s 2ms/step\n",
      "this is the test for vir\n",
      "[[7789 2415]\n",
      " [ 858 3122]]\n",
      "              precision    recall  f1-score   support\n",
      "\n",
      "           0     0.7633    0.9008    0.8264      8647\n",
      "           1     0.7844    0.5638    0.6561      5537\n",
      "\n",
      "    accuracy                         0.7692     14184\n",
      "   macro avg     0.7739    0.7323    0.7412     14184\n",
      "weighted avg     0.7716    0.7692    0.7599     14184\n",
      "\n",
      "============================================\n",
      "444/444 [==============================] - 1s 2ms/step\n",
      "this is the test for hun\n",
      "[[7677 2522]\n",
      " [ 864 3121]]\n",
      "              precision    recall  f1-score   support\n",
      "\n",
      "           0     0.7527    0.8988    0.8193      8541\n",
      "           1     0.7832    0.5531    0.6483      5643\n",
      "\n",
      "    accuracy                         0.7613     14184\n",
      "   macro avg     0.7680    0.7260    0.7338     14184\n",
      "weighted avg     0.7648    0.7613    0.7513     14184\n",
      "\n",
      "============================================\n",
      "444/444 [==============================] - 1s 2ms/step\n",
      "this is the test for swi\n",
      "[[7621 2541]\n",
      " [ 869 3153]]\n",
      "              precision    recall  f1-score   support\n",
      "\n",
      "           0     0.7500    0.8976    0.8172      8490\n",
      "           1     0.7839    0.5537    0.6490      5694\n",
      "\n",
      "    accuracy                         0.7596     14184\n",
      "   macro avg     0.7669    0.7257    0.7331     14184\n",
      "weighted avg     0.7636    0.7596    0.7497     14184\n",
      "\n",
      "============================================\n"
     ]
    }
   ],
   "source": [
    "model = load_model('../Models/Baseline_RNN/train/baseline_RNN_model_at_epoch_25.hdf5')\n",
    "RNN_test()"
   ]
  },
  {
   "cell_type": "code",
   "execution_count": null,
   "id": "3ece0066",
   "metadata": {},
   "outputs": [],
   "source": []
  },
  {
   "cell_type": "code",
   "execution_count": null,
   "id": "315ba451",
   "metadata": {},
   "outputs": [],
   "source": []
  }
 ],
 "metadata": {
  "kernelspec": {
   "display_name": "GPU3090",
   "language": "python",
   "name": "gpu3090"
  },
  "language_info": {
   "codemirror_mode": {
    "name": "ipython",
    "version": 3
   },
   "file_extension": ".py",
   "mimetype": "text/x-python",
   "name": "python",
   "nbconvert_exporter": "python",
   "pygments_lexer": "ipython3",
   "version": "3.9.18"
  }
 },
 "nbformat": 4,
 "nbformat_minor": 5
}
