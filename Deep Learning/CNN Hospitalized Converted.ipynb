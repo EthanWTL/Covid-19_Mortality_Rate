{
 "cells": [
  {
   "cell_type": "code",
   "execution_count": 1,
   "id": "c773be18",
   "metadata": {},
   "outputs": [],
   "source": [
    "import numpy as np\n",
    "import pandas as pd\n",
    "from keras.models import Sequential\n",
    "from keras.layers import Conv1D, MaxPooling1D, Flatten, Dense, Dropout\n",
    "from sklearn.metrics import confusion_matrix, classification_report"
   ]
  },
  {
   "cell_type": "code",
   "execution_count": 2,
   "id": "9a9d0451",
   "metadata": {},
   "outputs": [],
   "source": [
    "def CNN(x_train, x_test, y_train, y_test):\n",
    "    \n",
    "    X_train = pd.read_csv(x_train)\n",
    "    Y_train = pd.read_csv(y_train)\n",
    "\n",
    "    X_test = pd.read_csv(x_test)\n",
    "    Y_test = pd.read_csv(y_test)\n",
    "\n",
    "    # CNN\n",
    "    model = Sequential()\n",
    "    model.add(Conv1D(filters=256, kernel_size=3, activation='relu', input_shape=(20,1)))\n",
    "    model.add(Conv1D(filters=256, kernel_size=3, activation='relu'))\n",
    "    model.add(MaxPooling1D(pool_size=2))\n",
    "\n",
    "    model.add(Conv1D(filters=512, kernel_size=3, activation='relu'))\n",
    "    model.add(MaxPooling1D(pool_size=2))\n",
    "\n",
    "    model.add(Flatten())\n",
    "    model.add(Dense(512, activation='relu'))\n",
    "    model.add(Dense(2, activation='sigmoid'))\n",
    "\n",
    "    model.compile(loss='sparse_categorical_crossentropy', optimizer='adam', metrics=['accuracy'])\n",
    "    \n",
    "    model.fit(X_train, Y_train, epochs=20, batch_size=32)\n",
    "    Y_pred = model.predict(X_test).argmax(axis=1)\n",
    "    \n",
    "    cm = confusion_matrix(Y_pred, Y_test)\n",
    "    print(cm)\n",
    "    print(classification_report(Y_test, Y_pred))"
   ]
  },
  {
   "cell_type": "markdown",
   "id": "0df87b63",
   "metadata": {},
   "source": [
    "# 20 epoch"
   ]
  },
  {
   "cell_type": "code",
   "execution_count": 4,
   "id": "c01339e4",
   "metadata": {},
   "outputs": [
    {
     "name": "stdout",
     "output_type": "stream",
     "text": [
      "Epoch 1/20\n",
      "3960/3960 [==============================] - 125s 31ms/step - loss: 0.5322 - accuracy: 0.7370\n",
      "Epoch 2/20\n",
      "3960/3960 [==============================] - 203s 51ms/step - loss: 0.5125 - accuracy: 0.7511\n",
      "Epoch 3/20\n",
      "3960/3960 [==============================] - 306s 77ms/step - loss: 0.5087 - accuracy: 0.7534\n",
      "Epoch 4/20\n",
      "3960/3960 [==============================] - 261s 66ms/step - loss: 0.5050 - accuracy: 0.7556\n",
      "Epoch 5/20\n",
      "3960/3960 [==============================] - 250s 63ms/step - loss: 0.5029 - accuracy: 0.7563\n",
      "Epoch 6/20\n",
      "3960/3960 [==============================] - 433s 109ms/step - loss: 0.5022 - accuracy: 0.7565\n",
      "Epoch 7/20\n",
      "3960/3960 [==============================] - 583s 147ms/step - loss: 0.5013 - accuracy: 0.7575\n",
      "Epoch 8/20\n",
      "3960/3960 [==============================] - 331s 84ms/step - loss: 0.5002 - accuracy: 0.7569\n",
      "Epoch 9/20\n",
      "3960/3960 [==============================] - 433s 109ms/step - loss: 0.5001 - accuracy: 0.7575\n",
      "Epoch 10/20\n",
      "3960/3960 [==============================] - 362s 91ms/step - loss: 0.4993 - accuracy: 0.7579\n",
      "Epoch 11/20\n",
      "3960/3960 [==============================] - 319s 81ms/step - loss: 0.4986 - accuracy: 0.7578\n",
      "Epoch 12/20\n",
      "3960/3960 [==============================] - 290s 73ms/step - loss: 0.4978 - accuracy: 0.7585\n",
      "Epoch 13/20\n",
      "3960/3960 [==============================] - 507s 128ms/step - loss: 0.4972 - accuracy: 0.7591\n",
      "Epoch 14/20\n",
      "3960/3960 [==============================] - 290s 73ms/step - loss: 0.4970 - accuracy: 0.7581\n",
      "Epoch 15/20\n",
      "3960/3960 [==============================] - 288s 73ms/step - loss: 0.4962 - accuracy: 0.7588\n",
      "Epoch 16/20\n",
      "3960/3960 [==============================] - 290s 73ms/step - loss: 0.4959 - accuracy: 0.7591\n",
      "Epoch 17/20\n",
      "3960/3960 [==============================] - 244s 62ms/step - loss: 0.4954 - accuracy: 0.7600\n",
      "Epoch 18/20\n",
      "3960/3960 [==============================] - 451s 114ms/step - loss: 0.4951 - accuracy: 0.7601\n",
      "Epoch 19/20\n",
      "3960/3960 [==============================] - 396s 100ms/step - loss: 0.4948 - accuracy: 0.7597\n",
      "Epoch 20/20\n",
      "3960/3960 [==============================] - 337s 85ms/step - loss: 0.4942 - accuracy: 0.7609\n",
      "[[33713 11012]\n",
      " [ 3931 13751]]\n",
      "              precision    recall  f1-score   support\n",
      "\n",
      "           0       0.75      0.90      0.82     37644\n",
      "           1       0.78      0.56      0.65     24763\n",
      "\n",
      "    accuracy                           0.76     62407\n",
      "   macro avg       0.77      0.73      0.73     62407\n",
      "weighted avg       0.76      0.76      0.75     62407\n",
      "\n"
     ]
    }
   ],
   "source": [
    "x_train = 'Hospitalized Data/hospitalized_coverted_xtrain.csv'\n",
    "x_test = 'Hospitalized Data/hospitalized_coverted_xtest.csv'\n",
    "y_train = 'Hospitalized Data/hospitalized_coverted_ytrain.csv'\n",
    "y_test = 'Hospitalized Data/hospitalized_coverted_ytest.csv'\n",
    "CNN(x_train, x_test, y_train, y_test)"
   ]
  },
  {
   "cell_type": "code",
   "execution_count": null,
   "id": "deb1e687",
   "metadata": {},
   "outputs": [],
   "source": []
  }
 ],
 "metadata": {
  "kernelspec": {
   "display_name": "Python 3 (ipykernel)",
   "language": "python",
   "name": "python3"
  },
  "language_info": {
   "codemirror_mode": {
    "name": "ipython",
    "version": 3
   },
   "file_extension": ".py",
   "mimetype": "text/x-python",
   "name": "python",
   "nbconvert_exporter": "python",
   "pygments_lexer": "ipython3",
<<<<<<< HEAD:Deep Learning/CNN Hospitalized Converted.ipynb
   "version": "3.9.12"
=======
   "version": "3.8.3"
>>>>>>> c231c9663c8cc3ee033420d30848b40171ec15ad:CNN Hospitalized Converted.ipynb
  }
 },
 "nbformat": 4,
 "nbformat_minor": 5
}
