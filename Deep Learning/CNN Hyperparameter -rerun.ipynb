{
 "cells": [
  {
   "cell_type": "code",
   "execution_count": 1,
   "id": "c773be18",
   "metadata": {
    "scrolled": true
   },
   "outputs": [
    {
     "name": "stderr",
     "output_type": "stream",
     "text": [
      "C:\\Users\\Ethan\\AppData\\Roaming\\Python\\Python39\\site-packages\\scipy\\__init__.py:146: UserWarning: A NumPy version >=1.16.5 and <1.23.0 is required for this version of SciPy (detected version 1.26.0\n",
      "  warnings.warn(f\"A NumPy version >={np_minversion} and <{np_maxversion}\"\n"
     ]
    },
    {
     "name": "stdout",
     "output_type": "stream",
     "text": [
      "Using TensorFlow backend\n"
     ]
    }
   ],
   "source": [
    "import numpy as np\n",
    "import pandas as pd\n",
    "import tensorflow as tf\n",
    "from keras.models import Sequential\n",
    "from keras.layers import Conv1D, MaxPooling1D, Flatten, Dense, Dropout\n",
    "from sklearn.metrics import confusion_matrix, classification_report\n",
    "\n",
    "import keras\n",
    "import keras_tuner as kt\n",
    "from keras.callbacks import ModelCheckpoint\n",
    "from keras.models import load_model\n",
    "from matplotlib import pyplot as plt"
   ]
  },
  {
   "cell_type": "code",
   "execution_count": 2,
   "id": "676767d1",
   "metadata": {
    "scrolled": false
   },
   "outputs": [
    {
     "name": "stdout",
     "output_type": "stream",
     "text": [
      "GPU Device: /device:GPU:0\n"
     ]
    }
   ],
   "source": [
    "print('GPU Device:', tf.test.gpu_device_name())"
   ]
  },
  {
   "cell_type": "markdown",
   "id": "d21956d2",
   "metadata": {},
   "source": [
    "# Hyperparameter Training"
   ]
  },
  {
   "cell_type": "code",
   "execution_count": 3,
   "id": "674c2347",
   "metadata": {},
   "outputs": [],
   "source": [
    "Train = pd.read_csv('../TrainTestData/cle_train.csv')\n",
    "Test = pd.read_csv('../TrainTestData/cle_test.csv')\n",
    "\n",
    "X_train = Train.iloc[:,:-1]\n",
    "Y_train = Train.iloc[:,-1]"
   ]
  },
  {
   "cell_type": "code",
   "execution_count": 19,
   "id": "fdd302e6",
   "metadata": {},
   "outputs": [],
   "source": [
    "def model_builder(hp):\n",
    "    hp_units_1 = hp.Int('units_Conv1', min_value=32, max_value=512, step=32)\n",
    "    hp_units_2 = hp.Int('units_Conv2', min_value=32, max_value=512, step=32)\n",
    "    hp_units_3 = hp.Int('units_FC', min_value=32, max_value=512, step=32)\n",
    "    hp_learning_rate = hp.Choice('learning_rate', values=[1e-2, 1e-3, 1e-4])\n",
    "    \n",
    "    model = Sequential()\n",
    "    model.add(Conv1D(filters=hp_units_1, kernel_size=3, activation='relu', input_shape=(35,1)))\n",
    "    model.add(MaxPooling1D(pool_size=2))\n",
    "\n",
    "    model.add(Conv1D(filters=hp_units_2, kernel_size=3, activation='relu'))\n",
    "    model.add(MaxPooling1D(pool_size=2))\n",
    "\n",
    "    model.add(Flatten())\n",
    "    model.add(Dense(hp_units_3, activation='relu'))\n",
    "    model.add(Dense(2, activation='sigmoid'))\n",
    "\n",
    "    model.compile(loss='sparse_categorical_crossentropy', \n",
    "                  optimizer=keras.optimizers.Adam(learning_rate=hp_learning_rate), \n",
    "                  metrics=['accuracy'])\n",
    "    \n",
    "    return model"
   ]
  },
  {
   "cell_type": "code",
   "execution_count": 20,
   "id": "83bfa093",
   "metadata": {},
   "outputs": [],
   "source": [
    "tuner = kt.Hyperband(model_builder,\n",
    "                     objective='val_accuracy',\n",
    "                     max_epochs=10,\n",
    "                     factor=3,\n",
    "                     directory='../Models/Baseline_CNN/HP',\n",
    "                     project_name = 'CNN_HP')"
   ]
  },
  {
   "cell_type": "code",
   "execution_count": 21,
   "id": "65656efd",
   "metadata": {},
   "outputs": [
    {
     "name": "stdout",
     "output_type": "stream",
     "text": [
      "Trial 11 Complete [00h 00m 36s]\n",
      "val_accuracy: 0.7617464661598206\n",
      "\n",
      "Best val_accuracy So Far: 0.7629551291465759\n",
      "Total elapsed time: 00h 03m 40s\n",
      "\n",
      "The hyperparameter search is complete. The optimal number of units in the first Conv\n",
      "layer is 448, The optimal number of units in the second Conv\n",
      "layer is 32, The optimal number of units in the FC layer is 448,\n",
      "The optimal learning rate is 0.001\n",
      "\n"
     ]
    }
   ],
   "source": [
    "stop_early = tf.keras.callbacks.EarlyStopping(monitor='val_loss', patience=5)\n",
    "\n",
    "with tf.device('/device:GPU:0'):\n",
    "    tuner.search(X_train, Y_train, epochs=50, validation_split=0.2, callbacks=[stop_early])\n",
    "\n",
    "# Get the optimal hyperparameters\n",
    "best_hps=tuner.get_best_hyperparameters(num_trials=1)[0]\n",
    "\n",
    "print(f\"\"\"\n",
    "The hyperparameter search is complete. The optimal number of units in the first Conv\n",
    "layer is {best_hps.get('units_Conv1')}, The optimal number of units in the second Conv\n",
    "layer is {best_hps.get('units_Conv2')}, The optimal number of units in the FC layer is {best_hps.get('units_FC')},\n",
    "The optimal learning rate is {best_hps.get('learning_rate')}\n",
    "\"\"\")"
   ]
  },
  {
   "cell_type": "markdown",
   "id": "cd11c7fe",
   "metadata": {},
   "source": [
    "# Training"
   ]
  },
  {
   "cell_type": "code",
   "execution_count": 26,
   "id": "9a9d0451",
   "metadata": {},
   "outputs": [],
   "source": [
    "def CNN_train():\n",
    "    \n",
    "    #load the data\n",
    "    Train = pd.read_csv('../TrainTestData/com_train.csv')\n",
    "    Test = pd.read_csv('../TrainTestData/com_test.csv')\n",
    "    \n",
    "    X_train = Train.iloc[:,:-1]\n",
    "    Y_train = Train.iloc[:,-1]\n",
    "\n",
    "    X_test = Test.iloc[:,:-1]\n",
    "    Y_test = Test.iloc[:,-1]\n",
    "    \n",
    "    #train the CNN model\n",
    "    filepath = \"../Models/Baseline_CNN/train/baseline_CNN_model_at_epoch_{epoch}.hdf5\"\n",
    "    checkpoint = ModelCheckpoint(filepath, monitor='val_loss', verbose=1, save_best_only=False, mode='auto', save_freq=\"epoch\")\n",
    "    with tf.device('/device:GPU:0'):\n",
    "        history = model.fit(X_train, Y_train,validation_split = 0.1, epochs=20, batch_size=32,callbacks=[checkpoint])\n",
    "    \n",
    "    #save model history\n",
    "    np.save('../Models/Baseline_CNN/baseline_CNN_hist.npy',history.history)\n",
    "    #history=np.load('my_history.npy',allow_pickle='TRUE').item()\n",
    "\n",
    "    \n",
    "    #plot train val loss\n",
    "    plt.plot(history.history['loss'])\n",
    "    plt.plot(history.history['val_loss'])\n",
    "    plt.title('model loss')\n",
    "    plt.ylabel('loss')\n",
    "    plt.xlabel('epoch')\n",
    "    plt.legend(['train', 'val'], loc='upper left')\n",
    "    plt.show()\n",
    "    \n",
    "def CNN_test():\n",
    "    testlists = ['../TrainTestData/com_test.csv','../TrainTestData/cle_test.csv','../TrainTestData/vir_test.csv',\n",
    "                '../TrainTestData/hun_test.csv','../TrainTestData/swi_test.csv']\n",
    "    for i in testlists:\n",
    "        Test = pd.read_csv(i)\n",
    "\n",
    "        X_test = Test.iloc[:,:-1]\n",
    "        Y_test = Test.iloc[:,-1]\n",
    "\n",
    "        Y_pred = model.predict(X_test).argmax(axis=1)\n",
    "\n",
    "        cm = confusion_matrix(Y_pred, Y_test)\n",
    "        print(\"this is the test for \" + str(i[-12:][:3]))\n",
    "        print(cm)\n",
    "        print(classification_report(Y_test, Y_pred,digits = 4))\n",
    "        print(\"============================================\")"
   ]
  },
  {
   "cell_type": "code",
   "execution_count": 27,
   "id": "78803192",
   "metadata": {},
   "outputs": [
    {
     "name": "stdout",
     "output_type": "stream",
     "text": [
      "Epoch 1/20\n",
      "3721/3724 [============================>.] - ETA: 0s - loss: 0.5108 - accuracy: 0.7537\n",
      "Epoch 1: saving model to ../Models/Baseline_CNN/train\\baseline_CNN_model_at_epoch_1.hdf5\n",
      "3724/3724 [==============================] - 14s 4ms/step - loss: 0.5108 - accuracy: 0.7536 - val_loss: 0.5057 - val_accuracy: 0.7568\n",
      "Epoch 2/20\n",
      "3721/3724 [============================>.] - ETA: 0s - loss: 0.5011 - accuracy: 0.7587\n",
      "Epoch 2: saving model to ../Models/Baseline_CNN/train\\baseline_CNN_model_at_epoch_2.hdf5\n",
      "3724/3724 [==============================] - 13s 4ms/step - loss: 0.5011 - accuracy: 0.7587 - val_loss: 0.5036 - val_accuracy: 0.7597\n",
      "Epoch 3/20\n",
      "3711/3724 [============================>.] - ETA: 0s - loss: 0.4982 - accuracy: 0.7591\n",
      "Epoch 3: saving model to ../Models/Baseline_CNN/train\\baseline_CNN_model_at_epoch_3.hdf5\n",
      "3724/3724 [==============================] - 13s 4ms/step - loss: 0.4982 - accuracy: 0.7591 - val_loss: 0.5027 - val_accuracy: 0.7552\n",
      "Epoch 4/20\n",
      "3713/3724 [============================>.] - ETA: 0s - loss: 0.4967 - accuracy: 0.7612\n",
      "Epoch 4: saving model to ../Models/Baseline_CNN/train\\baseline_CNN_model_at_epoch_4.hdf5\n",
      "3724/3724 [==============================] - 14s 4ms/step - loss: 0.4967 - accuracy: 0.7611 - val_loss: 0.5003 - val_accuracy: 0.7615\n",
      "Epoch 5/20\n",
      "3716/3724 [============================>.] - ETA: 0s - loss: 0.4955 - accuracy: 0.7614\n",
      "Epoch 5: saving model to ../Models/Baseline_CNN/train\\baseline_CNN_model_at_epoch_5.hdf5\n",
      "3724/3724 [==============================] - 13s 4ms/step - loss: 0.4954 - accuracy: 0.7614 - val_loss: 0.4958 - val_accuracy: 0.7627\n",
      "Epoch 6/20\n",
      "3716/3724 [============================>.] - ETA: 0s - loss: 0.4943 - accuracy: 0.7619\n",
      "Epoch 6: saving model to ../Models/Baseline_CNN/train\\baseline_CNN_model_at_epoch_6.hdf5\n",
      "3724/3724 [==============================] - 13s 4ms/step - loss: 0.4942 - accuracy: 0.7619 - val_loss: 0.4957 - val_accuracy: 0.7636\n",
      "Epoch 7/20\n",
      "3715/3724 [============================>.] - ETA: 0s - loss: 0.4941 - accuracy: 0.7613\n",
      "Epoch 7: saving model to ../Models/Baseline_CNN/train\\baseline_CNN_model_at_epoch_7.hdf5\n",
      "3724/3724 [==============================] - 13s 4ms/step - loss: 0.4940 - accuracy: 0.7614 - val_loss: 0.4960 - val_accuracy: 0.7613\n",
      "Epoch 8/20\n",
      "3719/3724 [============================>.] - ETA: 0s - loss: 0.4931 - accuracy: 0.7622\n",
      "Epoch 8: saving model to ../Models/Baseline_CNN/train\\baseline_CNN_model_at_epoch_8.hdf5\n",
      "3724/3724 [==============================] - 13s 4ms/step - loss: 0.4931 - accuracy: 0.7622 - val_loss: 0.4929 - val_accuracy: 0.7639\n",
      "Epoch 9/20\n",
      "3715/3724 [============================>.] - ETA: 0s - loss: 0.4928 - accuracy: 0.7627\n",
      "Epoch 9: saving model to ../Models/Baseline_CNN/train\\baseline_CNN_model_at_epoch_9.hdf5\n",
      "3724/3724 [==============================] - 14s 4ms/step - loss: 0.4928 - accuracy: 0.7628 - val_loss: 0.4948 - val_accuracy: 0.7616\n",
      "Epoch 10/20\n",
      "3716/3724 [============================>.] - ETA: 0s - loss: 0.4916 - accuracy: 0.7622\n",
      "Epoch 10: saving model to ../Models/Baseline_CNN/train\\baseline_CNN_model_at_epoch_10.hdf5\n",
      "3724/3724 [==============================] - 13s 4ms/step - loss: 0.4918 - accuracy: 0.7621 - val_loss: 0.4940 - val_accuracy: 0.7636\n",
      "Epoch 11/20\n",
      "3724/3724 [==============================] - ETA: 0s - loss: 0.4915 - accuracy: 0.7629\n",
      "Epoch 11: saving model to ../Models/Baseline_CNN/train\\baseline_CNN_model_at_epoch_11.hdf5\n",
      "3724/3724 [==============================] - 13s 4ms/step - loss: 0.4915 - accuracy: 0.7629 - val_loss: 0.4975 - val_accuracy: 0.7629\n",
      "Epoch 12/20\n",
      "3723/3724 [============================>.] - ETA: 0s - loss: 0.4907 - accuracy: 0.7637\n",
      "Epoch 12: saving model to ../Models/Baseline_CNN/train\\baseline_CNN_model_at_epoch_12.hdf5\n",
      "3724/3724 [==============================] - 13s 4ms/step - loss: 0.4907 - accuracy: 0.7637 - val_loss: 0.4936 - val_accuracy: 0.7636\n",
      "Epoch 13/20\n",
      "3718/3724 [============================>.] - ETA: 0s - loss: 0.4904 - accuracy: 0.7628\n",
      "Epoch 13: saving model to ../Models/Baseline_CNN/train\\baseline_CNN_model_at_epoch_13.hdf5\n",
      "3724/3724 [==============================] - 14s 4ms/step - loss: 0.4903 - accuracy: 0.7628 - val_loss: 0.4945 - val_accuracy: 0.7642\n",
      "Epoch 14/20\n",
      "3723/3724 [============================>.] - ETA: 0s - loss: 0.4896 - accuracy: 0.7640\n",
      "Epoch 14: saving model to ../Models/Baseline_CNN/train\\baseline_CNN_model_at_epoch_14.hdf5\n",
      "3724/3724 [==============================] - 13s 4ms/step - loss: 0.4896 - accuracy: 0.7640 - val_loss: 0.4953 - val_accuracy: 0.7633\n",
      "Epoch 15/20\n",
      "3721/3724 [============================>.] - ETA: 0s - loss: 0.4891 - accuracy: 0.7633\n",
      "Epoch 15: saving model to ../Models/Baseline_CNN/train\\baseline_CNN_model_at_epoch_15.hdf5\n",
      "3724/3724 [==============================] - 13s 4ms/step - loss: 0.4891 - accuracy: 0.7633 - val_loss: 0.4947 - val_accuracy: 0.7613\n",
      "Epoch 16/20\n",
      "3713/3724 [============================>.] - ETA: 0s - loss: 0.4882 - accuracy: 0.7644\n",
      "Epoch 16: saving model to ../Models/Baseline_CNN/train\\baseline_CNN_model_at_epoch_16.hdf5\n",
      "3724/3724 [==============================] - 14s 4ms/step - loss: 0.4884 - accuracy: 0.7643 - val_loss: 0.4948 - val_accuracy: 0.7632\n",
      "Epoch 17/20\n",
      "3715/3724 [============================>.] - ETA: 0s - loss: 0.4879 - accuracy: 0.7645\n",
      "Epoch 17: saving model to ../Models/Baseline_CNN/train\\baseline_CNN_model_at_epoch_17.hdf5\n",
      "3724/3724 [==============================] - 13s 4ms/step - loss: 0.4878 - accuracy: 0.7645 - val_loss: 0.4984 - val_accuracy: 0.7605\n",
      "Epoch 18/20\n",
      "3716/3724 [============================>.] - ETA: 0s - loss: 0.4876 - accuracy: 0.7642\n",
      "Epoch 18: saving model to ../Models/Baseline_CNN/train\\baseline_CNN_model_at_epoch_18.hdf5\n",
      "3724/3724 [==============================] - 14s 4ms/step - loss: 0.4875 - accuracy: 0.7642 - val_loss: 0.4972 - val_accuracy: 0.7616\n",
      "Epoch 19/20\n",
      "3721/3724 [============================>.] - ETA: 0s - loss: 0.4865 - accuracy: 0.7648\n",
      "Epoch 19: saving model to ../Models/Baseline_CNN/train\\baseline_CNN_model_at_epoch_19.hdf5\n",
      "3724/3724 [==============================] - 13s 4ms/step - loss: 0.4866 - accuracy: 0.7648 - val_loss: 0.4957 - val_accuracy: 0.7632\n",
      "Epoch 20/20\n",
      "3719/3724 [============================>.] - ETA: 0s - loss: 0.4861 - accuracy: 0.7653\n",
      "Epoch 20: saving model to ../Models/Baseline_CNN/train\\baseline_CNN_model_at_epoch_20.hdf5\n",
      "3724/3724 [==============================] - 13s 4ms/step - loss: 0.4862 - accuracy: 0.7653 - val_loss: 0.4973 - val_accuracy: 0.7628\n"
     ]
    },
    {
     "data": {
      "image/png": "[encoded data removed]",
      "text/plain": [
       "<Figure size 640x480 with 1 Axes>"
      ]
     },
     "metadata": {},
     "output_type": "display_data"
    }
   ],
   "source": [
    "# CNN\n",
    "model = tuner.hypermodel.build(best_hps)\n",
    "CNN_train()"
   ]
  },
  {
   "cell_type": "markdown",
   "id": "1740808e",
   "metadata": {},
   "source": [
    "# Testing"
   ]
  },
  {
   "cell_type": "code",
   "execution_count": 29,
   "id": "cf4cf9d8",
   "metadata": {},
   "outputs": [
    {
     "name": "stdout",
     "output_type": "stream",
     "text": [
      "1773/1773 [==============================] - 2s 1ms/step\n",
      "this is the test for com\n",
      "[[29432  8796]\n",
      " [ 4781 13727]]\n",
      "              precision    recall  f1-score   support\n",
      "\n",
      "           0     0.7699    0.8603    0.8126     34213\n",
      "           1     0.7417    0.6095    0.6691     22523\n",
      "\n",
      "    accuracy                         0.7607     56736\n",
      "   macro avg     0.7558    0.7349    0.7408     56736\n",
      "weighted avg     0.7587    0.7607    0.7556     56736\n",
      "\n",
      "============================================\n",
      "444/444 [==============================] - 1s 1ms/step\n",
      "this is the test for cle\n",
      "[[7321 2191]\n",
      " [1214 3458]]\n",
      "              precision    recall  f1-score   support\n",
      "\n",
      "           0     0.7697    0.8578    0.8113      8535\n",
      "           1     0.7402    0.6121    0.6701      5649\n",
      "\n",
      "    accuracy                         0.7599     14184\n",
      "   macro avg     0.7549    0.7350    0.7407     14184\n",
      "weighted avg     0.7579    0.7599    0.7551     14184\n",
      "\n",
      "============================================\n",
      "444/444 [==============================] - 1s 1ms/step\n",
      "this is the test for vir\n",
      "[[7429 2152]\n",
      " [1218 3385]]\n",
      "              precision    recall  f1-score   support\n",
      "\n",
      "           0     0.7754    0.8591    0.8151      8647\n",
      "           1     0.7354    0.6113    0.6677      5537\n",
      "\n",
      "    accuracy                         0.7624     14184\n",
      "   macro avg     0.7554    0.7352    0.7414     14184\n",
      "weighted avg     0.7598    0.7624    0.7576     14184\n",
      "\n",
      "============================================\n",
      "444/444 [==============================] - 0s 1ms/step\n",
      "this is the test for hun\n",
      "[[7382 2217]\n",
      " [1159 3426]]\n",
      "              precision    recall  f1-score   support\n",
      "\n",
      "           0     0.7690    0.8643    0.8139      8541\n",
      "           1     0.7472    0.6071    0.6699      5643\n",
      "\n",
      "    accuracy                         0.7620     14184\n",
      "   macro avg     0.7581    0.7357    0.7419     14184\n",
      "weighted avg     0.7604    0.7620    0.7566     14184\n",
      "\n",
      "============================================\n",
      "444/444 [==============================] - 0s 1ms/step\n",
      "this is the test for swi\n",
      "[[7300 2236]\n",
      " [1190 3458]]\n",
      "              precision    recall  f1-score   support\n",
      "\n",
      "           0     0.7655    0.8598    0.8099      8490\n",
      "           1     0.7440    0.6073    0.6687      5694\n",
      "\n",
      "    accuracy                         0.7585     14184\n",
      "   macro avg     0.7547    0.7336    0.7393     14184\n",
      "weighted avg     0.7569    0.7585    0.7533     14184\n",
      "\n",
      "============================================\n"
     ]
    }
   ],
   "source": [
    "model = load_model('../Models/Baseline_CNN/train/baseline_CNN_model_at_epoch_8.hdf5')\n",
    "CNN_test()"
   ]
  },
  {
   "cell_type": "code",
   "execution_count": null,
   "id": "3918096d",
   "metadata": {},
   "outputs": [],
   "source": []
  },
  {
   "cell_type": "code",
   "execution_count": null,
   "id": "42fd059c",
   "metadata": {},
   "outputs": [],
   "source": []
  }
 ],
 "metadata": {
  "kernelspec": {
   "display_name": "GPU3090",
   "language": "python",
   "name": "gpu3090"
  },
  "language_info": {
   "codemirror_mode": {
    "name": "ipython",
    "version": 3
   },
   "file_extension": ".py",
   "mimetype": "text/x-python",
   "name": "python",
   "nbconvert_exporter": "python",
   "pygments_lexer": "ipython3",
   "version": "3.9.18"
  }
 },
 "nbformat": 4,
 "nbformat_minor": 5
}
