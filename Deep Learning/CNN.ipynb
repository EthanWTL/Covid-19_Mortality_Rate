{
 "cells": [
  {
   "cell_type": "code",
   "execution_count": 1,
   "id": "c773be18",
   "metadata": {
    "scrolled": true
   },
   "outputs": [
    {
     "name": "stderr",
     "output_type": "stream",
     "text": [
      "C:\\Users\\Ethan\\AppData\\Roaming\\Python\\Python39\\site-packages\\scipy\\__init__.py:146: UserWarning: A NumPy version >=1.16.5 and <1.23.0 is required for this version of SciPy (detected version 1.26.0\n",
      "  warnings.warn(f\"A NumPy version >={np_minversion} and <{np_maxversion}\"\n"
     ]
    },
    {
     "name": "stdout",
     "output_type": "stream",
     "text": [
      "Using TensorFlow backend\n"
     ]
    }
   ],
   "source": [
    "import numpy as np\n",
    "import pandas as pd\n",
    "import tensorflow as tf\n",
    "from keras.models import Sequential\n",
    "from keras.layers import Conv1D, MaxPooling1D, Flatten, Dense, Dropout\n",
    "from sklearn.metrics import confusion_matrix, classification_report\n",
    "\n",
    "import keras\n",
    "import keras_tuner as kt\n",
    "from keras.callbacks import ModelCheckpoint\n",
    "from keras.models import load_model\n",
    "from matplotlib import pyplot as plt"
   ]
  },
  {
   "cell_type": "code",
   "execution_count": 2,
   "id": "676767d1",
   "metadata": {
    "scrolled": false
   },
   "outputs": [
    {
     "name": "stdout",
     "output_type": "stream",
     "text": [
      "GPU Device: /device:GPU:0\n"
     ]
    }
   ],
   "source": [
    "print('GPU Device:', tf.test.gpu_device_name())"
   ]
  },
  {
   "cell_type": "markdown",
   "id": "d21956d2",
   "metadata": {},
   "source": [
    "# Hyperparameter Training"
   ]
  },
  {
   "cell_type": "code",
   "execution_count": 4,
   "id": "674c2347",
   "metadata": {},
   "outputs": [],
   "source": [
    "Train = pd.read_csv('../TrainTestData/cle_train.csv')\n",
    "Test = pd.read_csv('../TrainTestData/cle_test.csv')\n",
    "\n",
    "X_train = Train.iloc[:,:-1]\n",
    "Y_train = Train.iloc[:,-1]"
   ]
  },
  {
   "cell_type": "code",
   "execution_count": 5,
   "id": "fdd302e6",
   "metadata": {},
   "outputs": [],
   "source": [
    "def model_builder(hp):\n",
    "    hp_units_1 = hp.Int('units_Conv1', min_value=32, max_value=512, step=32)\n",
    "    hp_units_2 = hp.Int('units_Conv2', min_value=32, max_value=512, step=32)\n",
    "    hp_units_3 = hp.Int('units_FC', min_value=32, max_value=512, step=32)\n",
    "    hp_learning_rate = hp.Choice('learning_rate', values=[1e-2, 1e-3, 1e-4])\n",
    "    \n",
    "    model = Sequential()\n",
    "    model.add(Conv1D(filters=hp_units_1, kernel_size=3, activation='relu', input_shape=(35,1)))\n",
    "    model.add(MaxPooling1D(pool_size=2))\n",
    "\n",
    "    model.add(Conv1D(filters=hp_units_2, kernel_size=3, activation='relu'))\n",
    "    model.add(MaxPooling1D(pool_size=2))\n",
    "\n",
    "    model.add(Flatten())\n",
    "    model.add(Dense(hp_units_3, activation='relu'))\n",
    "    model.add(Dense(2, activation='sigmoid'))\n",
    "\n",
    "    model.compile(loss='sparse_categorical_crossentropy', \n",
    "                  optimizer=keras.optimizers.Adam(learning_rate=hp_learning_rate), \n",
    "                  metrics=['accuracy'])\n",
    "    \n",
    "    return model"
   ]
  },
  {
   "cell_type": "code",
   "execution_count": 6,
   "id": "83bfa093",
   "metadata": {},
   "outputs": [],
   "source": [
    "tuner = kt.Hyperband(model_builder,\n",
    "                     objective='val_accuracy',\n",
    "                     max_epochs=10,\n",
    "                     factor=3,\n",
    "                     directory='../Models/Baseline_CNN/HP',\n",
    "                     project_name = 'CNN_HP')"
   ]
  },
  {
   "cell_type": "code",
   "execution_count": 7,
   "id": "65656efd",
   "metadata": {},
   "outputs": [
    {
     "name": "stdout",
     "output_type": "stream",
     "text": [
      "Trial 30 Complete [00h 00m 34s]\n",
      "val_accuracy: 0.7599335312843323\n",
      "\n",
      "Best val_accuracy So Far: 0.7615954279899597\n",
      "Total elapsed time: 00h 07m 16s\n",
      "\n",
      "The hyperparameter search is complete. The optimal number of units in the first Conv\n",
      "layer is 352, The optimal number of units in the second Conv\n",
      "layer is 384, The optimal number of units in the FC layer is 512,\n",
      "The optimal learning rate is 0.001\n",
      "\n"
     ]
    }
   ],
   "source": [
    "stop_early = tf.keras.callbacks.EarlyStopping(monitor='val_loss', patience=5)\n",
    "\n",
    "with tf.device('/device:GPU:0'):\n",
    "    tuner.search(X_train, Y_train, epochs=50, validation_split=0.2, callbacks=[stop_early])\n",
    "\n",
    "# Get the optimal hyperparameters\n",
    "best_hps=tuner.get_best_hyperparameters(num_trials=1)[0]\n",
    "\n",
    "print(f\"\"\"\n",
    "The hyperparameter search is complete. The optimal number of units in the first Conv\n",
    "layer is {best_hps.get('units_Conv1')}, The optimal number of units in the second Conv\n",
    "layer is {best_hps.get('units_Conv2')}, The optimal number of units in the FC layer is {best_hps.get('units_FC')},\n",
    "The optimal learning rate is {best_hps.get('learning_rate')}\n",
    "\"\"\")"
   ]
  },
  {
   "cell_type": "markdown",
   "id": "cd11c7fe",
   "metadata": {},
   "source": [
    "# Training"
   ]
  },
  {
   "cell_type": "code",
   "execution_count": 8,
   "id": "9a9d0451",
   "metadata": {},
   "outputs": [],
   "source": [
    "def CNN_train():\n",
    "    \n",
    "    #load the data\n",
    "    Train = pd.read_csv('../TrainTestData/com_train.csv')\n",
    "    Test = pd.read_csv('../TrainTestData/com_test.csv')\n",
    "    \n",
    "    X_train = Train.iloc[:,:-1]\n",
    "    Y_train = Train.iloc[:,-1]\n",
    "\n",
    "    X_test = Test.iloc[:,:-1]\n",
    "    Y_test = Test.iloc[:,-1]\n",
    "    \n",
    "    #train the CNN model\n",
    "    filepath = \"../Models/Baseline_CNN/train/baseline_CNN_model_at_epoch_{epoch}.hdf5\"\n",
    "    checkpoint = ModelCheckpoint(filepath, monitor='val_loss', verbose=1, save_best_only=False, mode='auto', save_freq=\"epoch\")\n",
    "    with tf.device('/device:GPU:0'):\n",
    "        history = model.fit(X_train, Y_train,validation_split = 0.1, epochs=20, batch_size=32,callbacks=[checkpoint])\n",
    "    \n",
    "    #save model history\n",
    "    np.save('../Models/Baseline_CNN/baseline_CNN_hist.npy',history.history)\n",
    "    #history=np.load('my_history.npy',allow_pickle='TRUE').item()\n",
    "\n",
    "    \n",
    "    #plot train val loss\n",
    "    plt.plot(history.history['loss'])\n",
    "    plt.plot(history.history['val_loss'])\n",
    "    plt.title('model loss')\n",
    "    plt.ylabel('loss')\n",
    "    plt.xlabel('epoch')\n",
    "    plt.legend(['train', 'val'], loc='upper left')\n",
    "    plt.show()\n",
    "    \n",
    "def CNN_test():\n",
    "    testlists = ['../TrainTestData/com_test.csv','../TrainTestData/cle_test.csv','../TrainTestData/vir_test.csv',\n",
    "                '../TrainTestData/hun_test.csv','../TrainTestData/swi_test.csv']\n",
    "    for i in testlists:\n",
    "        Test = pd.read_csv(i)\n",
    "\n",
    "        X_test = Test.iloc[:,:-1]\n",
    "        Y_test = Test.iloc[:,-1]\n",
    "\n",
    "        Y_pred = model.predict(X_test).argmax(axis=1)\n",
    "\n",
    "        cm = confusion_matrix(Y_pred, Y_test)\n",
    "        print(\"this is the test for \" + str(i[-12:][:3]))\n",
    "        print(cm)\n",
    "        print(classification_report(Y_test, Y_pred,digits = 4))\n",
    "        print(\"============================================\")"
   ]
  },
  {
   "cell_type": "code",
   "execution_count": 9,
   "id": "78803192",
   "metadata": {},
   "outputs": [
    {
     "name": "stdout",
     "output_type": "stream",
     "text": [
      "Epoch 1/20\n",
      "3724/3724 [==============================] - ETA: 0s - loss: 0.5112 - accuracy: 0.7516\n",
      "Epoch 1: saving model to ../Models/Baseline_CNN/train\\baseline_CNN_model_at_epoch_1.hdf5\n",
      "3724/3724 [==============================] - 14s 4ms/step - loss: 0.5112 - accuracy: 0.7516 - val_loss: 0.5065 - val_accuracy: 0.7525\n",
      "Epoch 2/20\n",
      "3722/3724 [============================>.] - ETA: 0s - loss: 0.5005 - accuracy: 0.7597\n",
      "Epoch 2: saving model to ../Models/Baseline_CNN/train\\baseline_CNN_model_at_epoch_2.hdf5\n",
      "3724/3724 [==============================] - 14s 4ms/step - loss: 0.5005 - accuracy: 0.7596 - val_loss: 0.5008 - val_accuracy: 0.7588\n",
      "Epoch 3/20\n",
      "3720/3724 [============================>.] - ETA: 0s - loss: 0.4981 - accuracy: 0.7593\n",
      "Epoch 3: saving model to ../Models/Baseline_CNN/train\\baseline_CNN_model_at_epoch_3.hdf5\n",
      "3724/3724 [==============================] - 14s 4ms/step - loss: 0.4981 - accuracy: 0.7593 - val_loss: 0.4974 - val_accuracy: 0.7632\n",
      "Epoch 4/20\n",
      "3712/3724 [============================>.] - ETA: 0s - loss: 0.4962 - accuracy: 0.7608\n",
      "Epoch 4: saving model to ../Models/Baseline_CNN/train\\baseline_CNN_model_at_epoch_4.hdf5\n",
      "3724/3724 [==============================] - 13s 4ms/step - loss: 0.4962 - accuracy: 0.7608 - val_loss: 0.4951 - val_accuracy: 0.7627\n",
      "Epoch 5/20\n",
      "3719/3724 [============================>.] - ETA: 0s - loss: 0.4949 - accuracy: 0.7615\n",
      "Epoch 5: saving model to ../Models/Baseline_CNN/train\\baseline_CNN_model_at_epoch_5.hdf5\n",
      "3724/3724 [==============================] - 14s 4ms/step - loss: 0.4949 - accuracy: 0.7615 - val_loss: 0.4953 - val_accuracy: 0.7622\n",
      "Epoch 6/20\n",
      "3719/3724 [============================>.] - ETA: 0s - loss: 0.4939 - accuracy: 0.7619\n",
      "Epoch 6: saving model to ../Models/Baseline_CNN/train\\baseline_CNN_model_at_epoch_6.hdf5\n",
      "3724/3724 [==============================] - 15s 4ms/step - loss: 0.4938 - accuracy: 0.7619 - val_loss: 0.4966 - val_accuracy: 0.7634\n",
      "Epoch 7/20\n",
      "3724/3724 [==============================] - ETA: 0s - loss: 0.4928 - accuracy: 0.7629\n",
      "Epoch 7: saving model to ../Models/Baseline_CNN/train\\baseline_CNN_model_at_epoch_7.hdf5\n",
      "3724/3724 [==============================] - 14s 4ms/step - loss: 0.4928 - accuracy: 0.7629 - val_loss: 0.4958 - val_accuracy: 0.7649\n",
      "Epoch 8/20\n",
      "3712/3724 [============================>.] - ETA: 0s - loss: 0.4921 - accuracy: 0.7631\n",
      "Epoch 8: saving model to ../Models/Baseline_CNN/train\\baseline_CNN_model_at_epoch_8.hdf5\n",
      "3724/3724 [==============================] - 14s 4ms/step - loss: 0.4921 - accuracy: 0.7630 - val_loss: 0.4934 - val_accuracy: 0.7636\n",
      "Epoch 9/20\n",
      "3719/3724 [============================>.] - ETA: 0s - loss: 0.4916 - accuracy: 0.7630\n",
      "Epoch 9: saving model to ../Models/Baseline_CNN/train\\baseline_CNN_model_at_epoch_9.hdf5\n",
      "3724/3724 [==============================] - 14s 4ms/step - loss: 0.4916 - accuracy: 0.7630 - val_loss: 0.4948 - val_accuracy: 0.7638\n",
      "Epoch 10/20\n",
      "3711/3724 [============================>.] - ETA: 0s - loss: 0.4906 - accuracy: 0.7626\n",
      "Epoch 10: saving model to ../Models/Baseline_CNN/train\\baseline_CNN_model_at_epoch_10.hdf5\n",
      "3724/3724 [==============================] - 14s 4ms/step - loss: 0.4907 - accuracy: 0.7625 - val_loss: 0.4936 - val_accuracy: 0.7627\n",
      "Epoch 11/20\n",
      "3712/3724 [============================>.] - ETA: 0s - loss: 0.4900 - accuracy: 0.7638\n",
      "Epoch 11: saving model to ../Models/Baseline_CNN/train\\baseline_CNN_model_at_epoch_11.hdf5\n",
      "3724/3724 [==============================] - 14s 4ms/step - loss: 0.4900 - accuracy: 0.7639 - val_loss: 0.4948 - val_accuracy: 0.7639\n",
      "Epoch 12/20\n",
      "3722/3724 [============================>.] - ETA: 0s - loss: 0.4893 - accuracy: 0.7641\n",
      "Epoch 12: saving model to ../Models/Baseline_CNN/train\\baseline_CNN_model_at_epoch_12.hdf5\n",
      "3724/3724 [==============================] - 13s 4ms/step - loss: 0.4893 - accuracy: 0.7641 - val_loss: 0.4949 - val_accuracy: 0.7624\n",
      "Epoch 13/20\n",
      "3715/3724 [============================>.] - ETA: 0s - loss: 0.4887 - accuracy: 0.7645\n",
      "Epoch 13: saving model to ../Models/Baseline_CNN/train\\baseline_CNN_model_at_epoch_13.hdf5\n",
      "3724/3724 [==============================] - 14s 4ms/step - loss: 0.4887 - accuracy: 0.7646 - val_loss: 0.4947 - val_accuracy: 0.7633\n",
      "Epoch 14/20\n",
      "3714/3724 [============================>.] - ETA: 0s - loss: 0.4880 - accuracy: 0.7650\n",
      "Epoch 14: saving model to ../Models/Baseline_CNN/train\\baseline_CNN_model_at_epoch_14.hdf5\n",
      "3724/3724 [==============================] - 14s 4ms/step - loss: 0.4880 - accuracy: 0.7650 - val_loss: 0.4959 - val_accuracy: 0.7635\n",
      "Epoch 15/20\n",
      "3711/3724 [============================>.] - ETA: 0s - loss: 0.4872 - accuracy: 0.7656\n",
      "Epoch 15: saving model to ../Models/Baseline_CNN/train\\baseline_CNN_model_at_epoch_15.hdf5\n",
      "3724/3724 [==============================] - 13s 4ms/step - loss: 0.4872 - accuracy: 0.7656 - val_loss: 0.4955 - val_accuracy: 0.7611\n",
      "Epoch 16/20\n",
      "3718/3724 [============================>.] - ETA: 0s - loss: 0.4864 - accuracy: 0.7655\n",
      "Epoch 16: saving model to ../Models/Baseline_CNN/train\\baseline_CNN_model_at_epoch_16.hdf5\n",
      "3724/3724 [==============================] - 13s 4ms/step - loss: 0.4864 - accuracy: 0.7655 - val_loss: 0.4947 - val_accuracy: 0.7633\n",
      "Epoch 17/20\n",
      "3721/3724 [============================>.] - ETA: 0s - loss: 0.4854 - accuracy: 0.7658\n",
      "Epoch 17: saving model to ../Models/Baseline_CNN/train\\baseline_CNN_model_at_epoch_17.hdf5\n",
      "3724/3724 [==============================] - 14s 4ms/step - loss: 0.4854 - accuracy: 0.7658 - val_loss: 0.4954 - val_accuracy: 0.7642\n",
      "Epoch 18/20\n",
      "3712/3724 [============================>.] - ETA: 0s - loss: 0.4846 - accuracy: 0.7660\n",
      "Epoch 18: saving model to ../Models/Baseline_CNN/train\\baseline_CNN_model_at_epoch_18.hdf5\n",
      "3724/3724 [==============================] - 14s 4ms/step - loss: 0.4846 - accuracy: 0.7661 - val_loss: 0.4943 - val_accuracy: 0.7627\n",
      "Epoch 19/20\n",
      "3709/3724 [============================>.] - ETA: 0s - loss: 0.4841 - accuracy: 0.7665\n",
      "Epoch 19: saving model to ../Models/Baseline_CNN/train\\baseline_CNN_model_at_epoch_19.hdf5\n",
      "3724/3724 [==============================] - 13s 4ms/step - loss: 0.4842 - accuracy: 0.7665 - val_loss: 0.4958 - val_accuracy: 0.7621\n",
      "Epoch 20/20\n",
      "3718/3724 [============================>.] - ETA: 0s - loss: 0.4833 - accuracy: 0.7668\n",
      "Epoch 20: saving model to ../Models/Baseline_CNN/train\\baseline_CNN_model_at_epoch_20.hdf5\n",
      "3724/3724 [==============================] - 14s 4ms/step - loss: 0.4833 - accuracy: 0.7667 - val_loss: 0.4974 - val_accuracy: 0.7622\n"
     ]
    },
    {
     "data": {
      "image/png": "[encoded data removed]",
      "text/plain": [
       "<Figure size 640x480 with 1 Axes>"
      ]
     },
     "metadata": {},
     "output_type": "display_data"
    }
   ],
   "source": [
    "# CNN\n",
    "model = tuner.hypermodel.build(best_hps)\n",
    "CNN_train()"
   ]
  },
  {
   "cell_type": "markdown",
   "id": "1740808e",
   "metadata": {},
   "source": [
    "# Testing"
   ]
  },
  {
   "cell_type": "code",
   "execution_count": 10,
   "id": "cf4cf9d8",
   "metadata": {},
   "outputs": [
    {
     "name": "stdout",
     "output_type": "stream",
     "text": [
      "1773/1773 [==============================] - 2s 1ms/step\n",
      "this is the test for com\n",
      "[[30529  9790]\n",
      " [ 3684 12733]]\n",
      "              precision    recall  f1-score   support\n",
      "\n",
      "           0     0.7572    0.8923    0.8192     34213\n",
      "           1     0.7756    0.5653    0.6540     22523\n",
      "\n",
      "    accuracy                         0.7625     56736\n",
      "   macro avg     0.7664    0.7288    0.7366     56736\n",
      "weighted avg     0.7645    0.7625    0.7536     56736\n",
      "\n",
      "============================================\n",
      "444/444 [==============================] - 1s 2ms/step\n",
      "this is the test for cle\n",
      "[[7598 2445]\n",
      " [ 937 3204]]\n",
      "              precision    recall  f1-score   support\n",
      "\n",
      "           0     0.7565    0.8902    0.8180      8535\n",
      "           1     0.7737    0.5672    0.6545      5649\n",
      "\n",
      "    accuracy                         0.7616     14184\n",
      "   macro avg     0.7651    0.7287    0.7363     14184\n",
      "weighted avg     0.7634    0.7616    0.7529     14184\n",
      "\n",
      "============================================\n",
      "444/444 [==============================] - 1s 1ms/step\n",
      "this is the test for vir\n",
      "[[7739 2385]\n",
      " [ 908 3152]]\n",
      "              precision    recall  f1-score   support\n",
      "\n",
      "           0     0.7644    0.8950    0.8246      8647\n",
      "           1     0.7764    0.5693    0.6569      5537\n",
      "\n",
      "    accuracy                         0.7678     14184\n",
      "   macro avg     0.7704    0.7321    0.7407     14184\n",
      "weighted avg     0.7691    0.7678    0.7591     14184\n",
      "\n",
      "============================================\n",
      "444/444 [==============================] - 0s 1ms/step\n",
      "this is the test for hun\n",
      "[[7625 2456]\n",
      " [ 916 3187]]\n",
      "              precision    recall  f1-score   support\n",
      "\n",
      "           0     0.7564    0.8928    0.8189      8541\n",
      "           1     0.7767    0.5648    0.6540      5643\n",
      "\n",
      "    accuracy                         0.7623     14184\n",
      "   macro avg     0.7666    0.7288    0.7365     14184\n",
      "weighted avg     0.7645    0.7623    0.7533     14184\n",
      "\n",
      "============================================\n",
      "444/444 [==============================] - 0s 1ms/step\n",
      "this is the test for swi\n",
      "[[7567 2504]\n",
      " [ 923 3190]]\n",
      "              precision    recall  f1-score   support\n",
      "\n",
      "           0     0.7514    0.8913    0.8154      8490\n",
      "           1     0.7756    0.5602    0.6506      5694\n",
      "\n",
      "    accuracy                         0.7584     14184\n",
      "   macro avg     0.7635    0.7258    0.7330     14184\n",
      "weighted avg     0.7611    0.7584    0.7492     14184\n",
      "\n",
      "============================================\n"
     ]
    }
   ],
   "source": [
    "model = load_model('../Models/Baseline_CNN/train/baseline_CNN_model_at_epoch_8.hdf5')\n",
    "CNN_test()"
   ]
  },
  {
   "cell_type": "code",
   "execution_count": null,
   "id": "3918096d",
   "metadata": {},
   "outputs": [],
   "source": []
  },
  {
   "cell_type": "code",
   "execution_count": null,
   "id": "42fd059c",
   "metadata": {},
   "outputs": [],
   "source": []
  }
 ],
 "metadata": {
  "kernelspec": {
   "display_name": "GPU3090",
   "language": "python",
   "name": "gpu3090"
  },
  "language_info": {
   "codemirror_mode": {
    "name": "ipython",
    "version": 3
   },
   "file_extension": ".py",
   "mimetype": "text/x-python",
   "name": "python",
   "nbconvert_exporter": "python",
   "pygments_lexer": "ipython3",
   "version": "3.9.18"
  }
 },
 "nbformat": 4,
 "nbformat_minor": 5
}
