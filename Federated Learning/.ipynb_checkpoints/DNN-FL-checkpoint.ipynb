{
 "cells": [
  {
   "cell_type": "code",
   "execution_count": 1,
   "id": "b9f37971",
   "metadata": {},
   "outputs": [],
   "source": [
    "import numpy as np\n",
    "import random\n",
    "import cv2\n",
    "import os\n",
    "from imutils import paths\n",
    "from sklearn.preprocessing import LabelBinarizer\n",
    "from sklearn.model_selection import train_test_split\n",
    "from sklearn.utils import shuffle\n",
    "from sklearn.metrics import accuracy_score\n",
    "import pandas as pd\n",
    "\n",
    "import tensorflow as tf\n",
    "from tensorflow.keras.models import Sequential\n",
    "from tensorflow.keras.layers import Conv1D, MaxPooling1D, Activation, Flatten, Dense, Dropout, SimpleRNN\n",
    "from tensorflow.keras.optimizers import SGD\n",
    "from tensorflow.keras import backend as K\n",
    "from sklearn.metrics import confusion_matrix, classification_report"
   ]
  },
  {
   "cell_type": "code",
   "execution_count": 2,
   "id": "05fdffd3",
   "metadata": {},
   "outputs": [],
   "source": [
    "#binarize the labels\n",
    "lb = LabelBinarizer()\n",
    "\n",
    "import pandas as pd\n",
    "\n",
    "data_files = ['cle_train.csv','cle_test.csv','hun_train.csv','hun_test.csv','swi_train.csv','swi_test.csv','vir_train.csv','vir_test.csv']\n",
    "\n",
    "datasets = {}\n",
    "\n",
    "for file in data_files:\n",
    "    data = pd.read_csv('../TrainTestData/' + file)\n",
    "    \n",
    "    X = data.iloc[:, :-1]\n",
    "    Y = data.iloc[:, -1]\n",
    "    \n",
    "    Y_binary = Y.apply(lambda x: 1 if x > 0 else 0)\n",
    "    \n",
    "    # Extract the name from the file path\n",
    "    name = file.split('.')[0]\n",
    "    \n",
    "    # Store the dataset components in a dictionary\n",
    "    datasets[name] = {'X': X, 'Y': Y, 'Y_binary': Y_binary}\n",
    "\n",
    "# Unpack the dictionary values in a loop\n",
    "variables = ['cle', 'hun', 'swi', 'vir']\n",
    "train_test = ['train', 'test']\n",
    "\n",
    "for var in variables:\n",
    "    for tt in train_test:\n",
    "        X, Y, Y_binary = datasets[f'{var}_{tt}'].values()\n",
    "        globals()[f'{var}_X_{tt}'] = X\n",
    "        globals()[f'{var}_Y_{tt}'] = Y\n",
    "        globals()[f'{var}_Y_{tt}_binary'] = Y_binary"
   ]
  },
  {
   "cell_type": "code",
   "execution_count": 3,
   "id": "8171119e",
   "metadata": {},
   "outputs": [],
   "source": [
    "X_test = pd.concat([cle_X_test,hun_X_test,swi_X_test,vir_X_test])\n",
    "y_test = pd.concat([cle_Y_test_binary,hun_Y_test_binary,swi_Y_test_binary,vir_Y_test_binary])\n",
    "\n",
    "X_train = pd.concat([cle_X_train,hun_X_train,swi_X_train,vir_X_train])\n",
    "y_train = pd.concat([cle_Y_train_binary,hun_Y_train_binary,swi_Y_train_binary,vir_Y_train_binary])"
   ]
  },
  {
   "cell_type": "code",
   "execution_count": 4,
   "id": "3fc05e42",
   "metadata": {},
   "outputs": [],
   "source": [
    "def create_clients():\n",
    "    cle_zip = list(zip(cle_X_train.values,cle_Y_train_binary))\n",
    "    hun_zip = list(zip(hun_X_train.values,hun_Y_train_binary))\n",
    "    vir_zip = list(zip(vir_X_train.values,vir_Y_train_binary))\n",
    "    swi_zip = list(zip(swi_X_train.values,swi_Y_train_binary))\n",
    "    \n",
    "    shards = [cle_zip, hun_zip, vir_zip,swi_zip]\n",
    "    client_names = [\"client_1\",\"client_2\",\"client_3\",\"client_4\"]\n",
    "    dic = {client_names[i] : shards[i] for i in range(len(client_names))}\n",
    "    return dic\n",
    "\n",
    "\n",
    "def batch_data(data_shard, bs=32):\n",
    "    '''Takes in a clients data shard and create a tfds object off it\n",
    "    args:\n",
    "        shard: a data, label constituting a client's data shard\n",
    "        bs:batch size\n",
    "    return:\n",
    "        tfds object'''\n",
    "    #seperate shard into data and labels lists\n",
    "    data, label = zip(*data_shard)\n",
    "    dataset = tf.data.Dataset.from_tensor_slices((list(data), list(label)))\n",
    "    return dataset.shuffle(len(label)).batch(bs)\n",
    "\n",
    "\n",
    "class DNN:\n",
    "    @staticmethod\n",
    "    def build(shape, classes):\n",
    "        model = Sequential()\n",
    "        model.add(Dense(64, input_shape=(20,), activation='relu'))\n",
    "        model.add(Dense(128, activation='relu'))\n",
    "        model.add(Dense(256, activation='relu'))\n",
    "        model.add(Dense(2, activation='sigmoid'))\n",
    "\n",
    "        model.compile(loss='sparse_categorical_crossentropy', optimizer='adam', metrics=['accuracy'])\n",
    "        return model\n",
    "    \n",
    "\n",
    "def weight_scalling_factor(clients_trn_data, client_name):\n",
    "    client_names = list(clients_trn_data.keys())\n",
    "    #get the bs\n",
    "    bs = list(clients_trn_data[client_name])[0][0].shape[0]\n",
    "    #first calculate the total training data points across clinets\n",
    "    global_count = sum([tf.data.experimental.cardinality(clients_trn_data[client_name]).numpy() for client_name in client_names])*bs\n",
    "    # get the total number of data points held by a client\n",
    "    local_count = tf.data.experimental.cardinality(clients_trn_data[client_name]).numpy()*bs\n",
    "    return local_count/global_count\n",
    "\n",
    "\n",
    "def scale_model_weights(weight, scalar):\n",
    "    '''function for scaling a models weights'''\n",
    "    weight_final = []\n",
    "    steps = len(weight)\n",
    "    for i in range(steps):\n",
    "        weight_final.append(scalar * weight[i])\n",
    "    return weight_final\n",
    "\n",
    "\n",
    "def sum_scaled_weights(scaled_weight_list):\n",
    "    '''Return the sum of the listed scaled weights. The is equivalent to scaled avg of the weights'''\n",
    "    avg_grad = list()\n",
    "    #get the average grad accross all client gradients\n",
    "    for grad_list_tuple in zip(*scaled_weight_list):\n",
    "        layer_mean = tf.math.reduce_sum(grad_list_tuple, axis=0)\n",
    "        avg_grad.append(layer_mean)\n",
    "        \n",
    "    return avg_grad\n",
    "\n",
    "\n",
    "def test_model(X_test, Y_test,  model, comm_round):\n",
    "    cce = tf.keras.losses.SparseCategoricalCrossentropy(from_logits=True)\n",
    "    #logits = model.predict(X_test, batch_size=100)\n",
    "    logits = model.predict(X_test)\n",
    "    length = len(y_test)\n",
    "    Y_test = tf.reshape(Y_test,(length,1))\n",
    "    loss = cce(Y_test, logits)\n",
    "    acc = accuracy_score(tf.argmax(logits, axis=1), Y_test)\n",
    "    print('comm_round: {} | global_acc: {:.3%} | global_loss: {}'.format(comm_round, acc, loss))\n",
    "    return acc, loss"
   ]
  },
  {
   "cell_type": "code",
   "execution_count": 5,
   "id": "c94fcc46",
   "metadata": {},
   "outputs": [
    {
     "name": "stderr",
     "output_type": "stream",
     "text": [
      "D:\\Anaconda\\envs\\GPU\\lib\\site-packages\\keras\\optimizers\\legacy\\gradient_descent.py:114: UserWarning: The `lr` argument is deprecated, use `learning_rate` instead.\n",
      "  super().__init__(name, **kwargs)\n"
     ]
    },
    {
     "name": "stdout",
     "output_type": "stream",
     "text": [
      "1773/1773 [==============================] - 1s 475us/step\n",
      "comm_round: 0 | global_acc: 60.302% | global_loss: 0.6735559701919556\n",
      "1773/1773 [==============================] - 1s 478us/step\n",
      "comm_round: 1 | global_acc: 65.651% | global_loss: 0.6621425151824951\n",
      "1773/1773 [==============================] - 1s 479us/step\n",
      "comm_round: 2 | global_acc: 68.195% | global_loss: 0.6533271074295044\n",
      "1773/1773 [==============================] - 1s 536us/step\n",
      "comm_round: 3 | global_acc: 69.672% | global_loss: 0.6505371928215027\n",
      "1773/1773 [==============================] - 1s 643us/step\n",
      "comm_round: 4 | global_acc: 70.890% | global_loss: 0.6401727199554443\n",
      "1773/1773 [==============================] - 1s 571us/step\n",
      "comm_round: 5 | global_acc: 72.624% | global_loss: 0.6345158815383911\n",
      "1773/1773 [==============================] - 1s 522us/step\n",
      "comm_round: 6 | global_acc: 74.348% | global_loss: 0.6318967342376709\n",
      "1773/1773 [==============================] - 1s 538us/step\n",
      "comm_round: 7 | global_acc: 72.467% | global_loss: 0.6241269707679749\n",
      "1773/1773 [==============================] - 1s 592us/step\n",
      "comm_round: 8 | global_acc: 74.635% | global_loss: 0.6334661841392517\n",
      "1773/1773 [==============================] - 1s 519us/step\n",
      "comm_round: 9 | global_acc: 73.835% | global_loss: 0.6266323328018188\n",
      "1773/1773 [==============================] - 1s 538us/step\n",
      "comm_round: 10 | global_acc: 75.275% | global_loss: 0.613282322883606\n",
      "1773/1773 [==============================] - 1s 537us/step\n",
      "comm_round: 11 | global_acc: 73.826% | global_loss: 0.6163196563720703\n",
      "1773/1773 [==============================] - 1s 494us/step\n",
      "comm_round: 12 | global_acc: 75.204% | global_loss: 0.618182897567749\n",
      "1773/1773 [==============================] - 1s 524us/step\n",
      "comm_round: 13 | global_acc: 75.180% | global_loss: 0.6136580109596252\n",
      "1773/1773 [==============================] - 1s 525us/step\n",
      "comm_round: 14 | global_acc: 75.146% | global_loss: 0.6190797686576843\n",
      "1773/1773 [==============================] - 1s 507us/step\n",
      "comm_round: 15 | global_acc: 75.384% | global_loss: 0.614589512348175\n",
      "1773/1773 [==============================] - 1s 531us/step\n",
      "comm_round: 16 | global_acc: 75.303% | global_loss: 0.6138262748718262\n",
      "1773/1773 [==============================] - 1s 520us/step\n",
      "comm_round: 17 | global_acc: 75.234% | global_loss: 0.6113603711128235\n",
      "1773/1773 [==============================] - 1s 530us/step\n",
      "comm_round: 18 | global_acc: 75.282% | global_loss: 0.607611894607544\n",
      "1773/1773 [==============================] - 1s 546us/step\n",
      "comm_round: 19 | global_acc: 75.363% | global_loss: 0.6074185967445374\n",
      "1773/1773 [==============================] - 1s 559us/step\n",
      "comm_round: 20 | global_acc: 75.257% | global_loss: 0.6066192984580994\n",
      "1773/1773 [==============================] - 1s 521us/step\n",
      "comm_round: 21 | global_acc: 75.360% | global_loss: 0.6102905869483948\n",
      "1773/1773 [==============================] - 2s 833us/step\n",
      "comm_round: 22 | global_acc: 75.372% | global_loss: 0.6134326457977295\n",
      "1773/1773 [==============================] - 2s 832us/step\n",
      "comm_round: 23 | global_acc: 75.382% | global_loss: 0.6094039082527161\n",
      "1773/1773 [==============================] - 1s 693us/step\n",
      "comm_round: 24 | global_acc: 75.400% | global_loss: 0.6127032041549683\n",
      "1773/1773 [==============================] - 1s 796us/step\n",
      "comm_round: 25 | global_acc: 75.171% | global_loss: 0.6105194687843323\n",
      "1773/1773 [==============================] - 1s 788us/step\n",
      "comm_round: 26 | global_acc: 75.388% | global_loss: 0.6114324331283569\n",
      "1773/1773 [==============================] - 1s 764us/step\n",
      "comm_round: 27 | global_acc: 75.418% | global_loss: 0.6125442981719971\n",
      "1773/1773 [==============================] - 1s 809us/step\n",
      "comm_round: 28 | global_acc: 75.486% | global_loss: 0.6104882955551147\n",
      "1773/1773 [==============================] - 1s 674us/step\n",
      "comm_round: 29 | global_acc: 75.240% | global_loss: 0.6096729636192322\n",
      "1773/1773 [==============================] - 2s 840us/step\n",
      "comm_round: 30 | global_acc: 75.085% | global_loss: 0.6136165261268616\n",
      "1773/1773 [==============================] - 2s 924us/step\n",
      "comm_round: 31 | global_acc: 75.402% | global_loss: 0.6078439354896545\n",
      "1773/1773 [==============================] - 2s 866us/step\n",
      "comm_round: 32 | global_acc: 75.421% | global_loss: 0.6105778217315674\n",
      "1773/1773 [==============================] - 1s 710us/step\n",
      "comm_round: 33 | global_acc: 75.407% | global_loss: 0.6100249290466309\n",
      "1773/1773 [==============================] - 1s 812us/step\n",
      "comm_round: 34 | global_acc: 75.437% | global_loss: 0.6097448468208313\n",
      "1773/1773 [==============================] - 2s 909us/step\n",
      "comm_round: 35 | global_acc: 75.266% | global_loss: 0.6120685338973999\n",
      "1773/1773 [==============================] - 2s 898us/step\n",
      "comm_round: 36 | global_acc: 75.449% | global_loss: 0.6079721450805664\n",
      "1773/1773 [==============================] - 1s 823us/step\n",
      "comm_round: 37 | global_acc: 75.546% | global_loss: 0.6109344959259033\n",
      "1773/1773 [==============================] - 1s 809us/step\n",
      "comm_round: 38 | global_acc: 75.520% | global_loss: 0.6086322665214539\n",
      "1773/1773 [==============================] - 1s 761us/step\n",
      "comm_round: 39 | global_acc: 75.546% | global_loss: 0.6102690696716309\n",
      "1773/1773 [==============================] - 2s 873us/step\n",
      "comm_round: 40 | global_acc: 75.522% | global_loss: 0.6076291799545288\n",
      "1773/1773 [==============================] - 2s 831us/step\n",
      "comm_round: 41 | global_acc: 75.441% | global_loss: 0.6111668348312378\n",
      "1773/1773 [==============================] - 2s 831us/step\n",
      "comm_round: 42 | global_acc: 75.437% | global_loss: 0.6120945811271667\n",
      "1773/1773 [==============================] - 1s 709us/step\n",
      "comm_round: 43 | global_acc: 75.571% | global_loss: 0.6111065745353699\n",
      "1773/1773 [==============================] - 1s 722us/step\n",
      "comm_round: 44 | global_acc: 75.504% | global_loss: 0.6063317656517029\n",
      "1773/1773 [==============================] - 1s 726us/step\n",
      "comm_round: 45 | global_acc: 75.543% | global_loss: 0.6090923547744751\n",
      "1773/1773 [==============================] - 1s 756us/step\n",
      "comm_round: 46 | global_acc: 75.603% | global_loss: 0.6100767850875854\n",
      "1773/1773 [==============================] - 1s 698us/step\n",
      "comm_round: 47 | global_acc: 75.494% | global_loss: 0.6099867820739746\n",
      "1773/1773 [==============================] - 1s 787us/step\n",
      "comm_round: 48 | global_acc: 75.513% | global_loss: 0.607989490032196\n",
      "1773/1773 [==============================] - 1s 819us/step\n",
      "comm_round: 49 | global_acc: 75.518% | global_loss: 0.6053609251976013\n",
      "1773/1773 [==============================] - 2s 831us/step\n",
      "comm_round: 50 | global_acc: 75.578% | global_loss: 0.6080428957939148\n",
      "1773/1773 [==============================] - 1s 812us/step\n",
      "comm_round: 51 | global_acc: 75.606% | global_loss: 0.6062498092651367\n",
      "1773/1773 [==============================] - 1s 818us/step\n",
      "comm_round: 52 | global_acc: 75.539% | global_loss: 0.6085934638977051\n",
      "1773/1773 [==============================] - 2s 830us/step\n",
      "comm_round: 53 | global_acc: 75.553% | global_loss: 0.6083132028579712\n",
      "1773/1773 [==============================] - 1s 669us/step\n",
      "comm_round: 54 | global_acc: 75.592% | global_loss: 0.6078274250030518\n",
      "1773/1773 [==============================] - 1s 791us/step\n",
      "comm_round: 55 | global_acc: 75.636% | global_loss: 0.6089102625846863\n",
      "1773/1773 [==============================] - 1s 681us/step\n",
      "comm_round: 56 | global_acc: 75.640% | global_loss: 0.6086733937263489\n",
      "1773/1773 [==============================] - 1s 762us/step\n",
      "comm_round: 57 | global_acc: 75.613% | global_loss: 0.6102571487426758\n",
      "1773/1773 [==============================] - 1s 791us/step\n",
      "comm_round: 58 | global_acc: 75.499% | global_loss: 0.6090527772903442\n",
      "1773/1773 [==============================] - 1s 812us/step\n",
      "comm_round: 59 | global_acc: 75.631% | global_loss: 0.6092785000801086\n",
      "1773/1773 [==============================] - 2s 839us/step\n",
      "comm_round: 60 | global_acc: 75.613% | global_loss: 0.6086434125900269\n",
      "1773/1773 [==============================] - 1s 694us/step\n",
      "comm_round: 61 | global_acc: 75.636% | global_loss: 0.6084666848182678\n",
      "1773/1773 [==============================] - 1s 796us/step\n",
      "comm_round: 62 | global_acc: 75.627% | global_loss: 0.6097802519798279\n"
     ]
    },
    {
     "name": "stdout",
     "output_type": "stream",
     "text": [
      "1773/1773 [==============================] - 1s 807us/step\n",
      "comm_round: 63 | global_acc: 75.553% | global_loss: 0.6076052784919739\n",
      "1773/1773 [==============================] - 1s 827us/step\n",
      "comm_round: 64 | global_acc: 75.636% | global_loss: 0.6061744093894958\n",
      "1773/1773 [==============================] - 1s 705us/step\n",
      "comm_round: 65 | global_acc: 75.649% | global_loss: 0.608026921749115\n",
      "1773/1773 [==============================] - 1s 673us/step\n",
      "comm_round: 66 | global_acc: 75.442% | global_loss: 0.6106443405151367\n",
      "1773/1773 [==============================] - 1s 699us/step\n",
      "comm_round: 67 | global_acc: 75.469% | global_loss: 0.6090624928474426\n",
      "1773/1773 [==============================] - 1s 685us/step\n",
      "comm_round: 68 | global_acc: 75.525% | global_loss: 0.6083202362060547\n",
      "1773/1773 [==============================] - 1s 698us/step\n",
      "comm_round: 69 | global_acc: 75.633% | global_loss: 0.6086216568946838\n",
      "1773/1773 [==============================] - 1s 695us/step\n",
      "comm_round: 70 | global_acc: 75.643% | global_loss: 0.6074455380439758\n",
      "1773/1773 [==============================] - 1s 630us/step\n",
      "comm_round: 71 | global_acc: 75.462% | global_loss: 0.6077463030815125\n",
      "1773/1773 [==============================] - 1s 656us/step\n",
      "comm_round: 72 | global_acc: 75.647% | global_loss: 0.6073095798492432\n",
      "1773/1773 [==============================] - 1s 615us/step\n",
      "comm_round: 73 | global_acc: 75.654% | global_loss: 0.6076278686523438\n",
      "1773/1773 [==============================] - 1s 724us/step\n",
      "comm_round: 74 | global_acc: 75.532% | global_loss: 0.6096605658531189\n",
      "1773/1773 [==============================] - 1s 714us/step\n",
      "comm_round: 75 | global_acc: 75.689% | global_loss: 0.6090200543403625\n",
      "1773/1773 [==============================] - 1s 738us/step\n",
      "comm_round: 76 | global_acc: 75.682% | global_loss: 0.6071950793266296\n",
      "1773/1773 [==============================] - 1s 714us/step\n",
      "comm_round: 77 | global_acc: 75.615% | global_loss: 0.6078512072563171\n",
      "1773/1773 [==============================] - 1s 577us/step\n",
      "comm_round: 78 | global_acc: 75.668% | global_loss: 0.6089088916778564\n",
      "1773/1773 [==============================] - 1s 719us/step\n",
      "comm_round: 79 | global_acc: 75.494% | global_loss: 0.6097732186317444\n",
      "1773/1773 [==============================] - 1s 724us/step\n",
      "comm_round: 80 | global_acc: 75.649% | global_loss: 0.6054296493530273\n",
      "1773/1773 [==============================] - 1s 767us/step\n",
      "comm_round: 81 | global_acc: 75.663% | global_loss: 0.6094622611999512\n",
      "1773/1773 [==============================] - 1s 722us/step\n",
      "comm_round: 82 | global_acc: 75.691% | global_loss: 0.6090234518051147\n",
      "1773/1773 [==============================] - 1s 656us/step\n",
      "comm_round: 83 | global_acc: 75.501% | global_loss: 0.609502375125885\n",
      "1773/1773 [==============================] - 1s 666us/step\n",
      "comm_round: 84 | global_acc: 75.679% | global_loss: 0.6080768704414368\n",
      "1773/1773 [==============================] - 1s 771us/step\n",
      "comm_round: 85 | global_acc: 75.666% | global_loss: 0.6065390706062317\n",
      "1773/1773 [==============================] - 1s 773us/step\n",
      "comm_round: 86 | global_acc: 75.672% | global_loss: 0.6062438488006592\n",
      "1773/1773 [==============================] - 1s 759us/step\n",
      "comm_round: 87 | global_acc: 75.643% | global_loss: 0.6078812479972839\n",
      "1773/1773 [==============================] - 1s 755us/step\n",
      "comm_round: 88 | global_acc: 75.673% | global_loss: 0.6081606149673462\n",
      "1773/1773 [==============================] - 1s 767us/step\n",
      "comm_round: 89 | global_acc: 75.610% | global_loss: 0.6082597970962524\n",
      "1773/1773 [==============================] - 1s 786us/step\n",
      "comm_round: 90 | global_acc: 75.666% | global_loss: 0.608249843120575\n",
      "1773/1773 [==============================] - 1s 788us/step\n",
      "comm_round: 91 | global_acc: 75.672% | global_loss: 0.6063863635063171\n",
      "1773/1773 [==============================] - 1s 812us/step\n",
      "comm_round: 92 | global_acc: 75.693% | global_loss: 0.6072880029678345\n",
      "1773/1773 [==============================] - 1s 677us/step\n",
      "comm_round: 93 | global_acc: 75.684% | global_loss: 0.6102002263069153\n",
      "1773/1773 [==============================] - 1s 786us/step\n",
      "comm_round: 94 | global_acc: 75.719% | global_loss: 0.6051161885261536\n",
      "1773/1773 [==============================] - 2s 831us/step\n",
      "comm_round: 95 | global_acc: 75.654% | global_loss: 0.606302797794342\n",
      "1773/1773 [==============================] - 1s 683us/step\n",
      "comm_round: 96 | global_acc: 75.703% | global_loss: 0.6067789793014526\n",
      "1773/1773 [==============================] - 2s 848us/step\n",
      "comm_round: 97 | global_acc: 75.666% | global_loss: 0.6040024161338806\n",
      "1773/1773 [==============================] - 1s 770us/step\n",
      "comm_round: 98 | global_acc: 75.716% | global_loss: 0.6053237318992615\n",
      "1773/1773 [==============================] - 1s 604us/step\n",
      "comm_round: 99 | global_acc: 75.701% | global_loss: 0.6076421737670898\n",
      "1773/1773 [==============================] - 2s 844us/step\n",
      "comm_round: 1 | global_acc: 75.594% | global_loss: 0.6085788011550903\n"
     ]
    }
   ],
   "source": [
    "#create clients\n",
    "clients = create_clients()\n",
    "\n",
    "#process and batch the training data for each client\n",
    "clients_batched = dict()\n",
    "for (client_name, data) in clients.items():\n",
    "    clients_batched[client_name] = batch_data(data)\n",
    "    \n",
    "#process and batch the test set  \n",
    "test_batched = tf.data.Dataset.from_tensor_slices((X_test, y_test)).batch(len(y_test))\n",
    "\n",
    "comms_round = 100\n",
    "    \n",
    "#create optimizer\n",
    "lr = 0.01 \n",
    "loss='sparse_categorical_crossentropy'\n",
    "metrics = ['accuracy']\n",
    "optimizer = tf.keras.optimizers.legacy.SGD(lr=lr, decay=lr / comms_round, momentum=0.9) \n",
    "\n",
    "#initialize global model\n",
    "smlp_global = DNN()\n",
    "global_model = smlp_global.build(20, 2)\n",
    "        \n",
    "#commence global training loop\n",
    "for comm_round in range(comms_round):\n",
    "            \n",
    "    # get the global model's weights - will serve as the initial weights for all local models\n",
    "    global_weights = global_model.get_weights()\n",
    "    \n",
    "    #initial list to collect local model weights after scalling\n",
    "    scaled_local_weight_list = list()\n",
    "\n",
    "    #randomize client data - using keys\n",
    "    client_names= list(clients_batched.keys())\n",
    "    random.shuffle(client_names)\n",
    "    \n",
    "    #loop through each client and create new local model\n",
    "    for client in client_names:\n",
    "        smlp_local = DNN()\n",
    "        local_model = smlp_local.build(20, 2)\n",
    "        local_model.compile(loss=loss, \n",
    "                      optimizer=optimizer, \n",
    "                      metrics=metrics)\n",
    "        \n",
    "        #set local model weight to the weight of the global model\n",
    "        local_model.set_weights(global_weights)\n",
    "        \n",
    "        #fit local model with client's data\n",
    "        local_model.fit(clients_batched[client], epochs=1, verbose=0)\n",
    "        \n",
    "        #scale the model weights and add to list\n",
    "        scaling_factor = weight_scalling_factor(clients_batched, client)\n",
    "        scaled_weights = scale_model_weights(local_model.get_weights(), scaling_factor)\n",
    "        scaled_local_weight_list.append(scaled_weights)\n",
    "        \n",
    "        #clear session to free memory after each communication round\n",
    "        K.clear_session()\n",
    "        \n",
    "    #to get the average over all the local model, we simply take the sum of the scaled weights\n",
    "    average_weights = sum_scaled_weights(scaled_local_weight_list)\n",
    "    \n",
    "    #update global model \n",
    "    global_model.set_weights(average_weights)\n",
    "\n",
    "    #test global model and print out metrics after each communications round\n",
    "    for(X_test, Y_test) in test_batched:\n",
    "        global_acc, global_loss = test_model(X_test, Y_test, global_model, comm_round)\n",
    "        SGD_dataset = tf.data.Dataset.from_tensor_slices((X_train, y_train)).shuffle(len(y_train)).batch(250)\n",
    "        smlp_SGD = DNN()\n",
    "        SGD_model = smlp_SGD.build(20, 2) \n",
    "\n",
    "        SGD_model.compile(loss=loss, optimizer=optimizer, metrics=metrics)\n",
    "\n",
    "# fit the SGD training data to model\n",
    "_ = SGD_model.fit(SGD_dataset, epochs=100, verbose=0)\n",
    "\n",
    "#test the SGD global model and print out metrics\n",
    "for(X_test, Y_test) in test_batched:\n",
    "        SGD_acc, SGD_loss = test_model(X_test, Y_test, SGD_model, 1)"
   ]
  },
  {
   "cell_type": "code",
   "execution_count": 6,
   "id": "9b13ff1f",
   "metadata": {
    "scrolled": true
   },
   "outputs": [
    {
     "name": "stdout",
     "output_type": "stream",
     "text": [
      "1773/1773 [==============================] - 2s 851us/step\n"
     ]
    }
   ],
   "source": [
    "Y_predictions = np.argmax(SGD_model.predict(X_test),axis = 1)"
   ]
  },
  {
   "cell_type": "code",
   "execution_count": 7,
   "id": "9bc551a0",
   "metadata": {
    "scrolled": true
   },
   "outputs": [
    {
     "data": {
      "text/plain": [
       "array([[30018,  9652],\n",
       "       [ 4195, 12871]], dtype=int64)"
      ]
     },
     "execution_count": 7,
     "metadata": {},
     "output_type": "execute_result"
    }
   ],
   "source": [
    "cm = confusion_matrix(Y_predictions, Y_test)\n",
    "cm"
   ]
  },
  {
   "cell_type": "code",
   "execution_count": 8,
   "id": "8a83e0bb",
   "metadata": {},
   "outputs": [
    {
     "name": "stdout",
     "output_type": "stream",
     "text": [
      "              precision    recall  f1-score   support\n",
      "\n",
      "           0     0.7567    0.8774    0.8126     34213\n",
      "           1     0.7542    0.5715    0.6502     22523\n",
      "\n",
      "    accuracy                         0.7559     56736\n",
      "   macro avg     0.7554    0.7244    0.7314     56736\n",
      "weighted avg     0.7557    0.7559    0.7481     56736\n",
      "\n"
     ]
    }
   ],
   "source": [
    "print(classification_report(Y_test, Y_predictions, digits=4))"
   ]
  },
  {
   "cell_type": "markdown",
   "id": "56495b0e",
   "metadata": {},
   "source": [
    "# Testing on each dataset"
   ]
  },
  {
   "cell_type": "code",
   "execution_count": 9,
   "id": "ec02651a",
   "metadata": {
    "scrolled": true
   },
   "outputs": [
    {
     "name": "stdout",
     "output_type": "stream",
     "text": [
      "444/444 [==============================] - 0s 844us/step\n",
      "[[7472 2406]\n",
      " [1063 3243]]\n",
      "              precision    recall  f1-score   support\n",
      "\n",
      "           0     0.8755    0.7564    0.8116      9878\n",
      "           1     0.5741    0.7531    0.6515      4306\n",
      "\n",
      "    accuracy                         0.7554     14184\n",
      "   macro avg     0.7248    0.7548    0.7316     14184\n",
      "weighted avg     0.7840    0.7554    0.7630     14184\n",
      "\n"
     ]
    }
   ],
   "source": [
    "Y_cle = np.argmax(SGD_model.predict(cle_X_test),axis = 1)\n",
    "cm_cle = confusion_matrix(Y_cle, cle_Y_test_binary)\n",
    "print(cm_cle)\n",
    "print(classification_report(Y_cle, cle_Y_test_binary, digits=4))"
   ]
  },
  {
   "cell_type": "code",
   "execution_count": 10,
   "id": "87b7cedd",
   "metadata": {},
   "outputs": [
    {
     "name": "stdout",
     "output_type": "stream",
     "text": [
      "[1, 2, 7, 14, 16, 26, 28, 40, 44, 52, 61, 63, 65, 66, 67, 69, 70, 84, 95, 104, 112, 116, 118, 119, 120, 121, 133, 134, 135, 136, 148, 149, 170, 172, 173, 174, 177, 185, 192, 195, 196, 200, 205, 206, 208, 212, 213, 215, 216, 217, 222, 224, 225, 226, 227, 231, 233, 234, 235, 238, 248, 252, 253, 259, 266, 269, 271, 275, 279, 282, 288, 290, 293, 299, 304, 307, 308, 309, 315, 324, 328, 342, 344, 349, 351, 354, 362, 371, 384, 388, 389, 390, 391, 393, 394, 406, 407, 414, 425, 427, 430, 433, 452, 453, 458, 459, 462, 467, 468, 469, 475, 476, 488, 490, 491, 504, 507, 515, 516, 518, 519, 520, 521, 522, 524, 527, 528, 533, 542, 550, 555, 558, 564, 569, 572, 576, 580, 588, 590, 592, 595, 596, 599, 605, 606, 610, 613, 617, 619, 627, 631, 636, 642, 650, 653, 665, 669, 672, 675, 696, 698, 714, 723, 727, 731, 732, 733, 734, 737, 744, 746, 751, 753, 761, 762, 770, 777, 778, 782, 790, 793, 801, 811, 814, 827, 830, 835, 836, 838, 853, 858, 861, 863, 864, 866, 876, 878, 881, 884, 887, 896, 902, 905, 911, 912, 914, 922, 925, 937, 951, 952, 953, 966, 968, 970, 972, 973, 974, 979, 983, 990, 1003, 1004, 1006, 1018, 1026, 1032, 1033, 1044, 1053, 1056, 1059, 1064, 1066, 1081, 1082, 1094, 1103, 1107, 1112, 1118, 1121, 1122, 1128, 1133, 1140, 1148, 1153, 1159, 1161, 1164, 1166, 1167, 1170, 1171, 1177, 1179, 1196, 1199, 1204, 1214, 1216, 1218, 1220, 1222, 1224, 1227, 1229, 1245, 1247, 1251, 1257, 1259, 1264, 1265, 1266, 1272, 1273, 1279, 1283, 1284, 1285, 1291, 1297, 1304, 1305, 1307, 1312, 1316, 1329, 1342, 1344, 1347, 1351, 1364, 1365, 1369, 1370, 1373, 1377, 1378, 1395, 1398, 1401, 1404, 1413, 1419, 1424, 1430, 1431, 1432, 1438, 1439, 1443, 1448, 1449, 1463, 1464, 1467, 1471, 1478, 1483, 1485, 1486, 1489, 1490, 1497, 1507, 1512, 1517, 1522, 1524, 1526, 1531, 1533, 1551, 1553, 1555, 1562, 1567, 1568, 1569, 1580, 1581, 1584, 1585, 1589, 1596, 1599, 1600, 1601, 1606, 1610, 1611, 1613, 1614, 1620, 1632, 1636, 1637, 1643, 1644, 1646, 1648, 1650, 1656, 1660, 1675, 1678, 1680, 1681, 1687, 1692, 1694, 1702, 1703, 1708, 1726, 1727, 1729, 1730, 1738, 1745, 1766, 1771, 1773, 1774, 1780, 1786, 1788, 1789, 1793, 1796, 1807, 1810, 1814, 1817, 1818, 1819, 1825, 1826, 1827, 1830, 1840, 1849, 1856, 1860, 1862, 1875, 1876, 1879, 1881, 1882, 1883, 1884, 1885, 1894, 1895, 1898, 1904, 1909, 1910, 1912, 1913, 1924, 1925, 1937, 1945, 1948, 1950, 1953, 1954, 1960, 1962, 1965, 1967, 1974, 1976, 1977, 1980, 1984, 1988, 1994, 2003, 2006, 2011, 2012, 2018, 2020, 2023, 2029, 2032, 2034, 2045, 2049, 2063, 2064, 2070, 2071, 2074, 2075, 2081, 2089, 2090, 2097, 2104, 2106, 2109, 2113, 2117, 2121, 2126, 2127, 2130, 2132, 2134, 2136, 2139, 2140, 2143, 2144, 2145, 2148, 2149, 2151, 2152, 2155, 2156, 2157, 2158, 2163, 2164, 2168, 2169, 2175, 2187, 2192, 2194, 2196, 2201, 2202, 2215, 2227, 2240, 2241, 2247, 2248, 2249, 2250, 2255, 2256, 2257, 2262, 2268, 2276, 2279, 2283, 2286, 2287, 2290, 2300, 2303, 2304, 2311, 2313, 2321, 2325, 2328, 2329, 2334, 2336, 2337, 2341, 2342, 2343, 2346, 2347, 2348, 2349, 2351, 2352, 2355, 2359, 2361, 2366, 2371, 2372, 2375, 2376, 2377, 2381, 2384, 2389, 2390, 2392, 2400, 2401, 2408, 2412, 2421, 2424, 2427, 2430, 2431, 2436, 2440, 2445, 2446, 2447, 2449, 2451, 2453, 2462, 2465, 2472, 2473, 2477, 2484, 2494, 2495, 2496, 2498, 2500, 2504, 2530, 2537, 2539, 2540, 2542, 2544, 2546, 2550, 2557, 2559, 2561, 2563, 2564, 2565, 2569, 2578, 2583, 2585, 2592, 2594, 2611, 2612, 2613, 2615, 2618, 2625, 2626, 2627, 2631, 2634, 2635, 2642, 2644, 2646, 2650, 2654, 2656, 2662, 2663, 2665, 2668, 2671, 2673, 2676, 2680, 2682, 2684, 2687, 2690, 2692, 2694, 2703, 2708, 2713, 2718, 2723, 2724, 2729, 2730, 2731, 2737, 2740, 2742, 2746, 2749, 2754, 2759, 2767, 2768, 2769, 2772, 2774, 2789, 2792, 2795, 2799, 2804, 2806, 2810, 2813, 2817, 2821, 2829, 2833, 2841, 2844, 2845, 2848, 2859, 2860, 2861, 2866, 2875, 2877, 2878, 2879, 2880, 2895, 2898, 2901, 2903, 2907, 2912, 2913, 2920, 2924, 2928, 2930, 2931, 2932, 2935, 2938, 2941, 2943, 2944, 2945, 2948, 2955, 2962, 2969, 2973, 2978, 2981, 2983, 2998, 3002, 3003, 3011, 3025, 3028, 3042, 3046, 3052, 3053, 3057, 3061, 3067, 3069, 3070, 3074, 3079, 3080, 3082, 3083, 3084, 3088, 3093, 3104, 3106, 3115, 3118, 3120, 3121, 3126, 3129, 3133, 3140, 3143, 3146, 3150, 3169, 3170, 3173, 3175, 3176, 3181, 3192, 3195, 3197, 3205, 3207, 3209, 3213, 3214, 3215, 3217, 3219, 3227, 3231, 3240, 3244, 3246, 3248, 3256, 3258, 3259, 3262, 3267, 3271, 3272, 3274, 3281, 3282, 3283, 3285, 3288, 3290, 3295, 3296, 3298, 3299, 3301, 3306, 3311, 3320, 3325, 3335, 3337, 3340, 3343, 3348, 3357, 3358, 3362, 3365, 3367, 3370, 3372, 3374, 3376, 3378, 3386, 3390, 3391, 3392, 3399, 3400, 3401, 3410, 3412, 3415, 3418, 3419, 3422, 3428, 3429, 3430, 3436, 3439, 3442, 3444, 3462, 3467, 3472, 3478, 3481, 3483, 3485, 3486, 3487, 3492, 3496, 3498, 3502, 3503, 3505, 3508, 3517, 3520, 3527, 3532, 3539, 3553, 3554, 3566, 3584, 3585, 3586, 3588, 3591, 3592, 3594, 3597, 3603, 3604, 3606, 3609, 3612, 3618, 3624, 3625, 3636, 3637, 3642, 3647, 3648, 3659, 3668, 3677, 3680, 3681, 3684, 3686, 3689, 3692, 3698, 3702, 3705, 3710, 3711, 3714, 3717, 3720, 3723, 3726, 3737, 3739, 3741, 3746, 3747, 3752, 3760, 3763, 3767, 3770, 3775, 3777, 3782, 3798, 3814, 3815, 3817, 3820, 3823, 3827, 3829, 3832, 3833, 3846, 3852, 3854, 3856, 3866, 3868, 3877, 3879, 3886, 3888, 3890, 3893, 3895, 3905, 3910, 3912, 3918, 3919, 3923, 3930, 3932, 3939, 3940, 3941, 3951, 3953, 3957, 3958, 3964, 3967, 3969, 3972, 3976, 3977, 3980, 3983, 3991, 3992, 3994, 3998, 4005, 4009, 4011, 4016, 4022, 4027, 4033, 4046, 4047, 4049, 4053, 4056, 4062, 4069, 4071, 4075, 4078, 4081, 4088, 4089, 4090, 4097, 4098, 4099, 4100, 4103, 4105, 4116, 4117, 4121, 4122, 4126, 4128, 4130, 4131, 4136, 4140, 4141, 4153, 4154, 4157, 4173, 4175, 4177, 4182, 4191, 4194, 4205, 4211, 4226, 4230, 4232, 4236, 4238, 4242, 4243, 4245, 4255, 4258, 4260, 4262, 4263, 4264, 4267, 4269, 4270, 4271, 4272, 4289, 4292, 4305, 4310, 4315, 4317, 4319, 4321, 4323, 4327, 4337, 4347, 4348, 4350, 4351, 4374, 4377, 4384, 4386, 4392, 4396, 4399, 4400, 4402, 4403, 4405, 4410, 4424, 4431, 4434, 4435, 4438, 4442, 4444, 4446, 4447, 4459, 4461, 4464, 4471, 4474, 4478, 4480, 4487, 4492, 4494, 4498, 4510, 4512, 4515, 4520, 4523, 4527, 4530, 4535, 4537, 4539, 4540, 4541, 4544, 4550, 4555, 4560, 4561, 4572, 4574, 4576, 4582, 4583, 4586, 4587, 4588, 4593, 4597, 4599, 4603, 4604, 4607, 4608, 4611, 4614, 4615, 4618, 4627, 4630, 4640, 4641, 4643, 4653, 4654, 4658, 4666, 4668, 4673, 4675, 4685, 4689, 4696, 4698, 4699, 4704, 4710, 4716, 4720, 4721, 4722, 4724, 4730, 4731, 4737, 4738, 4743, 4749, 4755, 4756, 4761, 4764, 4765, 4773, 4777, 4782, 4783, 4785, 4788, 4791, 4792, 4797, 4811, 4812, 4814, 4815, 4823, 4830, 4843, 4845, 4846, 4847, 4848, 4853, 4856, 4859, 4860, 4871, 4879, 4890, 4891, 4894, 4909, 4910, 4913, 4917, 4921, 4924, 4925, 4926, 4928, 4945, 4948, 4949, 4953, 4959, 4960, 4963, 4969, 4974, 4982, 4983, 4984, 4987, 4994, 4997, 4998, 5001, 5004, 5006, 5008, 5010, 5012, 5014, 5015, 5018, 5020, 5022, 5026, 5028, 5029, 5034, 5043, 5045, 5049, 5050, 5051, 5052, 5054, 5055, 5056, 5057, 5059, 5061, 5062, 5065, 5067, 5071, 5074, 5076, 5081, 5089, 5091, 5095, 5101, 5104, 5106, 5113, 5118, 5122, 5126, 5127, 5128, 5132, 5136, 5138, 5140, 5142, 5157, 5160, 5162, 5166, 5172, 5178, 5186, 5190, 5194, 5195, 5197, 5199, 5204, 5206, 5207, 5211, 5215, 5216, 5217, 5225, 5229, 5230, 5233, 5234, 5235, 5236, 5239, 5242, 5249, 5261, 5263, 5266, 5268, 5269, 5274, 5287, 5288, 5294, 5297, 5298, 5302, 5308, 5311, 5315, 5318, 5322, 5323, 5329, 5337, 5338, 5344, 5351, 5353, 5358, 5361, 5364, 5365, 5366, 5367, 5371, 5380, 5388, 5390, 5393, 5394, 5405, 5412, 5414, 5420, 5422, 5424, 5428, 5429, 5431, 5435, 5436, 5437, 5439, 5441, 5442, 5444, 5445, 5453, 5463, 5467, 5469, 5470, 5478, 5480, 5485, 5486, 5489, 5495, 5497, 5498, 5502, 5517, 5522, 5524, 5525, 5528, 5535, 5538, 5541, 5542, 5544, 5548, 5553, 5554, 5560, 5562, 5570, 5574, 5575, 5577, 5579, 5580, 5583, 5584, 5607, 5611, 5612, 5616, 5618, 5625, 5632, 5634, 5637, 5640, 5647, 5650, 5652, 5662, 5663, 5665, 5670, 5676, 5681, 5685, 5687, 5699, 5701, 5705, 5710, 5712, 5726, 5728, 5730, 5734, 5738, 5739, 5742, 5748, 5751, 5753, 5758, 5759, 5762, 5769, 5778, 5779, 5780, 5789, 5797, 5801, 5803, 5806, 5807, 5808, 5809, 5810, 5811, 5812, 5813, 5814, 5815, 5824, 5831, 5837, 5841, 5843, 5846, 5848, 5857, 5861, 5867, 5870, 5876, 5878, 5882, 5883, 5885, 5888, 5892, 5897, 5898, 5909, 5913, 5914, 5918, 5919, 5928, 5934, 5937, 5941, 5942, 5946, 5949, 5951, 5956, 5957, 5963, 5972, 5973, 5980, 5985, 5988, 5991, 5992, 5993, 5995, 6000, 6006, 6016, 6018, 6022, 6024, 6025, 6026, 6031, 6036, 6038, 6046, 6047, 6048, 6052, 6058, 6059, 6060, 6064, 6070, 6078, 6080, 6087, 6089, 6094, 6104, 6113, 6114, 6117, 6120, 6123, 6124, 6132, 6146, 6147, 6149, 6151, 6157, 6159, 6161, 6166, 6167, 6170, 6175, 6185, 6190, 6198, 6201, 6204, 6205, 6207, 6209, 6211, 6212, 6228, 6237, 6238, 6239, 6245, 6246, 6247, 6255, 6264, 6265, 6269, 6275, 6276, 6284, 6295, 6306, 6313, 6314, 6321, 6322, 6333, 6336, 6337, 6342, 6344, 6351, 6355, 6362, 6365, 6366, 6374, 6375, 6378, 6379, 6385, 6386, 6388, 6393, 6396, 6398, 6399, 6403, 6408, 6412, 6414, 6419, 6421, 6423, 6424, 6426, 6429, 6435, 6438, 6440, 6443, 6445, 6454, 6461, 6462, 6464, 6465, 6479, 6481, 6486, 6495, 6498, 6501, 6504, 6510, 6524, 6533, 6541, 6545, 6550, 6552, 6561, 6564, 6568, 6573, 6575, 6585, 6589, 6590, 6591, 6595, 6602, 6605, 6610, 6614, 6616, 6618, 6620, 6621, 6625, 6630, 6637, 6648, 6650, 6652, 6656, 6660, 6662, 6664, 6670, 6675, 6678, 6679, 6685, 6688, 6695, 6697, 6700, 6702, 6707, 6710, 6720, 6728, 6730, 6734, 6736, 6747, 6748, 6749, 6752, 6753, 6755, 6759, 6767, 6768, 6772, 6774, 6775, 6779, 6780, 6781, 6788, 6789, 6791, 6794, 6796, 6798, 6802, 6810, 6812, 6813, 6815, 6837, 6839, 6841, 6853, 6854, 6857, 6860, 6861, 6867, 6869, 6872, 6873, 6874, 6877, 6880, 6889, 6903, 6905, 6906, 6908, 6913, 6914, 6917, 6924, 6933, 6939, 6945, 6953, 6954, 6955, 6960, 6966, 6967, 6973, 6976, 6978, 6979, 6982, 6985, 6986, 6993, 7001, 7003, 7004, 7007, 7010, 7012, 7013, 7014, 7018, 7022, 7027, 7030, 7032, 7033, 7038, 7044, 7050, 7054, 7055, 7059, 7060, 7061, 7064, 7071, 7073, 7076, 7077, 7079, 7093, 7107, 7111, 7114, 7119, 7122, 7124, 7126, 7128, 7132, 7133, 7142, 7143, 7144, 7148, 7152, 7154, 7160, 7161, 7162, 7167, 7170, 7175, 7177, 7183, 7195, 7208, 7214, 7217, 7219, 7221, 7228, 7230, 7232, 7233, 7243, 7249, 7251, 7253, 7255, 7256, 7258, 7259, 7260, 7265, 7267, 7272, 7273, 7276, 7279, 7282, 7286, 7299, 7310, 7312, 7314, 7315, 7322, 7323, 7326, 7327, 7328, 7330, 7331, 7336, 7341, 7343, 7347, 7359, 7360, 7366, 7368, 7371, 7376, 7377, 7379, 7385, 7392, 7393, 7394, 7396, 7404, 7407, 7418, 7420, 7423, 7427, 7428, 7429, 7435, 7437, 7445, 7447, 7452, 7455, 7458, 7460, 7461, 7464, 7466, 7474, 7482, 7485, 7490, 7499, 7501, 7506, 7514, 7520, 7533, 7536, 7539, 7543, 7545, 7547, 7548, 7551, 7552, 7553, 7555, 7557, 7559, 7562, 7565, 7569, 7584, 7592, 7595, 7597, 7606, 7611, 7613, 7617, 7620, 7624, 7627, 7633, 7637, 7640, 7641, 7644, 7647, 7648, 7652, 7653, 7663, 7664, 7667, 7668, 7670, 7678, 7679, 7685, 7687, 7688, 7695, 7696, 7700, 7706, 7707, 7709, 7710, 7711, 7712, 7716, 7717, 7720, 7721, 7722, 7723, 7731, 7739, 7740, 7742, 7743, 7749, 7752, 7758, 7762, 7767, 7768, 7770, 7773, 7791, 7792, 7808, 7809, 7813, 7816, 7819, 7821, 7823, 7826, 7836, 7840, 7848, 7849, 7850, 7851, 7857, 7860, 7871, 7874, 7877, 7884, 7898, 7901, 7909, 7911, 7922, 7927, 7928, 7929, 7932, 7933, 7934, 7935, 7939, 7941, 7946, 7947, 7953, 7955, 7962, 7980, 7982, 7986, 7995, 7996, 7999, 8002, 8012, 8013, 8017, 8023, 8026, 8028, 8031, 8036, 8042, 8048, 8049, 8052, 8057, 8058, 8060, 8061, 8062, 8063, 8065, 8067, 8070, 8073, 8088, 8091, 8095, 8100, 8113, 8116, 8125, 8126, 8127, 8139, 8140, 8145, 8148, 8150, 8152, 8154, 8160, 8162, 8163, 8165, 8168, 8172, 8175, 8176, 8179, 8184, 8187, 8195, 8204, 8206, 8209, 8210, 8212, 8213, 8218, 8219, 8220, 8221, 8226, 8227, 8231, 8233, 8239, 8246, 8254, 8255, 8265, 8268, 8271, 8272, 8274, 8276, 8277, 8280, 8289, 8293, 8295, 8302, 8306, 8308, 8312, 8313, 8315, 8316, 8319, 8321, 8329, 8331, 8332, 8338, 8344, 8346, 8348, 8349, 8354, 8367, 8368, 8369, 8372, 8373, 8375, 8379, 8392, 8393, 8394, 8395, 8404, 8407, 8409, 8412, 8414, 8416, 8417, 8420, 8423, 8424, 8428, 8437, 8448, 8452, 8455, 8460, 8462, 8466, 8469, 8471, 8476, 8481, 8483, 8485, 8490, 8494, 8495, 8496, 8497, 8504, 8506, 8514, 8515, 8518, 8524, 8528, 8544, 8545, 8548, 8552, 8556, 8559, 8560, 8563, 8567, 8571, 8575, 8576, 8577, 8579, 8582, 8583, 8585, 8595, 8600, 8607, 8627, 8637, 8640, 8643, 8644, 8647, 8672, 8682, 8684, 8685, 8690, 8693, 8697, 8699, 8700, 8702, 8706, 8707, 8709, 8716, 8717, 8726, 8731, 8735, 8739, 8744, 8746, 8756, 8759, 8762, 8763, 8767, 8769, 8776, 8777, 8784, 8785, 8786, 8789, 8792, 8796, 8798, 8801, 8803, 8804, 8805, 8807, 8809, 8810, 8816, 8822, 8832, 8850, 8852, 8853, 8863, 8868, 8869, 8875, 8880, 8884, 8887, 8889, 8891, 8893, 8895, 8896, 8897, 8898, 8902, 8903, 8907, 8909, 8910, 8911, 8913, 8918, 8922, 8946, 8948, 8955, 8960, 8962, 8963, 8965, 8967, 8969, 8970, 8973, 8976, 8977, 8978, 8979, 8982, 8985, 8987, 8994, 9000, 9003, 9008, 9015, 9026, 9033, 9035, 9042, 9053, 9054, 9055, 9056, 9059, 9071, 9077, 9079, 9080, 9087, 9090, 9091, 9094, 9096, 9099, 9103, 9107, 9114, 9121, 9126, 9131, 9136, 9140, 9141, 9142, 9144, 9147, 9149, 9153, 9158, 9160, 9161, 9163, 9164, 9167, 9168, 9177, 9187, 9189, 9190, 9192, 9194, 9197, 9199, 9200, 9206, 9207, 9208, 9210, 9214, 9215, 9216, 9223, 9230, 9231, 9232, 9245, 9248, 9252, 9256, 9257, 9266, 9272, 9276, 9280, 9284, 9285, 9288, 9299, 9309, 9310, 9312, 9313, 9318, 9323, 9325, 9327, 9334, 9341, 9345, 9356, 9361, 9362, 9364, 9369, 9376, 9377, 9379, 9383, 9388, 9390, 9396, 9397, 9402, 9403, 9404, 9406, 9411, 9412, 9414, 9417, 9422, 9439, 9444, 9445, 9459, 9460, 9461, 9463, 9466, 9467, 9469, 9475, 9476, 9477, 9478, 9480, 9486, 9502, 9505, 9506, 9518, 9519, 9527, 9529, 9530, 9532, 9538, 9542, 9544, 9547, 9550, 9564, 9565, 9569, 9574, 9575, 9576, 9580, 9587, 9588, 9590, 9591, 9593, 9600, 9601, 9604, 9607, 9609, 9625, 9627, 9630, 9632, 9635, 9652, 9660, 9663, 9668, 9672, 9676, 9679, 9682, 9690, 9692, 9693, 9704, 9705, 9709, 9711, 9714, 9725, 9732, 9734, 9735, 9739, 9740, 9746, 9747, 9748, 9751, 9753, 9757, 9758, 9765, 9768, 9769, 9773, 9777, 9778, 9780, 9786, 9788, 9792, 9795, 9801, 9802, 9803, 9805, 9815, 9816, 9818, 9822, 9824, 9825, 9826, 9828, 9829, 9835, 9838, 9839, 9846, 9847, 9850, 9857, 9862, 9869, 9871, 9874, 9881, 9882, 9889, 9894, 9903, 9906, 9915, 9920, 9925, 9926, 9927, 9928, 9932, 9933, 9944, 9947, 9949, 9951, 9955, 9956, 9960, 9969, 9975, 9976, 9987, 9991, 9994, 9996, 10001, 10005, 10006, 10011, 10015, 10016, 10019, 10021, 10032, 10034, 10038, 10039, 10041, 10050, 10054, 10062, 10074, 10076, 10077, 10081, 10084, 10092, 10094, 10100, 10101, 10102, 10104, 10107, 10109, 10112, 10114, 10116, 10121, 10122, 10125, 10129, 10146, 10150, 10151, 10152, 10154, 10157, 10159, 10160, 10168, 10171, 10179, 10180, 10182, 10189, 10190, 10191, 10197, 10216, 10217, 10223, 10228, 10233, 10235, 10240, 10246, 10248, 10254, 10256, 10257, 10258, 10261, 10270, 10276, 10279, 10287, 10292, 10296, 10299, 10305, 10314, 10320, 10331, 10333, 10340, 10341, 10343, 10344, 10352, 10353, 10354, 10369, 10371, 10372, 10373, 10377, 10383, 10384, 10385, 10387, 10388, 10391, 10394, 10402, 10409, 10411, 10415, 10420, 10421, 10422, 10424, 10428, 10429, 10435, 10439, 10440, 10443, 10445, 10449, 10460, 10462, 10465, 10466, 10468, 10478, 10479, 10486, 10493, 10497, 10499, 10505, 10523, 10524, 10527, 10530, 10532, 10533, 10534, 10540, 10542, 10544, 10546, 10549, 10559, 10561, 10563, 10580, 10582, 10585, 10587, 10591, 10593, 10596, 10603, 10606, 10609, 10613, 10616, 10617, 10618, 10623, 10628, 10630, 10634, 10638, 10639, 10643, 10647, 10650, 10652, 10668, 10671, 10673, 10674, 10684, 10689, 10693, 10696, 10700, 10705, 10708, 10709, 10712, 10713, 10715, 10722, 10723, 10729, 10742, 10754, 10755, 10756, 10759, 10761, 10770, 10777, 10778, 10781, 10790, 10795, 10796, 10797, 10798, 10803, 10805, 10807, 10817, 10819, 10825, 10833, 10841, 10846, 10854, 10859, 10861, 10866, 10868, 10871, 10873, 10882, 10885, 10886, 10888, 10893, 10898, 10899, 10901, 10908, 10909, 10911, 10914, 10919, 10923, 10924, 10925, 10926, 10930, 10932, 10946, 10948, 10951, 10956, 10958, 10959, 10962, 10963, 10968, 10974, 10978, 10981, 10984, 10985, 10988, 10989, 10992, 10997, 10998, 10999, 11003, 11008, 11015, 11019, 11022, 11023, 11027, 11031, 11032, 11041, 11048, 11053, 11062, 11063, 11065, 11066, 11072, 11079, 11083, 11085, 11092, 11102, 11104, 11122, 11124, 11134, 11136, 11153, 11163, 11166, 11169, 11172, 11176, 11180, 11182, 11188, 11189, 11190, 11191, 11192, 11194, 11210, 11219, 11223, 11238, 11239, 11240, 11242, 11252, 11260, 11261, 11262, 11263, 11264, 11266, 11278, 11280, 11287, 11290, 11292, 11295, 11309, 11314, 11315, 11316, 11320, 11321, 11324, 11337, 11346, 11353, 11356, 11357, 11359, 11366, 11369, 11382, 11384, 11385, 11394, 11395, 11399, 11402, 11405, 11414, 11418, 11420, 11424, 11426, 11427, 11431, 11432, 11436, 11437, 11442, 11445, 11447, 11452, 11455, 11460, 11461, 11465, 11471, 11480, 11484, 11486, 11488, 11496, 11497, 11499, 11500, 11507, 11512, 11516, 11520, 11526, 11527, 11529, 11530, 11531, 11534, 11536, 11538, 11539, 11540, 11546, 11547, 11549, 11550, 11553, 11560, 11561, 11562, 11565, 11571, 11577, 11579, 11585, 11586, 11587, 11592, 11604, 11607, 11612, 11617, 11620, 11625, 11630, 11633, 11636, 11640, 11644, 11651, 11652, 11653, 11655, 11664, 11669, 11671, 11673, 11676, 11678, 11682, 11690, 11693, 11696, 11697, 11704, 11705, 11714, 11716, 11717, 11720, 11727, 11730, 11732, 11735, 11741, 11747, 11749, 11752, 11758, 11760, 11766, 11769, 11774, 11776, 11777, 11780, 11782, 11789, 11802, 11811, 11813, 11838, 11847, 11848, 11850, 11857, 11877, 11880, 11882, 11887, 11897, 11904, 11905, 11909, 11910, 11913, 11931, 11955, 11959, 11963, 11967, 11972, 11974, 11985, 11987, 11990, 11993, 11997, 12003, 12005, 12006, 12010, 12015, 12021, 12022, 12025, 12040, 12046, 12048, 12063, 12069, 12072, 12073, 12074, 12078, 12082, 12088, 12091, 12093, 12096, 12097, 12117, 12126, 12127, 12143, 12148, 12157, 12159, 12160, 12162, 12168, 12170, 12171, 12176, 12178, 12179, 12181, 12184, 12187, 12188, 12194, 12195, 12201, 12202, 12203, 12204, 12207, 12208, 12217, 12220, 12221, 12227, 12237, 12242, 12246, 12252, 12254, 12255, 12257, 12262, 12269, 12276, 12277, 12279, 12283, 12286, 12300, 12303, 12307, 12315, 12320, 12323, 12328, 12336, 12343, 12345, 12351, 12353, 12357, 12358, 12360, 12363, 12366, 12375, 12376, 12382, 12390, 12391, 12395, 12398, 12400, 12402, 12408, 12411, 12416, 12426, 12427, 12430, 12432, 12440, 12442, 12443, 12444, 12445, 12448, 12450, 12455, 12465, 12466, 12469, 12472, 12474, 12485, 12487, 12489, 12490, 12491, 12494, 12503, 12514, 12518, 12521, 12524, 12526, 12528, 12533, 12535, 12543, 12550, 12551, 12553, 12555, 12558, 12560, 12563, 12566, 12579, 12581, 12589, 12592, 12595, 12604, 12607, 12609, 12620, 12625, 12627, 12631, 12633, 12634, 12637, 12640, 12642, 12644, 12656, 12659, 12663, 12665, 12685, 12687, 12693, 12695, 12698, 12714, 12717, 12722, 12723, 12729, 12736, 12737, 12740, 12746, 12751, 12752, 12761, 12762, 12765, 12766, 12774, 12776, 12780, 12782, 12789, 12792, 12796, 12798, 12805, 12825, 12826, 12827, 12828, 12831, 12832, 12841, 12845, 12846, 12848, 12849, 12853, 12854, 12855, 12860, 12862, 12868, 12870, 12876, 12878, 12880, 12886, 12890, 12897, 12905, 12908, 12909, 12910, 12913, 12916, 12919, 12923, 12930, 12932, 12935, 12937, 12941, 12942, 12943, 12948, 12949, 12952, 12963, 12966, 12972, 12975, 12978, 12980, 12982, 12983, 12989, 12993, 12995, 12997, 12998, 13007, 13011, 13018, 13026, 13031, 13033, 13036, 13038, 13039, 13040, 13046, 13049, 13053, 13058, 13060, 13066, 13067, 13068, 13070, 13071, 13072, 13085, 13089, 13091, 13092, 13093, 13095, 13102, 13111, 13118, 13126, 13132, 13133, 13142, 13143, 13147, 13148, 13150, 13156, 13162, 13164, 13165, 13170, 13171, 13172, 13191, 13198, 13200, 13204, 13207, 13208, 13211, 13219, 13221, 13222, 13224, 13226, 13232, 13237, 13246, 13247, 13260, 13268, 13276, 13277, 13280, 13281, 13285, 13289, 13294, 13299, 13307, 13309, 13315, 13316, 13317, 13318, 13327, 13331, 13339, 13341, 13346, 13350, 13351, 13352, 13357, 13362, 13363, 13374, 13375, 13376, 13379, 13383, 13384, 13389, 13393, 13395, 13405, 13408, 13414, 13419, 13420, 13422, 13428, 13431, 13432, 13433, 13434, 13435, 13439, 13445, 13449, 13450, 13451, 13454, 13463, 13466, 13471, 13473, 13477, 13492, 13495, 13499, 13500, 13501, 13510, 13512, 13514, 13515, 13516, 13519, 13521, 13527, 13531, 13532, 13538, 13542, 13543, 13547, 13551, 13558, 13561, 13568, 13570, 13577, 13578, 13585, 13593, 13594, 13606, 13612, 13618, 13624, 13639, 13641, 13642, 13645, 13651, 13653, 13654, 13662, 13664, 13674, 13677, 13679, 13684, 13695, 13713, 13719, 13720, 13721, 13730, 13733, 13734, 13746, 13750, 13753, 13754, 13755, 13756, 13757, 13765, 13766, 13768, 13769, 13771, 13772, 13776, 13777, 13789, 13792, 13799, 13801, 13802, 13816, 13818, 13821, 13826, 13827, 13828, 13831, 13832, 13842, 13854, 13855, 13857, 13861, 13872, 13875, 13886, 13900, 13904, 13905, 13908, 13915, 13922, 13928, 13932, 13944, 13946, 13949, 13950, 13953, 13967, 13971, 13978, 13979, 13983, 13985, 13987, 13989, 13992, 13993, 13994, 13995, 13996, 13999, 14001, 14002, 14009, 14011, 14017, 14018, 14019, 14022, 14025, 14037, 14043, 14044, 14050, 14053, 14076, 14080, 14082, 14084, 14086, 14093, 14121, 14125, 14130, 14133, 14138, 14141, 14143, 14144, 14145, 14146, 14147, 14165, 14168, 14175, 14176]\n"
     ]
    }
   ],
   "source": [
    "mismatch = [i for i, (a,b) in enumerate(zip(Y_cle, cle_Y_test_binary)) if a != b]\n",
    "print(mismatch)"
   ]
  },
  {
   "cell_type": "code",
   "execution_count": 11,
   "id": "b2d4cc1c",
   "metadata": {
    "scrolled": true
   },
   "outputs": [
    {
     "name": "stdout",
     "output_type": "stream",
     "text": [
      "444/444 [==============================] - 0s 860us/step\n",
      "[[7591 2354]\n",
      " [1056 3183]]\n",
      "              precision    recall  f1-score   support\n",
      "\n",
      "           0     0.8779    0.7633    0.8166      9945\n",
      "           1     0.5749    0.7509    0.6512      4239\n",
      "\n",
      "    accuracy                         0.7596     14184\n",
      "   macro avg     0.7264    0.7571    0.7339     14184\n",
      "weighted avg     0.7873    0.7596    0.7672     14184\n",
      "\n"
     ]
    }
   ],
   "source": [
    "Y_vir = np.argmax(SGD_model.predict(vir_X_test),axis = 1)\n",
    "cm_vir = confusion_matrix(Y_vir, vir_Y_test_binary)\n",
    "print(cm_vir)\n",
    "print(classification_report(Y_vir, vir_Y_test_binary, digits=4))"
   ]
  },
  {
   "cell_type": "code",
   "execution_count": 12,
   "id": "625cfaa5",
   "metadata": {},
   "outputs": [
    {
     "name": "stdout",
     "output_type": "stream",
     "text": [
      "[10, 14, 19, 24, 25, 26, 30, 32, 36, 38, 53, 56, 65, 68, 73, 75, 81, 88, 93, 97, 98, 108, 114, 115, 119, 120, 124, 127, 132, 134, 140, 142, 146, 162, 163, 166, 169, 176, 187, 188, 194, 198, 199, 201, 202, 207, 208, 213, 214, 219, 231, 234, 237, 248, 252, 253, 256, 261, 262, 267, 275, 280, 284, 286, 291, 293, 299, 307, 309, 314, 323, 325, 326, 334, 348, 349, 352, 354, 356, 361, 377, 387, 394, 398, 400, 408, 409, 410, 411, 413, 414, 425, 428, 437, 439, 440, 443, 446, 448, 455, 460, 462, 469, 470, 471, 472, 474, 479, 480, 482, 484, 485, 494, 495, 505, 507, 509, 511, 518, 520, 523, 524, 531, 533, 538, 539, 546, 548, 549, 551, 557, 564, 566, 568, 571, 585, 587, 592, 604, 607, 612, 616, 620, 623, 632, 640, 646, 647, 661, 663, 666, 670, 673, 674, 675, 677, 683, 689, 696, 704, 709, 710, 716, 720, 723, 724, 729, 732, 733, 737, 740, 743, 752, 753, 760, 766, 767, 776, 782, 785, 796, 800, 801, 802, 809, 815, 823, 824, 827, 829, 834, 839, 843, 845, 852, 853, 854, 858, 863, 866, 867, 868, 878, 890, 898, 906, 907, 908, 911, 917, 920, 933, 934, 937, 947, 949, 950, 951, 953, 954, 956, 960, 963, 969, 970, 971, 972, 973, 974, 980, 982, 985, 986, 988, 992, 994, 995, 997, 1004, 1010, 1014, 1015, 1016, 1026, 1029, 1034, 1039, 1040, 1042, 1043, 1047, 1055, 1060, 1068, 1071, 1079, 1093, 1096, 1102, 1109, 1114, 1115, 1126, 1129, 1130, 1134, 1140, 1141, 1154, 1162, 1166, 1168, 1172, 1173, 1181, 1182, 1187, 1195, 1196, 1197, 1208, 1212, 1220, 1221, 1229, 1237, 1241, 1242, 1256, 1257, 1277, 1285, 1286, 1287, 1288, 1290, 1294, 1297, 1298, 1299, 1315, 1320, 1325, 1326, 1328, 1334, 1336, 1339, 1345, 1348, 1349, 1350, 1353, 1360, 1363, 1364, 1367, 1370, 1371, 1374, 1381, 1389, 1393, 1400, 1401, 1406, 1410, 1419, 1422, 1436, 1443, 1447, 1448, 1450, 1452, 1453, 1456, 1458, 1459, 1461, 1475, 1479, 1480, 1485, 1486, 1491, 1493, 1495, 1498, 1507, 1510, 1511, 1513, 1515, 1516, 1518, 1530, 1531, 1547, 1548, 1556, 1558, 1563, 1566, 1571, 1573, 1575, 1582, 1583, 1584, 1589, 1593, 1595, 1597, 1604, 1607, 1610, 1612, 1615, 1623, 1625, 1637, 1643, 1644, 1649, 1653, 1654, 1655, 1659, 1667, 1671, 1674, 1676, 1682, 1686, 1693, 1694, 1699, 1700, 1703, 1704, 1705, 1711, 1717, 1718, 1721, 1722, 1728, 1729, 1730, 1739, 1743, 1744, 1745, 1746, 1750, 1754, 1756, 1759, 1764, 1765, 1766, 1770, 1772, 1777, 1778, 1781, 1783, 1786, 1787, 1792, 1795, 1796, 1809, 1811, 1817, 1821, 1833, 1835, 1839, 1842, 1843, 1845, 1857, 1860, 1862, 1865, 1867, 1870, 1874, 1879, 1880, 1886, 1887, 1888, 1893, 1894, 1897, 1898, 1901, 1905, 1907, 1911, 1912, 1928, 1931, 1944, 1949, 1950, 1951, 1958, 1961, 1972, 1974, 1978, 1979, 1981, 1989, 1999, 2000, 2012, 2015, 2016, 2026, 2030, 2031, 2033, 2047, 2066, 2074, 2075, 2077, 2080, 2084, 2085, 2088, 2089, 2093, 2095, 2101, 2109, 2120, 2132, 2139, 2141, 2149, 2150, 2153, 2162, 2163, 2180, 2190, 2192, 2208, 2213, 2215, 2221, 2224, 2229, 2235, 2236, 2241, 2246, 2247, 2257, 2258, 2260, 2263, 2269, 2270, 2271, 2274, 2277, 2283, 2286, 2289, 2293, 2300, 2302, 2303, 2306, 2311, 2312, 2315, 2316, 2321, 2323, 2325, 2328, 2329, 2334, 2337, 2338, 2342, 2344, 2348, 2358, 2359, 2363, 2370, 2373, 2379, 2381, 2382, 2385, 2388, 2389, 2402, 2403, 2404, 2410, 2423, 2427, 2429, 2430, 2432, 2437, 2441, 2442, 2451, 2452, 2453, 2454, 2455, 2456, 2457, 2459, 2462, 2466, 2474, 2475, 2478, 2482, 2483, 2484, 2488, 2489, 2495, 2498, 2505, 2507, 2508, 2512, 2521, 2523, 2525, 2527, 2532, 2538, 2551, 2556, 2559, 2569, 2574, 2577, 2581, 2587, 2591, 2594, 2596, 2600, 2601, 2602, 2607, 2610, 2611, 2613, 2622, 2623, 2624, 2634, 2635, 2639, 2640, 2641, 2645, 2646, 2652, 2656, 2657, 2658, 2661, 2663, 2673, 2683, 2687, 2701, 2704, 2712, 2713, 2715, 2717, 2718, 2719, 2722, 2727, 2730, 2731, 2732, 2743, 2752, 2754, 2758, 2763, 2766, 2771, 2779, 2783, 2784, 2789, 2791, 2797, 2802, 2804, 2809, 2810, 2811, 2814, 2821, 2833, 2835, 2838, 2843, 2848, 2854, 2857, 2860, 2861, 2866, 2867, 2876, 2877, 2878, 2881, 2882, 2883, 2887, 2894, 2895, 2898, 2905, 2906, 2908, 2913, 2924, 2931, 2932, 2935, 2938, 2947, 2956, 2965, 2968, 2970, 2972, 2974, 2977, 2982, 2983, 2985, 2993, 3000, 3004, 3011, 3015, 3018, 3023, 3027, 3039, 3040, 3048, 3050, 3052, 3056, 3059, 3060, 3063, 3066, 3069, 3077, 3083, 3085, 3099, 3102, 3103, 3105, 3110, 3111, 3114, 3115, 3120, 3122, 3129, 3131, 3135, 3136, 3139, 3141, 3157, 3159, 3160, 3162, 3163, 3164, 3166, 3169, 3174, 3175, 3182, 3187, 3195, 3199, 3200, 3202, 3205, 3210, 3215, 3223, 3226, 3228, 3229, 3234, 3240, 3242, 3245, 3247, 3256, 3267, 3270, 3271, 3272, 3275, 3276, 3290, 3291, 3294, 3299, 3310, 3311, 3316, 3317, 3320, 3326, 3327, 3328, 3333, 3335, 3336, 3340, 3341, 3342, 3343, 3345, 3348, 3349, 3354, 3367, 3372, 3375, 3380, 3383, 3388, 3398, 3405, 3407, 3411, 3414, 3417, 3420, 3425, 3436, 3437, 3442, 3445, 3452, 3456, 3458, 3459, 3463, 3466, 3468, 3469, 3471, 3472, 3475, 3480, 3483, 3487, 3495, 3498, 3500, 3503, 3505, 3513, 3518, 3524, 3527, 3528, 3529, 3541, 3553, 3558, 3559, 3568, 3575, 3577, 3579, 3581, 3586, 3589, 3597, 3604, 3606, 3612, 3616, 3623, 3624, 3628, 3641, 3655, 3680, 3685, 3687, 3690, 3691, 3692, 3693, 3694, 3695, 3696, 3706, 3710, 3712, 3713, 3715, 3718, 3721, 3725, 3738, 3741, 3743, 3744, 3746, 3749, 3756, 3760, 3772, 3773, 3774, 3775, 3779, 3787, 3790, 3791, 3795, 3797, 3799, 3800, 3803, 3805, 3815, 3824, 3826, 3828, 3830, 3831, 3833, 3836, 3837, 3840, 3841, 3843, 3844, 3846, 3849, 3860, 3864, 3865, 3871, 3872, 3877, 3887, 3890, 3895, 3904, 3909, 3912, 3919, 3920, 3925, 3945, 3950, 3953, 3958, 3961, 3963, 3965, 3978, 3979, 3987, 3991, 3994, 3995, 4003, 4009, 4012, 4013, 4014, 4015, 4016, 4017, 4035, 4039, 4043, 4052, 4056, 4065, 4067, 4073, 4074, 4081, 4083, 4084, 4088, 4090, 4092, 4094, 4095, 4097, 4102, 4107, 4115, 4116, 4118, 4132, 4141, 4143, 4145, 4146, 4152, 4156, 4157, 4158, 4161, 4164, 4168, 4169, 4179, 4184, 4188, 4189, 4194, 4197, 4200, 4211, 4214, 4223, 4226, 4227, 4229, 4235, 4238, 4240, 4244, 4249, 4253, 4254, 4258, 4265, 4266, 4269, 4272, 4275, 4277, 4279, 4281, 4283, 4291, 4297, 4302, 4312, 4323, 4333, 4339, 4343, 4346, 4361, 4366, 4370, 4373, 4374, 4380, 4390, 4397, 4401, 4408, 4410, 4415, 4419, 4420, 4425, 4438, 4440, 4452, 4455, 4459, 4463, 4470, 4474, 4475, 4477, 4484, 4488, 4491, 4501, 4502, 4505, 4509, 4514, 4517, 4523, 4525, 4527, 4528, 4531, 4535, 4536, 4542, 4544, 4545, 4548, 4549, 4551, 4560, 4563, 4566, 4568, 4570, 4578, 4581, 4584, 4588, 4591, 4592, 4597, 4598, 4604, 4606, 4607, 4616, 4620, 4623, 4625, 4629, 4632, 4636, 4644, 4645, 4646, 4647, 4649, 4656, 4658, 4663, 4669, 4677, 4678, 4679, 4680, 4684, 4686, 4687, 4693, 4701, 4704, 4706, 4707, 4709, 4712, 4715, 4720, 4721, 4727, 4729, 4738, 4739, 4745, 4766, 4767, 4782, 4790, 4792, 4804, 4821, 4831, 4833, 4836, 4841, 4850, 4855, 4857, 4860, 4861, 4865, 4866, 4875, 4876, 4877, 4883, 4902, 4904, 4905, 4909, 4914, 4916, 4920, 4927, 4929, 4933, 4935, 4944, 4946, 4947, 4948, 4950, 4952, 4957, 4960, 4962, 4974, 4975, 4983, 4992, 5003, 5008, 5020, 5022, 5024, 5025, 5039, 5040, 5042, 5045, 5048, 5052, 5053, 5054, 5055, 5057, 5058, 5063, 5073, 5081, 5082, 5087, 5088, 5096, 5100, 5111, 5117, 5121, 5127, 5135, 5139, 5141, 5142, 5143, 5144, 5149, 5152, 5153, 5160, 5164, 5169, 5170, 5174, 5175, 5176, 5179, 5181, 5187, 5191, 5192, 5195, 5198, 5202, 5205, 5207, 5213, 5216, 5225, 5226, 5228, 5230, 5231, 5233, 5237, 5244, 5246, 5248, 5249, 5256, 5272, 5273, 5278, 5279, 5281, 5282, 5284, 5285, 5291, 5298, 5302, 5303, 5319, 5320, 5321, 5326, 5332, 5333, 5335, 5338, 5339, 5343, 5349, 5354, 5359, 5362, 5365, 5366, 5377, 5383, 5386, 5387, 5402, 5404, 5407, 5410, 5422, 5430, 5433, 5441, 5449, 5452, 5458, 5459, 5464, 5465, 5468, 5469, 5470, 5477, 5480, 5486, 5488, 5489, 5491, 5492, 5496, 5507, 5508, 5513, 5518, 5519, 5520, 5523, 5529, 5530, 5532, 5537, 5544, 5546, 5554, 5561, 5562, 5564, 5565, 5570, 5574, 5575, 5590, 5597, 5599, 5605, 5608, 5615, 5617, 5618, 5623, 5624, 5627, 5630, 5632, 5640, 5644, 5651, 5661, 5664, 5677, 5678, 5679, 5683, 5685, 5688, 5693, 5695, 5697, 5698, 5703, 5705, 5706, 5711, 5715, 5717, 5720, 5721, 5725, 5731, 5734, 5737, 5738, 5752, 5754, 5758, 5763, 5764, 5769, 5776, 5781, 5783, 5804, 5808, 5810, 5817, 5824, 5827, 5830, 5832, 5841, 5845, 5848, 5849, 5851, 5852, 5859, 5862, 5872, 5873, 5874, 5891, 5892, 5893, 5904, 5905, 5908, 5910, 5919, 5920, 5922, 5924, 5927, 5933, 5935, 5943, 5948, 5950, 5951, 5954, 5956, 5957, 5958, 5976, 5978, 5984, 5985, 5986, 5987, 5988, 5990, 5993, 5996, 5999, 6000, 6001, 6003, 6013, 6014, 6019, 6028, 6041, 6044, 6045, 6046, 6048, 6050, 6052, 6053, 6059, 6069, 6075, 6077, 6081, 6085, 6098, 6105, 6121, 6133, 6138, 6140, 6143, 6157, 6160, 6161, 6166, 6167, 6168, 6170, 6174, 6181, 6197, 6199, 6206, 6207, 6209, 6216, 6219, 6227, 6230, 6233, 6238, 6240, 6244, 6245, 6249, 6250, 6259, 6260, 6261, 6263, 6264, 6265, 6267, 6273, 6274, 6290, 6295, 6298, 6305, 6315, 6317, 6324, 6326, 6334, 6336, 6343, 6352, 6355, 6357, 6360, 6362, 6370, 6373, 6376, 6378, 6384, 6386, 6387, 6393, 6402, 6406, 6412, 6415, 6416, 6420, 6423, 6429, 6430, 6432, 6433, 6434, 6444, 6445, 6446, 6448, 6454, 6455, 6457, 6463, 6464, 6469, 6471, 6474, 6488, 6491, 6493, 6502, 6505, 6508, 6509, 6516, 6518, 6524, 6525, 6529, 6531, 6532, 6535, 6540, 6556, 6571, 6573, 6576, 6580, 6583, 6584, 6593, 6594, 6595, 6598, 6602, 6605, 6606, 6609, 6613, 6619, 6622, 6629, 6637, 6641, 6643, 6653, 6659, 6660, 6661, 6663, 6670, 6675, 6679, 6683, 6684, 6686, 6697, 6699, 6700, 6703, 6704, 6706, 6711, 6716, 6723, 6724, 6727, 6730, 6731, 6733, 6736, 6738, 6748, 6751, 6761, 6768, 6769, 6777, 6780, 6783, 6784, 6787, 6788, 6789, 6791, 6792, 6795, 6796, 6804, 6814, 6816, 6818, 6824, 6825, 6829, 6832, 6839, 6841, 6843, 6845, 6847, 6851, 6853, 6856, 6857, 6858, 6859, 6864, 6872, 6877, 6885, 6886, 6897, 6902, 6906, 6910, 6911, 6912, 6919, 6925, 6930, 6936, 6937, 6941, 6943, 6945, 6950, 6951, 6954, 6966, 6967, 6978, 6984, 6986, 6989, 6990, 6998, 7000, 7003, 7005, 7019, 7020, 7023, 7025, 7026, 7044, 7046, 7051, 7053, 7054, 7059, 7068, 7069, 7070, 7071, 7072, 7074, 7077, 7079, 7082, 7087, 7089, 7090, 7093, 7094, 7103, 7108, 7113, 7116, 7118, 7119, 7122, 7128, 7131, 7133, 7135, 7138, 7140, 7142, 7143, 7146, 7147, 7150, 7151, 7152, 7154, 7157, 7161, 7163, 7165, 7167, 7182, 7190, 7191, 7196, 7205, 7207, 7208, 7221, 7233, 7234, 7236, 7243, 7254, 7258, 7262, 7264, 7266, 7272, 7276, 7281, 7283, 7288, 7295, 7298, 7299, 7305, 7306, 7310, 7318, 7321, 7322, 7323, 7325, 7332, 7337, 7344, 7347, 7363, 7364, 7366, 7367, 7369, 7385, 7387, 7395, 7397, 7411, 7415, 7422, 7428, 7433, 7434, 7436, 7438, 7442, 7447, 7450, 7453, 7454, 7457, 7459, 7461, 7468, 7470, 7471, 7473, 7474, 7477, 7480, 7489, 7493, 7495, 7497, 7501, 7504, 7510, 7511, 7512, 7521, 7523, 7524, 7525, 7529, 7534, 7535, 7536, 7545, 7546, 7549, 7551, 7564, 7566, 7567, 7572, 7592, 7598, 7599, 7602, 7609, 7622, 7624, 7635, 7647, 7648, 7650, 7658, 7659, 7661, 7663, 7664, 7667, 7668, 7671, 7676, 7677, 7679, 7684, 7688, 7692, 7693, 7695, 7697, 7699, 7702, 7703, 7704, 7708, 7709, 7715, 7716, 7717, 7725, 7733, 7735, 7737, 7742, 7743, 7747, 7749, 7754, 7757, 7758, 7764, 7774, 7775, 7776, 7777, 7779, 7781, 7782, 7784, 7786, 7789, 7793, 7795, 7798, 7804, 7808, 7818, 7819, 7820, 7823, 7824, 7825, 7829, 7843, 7844, 7847, 7850, 7856, 7861, 7862, 7863, 7864, 7865, 7868, 7879, 7880, 7884, 7890, 7891, 7895, 7896, 7904, 7908, 7924, 7927, 7932, 7935, 7941, 7946, 7948, 7949, 7950, 7952, 7960, 7967, 7970, 7973, 7974, 7984, 7985, 7989, 7990, 7992, 7994, 7998, 8003, 8004, 8005, 8011, 8012, 8017, 8024, 8038, 8049, 8056, 8058, 8060, 8064, 8065, 8070, 8073, 8075, 8076, 8077, 8078, 8080, 8081, 8087, 8096, 8099, 8103, 8104, 8105, 8106, 8107, 8108, 8110, 8113, 8123, 8130, 8135, 8138, 8141, 8142, 8143, 8144, 8150, 8152, 8157, 8158, 8161, 8162, 8163, 8166, 8167, 8169, 8171, 8178, 8183, 8185, 8186, 8189, 8202, 8206, 8213, 8219, 8221, 8223, 8232, 8234, 8237, 8243, 8252, 8256, 8257, 8258, 8276, 8279, 8283, 8287, 8295, 8296, 8298, 8302, 8309, 8311, 8319, 8320, 8322, 8327, 8330, 8336, 8341, 8348, 8358, 8360, 8363, 8368, 8369, 8382, 8389, 8390, 8395, 8412, 8424, 8430, 8441, 8442, 8449, 8450, 8452, 8455, 8458, 8462, 8466, 8468, 8469, 8479, 8480, 8483, 8486, 8488, 8490, 8493, 8495, 8497, 8498, 8500, 8508, 8512, 8514, 8515, 8516, 8524, 8538, 8542, 8543, 8545, 8549, 8552, 8553, 8555, 8566, 8567, 8573, 8576, 8582, 8583, 8584, 8590, 8592, 8601, 8604, 8606, 8609, 8612, 8613, 8616, 8618, 8624, 8625, 8634, 8637, 8640, 8651, 8654, 8657, 8662, 8667, 8671, 8677, 8681, 8682, 8688, 8696, 8698, 8703, 8710, 8711, 8714, 8717, 8723, 8728, 8729, 8730, 8731, 8736, 8739, 8743, 8745, 8747, 8750, 8752, 8761, 8769, 8790, 8795, 8800, 8801, 8804, 8805, 8807, 8809, 8813, 8819, 8825, 8829, 8834, 8837, 8838, 8840, 8841, 8842, 8847, 8850, 8869, 8873, 8879, 8881, 8889, 8895, 8900, 8906, 8907, 8910, 8911, 8917, 8919, 8927, 8929, 8930, 8932, 8936, 8938, 8940, 8942, 8947, 8949, 8955, 8956, 8957, 8968, 8969, 8971, 8973, 8980, 8991, 9012, 9019, 9021, 9030, 9039, 9045, 9046, 9047, 9057, 9064, 9065, 9071, 9073, 9083, 9095, 9097, 9099, 9101, 9102, 9106, 9116, 9122, 9129, 9132, 9135, 9137, 9141, 9153, 9154, 9157, 9163, 9166, 9167, 9169, 9175, 9176, 9178, 9181, 9190, 9194, 9197, 9212, 9222, 9223, 9226, 9231, 9235, 9243, 9249, 9250, 9255, 9256, 9257, 9264, 9273, 9279, 9282, 9285, 9291, 9293, 9294, 9296, 9297, 9305, 9307, 9311, 9315, 9318, 9323, 9325, 9326, 9330, 9333, 9334, 9341, 9342, 9350, 9351, 9369, 9371, 9372, 9376, 9377, 9386, 9389, 9393, 9403, 9406, 9407, 9408, 9413, 9435, 9439, 9441, 9451, 9455, 9462, 9463, 9464, 9472, 9473, 9477, 9478, 9479, 9481, 9483, 9485, 9486, 9487, 9492, 9495, 9499, 9500, 9501, 9503, 9509, 9512, 9514, 9515, 9516, 9519, 9520, 9524, 9533, 9539, 9548, 9552, 9557, 9564, 9571, 9572, 9579, 9581, 9582, 9583, 9588, 9589, 9591, 9594, 9595, 9601, 9604, 9605, 9615, 9619, 9621, 9622, 9629, 9630, 9633, 9636, 9637, 9638, 9640, 9647, 9649, 9656, 9657, 9664, 9665, 9668, 9670, 9671, 9673, 9676, 9678, 9686, 9687, 9690, 9696, 9699, 9705, 9708, 9725, 9726, 9729, 9733, 9735, 9738, 9739, 9741, 9746, 9747, 9748, 9749, 9752, 9754, 9755, 9760, 9764, 9765, 9776, 9778, 9780, 9782, 9785, 9789, 9793, 9795, 9796, 9802, 9805, 9808, 9813, 9815, 9820, 9824, 9835, 9837, 9841, 9844, 9845, 9848, 9849, 9857, 9859, 9863, 9866, 9869, 9872, 9877, 9886, 9894, 9899, 9906, 9909, 9919, 9923, 9924, 9925, 9928, 9930, 9932, 9933, 9939, 9941, 9947, 9956, 9964, 9966, 9982, 9985, 9988, 9996, 9998, 10004, 10007, 10008, 10010, 10014, 10018, 10023, 10033, 10035, 10036, 10038, 10046, 10059, 10065, 10069, 10075, 10086, 10088, 10092, 10101, 10106, 10108, 10109, 10111, 10112, 10113, 10114, 10116, 10125, 10128, 10129, 10130, 10134, 10145, 10147, 10148, 10157, 10160, 10167, 10170, 10174, 10175, 10180, 10181, 10186, 10188, 10192, 10198, 10205, 10210, 10211, 10226, 10232, 10240, 10243, 10246, 10247, 10249, 10258, 10267, 10270, 10273, 10276, 10280, 10295, 10300, 10303, 10306, 10321, 10325, 10327, 10344, 10350, 10351, 10354, 10355, 10359, 10362, 10366, 10367, 10368, 10375, 10381, 10399, 10402, 10404, 10405, 10406, 10407, 10408, 10410, 10414, 10421, 10422, 10435, 10441, 10444, 10445, 10450, 10451, 10454, 10464, 10465, 10470, 10472, 10473, 10480, 10485, 10486, 10487, 10495, 10497, 10503, 10510, 10511, 10512, 10519, 10521, 10522, 10525, 10530, 10533, 10536, 10544, 10545, 10547, 10548, 10550, 10560, 10571, 10579, 10580, 10581, 10583, 10587, 10590, 10591, 10623, 10626, 10632, 10634, 10638, 10643, 10644, 10646, 10647, 10648, 10652, 10653, 10657, 10662, 10665, 10671, 10687, 10688, 10693, 10694, 10696, 10699, 10703, 10708, 10714, 10724, 10733, 10734, 10736, 10737, 10738, 10739, 10745, 10750, 10755, 10758, 10759, 10763, 10768, 10773, 10777, 10779, 10784, 10787, 10792, 10793, 10794, 10795, 10803, 10813, 10814, 10820, 10825, 10827, 10828, 10829, 10830, 10835, 10836, 10840, 10844, 10848, 10853, 10864, 10865, 10869, 10870, 10871, 10872, 10874, 10880, 10884, 10886, 10887, 10889, 10900, 10901, 10908, 10912, 10914, 10922, 10924, 10928, 10931, 10934, 10942, 10950, 10958, 10959, 10962, 10963, 10966, 10990, 11003, 11005, 11009, 11010, 11017, 11024, 11031, 11032, 11036, 11047, 11055, 11060, 11064, 11065, 11073, 11075, 11078, 11079, 11090, 11092, 11102, 11103, 11113, 11118, 11120, 11125, 11133, 11136, 11138, 11140, 11144, 11147, 11150, 11152, 11153, 11162, 11164, 11165, 11169, 11171, 11174, 11176, 11180, 11184, 11189, 11191, 11192, 11194, 11199, 11200, 11203, 11212, 11215, 11216, 11218, 11221, 11222, 11233, 11236, 11238, 11244, 11255, 11265, 11266, 11270, 11277, 11278, 11299, 11307, 11310, 11316, 11317, 11321, 11324, 11337, 11341, 11344, 11345, 11349, 11353, 11361, 11364, 11375, 11392, 11394, 11401, 11411, 11412, 11414, 11422, 11426, 11427, 11430, 11433, 11438, 11440, 11452, 11453, 11460, 11467, 11471, 11478, 11485, 11488, 11494, 11495, 11499, 11510, 11511, 11514, 11517, 11518, 11528, 11530, 11536, 11541, 11545, 11548, 11555, 11556, 11557, 11559, 11568, 11571, 11574, 11576, 11577, 11578, 11582, 11585, 11589, 11590, 11592, 11595, 11596, 11601, 11607, 11616, 11618, 11619, 11621, 11624, 11629, 11638, 11650, 11664, 11669, 11673, 11676, 11679, 11680, 11684, 11691, 11694, 11701, 11702, 11704, 11711, 11715, 11718, 11724, 11725, 11730, 11732, 11733, 11741, 11743, 11750, 11759, 11761, 11762, 11773, 11784, 11786, 11789, 11796, 11802, 11805, 11808, 11810, 11816, 11819, 11821, 11831, 11832, 11842, 11849, 11853, 11860, 11864, 11869, 11875, 11879, 11880, 11883, 11884, 11885, 11886, 11893, 11896, 11905, 11906, 11907, 11908, 11912, 11913, 11916, 11921, 11928, 11929, 11939, 11942, 11945, 11951, 11954, 11957, 11960, 11961, 11968, 11970, 11984, 11986, 11988, 11990, 11994, 11997, 11999, 12001, 12002, 12003, 12008, 12009, 12012, 12021, 12028, 12038, 12042, 12045, 12052, 12055, 12058, 12062, 12065, 12068, 12072, 12073, 12077, 12081, 12086, 12098, 12099, 12104, 12105, 12108, 12109, 12115, 12117, 12124, 12130, 12131, 12138, 12140, 12142, 12153, 12164, 12165, 12170, 12174, 12176, 12194, 12203, 12204, 12207, 12209, 12211, 12212, 12216, 12221, 12224, 12226, 12228, 12235, 12236, 12238, 12239, 12241, 12242, 12243, 12246, 12247, 12248, 12249, 12251, 12258, 12269, 12272, 12274, 12275, 12277, 12291, 12293, 12298, 12300, 12302, 12308, 12312, 12316, 12328, 12330, 12331, 12332, 12343, 12345, 12354, 12356, 12358, 12359, 12362, 12367, 12368, 12379, 12381, 12388, 12394, 12396, 12397, 12398, 12405, 12406, 12412, 12415, 12418, 12420, 12422, 12431, 12434, 12435, 12436, 12442, 12443, 12452, 12464, 12466, 12471, 12474, 12475, 12477, 12485, 12488, 12494, 12502, 12505, 12508, 12512, 12515, 12517, 12520, 12532, 12534, 12535, 12538, 12539, 12551, 12553, 12561, 12565, 12570, 12571, 12573, 12576, 12593, 12607, 12615, 12619, 12622, 12623, 12629, 12633, 12634, 12638, 12645, 12646, 12653, 12654, 12656, 12664, 12673, 12676, 12679, 12680, 12687, 12690, 12692, 12693, 12696, 12705, 12706, 12715, 12718, 12722, 12734, 12740, 12742, 12743, 12759, 12769, 12770, 12775, 12776, 12780, 12787, 12791, 12792, 12793, 12794, 12795, 12807, 12812, 12824, 12828, 12833, 12835, 12836, 12841, 12848, 12851, 12854, 12856, 12858, 12861, 12863, 12869, 12870, 12880, 12888, 12893, 12894, 12895, 12905, 12907, 12916, 12917, 12919, 12923, 12927, 12932, 12935, 12939, 12941, 12946, 12947, 12950, 12954, 12955, 12961, 12963, 12964, 12965, 12968, 12971, 12974, 12983, 12984, 12985, 12987, 12989, 13004, 13005, 13011, 13013, 13020, 13031, 13038, 13043, 13047, 13049, 13072, 13073, 13080, 13081, 13084, 13088, 13090, 13095, 13098, 13100, 13109, 13128, 13132, 13136, 13139, 13140, 13141, 13145, 13146, 13147, 13149, 13154, 13168, 13174, 13175, 13178, 13185, 13189, 13190, 13195, 13196, 13200, 13202, 13203, 13204, 13208, 13211, 13214, 13216, 13224, 13229, 13231, 13235, 13238, 13240, 13245, 13249, 13257, 13258, 13264, 13265, 13268, 13269, 13279, 13281, 13289, 13291, 13296, 13300, 13306, 13311, 13313, 13315, 13316, 13319, 13322, 13327, 13335, 13340, 13341, 13345, 13348, 13352, 13353, 13361, 13362, 13369, 13370, 13371, 13374, 13375, 13380, 13384, 13389, 13395, 13397, 13400, 13403, 13405, 13407, 13410, 13413, 13414, 13416, 13422, 13427, 13428, 13431, 13432, 13435, 13455, 13463, 13483, 13484, 13485, 13487, 13491, 13498, 13501, 13502, 13503, 13519, 13520, 13521, 13528, 13533, 13537, 13543, 13544, 13551, 13553, 13555, 13560, 13563, 13577, 13582, 13585, 13588, 13604, 13607, 13612, 13618, 13619, 13620, 13622, 13630, 13631, 13633, 13635, 13637, 13646, 13647, 13651, 13659, 13661, 13664, 13668, 13678, 13684, 13686, 13695, 13696, 13698, 13705, 13715, 13723, 13729, 13733, 13734, 13736, 13739, 13749, 13751, 13756, 13761, 13764, 13765, 13775, 13776, 13782, 13785, 13787, 13791, 13795, 13797, 13802, 13803, 13807, 13808, 13810, 13811, 13812, 13813, 13830, 13843, 13846, 13848, 13856, 13858, 13865, 13870, 13873, 13881, 13886, 13887, 13891, 13892, 13895, 13901, 13908, 13918, 13919, 13925, 13934, 13937, 13942, 13949, 13952, 13953, 13954, 13957, 13959, 13960, 13971, 13975, 13976, 13978, 13981, 13983, 13991, 13994, 13996, 13998, 14000, 14007, 14008, 14014, 14016, 14020, 14022, 14026, 14027, 14028, 14031, 14039, 14040, 14041, 14045, 14048, 14051, 14054, 14056, 14065, 14067, 14077, 14081, 14083, 14084, 14085, 14093, 14095, 14099, 14102, 14112, 14113, 14117, 14122, 14124, 14130, 14134, 14139, 14140, 14143, 14144, 14145, 14146, 14150, 14155, 14156, 14165, 14167, 14169, 14176, 14182]\n"
     ]
    }
   ],
   "source": [
    "mismatch = [i for i, (a,b) in enumerate(zip(Y_vir, vir_Y_test_binary)) if a != b]\n",
    "print(mismatch)"
   ]
  },
  {
   "cell_type": "code",
   "execution_count": 13,
   "id": "9c031520",
   "metadata": {
    "scrolled": true
   },
   "outputs": [
    {
     "name": "stdout",
     "output_type": "stream",
     "text": [
      "444/444 [==============================] - 0s 804us/step\n",
      "[[7517 2427]\n",
      " [1024 3216]]\n",
      "              precision    recall  f1-score   support\n",
      "\n",
      "           0     0.8801    0.7559    0.8133      9944\n",
      "           1     0.5699    0.7585    0.6508      4240\n",
      "\n",
      "    accuracy                         0.7567     14184\n",
      "   macro avg     0.7250    0.7572    0.7321     14184\n",
      "weighted avg     0.7874    0.7567    0.7647     14184\n",
      "\n"
     ]
    }
   ],
   "source": [
    "Y_hun = np.argmax(SGD_model.predict(hun_X_test),axis = 1)\n",
    "cm_hun = confusion_matrix(Y_hun, hun_Y_test_binary)\n",
    "print(cm_hun)\n",
    "print(classification_report(Y_hun, hun_Y_test_binary, digits=4))"
   ]
  },
  {
   "cell_type": "code",
   "execution_count": 14,
   "id": "ec7ffbc9",
   "metadata": {},
   "outputs": [
    {
     "name": "stdout",
     "output_type": "stream",
     "text": [
      "[2, 7, 9, 18, 20, 25, 29, 32, 48, 57, 64, 65, 67, 71, 74, 83, 96, 111, 115, 119, 122, 124, 126, 129, 133, 134, 135, 145, 152, 153, 154, 156, 161, 165, 173, 174, 178, 185, 187, 190, 194, 200, 202, 207, 208, 212, 226, 232, 238, 242, 250, 251, 253, 254, 255, 258, 262, 267, 270, 272, 280, 284, 286, 290, 296, 301, 305, 306, 309, 310, 312, 315, 318, 319, 320, 328, 329, 341, 344, 357, 358, 359, 360, 366, 368, 369, 377, 381, 383, 385, 397, 398, 401, 414, 418, 420, 421, 426, 438, 439, 442, 445, 450, 460, 466, 469, 470, 472, 478, 479, 485, 489, 490, 492, 498, 502, 504, 505, 507, 511, 514, 516, 517, 525, 539, 540, 542, 548, 553, 559, 561, 563, 565, 572, 578, 586, 590, 597, 598, 599, 606, 608, 609, 631, 633, 636, 637, 650, 652, 655, 656, 667, 669, 685, 686, 697, 699, 704, 709, 710, 711, 720, 723, 727, 729, 731, 736, 739, 742, 748, 753, 766, 771, 776, 777, 783, 787, 795, 796, 799, 806, 808, 809, 810, 827, 829, 830, 841, 843, 845, 861, 862, 863, 864, 867, 868, 871, 875, 876, 877, 887, 893, 896, 897, 898, 902, 904, 905, 906, 908, 909, 910, 911, 913, 916, 920, 930, 932, 933, 934, 938, 941, 948, 953, 955, 962, 964, 971, 972, 973, 978, 983, 995, 996, 1003, 1006, 1013, 1018, 1021, 1023, 1026, 1033, 1039, 1040, 1042, 1045, 1054, 1055, 1057, 1058, 1063, 1067, 1070, 1071, 1074, 1077, 1080, 1082, 1085, 1088, 1093, 1115, 1116, 1117, 1121, 1128, 1130, 1138, 1143, 1148, 1151, 1155, 1157, 1158, 1168, 1169, 1173, 1176, 1181, 1186, 1191, 1193, 1194, 1197, 1202, 1205, 1208, 1210, 1219, 1221, 1222, 1223, 1224, 1228, 1229, 1231, 1241, 1245, 1248, 1256, 1259, 1284, 1287, 1290, 1291, 1295, 1296, 1299, 1301, 1302, 1305, 1307, 1309, 1322, 1324, 1326, 1327, 1332, 1333, 1342, 1345, 1346, 1349, 1352, 1353, 1354, 1361, 1363, 1371, 1381, 1382, 1385, 1387, 1393, 1398, 1406, 1407, 1413, 1414, 1416, 1417, 1424, 1428, 1435, 1442, 1444, 1448, 1453, 1455, 1469, 1488, 1489, 1494, 1495, 1496, 1499, 1505, 1509, 1511, 1514, 1515, 1517, 1521, 1531, 1540, 1541, 1550, 1561, 1565, 1568, 1571, 1572, 1574, 1575, 1577, 1578, 1580, 1582, 1583, 1589, 1592, 1601, 1602, 1603, 1605, 1608, 1611, 1614, 1617, 1630, 1632, 1634, 1640, 1645, 1648, 1652, 1655, 1659, 1660, 1668, 1669, 1675, 1686, 1689, 1691, 1696, 1697, 1703, 1708, 1709, 1714, 1715, 1718, 1719, 1720, 1721, 1722, 1732, 1733, 1737, 1738, 1741, 1744, 1747, 1749, 1753, 1757, 1760, 1762, 1765, 1772, 1773, 1789, 1792, 1800, 1802, 1809, 1811, 1813, 1816, 1818, 1835, 1836, 1837, 1841, 1844, 1848, 1849, 1851, 1852, 1862, 1867, 1878, 1882, 1884, 1890, 1894, 1900, 1912, 1918, 1924, 1928, 1929, 1933, 1934, 1938, 1940, 1941, 1944, 1953, 1958, 1962, 1972, 1980, 1981, 1983, 1985, 1992, 1997, 1998, 2002, 2014, 2021, 2026, 2029, 2031, 2032, 2033, 2047, 2052, 2059, 2061, 2069, 2072, 2073, 2075, 2076, 2088, 2090, 2093, 2094, 2095, 2100, 2109, 2110, 2122, 2124, 2125, 2134, 2136, 2137, 2152, 2153, 2157, 2158, 2170, 2171, 2175, 2177, 2178, 2180, 2181, 2182, 2186, 2188, 2190, 2192, 2195, 2196, 2198, 2200, 2202, 2204, 2208, 2211, 2217, 2225, 2226, 2227, 2231, 2232, 2235, 2243, 2244, 2246, 2250, 2252, 2258, 2260, 2261, 2266, 2272, 2275, 2277, 2278, 2280, 2286, 2287, 2289, 2292, 2296, 2303, 2311, 2323, 2325, 2326, 2327, 2331, 2332, 2334, 2339, 2349, 2354, 2356, 2359, 2369, 2370, 2379, 2380, 2387, 2389, 2392, 2400, 2405, 2413, 2415, 2419, 2421, 2422, 2423, 2429, 2434, 2445, 2446, 2448, 2451, 2453, 2459, 2463, 2465, 2467, 2470, 2474, 2475, 2480, 2493, 2494, 2495, 2504, 2508, 2512, 2513, 2524, 2528, 2534, 2551, 2553, 2557, 2565, 2575, 2577, 2580, 2588, 2598, 2605, 2607, 2609, 2612, 2615, 2618, 2620, 2621, 2631, 2634, 2636, 2637, 2642, 2650, 2651, 2652, 2657, 2667, 2669, 2671, 2675, 2676, 2694, 2698, 2702, 2710, 2716, 2725, 2729, 2736, 2737, 2742, 2744, 2745, 2747, 2750, 2757, 2759, 2761, 2763, 2764, 2767, 2768, 2776, 2784, 2788, 2792, 2796, 2797, 2802, 2804, 2805, 2806, 2808, 2809, 2810, 2815, 2816, 2818, 2821, 2822, 2825, 2826, 2829, 2832, 2837, 2841, 2849, 2852, 2853, 2870, 2873, 2876, 2882, 2883, 2889, 2897, 2901, 2902, 2906, 2912, 2914, 2917, 2918, 2921, 2928, 2932, 2934, 2941, 2944, 2947, 2960, 2961, 2965, 2966, 2968, 2969, 2974, 2983, 2984, 2985, 2987, 2994, 2996, 3003, 3004, 3011, 3013, 3016, 3024, 3029, 3038, 3042, 3045, 3046, 3059, 3074, 3075, 3082, 3084, 3086, 3096, 3099, 3104, 3108, 3109, 3111, 3117, 3118, 3122, 3123, 3124, 3125, 3128, 3130, 3132, 3136, 3147, 3160, 3165, 3168, 3169, 3171, 3175, 3177, 3179, 3181, 3192, 3196, 3203, 3205, 3206, 3212, 3214, 3217, 3222, 3230, 3232, 3239, 3251, 3264, 3265, 3267, 3269, 3271, 3272, 3276, 3281, 3284, 3288, 3293, 3296, 3301, 3304, 3309, 3315, 3317, 3326, 3328, 3334, 3337, 3344, 3347, 3354, 3355, 3359, 3367, 3369, 3374, 3379, 3380, 3383, 3391, 3394, 3395, 3399, 3400, 3404, 3405, 3406, 3411, 3415, 3417, 3420, 3424, 3426, 3436, 3440, 3441, 3443, 3449, 3457, 3463, 3466, 3469, 3473, 3477, 3481, 3493, 3504, 3508, 3518, 3519, 3529, 3534, 3536, 3540, 3541, 3548, 3553, 3554, 3557, 3558, 3567, 3576, 3578, 3582, 3585, 3586, 3589, 3594, 3597, 3602, 3608, 3612, 3615, 3616, 3621, 3625, 3626, 3629, 3633, 3635, 3641, 3647, 3651, 3652, 3655, 3657, 3667, 3670, 3680, 3686, 3689, 3692, 3698, 3701, 3706, 3712, 3717, 3722, 3726, 3734, 3747, 3753, 3761, 3765, 3771, 3783, 3786, 3790, 3795, 3805, 3807, 3809, 3811, 3815, 3833, 3836, 3844, 3845, 3848, 3855, 3857, 3860, 3861, 3864, 3868, 3869, 3871, 3872, 3875, 3882, 3888, 3892, 3895, 3898, 3899, 3901, 3902, 3907, 3908, 3909, 3914, 3915, 3924, 3935, 3941, 3946, 3950, 3953, 3954, 3956, 3962, 3967, 3974, 3977, 3978, 3995, 4018, 4022, 4023, 4025, 4029, 4039, 4042, 4049, 4050, 4053, 4054, 4060, 4062, 4067, 4068, 4069, 4074, 4077, 4082, 4100, 4103, 4105, 4106, 4107, 4109, 4110, 4111, 4113, 4115, 4116, 4118, 4122, 4124, 4127, 4129, 4132, 4136, 4143, 4148, 4152, 4153, 4160, 4162, 4165, 4172, 4178, 4179, 4181, 4188, 4189, 4190, 4192, 4194, 4196, 4197, 4200, 4202, 4203, 4205, 4208, 4211, 4212, 4215, 4216, 4221, 4224, 4225, 4231, 4232, 4237, 4238, 4239, 4240, 4243, 4244, 4247, 4249, 4251, 4253, 4256, 4259, 4282, 4286, 4288, 4295, 4303, 4304, 4305, 4306, 4307, 4308, 4309, 4310, 4312, 4315, 4319, 4321, 4333, 4334, 4340, 4342, 4343, 4344, 4346, 4348, 4349, 4355, 4373, 4377, 4378, 4379, 4380, 4386, 4396, 4399, 4400, 4402, 4409, 4410, 4416, 4420, 4421, 4429, 4432, 4439, 4440, 4441, 4444, 4457, 4459, 4461, 4464, 4465, 4466, 4467, 4477, 4479, 4488, 4493, 4494, 4497, 4500, 4501, 4504, 4506, 4507, 4516, 4522, 4526, 4531, 4534, 4535, 4541, 4543, 4557, 4560, 4563, 4570, 4582, 4588, 4590, 4592, 4598, 4608, 4609, 4625, 4626, 4641, 4643, 4646, 4657, 4659, 4660, 4661, 4663, 4664, 4668, 4675, 4677, 4678, 4681, 4683, 4686, 4691, 4695, 4698, 4701, 4702, 4708, 4709, 4710, 4716, 4718, 4719, 4723, 4726, 4729, 4730, 4731, 4742, 4743, 4746, 4748, 4749, 4756, 4758, 4767, 4769, 4777, 4778, 4779, 4780, 4781, 4782, 4785, 4787, 4794, 4796, 4803, 4809, 4814, 4822, 4828, 4832, 4837, 4839, 4840, 4842, 4843, 4848, 4851, 4854, 4856, 4874, 4875, 4879, 4884, 4887, 4892, 4898, 4904, 4909, 4914, 4917, 4918, 4921, 4927, 4932, 4943, 4944, 4949, 4952, 4955, 4956, 4959, 4961, 4964, 4978, 4993, 4997, 4999, 5003, 5005, 5010, 5011, 5012, 5015, 5020, 5021, 5026, 5028, 5034, 5036, 5038, 5039, 5040, 5041, 5050, 5052, 5054, 5055, 5056, 5070, 5071, 5077, 5082, 5085, 5091, 5092, 5094, 5100, 5101, 5104, 5108, 5109, 5118, 5120, 5121, 5122, 5123, 5125, 5128, 5129, 5131, 5146, 5150, 5151, 5157, 5166, 5173, 5180, 5186, 5189, 5191, 5193, 5215, 5223, 5225, 5228, 5234, 5237, 5240, 5241, 5251, 5252, 5260, 5263, 5272, 5274, 5277, 5282, 5284, 5285, 5291, 5293, 5302, 5303, 5311, 5314, 5320, 5323, 5326, 5328, 5331, 5336, 5339, 5342, 5345, 5347, 5351, 5354, 5358, 5359, 5365, 5371, 5375, 5378, 5379, 5380, 5389, 5390, 5393, 5395, 5398, 5402, 5403, 5405, 5406, 5408, 5418, 5421, 5426, 5427, 5430, 5444, 5451, 5453, 5454, 5458, 5465, 5468, 5472, 5474, 5478, 5480, 5482, 5484, 5487, 5488, 5494, 5500, 5504, 5510, 5511, 5512, 5516, 5520, 5523, 5526, 5527, 5534, 5538, 5539, 5541, 5548, 5554, 5560, 5566, 5570, 5572, 5575, 5585, 5586, 5594, 5602, 5605, 5608, 5617, 5620, 5621, 5623, 5629, 5633, 5634, 5637, 5642, 5643, 5646, 5647, 5651, 5662, 5669, 5681, 5682, 5685, 5688, 5695, 5698, 5701, 5705, 5711, 5714, 5717, 5721, 5725, 5727, 5730, 5732, 5733, 5734, 5738, 5739, 5745, 5746, 5755, 5759, 5762, 5766, 5771, 5772, 5785, 5787, 5794, 5796, 5797, 5801, 5804, 5814, 5815, 5829, 5831, 5834, 5843, 5850, 5853, 5860, 5861, 5874, 5875, 5883, 5888, 5891, 5903, 5907, 5919, 5921, 5925, 5930, 5932, 5939, 5940, 5941, 5942, 5943, 5944, 5946, 5957, 5958, 5962, 5969, 5971, 5976, 5980, 5986, 5995, 5997, 6001, 6021, 6022, 6029, 6036, 6037, 6038, 6039, 6045, 6046, 6053, 6055, 6059, 6061, 6064, 6065, 6070, 6071, 6080, 6081, 6092, 6094, 6099, 6103, 6126, 6128, 6132, 6142, 6143, 6146, 6158, 6176, 6180, 6183, 6188, 6189, 6196, 6198, 6200, 6207, 6217, 6218, 6219, 6221, 6227, 6228, 6230, 6243, 6246, 6248, 6254, 6258, 6260, 6262, 6264, 6265, 6269, 6274, 6279, 6282, 6283, 6284, 6293, 6297, 6298, 6300, 6306, 6323, 6326, 6333, 6336, 6341, 6350, 6354, 6356, 6367, 6371, 6373, 6374, 6375, 6381, 6384, 6385, 6393, 6397, 6400, 6409, 6422, 6425, 6434, 6437, 6442, 6443, 6444, 6459, 6460, 6467, 6468, 6469, 6471, 6477, 6479, 6480, 6484, 6490, 6491, 6492, 6500, 6517, 6522, 6523, 6531, 6540, 6554, 6556, 6557, 6561, 6566, 6572, 6588, 6591, 6594, 6598, 6604, 6606, 6611, 6614, 6616, 6625, 6631, 6633, 6634, 6636, 6639, 6642, 6646, 6649, 6650, 6651, 6652, 6659, 6664, 6671, 6674, 6675, 6683, 6688, 6692, 6700, 6702, 6711, 6712, 6716, 6721, 6723, 6726, 6735, 6736, 6737, 6739, 6746, 6749, 6750, 6758, 6762, 6786, 6789, 6793, 6796, 6809, 6810, 6811, 6833, 6840, 6841, 6842, 6844, 6846, 6847, 6851, 6855, 6858, 6865, 6867, 6872, 6875, 6877, 6880, 6887, 6893, 6895, 6897, 6913, 6914, 6922, 6924, 6925, 6929, 6932, 6935, 6939, 6941, 6942, 6943, 6955, 6957, 6964, 6967, 6976, 6981, 6986, 6992, 6995, 6998, 6999, 7001, 7002, 7004, 7005, 7011, 7021, 7022, 7025, 7028, 7029, 7030, 7032, 7033, 7034, 7035, 7036, 7037, 7041, 7051, 7052, 7058, 7064, 7065, 7069, 7074, 7083, 7086, 7089, 7097, 7101, 7110, 7114, 7117, 7123, 7133, 7136, 7141, 7143, 7146, 7148, 7158, 7162, 7163, 7168, 7171, 7172, 7176, 7178, 7180, 7182, 7184, 7194, 7202, 7210, 7211, 7218, 7219, 7220, 7221, 7222, 7227, 7228, 7230, 7233, 7247, 7250, 7262, 7265, 7268, 7274, 7275, 7277, 7281, 7282, 7283, 7290, 7301, 7302, 7306, 7308, 7309, 7317, 7319, 7323, 7326, 7329, 7337, 7341, 7345, 7346, 7347, 7358, 7361, 7362, 7369, 7370, 7374, 7377, 7379, 7385, 7386, 7388, 7391, 7392, 7393, 7396, 7404, 7409, 7410, 7412, 7414, 7420, 7422, 7427, 7433, 7437, 7441, 7444, 7445, 7449, 7455, 7462, 7463, 7464, 7465, 7469, 7484, 7486, 7488, 7489, 7490, 7492, 7493, 7496, 7498, 7505, 7506, 7512, 7515, 7516, 7528, 7529, 7530, 7531, 7534, 7539, 7542, 7544, 7547, 7550, 7551, 7555, 7556, 7562, 7565, 7572, 7576, 7579, 7583, 7587, 7589, 7592, 7593, 7594, 7596, 7607, 7611, 7613, 7614, 7629, 7630, 7632, 7634, 7636, 7639, 7659, 7661, 7664, 7665, 7672, 7677, 7678, 7682, 7688, 7690, 7691, 7698, 7700, 7706, 7713, 7722, 7725, 7733, 7735, 7736, 7738, 7742, 7743, 7746, 7750, 7754, 7761, 7765, 7767, 7775, 7780, 7783, 7790, 7794, 7798, 7799, 7806, 7811, 7816, 7819, 7828, 7835, 7838, 7840, 7841, 7851, 7853, 7855, 7860, 7863, 7866, 7867, 7871, 7879, 7885, 7886, 7895, 7897, 7909, 7920, 7939, 7940, 7944, 7946, 7947, 7948, 7949, 7950, 7952, 7953, 7957, 7959, 7960, 7963, 7977, 7978, 7983, 7988, 7989, 7992, 7993, 7997, 8000, 8004, 8009, 8012, 8014, 8016, 8019, 8020, 8025, 8026, 8030, 8032, 8033, 8045, 8047, 8048, 8049, 8059, 8061, 8070, 8071, 8075, 8080, 8081, 8082, 8083, 8089, 8091, 8108, 8115, 8117, 8118, 8135, 8136, 8137, 8141, 8147, 8152, 8153, 8157, 8162, 8164, 8165, 8172, 8173, 8184, 8187, 8203, 8205, 8207, 8208, 8210, 8211, 8216, 8217, 8221, 8225, 8226, 8227, 8238, 8245, 8250, 8252, 8254, 8256, 8262, 8264, 8265, 8278, 8279, 8282, 8283, 8285, 8287, 8295, 8298, 8300, 8301, 8305, 8308, 8318, 8321, 8326, 8327, 8331, 8333, 8334, 8337, 8339, 8345, 8348, 8350, 8353, 8354, 8355, 8356, 8363, 8364, 8368, 8377, 8378, 8381, 8387, 8390, 8393, 8401, 8406, 8408, 8409, 8411, 8413, 8415, 8416, 8418, 8420, 8423, 8432, 8436, 8437, 8441, 8447, 8457, 8463, 8465, 8466, 8471, 8485, 8486, 8488, 8489, 8496, 8504, 8507, 8508, 8514, 8517, 8524, 8526, 8530, 8531, 8538, 8541, 8542, 8544, 8545, 8547, 8553, 8555, 8563, 8564, 8565, 8566, 8574, 8575, 8578, 8583, 8586, 8588, 8597, 8598, 8602, 8603, 8607, 8625, 8626, 8628, 8637, 8638, 8639, 8649, 8654, 8659, 8666, 8669, 8672, 8673, 8680, 8681, 8684, 8686, 8687, 8693, 8695, 8697, 8700, 8703, 8710, 8715, 8721, 8723, 8727, 8734, 8735, 8738, 8739, 8741, 8743, 8744, 8749, 8755, 8759, 8760, 8763, 8765, 8777, 8781, 8782, 8784, 8789, 8791, 8792, 8794, 8795, 8804, 8810, 8811, 8817, 8824, 8825, 8828, 8836, 8842, 8843, 8844, 8851, 8865, 8867, 8887, 8888, 8889, 8893, 8899, 8901, 8905, 8913, 8915, 8917, 8920, 8923, 8929, 8932, 8936, 8939, 8940, 8947, 8948, 8951, 8953, 8960, 8963, 8967, 8985, 8988, 8991, 8997, 9002, 9013, 9021, 9024, 9025, 9028, 9029, 9042, 9047, 9048, 9054, 9057, 9059, 9065, 9067, 9070, 9071, 9074, 9077, 9082, 9085, 9092, 9096, 9099, 9102, 9106, 9109, 9110, 9116, 9125, 9126, 9132, 9139, 9144, 9147, 9148, 9153, 9158, 9166, 9168, 9170, 9172, 9180, 9183, 9184, 9186, 9195, 9203, 9208, 9215, 9219, 9222, 9223, 9225, 9230, 9236, 9240, 9246, 9250, 9254, 9256, 9260, 9263, 9264, 9268, 9269, 9270, 9283, 9296, 9297, 9299, 9302, 9303, 9304, 9309, 9313, 9315, 9326, 9329, 9330, 9332, 9335, 9340, 9342, 9378, 9380, 9381, 9382, 9384, 9385, 9390, 9394, 9398, 9410, 9412, 9418, 9422, 9424, 9428, 9431, 9436, 9442, 9453, 9455, 9457, 9458, 9462, 9463, 9467, 9479, 9480, 9481, 9486, 9495, 9503, 9518, 9522, 9525, 9528, 9533, 9547, 9554, 9558, 9559, 9571, 9593, 9596, 9597, 9605, 9606, 9608, 9613, 9617, 9622, 9629, 9631, 9634, 9642, 9645, 9649, 9653, 9662, 9673, 9675, 9677, 9678, 9687, 9692, 9701, 9702, 9710, 9714, 9718, 9723, 9732, 9740, 9745, 9747, 9753, 9767, 9770, 9771, 9772, 9783, 9790, 9791, 9795, 9802, 9803, 9808, 9814, 9817, 9819, 9825, 9831, 9833, 9835, 9839, 9841, 9842, 9843, 9845, 9846, 9857, 9872, 9880, 9882, 9883, 9884, 9885, 9886, 9890, 9894, 9896, 9906, 9908, 9917, 9919, 9920, 9922, 9925, 9927, 9929, 9930, 9935, 9941, 9945, 9955, 9960, 9963, 9966, 9967, 9972, 9973, 9975, 9976, 9979, 9984, 9987, 9992, 9999, 10000, 10004, 10006, 10008, 10016, 10019, 10021, 10031, 10032, 10039, 10043, 10054, 10056, 10062, 10064, 10073, 10078, 10090, 10094, 10099, 10104, 10112, 10114, 10115, 10119, 10121, 10127, 10129, 10132, 10151, 10156, 10161, 10163, 10169, 10171, 10182, 10183, 10185, 10188, 10193, 10197, 10198, 10206, 10207, 10212, 10216, 10221, 10222, 10226, 10231, 10234, 10239, 10240, 10244, 10247, 10248, 10257, 10258, 10260, 10261, 10263, 10265, 10266, 10267, 10268, 10269, 10270, 10274, 10282, 10286, 10289, 10294, 10295, 10297, 10300, 10302, 10306, 10318, 10325, 10335, 10340, 10343, 10344, 10349, 10354, 10357, 10360, 10363, 10374, 10377, 10378, 10381, 10382, 10384, 10390, 10391, 10392, 10394, 10395, 10397, 10398, 10400, 10401, 10408, 10413, 10416, 10418, 10419, 10422, 10425, 10428, 10440, 10446, 10452, 10453, 10454, 10457, 10464, 10467, 10476, 10491, 10493, 10494, 10495, 10497, 10500, 10503, 10509, 10514, 10517, 10522, 10523, 10526, 10527, 10530, 10535, 10536, 10542, 10546, 10549, 10551, 10554, 10555, 10558, 10560, 10563, 10567, 10569, 10572, 10575, 10576, 10577, 10583, 10592, 10599, 10608, 10611, 10619, 10626, 10628, 10632, 10633, 10635, 10636, 10643, 10647, 10648, 10652, 10658, 10663, 10667, 10669, 10680, 10682, 10684, 10687, 10688, 10692, 10699, 10702, 10723, 10727, 10728, 10733, 10737, 10738, 10740, 10747, 10750, 10759, 10765, 10767, 10768, 10769, 10776, 10784, 10785, 10796, 10803, 10811, 10812, 10813, 10820, 10821, 10822, 10825, 10826, 10827, 10828, 10831, 10844, 10845, 10858, 10864, 10867, 10872, 10879, 10884, 10885, 10889, 10892, 10893, 10898, 10899, 10928, 10931, 10946, 10948, 10950, 10952, 10954, 10958, 10967, 10969, 10978, 10985, 10996, 11007, 11008, 11010, 11016, 11019, 11025, 11030, 11036, 11042, 11043, 11047, 11051, 11052, 11054, 11058, 11063, 11066, 11072, 11073, 11074, 11077, 11084, 11085, 11087, 11089, 11092, 11096, 11097, 11102, 11107, 11112, 11113, 11117, 11122, 11125, 11126, 11138, 11149, 11162, 11169, 11170, 11171, 11175, 11185, 11187, 11191, 11193, 11194, 11195, 11198, 11200, 11205, 11217, 11219, 11220, 11221, 11227, 11230, 11235, 11236, 11239, 11246, 11250, 11252, 11257, 11260, 11262, 11277, 11281, 11294, 11298, 11299, 11302, 11308, 11312, 11314, 11316, 11318, 11319, 11321, 11322, 11327, 11332, 11339, 11340, 11341, 11343, 11344, 11348, 11358, 11359, 11363, 11365, 11370, 11374, 11376, 11377, 11378, 11382, 11388, 11389, 11390, 11393, 11396, 11398, 11404, 11411, 11418, 11426, 11428, 11436, 11437, 11440, 11441, 11442, 11451, 11453, 11458, 11462, 11465, 11468, 11476, 11484, 11496, 11497, 11498, 11499, 11510, 11517, 11518, 11522, 11524, 11527, 11532, 11539, 11543, 11546, 11549, 11556, 11558, 11560, 11565, 11570, 11575, 11578, 11582, 11585, 11587, 11588, 11590, 11593, 11595, 11598, 11599, 11602, 11609, 11618, 11626, 11628, 11629, 11637, 11638, 11641, 11644, 11647, 11651, 11655, 11661, 11662, 11663, 11665, 11667, 11672, 11673, 11675, 11678, 11689, 11691, 11694, 11695, 11697, 11706, 11710, 11711, 11712, 11713, 11715, 11722, 11723, 11728, 11729, 11730, 11735, 11737, 11739, 11741, 11743, 11744, 11754, 11758, 11760, 11761, 11767, 11768, 11769, 11770, 11772, 11779, 11780, 11782, 11785, 11786, 11792, 11799, 11802, 11804, 11805, 11806, 11813, 11818, 11819, 11823, 11827, 11828, 11834, 11840, 11841, 11843, 11844, 11856, 11861, 11867, 11868, 11869, 11880, 11881, 11885, 11886, 11894, 11895, 11900, 11901, 11902, 11908, 11922, 11923, 11935, 11936, 11942, 11950, 11956, 11959, 11961, 11962, 11964, 11966, 11975, 11977, 11982, 11984, 11994, 11995, 12000, 12004, 12016, 12018, 12023, 12028, 12031, 12032, 12033, 12035, 12036, 12041, 12043, 12044, 12045, 12049, 12050, 12053, 12056, 12061, 12062, 12064, 12066, 12077, 12088, 12090, 12091, 12097, 12106, 12110, 12111, 12112, 12115, 12118, 12126, 12141, 12147, 12148, 12152, 12156, 12158, 12164, 12165, 12167, 12168, 12172, 12176, 12180, 12197, 12199, 12207, 12210, 12216, 12222, 12224, 12226, 12232, 12241, 12251, 12259, 12261, 12266, 12274, 12280, 12283, 12289, 12296, 12298, 12300, 12301, 12302, 12303, 12308, 12317, 12325, 12335, 12338, 12341, 12344, 12345, 12350, 12353, 12356, 12361, 12364, 12369, 12371, 12372, 12377, 12378, 12379, 12384, 12389, 12390, 12392, 12397, 12398, 12412, 12415, 12420, 12421, 12422, 12431, 12438, 12442, 12445, 12448, 12449, 12452, 12459, 12462, 12463, 12464, 12467, 12469, 12473, 12479, 12482, 12487, 12493, 12508, 12509, 12510, 12512, 12513, 12514, 12515, 12518, 12520, 12521, 12523, 12527, 12528, 12530, 12534, 12540, 12544, 12546, 12550, 12564, 12567, 12571, 12572, 12576, 12577, 12588, 12593, 12597, 12603, 12604, 12610, 12619, 12624, 12630, 12636, 12643, 12650, 12658, 12665, 12679, 12687, 12691, 12694, 12695, 12700, 12705, 12708, 12722, 12725, 12726, 12736, 12738, 12744, 12749, 12752, 12755, 12765, 12766, 12767, 12768, 12769, 12770, 12774, 12780, 12783, 12792, 12796, 12798, 12800, 12802, 12806, 12808, 12809, 12817, 12827, 12830, 12845, 12853, 12861, 12867, 12870, 12871, 12875, 12878, 12880, 12882, 12889, 12893, 12897, 12899, 12906, 12907, 12908, 12911, 12913, 12930, 12931, 12935, 12939, 12943, 12945, 12950, 12953, 12954, 12956, 12964, 12966, 12969, 12972, 12974, 12976, 12981, 12986, 12987, 12988, 12990, 13002, 13005, 13008, 13011, 13012, 13015, 13017, 13019, 13020, 13025, 13028, 13036, 13039, 13041, 13043, 13044, 13053, 13054, 13059, 13062, 13064, 13069, 13074, 13078, 13081, 13082, 13083, 13084, 13087, 13088, 13095, 13101, 13104, 13116, 13123, 13139, 13145, 13148, 13150, 13156, 13157, 13163, 13168, 13170, 13173, 13174, 13175, 13178, 13180, 13181, 13187, 13195, 13196, 13200, 13209, 13216, 13221, 13224, 13234, 13235, 13243, 13244, 13246, 13247, 13255, 13260, 13263, 13265, 13267, 13268, 13273, 13278, 13279, 13281, 13286, 13293, 13297, 13309, 13311, 13313, 13316, 13318, 13327, 13334, 13335, 13336, 13337, 13339, 13340, 13343, 13345, 13346, 13350, 13352, 13354, 13356, 13359, 13360, 13363, 13365, 13366, 13367, 13368, 13370, 13371, 13374, 13375, 13381, 13383, 13391, 13394, 13399, 13401, 13410, 13411, 13412, 13414, 13416, 13418, 13419, 13420, 13423, 13424, 13428, 13430, 13431, 13432, 13436, 13439, 13440, 13442, 13444, 13452, 13454, 13458, 13460, 13462, 13465, 13469, 13475, 13477, 13478, 13479, 13482, 13483, 13489, 13496, 13506, 13510, 13511, 13514, 13518, 13520, 13525, 13534, 13535, 13551, 13563, 13568, 13576, 13577, 13581, 13591, 13601, 13606, 13616, 13624, 13625, 13626, 13629, 13630, 13640, 13642, 13645, 13649, 13654, 13656, 13658, 13665, 13671, 13672, 13673, 13676, 13677, 13686, 13688, 13692, 13693, 13695, 13704, 13705, 13706, 13715, 13716, 13720, 13721, 13729, 13732, 13743, 13744, 13748, 13749, 13754, 13757, 13758, 13764, 13766, 13770, 13771, 13778, 13779, 13780, 13784, 13787, 13791, 13793, 13800, 13802, 13805, 13809, 13810, 13811, 13812, 13813, 13816, 13818, 13821, 13825, 13834, 13835, 13838, 13839, 13840, 13846, 13861, 13862, 13869, 13871, 13894, 13898, 13902, 13905, 13907, 13912, 13915, 13916, 13918, 13927, 13929, 13931, 13946, 13953, 13958, 13962, 13964, 13965, 13971, 13973, 13982, 13983, 13985, 13986, 13988, 13992, 13993, 14010, 14014, 14016, 14019, 14020, 14034, 14040, 14044, 14046, 14048, 14069, 14071, 14081, 14084, 14092, 14094, 14099, 14102, 14108, 14113, 14118, 14119, 14122, 14125, 14128, 14133, 14135, 14136, 14138, 14140, 14143, 14146, 14149, 14154, 14158, 14160, 14161, 14165, 14169, 14171, 14179, 14181, 14182, 14183]\n"
     ]
    }
   ],
   "source": [
    "mismatch = [i for i, (a,b) in enumerate(zip(Y_hun, hun_Y_test_binary)) if a != b]\n",
    "print(mismatch)"
   ]
  },
  {
   "cell_type": "code",
   "execution_count": 15,
   "id": "2e837211",
   "metadata": {
    "scrolled": true
   },
   "outputs": [
    {
     "name": "stdout",
     "output_type": "stream",
     "text": [
      "444/444 [==============================] - 0s 880us/step\n",
      "[[7438 2465]\n",
      " [1052 3229]]\n",
      "              precision    recall  f1-score   support\n",
      "\n",
      "           0     0.8761    0.7511    0.8088      9903\n",
      "           1     0.5671    0.7543    0.6474      4281\n",
      "\n",
      "    accuracy                         0.7520     14184\n",
      "   macro avg     0.7216    0.7527    0.7281     14184\n",
      "weighted avg     0.7828    0.7520    0.7601     14184\n",
      "\n"
     ]
    }
   ],
   "source": [
    "Y_swi = np.argmax(SGD_model.predict(swi_X_test),axis = 1)\n",
    "cm_swi = confusion_matrix(Y_swi, swi_Y_test_binary)\n",
    "print(cm_swi)\n",
    "print(classification_report(Y_swi, swi_Y_test_binary, digits=4))"
   ]
  },
  {
   "cell_type": "code",
   "execution_count": 16,
   "id": "805b6caf",
   "metadata": {},
   "outputs": [
    {
     "name": "stdout",
     "output_type": "stream",
     "text": [
      "[7, 10, 12, 20, 25, 26, 28, 38, 46, 47, 50, 51, 69, 75, 78, 86, 88, 95, 97, 100, 112, 113, 115, 116, 120, 127, 129, 150, 151, 173, 174, 177, 188, 191, 193, 197, 200, 201, 202, 205, 218, 222, 229, 232, 251, 253, 254, 258, 261, 264, 265, 268, 269, 271, 272, 273, 277, 282, 289, 294, 295, 299, 300, 303, 305, 308, 314, 315, 329, 331, 333, 350, 351, 352, 354, 360, 361, 362, 369, 370, 371, 374, 378, 379, 389, 392, 393, 395, 400, 403, 404, 410, 416, 417, 432, 437, 441, 442, 447, 448, 449, 461, 463, 477, 478, 480, 482, 487, 490, 498, 499, 500, 503, 504, 505, 509, 512, 513, 514, 520, 521, 526, 527, 529, 547, 549, 559, 560, 562, 578, 589, 590, 591, 592, 594, 597, 603, 611, 613, 619, 622, 625, 626, 631, 638, 642, 647, 648, 653, 658, 662, 671, 672, 674, 676, 680, 681, 686, 687, 688, 695, 697, 705, 713, 718, 721, 722, 723, 724, 726, 728, 730, 732, 733, 736, 740, 746, 748, 750, 751, 753, 755, 761, 767, 769, 775, 778, 779, 780, 783, 787, 814, 816, 819, 822, 823, 825, 830, 832, 833, 837, 838, 841, 847, 848, 850, 853, 856, 857, 860, 862, 865, 866, 874, 875, 876, 880, 881, 883, 885, 886, 887, 889, 894, 895, 900, 903, 907, 911, 925, 929, 930, 934, 935, 938, 945, 949, 951, 952, 954, 955, 956, 958, 963, 966, 972, 983, 984, 985, 986, 990, 993, 994, 1008, 1016, 1023, 1029, 1032, 1033, 1038, 1039, 1041, 1043, 1046, 1051, 1053, 1055, 1057, 1063, 1066, 1068, 1070, 1074, 1075, 1077, 1080, 1083, 1100, 1107, 1109, 1110, 1112, 1113, 1115, 1119, 1120, 1122, 1126, 1127, 1134, 1139, 1150, 1151, 1154, 1158, 1165, 1171, 1174, 1181, 1188, 1198, 1206, 1209, 1210, 1212, 1216, 1220, 1221, 1223, 1224, 1227, 1232, 1233, 1235, 1239, 1241, 1244, 1245, 1257, 1258, 1263, 1266, 1267, 1272, 1275, 1276, 1280, 1281, 1282, 1284, 1287, 1297, 1299, 1304, 1311, 1314, 1316, 1325, 1333, 1334, 1338, 1339, 1346, 1349, 1355, 1359, 1360, 1362, 1372, 1375, 1378, 1381, 1387, 1392, 1397, 1398, 1399, 1404, 1405, 1411, 1414, 1415, 1430, 1437, 1442, 1443, 1449, 1450, 1456, 1461, 1464, 1466, 1469, 1473, 1475, 1476, 1478, 1481, 1482, 1483, 1487, 1490, 1493, 1499, 1500, 1502, 1504, 1508, 1515, 1521, 1529, 1534, 1541, 1543, 1546, 1549, 1550, 1556, 1557, 1565, 1566, 1567, 1580, 1581, 1584, 1591, 1592, 1596, 1598, 1604, 1605, 1608, 1613, 1614, 1624, 1629, 1632, 1633, 1640, 1643, 1648, 1649, 1651, 1655, 1663, 1664, 1665, 1666, 1684, 1685, 1698, 1699, 1702, 1705, 1707, 1712, 1717, 1720, 1730, 1737, 1739, 1742, 1744, 1749, 1753, 1755, 1762, 1764, 1765, 1766, 1768, 1769, 1772, 1773, 1774, 1775, 1791, 1793, 1794, 1798, 1806, 1812, 1813, 1822, 1826, 1832, 1836, 1840, 1862, 1864, 1869, 1871, 1872, 1875, 1879, 1882, 1899, 1910, 1912, 1915, 1916, 1923, 1928, 1930, 1931, 1937, 1941, 1947, 1949, 1955, 1960, 1962, 1965, 1966, 1968, 1979, 1980, 1982, 1986, 1990, 1995, 1996, 1998, 2001, 2002, 2003, 2008, 2009, 2018, 2025, 2032, 2033, 2035, 2038, 2039, 2043, 2045, 2048, 2050, 2065, 2066, 2072, 2075, 2079, 2080, 2082, 2090, 2093, 2099, 2100, 2107, 2108, 2109, 2115, 2118, 2120, 2126, 2127, 2134, 2141, 2151, 2152, 2153, 2154, 2158, 2159, 2165, 2169, 2174, 2177, 2181, 2182, 2184, 2186, 2198, 2209, 2213, 2215, 2224, 2225, 2226, 2232, 2239, 2242, 2245, 2246, 2253, 2255, 2257, 2261, 2263, 2264, 2268, 2273, 2274, 2278, 2280, 2286, 2293, 2306, 2313, 2314, 2315, 2321, 2323, 2326, 2329, 2331, 2333, 2335, 2347, 2357, 2360, 2361, 2381, 2386, 2387, 2391, 2394, 2395, 2396, 2401, 2406, 2407, 2408, 2409, 2415, 2421, 2422, 2423, 2429, 2434, 2436, 2437, 2438, 2442, 2448, 2451, 2453, 2454, 2456, 2461, 2477, 2478, 2481, 2486, 2487, 2488, 2489, 2497, 2507, 2510, 2519, 2521, 2524, 2525, 2527, 2528, 2533, 2534, 2541, 2556, 2557, 2558, 2559, 2567, 2573, 2577, 2581, 2582, 2590, 2598, 2599, 2601, 2604, 2607, 2608, 2614, 2615, 2620, 2627, 2630, 2657, 2658, 2662, 2669, 2671, 2682, 2685, 2686, 2689, 2691, 2694, 2695, 2701, 2702, 2713, 2714, 2718, 2724, 2728, 2730, 2731, 2733, 2734, 2739, 2742, 2743, 2748, 2756, 2757, 2759, 2767, 2768, 2774, 2783, 2792, 2794, 2795, 2803, 2805, 2812, 2817, 2825, 2827, 2829, 2835, 2838, 2839, 2841, 2850, 2857, 2859, 2860, 2864, 2868, 2877, 2879, 2881, 2888, 2889, 2897, 2903, 2907, 2911, 2913, 2917, 2937, 2938, 2956, 2965, 2966, 2971, 2972, 2973, 2976, 2977, 2981, 2989, 2995, 2996, 2997, 2998, 3008, 3009, 3012, 3013, 3014, 3018, 3019, 3029, 3030, 3034, 3036, 3041, 3042, 3043, 3044, 3046, 3051, 3055, 3063, 3070, 3089, 3096, 3098, 3102, 3105, 3108, 3109, 3112, 3113, 3115, 3120, 3121, 3130, 3131, 3136, 3137, 3143, 3144, 3148, 3150, 3152, 3160, 3167, 3168, 3169, 3171, 3174, 3183, 3188, 3189, 3197, 3199, 3203, 3206, 3207, 3211, 3212, 3213, 3223, 3226, 3227, 3232, 3233, 3240, 3243, 3245, 3257, 3263, 3265, 3271, 3272, 3276, 3277, 3280, 3287, 3288, 3289, 3290, 3291, 3308, 3309, 3317, 3320, 3322, 3323, 3324, 3331, 3332, 3335, 3336, 3338, 3339, 3341, 3342, 3347, 3352, 3354, 3356, 3357, 3360, 3363, 3367, 3368, 3374, 3377, 3378, 3383, 3384, 3386, 3387, 3390, 3392, 3394, 3395, 3399, 3402, 3403, 3404, 3406, 3413, 3416, 3426, 3431, 3432, 3435, 3443, 3449, 3458, 3459, 3463, 3467, 3479, 3482, 3483, 3487, 3494, 3509, 3514, 3515, 3517, 3527, 3531, 3537, 3538, 3542, 3545, 3548, 3559, 3561, 3563, 3572, 3574, 3577, 3580, 3582, 3590, 3591, 3597, 3598, 3599, 3600, 3603, 3607, 3608, 3614, 3617, 3623, 3627, 3628, 3635, 3636, 3642, 3644, 3645, 3646, 3648, 3649, 3651, 3652, 3655, 3659, 3661, 3662, 3665, 3666, 3668, 3676, 3677, 3682, 3689, 3692, 3698, 3699, 3702, 3706, 3708, 3712, 3714, 3716, 3717, 3719, 3731, 3732, 3733, 3736, 3740, 3741, 3742, 3760, 3761, 3766, 3776, 3778, 3784, 3785, 3786, 3788, 3793, 3797, 3799, 3800, 3802, 3819, 3822, 3830, 3836, 3841, 3847, 3848, 3854, 3859, 3860, 3865, 3868, 3869, 3873, 3874, 3883, 3889, 3898, 3901, 3903, 3911, 3916, 3918, 3919, 3922, 3931, 3933, 3934, 3936, 3937, 3940, 3949, 3953, 3954, 3959, 3960, 3963, 3968, 3977, 3982, 3991, 3997, 4000, 4002, 4003, 4005, 4006, 4010, 4012, 4017, 4020, 4021, 4027, 4035, 4036, 4037, 4046, 4052, 4055, 4060, 4064, 4066, 4073, 4074, 4076, 4077, 4078, 4080, 4084, 4085, 4087, 4089, 4096, 4101, 4102, 4105, 4107, 4117, 4120, 4126, 4130, 4131, 4133, 4137, 4139, 4145, 4152, 4161, 4162, 4164, 4169, 4171, 4179, 4184, 4185, 4188, 4196, 4202, 4204, 4205, 4212, 4213, 4216, 4222, 4223, 4224, 4225, 4235, 4243, 4244, 4245, 4253, 4263, 4265, 4268, 4271, 4273, 4276, 4278, 4280, 4285, 4287, 4289, 4296, 4302, 4311, 4312, 4321, 4322, 4324, 4326, 4327, 4329, 4331, 4342, 4343, 4349, 4352, 4354, 4361, 4368, 4371, 4376, 4382, 4387, 4388, 4396, 4397, 4399, 4400, 4401, 4402, 4403, 4408, 4409, 4411, 4418, 4421, 4432, 4434, 4435, 4438, 4451, 4453, 4456, 4458, 4462, 4466, 4472, 4473, 4492, 4493, 4497, 4498, 4502, 4503, 4506, 4508, 4512, 4514, 4521, 4523, 4529, 4530, 4532, 4536, 4541, 4548, 4557, 4558, 4560, 4561, 4563, 4572, 4573, 4574, 4586, 4587, 4588, 4590, 4607, 4608, 4613, 4625, 4627, 4630, 4633, 4635, 4639, 4645, 4646, 4647, 4655, 4664, 4665, 4671, 4676, 4679, 4682, 4683, 4689, 4695, 4697, 4699, 4701, 4705, 4710, 4716, 4718, 4719, 4722, 4727, 4730, 4737, 4744, 4745, 4748, 4750, 4765, 4772, 4782, 4784, 4791, 4794, 4799, 4800, 4802, 4804, 4806, 4811, 4814, 4817, 4821, 4823, 4824, 4827, 4829, 4830, 4834, 4840, 4841, 4842, 4846, 4853, 4858, 4861, 4862, 4868, 4869, 4873, 4875, 4887, 4888, 4904, 4905, 4910, 4915, 4917, 4922, 4927, 4929, 4939, 4940, 4941, 4945, 4947, 4949, 4968, 4971, 4975, 4979, 4982, 4989, 4991, 4998, 5005, 5007, 5013, 5015, 5016, 5020, 5025, 5027, 5035, 5038, 5039, 5043, 5045, 5046, 5053, 5055, 5062, 5063, 5071, 5078, 5079, 5080, 5083, 5086, 5098, 5099, 5100, 5104, 5120, 5130, 5133, 5135, 5140, 5142, 5145, 5148, 5155, 5159, 5163, 5165, 5166, 5176, 5185, 5192, 5195, 5199, 5212, 5216, 5218, 5219, 5222, 5230, 5232, 5234, 5235, 5240, 5241, 5242, 5243, 5246, 5251, 5255, 5258, 5259, 5262, 5266, 5273, 5281, 5283, 5287, 5296, 5301, 5305, 5307, 5317, 5319, 5324, 5332, 5339, 5340, 5349, 5356, 5357, 5367, 5384, 5398, 5399, 5404, 5406, 5422, 5425, 5435, 5436, 5437, 5444, 5445, 5449, 5458, 5462, 5463, 5465, 5466, 5475, 5477, 5482, 5483, 5484, 5487, 5493, 5494, 5503, 5505, 5507, 5511, 5513, 5514, 5518, 5519, 5520, 5525, 5528, 5533, 5537, 5549, 5552, 5554, 5559, 5565, 5566, 5569, 5580, 5583, 5591, 5595, 5596, 5597, 5598, 5599, 5600, 5601, 5603, 5606, 5607, 5612, 5615, 5626, 5629, 5631, 5640, 5644, 5648, 5649, 5652, 5662, 5670, 5677, 5681, 5688, 5691, 5692, 5693, 5694, 5697, 5727, 5728, 5730, 5731, 5735, 5741, 5742, 5743, 5746, 5753, 5755, 5761, 5762, 5763, 5767, 5771, 5775, 5776, 5782, 5783, 5789, 5793, 5803, 5809, 5810, 5813, 5814, 5818, 5821, 5823, 5828, 5830, 5831, 5832, 5834, 5836, 5841, 5845, 5850, 5852, 5854, 5861, 5864, 5865, 5870, 5873, 5874, 5875, 5876, 5877, 5885, 5888, 5890, 5891, 5894, 5895, 5899, 5901, 5902, 5918, 5921, 5924, 5927, 5936, 5938, 5943, 5948, 5949, 5955, 5956, 5967, 5970, 5973, 5978, 5979, 5981, 5983, 5984, 5985, 5993, 5994, 5995, 5996, 5998, 6002, 6006, 6011, 6017, 6018, 6022, 6025, 6027, 6030, 6031, 6032, 6035, 6039, 6040, 6041, 6042, 6047, 6048, 6059, 6062, 6072, 6073, 6077, 6081, 6083, 6085, 6088, 6091, 6099, 6102, 6103, 6111, 6112, 6118, 6120, 6128, 6130, 6131, 6133, 6137, 6152, 6157, 6159, 6165, 6175, 6177, 6180, 6182, 6185, 6187, 6193, 6203, 6205, 6213, 6214, 6216, 6217, 6224, 6231, 6256, 6260, 6264, 6266, 6269, 6270, 6273, 6274, 6281, 6283, 6284, 6288, 6299, 6302, 6303, 6304, 6307, 6315, 6316, 6317, 6318, 6319, 6322, 6323, 6325, 6329, 6330, 6332, 6334, 6337, 6338, 6347, 6348, 6354, 6357, 6359, 6360, 6361, 6364, 6371, 6377, 6385, 6386, 6391, 6392, 6394, 6402, 6404, 6413, 6414, 6422, 6427, 6434, 6435, 6437, 6439, 6440, 6441, 6449, 6451, 6455, 6457, 6458, 6461, 6462, 6471, 6472, 6476, 6484, 6485, 6486, 6493, 6494, 6503, 6506, 6509, 6515, 6516, 6523, 6524, 6525, 6532, 6534, 6539, 6541, 6545, 6549, 6551, 6554, 6557, 6560, 6561, 6563, 6569, 6570, 6573, 6575, 6576, 6577, 6578, 6582, 6587, 6593, 6596, 6601, 6602, 6604, 6608, 6610, 6620, 6622, 6628, 6629, 6636, 6640, 6647, 6651, 6653, 6657, 6666, 6668, 6669, 6672, 6680, 6686, 6689, 6690, 6692, 6693, 6701, 6702, 6703, 6704, 6707, 6712, 6716, 6733, 6734, 6737, 6739, 6740, 6743, 6750, 6753, 6755, 6758, 6763, 6765, 6767, 6768, 6770, 6774, 6775, 6785, 6791, 6798, 6799, 6802, 6804, 6805, 6806, 6807, 6809, 6816, 6819, 6820, 6821, 6825, 6828, 6838, 6841, 6844, 6845, 6853, 6855, 6857, 6858, 6861, 6871, 6887, 6888, 6890, 6891, 6899, 6907, 6908, 6909, 6911, 6912, 6913, 6918, 6919, 6924, 6928, 6931, 6937, 6950, 6951, 6962, 6966, 6972, 6975, 6979, 6980, 6985, 6986, 6987, 6988, 6991, 6995, 6999, 7004, 7007, 7009, 7020, 7030, 7031, 7032, 7034, 7037, 7045, 7048, 7049, 7050, 7052, 7053, 7054, 7056, 7057, 7063, 7067, 7068, 7073, 7077, 7081, 7083, 7085, 7086, 7089, 7097, 7101, 7106, 7111, 7112, 7113, 7118, 7119, 7124, 7125, 7128, 7132, 7138, 7139, 7143, 7148, 7149, 7155, 7157, 7159, 7160, 7163, 7166, 7167, 7170, 7173, 7174, 7184, 7185, 7186, 7190, 7192, 7194, 7205, 7206, 7208, 7211, 7214, 7217, 7223, 7235, 7238, 7240, 7241, 7246, 7252, 7259, 7262, 7267, 7271, 7273, 7280, 7288, 7289, 7293, 7297, 7300, 7301, 7302, 7304, 7307, 7308, 7310, 7313, 7317, 7320, 7321, 7339, 7340, 7342, 7348, 7352, 7353, 7358, 7359, 7362, 7367, 7375, 7381, 7383, 7391, 7401, 7407, 7427, 7428, 7431, 7437, 7440, 7443, 7445, 7446, 7449, 7451, 7452, 7455, 7457, 7467, 7472, 7476, 7485, 7486, 7492, 7495, 7499, 7501, 7502, 7503, 7508, 7509, 7511, 7518, 7525, 7527, 7531, 7536, 7537, 7540, 7543, 7549, 7551, 7557, 7559, 7560, 7561, 7565, 7567, 7579, 7585, 7589, 7591, 7595, 7597, 7606, 7608, 7616, 7618, 7624, 7630, 7639, 7643, 7652, 7653, 7659, 7662, 7669, 7670, 7672, 7673, 7678, 7684, 7688, 7692, 7694, 7695, 7700, 7701, 7702, 7706, 7708, 7709, 7710, 7711, 7719, 7726, 7730, 7734, 7742, 7743, 7746, 7755, 7761, 7768, 7771, 7773, 7776, 7778, 7781, 7782, 7783, 7784, 7785, 7789, 7790, 7796, 7797, 7798, 7801, 7802, 7806, 7808, 7811, 7813, 7817, 7827, 7829, 7831, 7834, 7835, 7853, 7854, 7856, 7857, 7859, 7875, 7890, 7891, 7896, 7900, 7902, 7911, 7912, 7924, 7928, 7929, 7940, 7942, 7945, 7950, 7970, 7981, 7989, 7991, 7992, 7995, 7997, 7998, 8001, 8004, 8011, 8014, 8024, 8025, 8029, 8030, 8033, 8034, 8038, 8040, 8042, 8050, 8053, 8054, 8055, 8058, 8063, 8072, 8073, 8080, 8081, 8086, 8098, 8104, 8110, 8117, 8118, 8119, 8121, 8124, 8134, 8139, 8142, 8144, 8163, 8169, 8174, 8176, 8179, 8180, 8184, 8196, 8198, 8200, 8201, 8204, 8210, 8213, 8215, 8216, 8218, 8219, 8227, 8240, 8243, 8244, 8248, 8250, 8252, 8253, 8265, 8268, 8269, 8274, 8283, 8287, 8289, 8301, 8312, 8315, 8317, 8318, 8324, 8328, 8329, 8333, 8334, 8335, 8340, 8342, 8343, 8353, 8358, 8364, 8365, 8366, 8368, 8382, 8386, 8391, 8393, 8396, 8397, 8398, 8401, 8406, 8407, 8420, 8423, 8429, 8430, 8437, 8439, 8441, 8446, 8447, 8448, 8452, 8453, 8469, 8471, 8473, 8474, 8481, 8490, 8494, 8496, 8501, 8512, 8525, 8526, 8530, 8532, 8535, 8544, 8548, 8549, 8558, 8562, 8563, 8566, 8570, 8573, 8589, 8591, 8600, 8601, 8602, 8603, 8605, 8606, 8611, 8615, 8619, 8620, 8625, 8636, 8640, 8649, 8651, 8662, 8663, 8667, 8671, 8675, 8676, 8679, 8685, 8690, 8691, 8693, 8700, 8701, 8704, 8706, 8710, 8713, 8717, 8720, 8721, 8722, 8734, 8735, 8746, 8747, 8748, 8755, 8756, 8758, 8760, 8766, 8770, 8782, 8785, 8792, 8794, 8807, 8810, 8815, 8818, 8825, 8826, 8832, 8845, 8852, 8853, 8856, 8857, 8861, 8865, 8871, 8888, 8891, 8892, 8894, 8899, 8903, 8907, 8911, 8918, 8925, 8929, 8944, 8947, 8952, 8955, 8959, 8986, 8990, 8992, 8993, 8994, 9002, 9008, 9010, 9011, 9021, 9023, 9025, 9034, 9036, 9040, 9041, 9044, 9045, 9052, 9053, 9058, 9061, 9063, 9065, 9073, 9077, 9101, 9103, 9106, 9112, 9117, 9124, 9133, 9135, 9138, 9140, 9145, 9152, 9160, 9161, 9165, 9167, 9172, 9173, 9177, 9181, 9184, 9189, 9190, 9193, 9196, 9197, 9198, 9204, 9206, 9209, 9211, 9213, 9216, 9218, 9220, 9221, 9222, 9229, 9230, 9231, 9233, 9247, 9250, 9251, 9252, 9259, 9277, 9280, 9282, 9283, 9285, 9287, 9288, 9292, 9296, 9299, 9301, 9302, 9304, 9305, 9312, 9317, 9323, 9324, 9325, 9329, 9340, 9350, 9364, 9365, 9366, 9367, 9371, 9374, 9380, 9383, 9384, 9396, 9401, 9402, 9403, 9407, 9414, 9416, 9419, 9421, 9424, 9429, 9432, 9434, 9444, 9448, 9450, 9451, 9454, 9457, 9460, 9476, 9481, 9485, 9491, 9494, 9497, 9507, 9515, 9520, 9527, 9529, 9535, 9538, 9539, 9543, 9557, 9562, 9566, 9567, 9568, 9572, 9573, 9574, 9584, 9587, 9596, 9600, 9610, 9615, 9620, 9625, 9628, 9629, 9633, 9638, 9639, 9641, 9643, 9647, 9650, 9653, 9655, 9661, 9666, 9670, 9671, 9679, 9682, 9687, 9692, 9697, 9704, 9713, 9716, 9717, 9722, 9732, 9736, 9739, 9740, 9741, 9742, 9744, 9747, 9748, 9750, 9751, 9756, 9757, 9760, 9767, 9772, 9775, 9786, 9787, 9789, 9797, 9799, 9806, 9810, 9812, 9813, 9817, 9819, 9822, 9828, 9833, 9843, 9849, 9853, 9854, 9856, 9860, 9870, 9872, 9873, 9875, 9877, 9890, 9900, 9902, 9905, 9906, 9911, 9923, 9928, 9929, 9930, 9934, 9940, 9947, 9948, 9949, 9968, 9972, 9986, 9988, 9996, 9997, 10005, 10012, 10024, 10026, 10028, 10032, 10038, 10039, 10043, 10047, 10051, 10056, 10060, 10062, 10063, 10068, 10078, 10087, 10095, 10102, 10105, 10107, 10113, 10115, 10120, 10122, 10126, 10128, 10133, 10136, 10137, 10142, 10150, 10158, 10164, 10165, 10167, 10172, 10174, 10178, 10188, 10190, 10191, 10194, 10196, 10198, 10203, 10206, 10217, 10218, 10221, 10224, 10225, 10232, 10241, 10248, 10249, 10255, 10258, 10259, 10267, 10270, 10275, 10283, 10289, 10291, 10292, 10296, 10298, 10300, 10302, 10303, 10307, 10316, 10317, 10318, 10324, 10328, 10334, 10335, 10336, 10339, 10341, 10342, 10348, 10349, 10355, 10358, 10359, 10361, 10366, 10368, 10369, 10379, 10384, 10390, 10396, 10397, 10399, 10410, 10413, 10414, 10418, 10425, 10426, 10428, 10438, 10440, 10441, 10443, 10445, 10455, 10458, 10465, 10468, 10474, 10479, 10484, 10485, 10489, 10491, 10494, 10495, 10497, 10498, 10502, 10510, 10511, 10512, 10513, 10524, 10529, 10531, 10533, 10534, 10535, 10538, 10547, 10551, 10554, 10557, 10562, 10568, 10573, 10576, 10582, 10585, 10588, 10592, 10596, 10597, 10600, 10602, 10604, 10606, 10611, 10619, 10628, 10635, 10640, 10658, 10660, 10666, 10667, 10668, 10674, 10676, 10682, 10690, 10695, 10696, 10703, 10706, 10708, 10712, 10714, 10716, 10718, 10722, 10725, 10727, 10729, 10730, 10738, 10742, 10751, 10752, 10756, 10757, 10781, 10783, 10788, 10790, 10794, 10799, 10809, 10817, 10819, 10823, 10831, 10834, 10835, 10836, 10837, 10838, 10846, 10847, 10848, 10854, 10856, 10859, 10861, 10863, 10867, 10868, 10873, 10880, 10881, 10882, 10890, 10891, 10895, 10898, 10899, 10904, 10911, 10912, 10914, 10917, 10927, 10931, 10937, 10938, 10943, 10948, 10950, 10953, 10963, 10964, 10965, 10967, 10980, 10981, 10988, 10993, 10995, 10998, 11001, 11007, 11008, 11009, 11012, 11013, 11014, 11018, 11023, 11030, 11031, 11033, 11034, 11037, 11044, 11049, 11051, 11055, 11061, 11067, 11081, 11086, 11088, 11091, 11092, 11093, 11098, 11105, 11110, 11111, 11118, 11124, 11126, 11130, 11131, 11132, 11133, 11137, 11138, 11140, 11145, 11146, 11149, 11156, 11158, 11166, 11167, 11168, 11175, 11178, 11185, 11187, 11193, 11196, 11197, 11211, 11221, 11222, 11229, 11232, 11233, 11244, 11253, 11257, 11259, 11261, 11262, 11265, 11269, 11280, 11290, 11291, 11292, 11298, 11299, 11309, 11311, 11316, 11321, 11328, 11337, 11338, 11341, 11347, 11348, 11351, 11358, 11361, 11364, 11367, 11369, 11370, 11374, 11384, 11387, 11388, 11389, 11391, 11392, 11398, 11399, 11401, 11407, 11410, 11411, 11413, 11417, 11418, 11421, 11424, 11431, 11436, 11439, 11444, 11448, 11458, 11459, 11464, 11466, 11486, 11487, 11489, 11494, 11495, 11496, 11500, 11501, 11503, 11504, 11506, 11512, 11517, 11522, 11526, 11534, 11538, 11546, 11549, 11556, 11564, 11567, 11568, 11569, 11572, 11573, 11577, 11582, 11589, 11596, 11599, 11612, 11613, 11620, 11625, 11630, 11637, 11639, 11643, 11647, 11648, 11649, 11650, 11657, 11659, 11660, 11665, 11667, 11671, 11675, 11676, 11678, 11682, 11684, 11686, 11689, 11692, 11694, 11697, 11701, 11704, 11706, 11709, 11710, 11713, 11716, 11717, 11719, 11721, 11725, 11726, 11728, 11732, 11733, 11741, 11744, 11745, 11755, 11756, 11759, 11772, 11773, 11781, 11782, 11784, 11785, 11793, 11795, 11797, 11807, 11810, 11814, 11816, 11826, 11832, 11835, 11836, 11838, 11840, 11843, 11847, 11849, 11856, 11858, 11865, 11868, 11881, 11883, 11889, 11892, 11894, 11895, 11897, 11899, 11900, 11905, 11906, 11908, 11909, 11912, 11913, 11917, 11924, 11925, 11929, 11935, 11939, 11946, 11950, 11951, 11955, 11970, 11987, 11994, 11997, 11998, 11999, 12000, 12006, 12008, 12012, 12019, 12020, 12026, 12030, 12038, 12039, 12050, 12055, 12056, 12059, 12061, 12064, 12073, 12086, 12088, 12093, 12096, 12103, 12108, 12114, 12115, 12116, 12117, 12122, 12130, 12132, 12135, 12136, 12143, 12146, 12147, 12150, 12152, 12158, 12160, 12172, 12175, 12178, 12184, 12187, 12195, 12199, 12201, 12204, 12209, 12210, 12211, 12215, 12216, 12221, 12224, 12227, 12228, 12231, 12240, 12245, 12249, 12265, 12270, 12275, 12281, 12283, 12285, 12290, 12291, 12294, 12297, 12300, 12301, 12303, 12307, 12308, 12309, 12312, 12314, 12316, 12322, 12324, 12325, 12326, 12333, 12335, 12346, 12347, 12352, 12353, 12355, 12366, 12368, 12373, 12378, 12405, 12411, 12418, 12420, 12421, 12422, 12424, 12439, 12445, 12451, 12452, 12459, 12461, 12464, 12469, 12472, 12479, 12480, 12487, 12499, 12502, 12504, 12508, 12511, 12529, 12537, 12541, 12548, 12557, 12562, 12566, 12578, 12584, 12585, 12588, 12589, 12590, 12592, 12593, 12595, 12597, 12611, 12614, 12620, 12626, 12633, 12634, 12636, 12640, 12645, 12647, 12656, 12666, 12674, 12675, 12679, 12680, 12682, 12684, 12685, 12688, 12690, 12694, 12701, 12713, 12716, 12721, 12726, 12729, 12735, 12739, 12743, 12748, 12750, 12752, 12754, 12756, 12760, 12765, 12776, 12779, 12780, 12787, 12790, 12794, 12795, 12798, 12799, 12804, 12806, 12812, 12814, 12819, 12824, 12835, 12840, 12845, 12847, 12854, 12856, 12860, 12863, 12866, 12870, 12874, 12877, 12878, 12883, 12888, 12893, 12894, 12903, 12905, 12907, 12917, 12918, 12925, 12929, 12931, 12932, 12933, 12934, 12946, 12947, 12954, 12963, 12964, 12973, 12977, 12988, 12989, 13005, 13009, 13015, 13018, 13021, 13030, 13034, 13036, 13038, 13042, 13044, 13047, 13057, 13059, 13062, 13066, 13076, 13081, 13085, 13090, 13091, 13098, 13100, 13102, 13107, 13109, 13111, 13113, 13116, 13129, 13132, 13136, 13137, 13138, 13139, 13145, 13148, 13151, 13152, 13153, 13154, 13156, 13160, 13163, 13166, 13172, 13175, 13180, 13182, 13185, 13186, 13190, 13203, 13205, 13208, 13215, 13222, 13241, 13248, 13254, 13266, 13270, 13271, 13272, 13275, 13276, 13280, 13284, 13286, 13293, 13300, 13301, 13317, 13324, 13331, 13333, 13334, 13336, 13342, 13346, 13360, 13363, 13366, 13371, 13373, 13375, 13377, 13384, 13388, 13389, 13392, 13396, 13398, 13400, 13404, 13409, 13414, 13417, 13419, 13427, 13429, 13430, 13431, 13444, 13447, 13453, 13456, 13469, 13471, 13479, 13482, 13483, 13486, 13487, 13488, 13494, 13495, 13501, 13504, 13511, 13517, 13518, 13523, 13525, 13529, 13530, 13534, 13536, 13537, 13538, 13541, 13543, 13545, 13546, 13548, 13550, 13558, 13565, 13570, 13574, 13576, 13577, 13578, 13581, 13582, 13583, 13586, 13587, 13591, 13603, 13604, 13610, 13613, 13614, 13621, 13622, 13632, 13639, 13640, 13643, 13648, 13654, 13655, 13659, 13664, 13665, 13666, 13667, 13668, 13671, 13672, 13676, 13679, 13683, 13690, 13691, 13692, 13693, 13694, 13697, 13701, 13702, 13703, 13707, 13709, 13718, 13720, 13725, 13732, 13747, 13748, 13752, 13755, 13756, 13758, 13764, 13768, 13769, 13776, 13779, 13781, 13785, 13787, 13791, 13796, 13799, 13815, 13816, 13817, 13821, 13829, 13831, 13845, 13849, 13854, 13857, 13858, 13860, 13861, 13866, 13867, 13881, 13882, 13889, 13891, 13893, 13895, 13896, 13897, 13899, 13900, 13904, 13907, 13915, 13919, 13922, 13923, 13931, 13936, 13943, 13946, 13951, 13952, 13954, 13958, 13962, 13966, 13974, 13975, 13976, 13977, 13981, 13984, 13985, 13988, 13990, 13997, 14003, 14015, 14016, 14018, 14019, 14020, 14029, 14032, 14060, 14064, 14069, 14073, 14075, 14078, 14081, 14090, 14106, 14110, 14122, 14130, 14133, 14136, 14140, 14141, 14142, 14144, 14145, 14146, 14148, 14149, 14153, 14154, 14159, 14160, 14161, 14165, 14166, 14167, 14171]\n"
     ]
    }
   ],
   "source": [
    "mismatch = [i for i, (a,b) in enumerate(zip(Y_swi, swi_Y_test_binary)) if a != b]\n",
    "print(mismatch)"
   ]
  },
  {
   "cell_type": "code",
   "execution_count": null,
   "id": "a4bd924b",
   "metadata": {},
   "outputs": [],
   "source": []
  }
 ],
 "metadata": {
  "kernelspec": {
   "display_name": "Python 3 (ipykernel)",
   "language": "python",
   "name": "python3"
  },
  "language_info": {
   "codemirror_mode": {
    "name": "ipython",
    "version": 3
   },
   "file_extension": ".py",
   "mimetype": "text/x-python",
   "name": "python",
   "nbconvert_exporter": "python",
   "pygments_lexer": "ipython3",
   "version": "3.9.16"
  }
 },
 "nbformat": 4,
 "nbformat_minor": 5
}
