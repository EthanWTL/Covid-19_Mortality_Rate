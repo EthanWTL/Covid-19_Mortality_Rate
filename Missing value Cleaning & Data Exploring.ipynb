{
 "cells": [
  {
   "cell_type": "code",
   "execution_count": 1,
   "id": "bccbf8bd",
   "metadata": {},
   "outputs": [],
   "source": [
    "import pandas as pd\n",
    "import numpy as np\n",
    "import seaborn as sns\n",
    "import matplotlib.pyplot as plt\n",
    "from matplotlib.ticker import FormatStrFormatter # To adjust the ticks formatting\n",
    "import warnings\n",
    "warnings.filterwarnings('ignore') # To ignore warning messages\n",
    "from sklearn.model_selection import train_test_split\n",
    "from sklearn.ensemble import RandomForestClassifier\n",
    "from sklearn.linear_model import LogisticRegression\n",
    "from sklearn.tree import DecisionTreeClassifier\n",
    "from sklearn.svm import SVC\n",
    "from sklearn.neighbors import KNeighborsClassifier\n",
    "from sklearn.naive_bayes import GaussianNB\n",
    "from sklearn.metrics import classification_report"
   ]
  },
  {
   "cell_type": "code",
   "execution_count": 2,
   "id": "a80c46f1",
   "metadata": {},
   "outputs": [],
   "source": [
    "df = pd.read_csv('Covid Data.csv')"
   ]
  },
  {
   "cell_type": "code",
   "execution_count": 3,
   "id": "8ac4728b",
   "metadata": {},
   "outputs": [
    {
     "data": {
      "text/html": [
       "<div>\n",
       "<style scoped>\n",
       "    .dataframe tbody tr th:only-of-type {\n",
       "        vertical-align: middle;\n",
       "    }\n",
       "\n",
       "    .dataframe tbody tr th {\n",
       "        vertical-align: top;\n",
       "    }\n",
       "\n",
       "    .dataframe thead th {\n",
       "        text-align: right;\n",
       "    }\n",
       "</style>\n",
       "<table border=\"1\" class=\"dataframe\">\n",
       "  <thead>\n",
       "    <tr style=\"text-align: right;\">\n",
       "      <th></th>\n",
       "      <th>USMER</th>\n",
       "      <th>MEDICAL_UNIT</th>\n",
       "      <th>SEX</th>\n",
       "      <th>PATIENT_TYPE</th>\n",
       "      <th>DATE_DIED</th>\n",
       "      <th>INTUBED</th>\n",
       "      <th>PNEUMONIA</th>\n",
       "      <th>AGE</th>\n",
       "      <th>PREGNANT</th>\n",
       "      <th>DIABETES</th>\n",
       "      <th>...</th>\n",
       "      <th>ASTHMA</th>\n",
       "      <th>INMSUPR</th>\n",
       "      <th>HIPERTENSION</th>\n",
       "      <th>OTHER_DISEASE</th>\n",
       "      <th>CARDIOVASCULAR</th>\n",
       "      <th>OBESITY</th>\n",
       "      <th>RENAL_CHRONIC</th>\n",
       "      <th>TOBACCO</th>\n",
       "      <th>CLASIFFICATION_FINAL</th>\n",
       "      <th>ICU</th>\n",
       "    </tr>\n",
       "  </thead>\n",
       "  <tbody>\n",
       "    <tr>\n",
       "      <th>0</th>\n",
       "      <td>2</td>\n",
       "      <td>1</td>\n",
       "      <td>1</td>\n",
       "      <td>1</td>\n",
       "      <td>03/05/2020</td>\n",
       "      <td>97</td>\n",
       "      <td>1</td>\n",
       "      <td>65</td>\n",
       "      <td>2</td>\n",
       "      <td>2</td>\n",
       "      <td>...</td>\n",
       "      <td>2</td>\n",
       "      <td>2</td>\n",
       "      <td>1</td>\n",
       "      <td>2</td>\n",
       "      <td>2</td>\n",
       "      <td>2</td>\n",
       "      <td>2</td>\n",
       "      <td>2</td>\n",
       "      <td>3</td>\n",
       "      <td>97</td>\n",
       "    </tr>\n",
       "    <tr>\n",
       "      <th>1</th>\n",
       "      <td>2</td>\n",
       "      <td>1</td>\n",
       "      <td>2</td>\n",
       "      <td>1</td>\n",
       "      <td>03/06/2020</td>\n",
       "      <td>97</td>\n",
       "      <td>1</td>\n",
       "      <td>72</td>\n",
       "      <td>97</td>\n",
       "      <td>2</td>\n",
       "      <td>...</td>\n",
       "      <td>2</td>\n",
       "      <td>2</td>\n",
       "      <td>1</td>\n",
       "      <td>2</td>\n",
       "      <td>2</td>\n",
       "      <td>1</td>\n",
       "      <td>1</td>\n",
       "      <td>2</td>\n",
       "      <td>5</td>\n",
       "      <td>97</td>\n",
       "    </tr>\n",
       "    <tr>\n",
       "      <th>2</th>\n",
       "      <td>2</td>\n",
       "      <td>1</td>\n",
       "      <td>2</td>\n",
       "      <td>2</td>\n",
       "      <td>09/06/2020</td>\n",
       "      <td>1</td>\n",
       "      <td>2</td>\n",
       "      <td>55</td>\n",
       "      <td>97</td>\n",
       "      <td>1</td>\n",
       "      <td>...</td>\n",
       "      <td>2</td>\n",
       "      <td>2</td>\n",
       "      <td>2</td>\n",
       "      <td>2</td>\n",
       "      <td>2</td>\n",
       "      <td>2</td>\n",
       "      <td>2</td>\n",
       "      <td>2</td>\n",
       "      <td>3</td>\n",
       "      <td>2</td>\n",
       "    </tr>\n",
       "    <tr>\n",
       "      <th>3</th>\n",
       "      <td>2</td>\n",
       "      <td>1</td>\n",
       "      <td>1</td>\n",
       "      <td>1</td>\n",
       "      <td>12/06/2020</td>\n",
       "      <td>97</td>\n",
       "      <td>2</td>\n",
       "      <td>53</td>\n",
       "      <td>2</td>\n",
       "      <td>2</td>\n",
       "      <td>...</td>\n",
       "      <td>2</td>\n",
       "      <td>2</td>\n",
       "      <td>2</td>\n",
       "      <td>2</td>\n",
       "      <td>2</td>\n",
       "      <td>2</td>\n",
       "      <td>2</td>\n",
       "      <td>2</td>\n",
       "      <td>7</td>\n",
       "      <td>97</td>\n",
       "    </tr>\n",
       "    <tr>\n",
       "      <th>4</th>\n",
       "      <td>2</td>\n",
       "      <td>1</td>\n",
       "      <td>2</td>\n",
       "      <td>1</td>\n",
       "      <td>21/06/2020</td>\n",
       "      <td>97</td>\n",
       "      <td>2</td>\n",
       "      <td>68</td>\n",
       "      <td>97</td>\n",
       "      <td>1</td>\n",
       "      <td>...</td>\n",
       "      <td>2</td>\n",
       "      <td>2</td>\n",
       "      <td>1</td>\n",
       "      <td>2</td>\n",
       "      <td>2</td>\n",
       "      <td>2</td>\n",
       "      <td>2</td>\n",
       "      <td>2</td>\n",
       "      <td>3</td>\n",
       "      <td>97</td>\n",
       "    </tr>\n",
       "    <tr>\n",
       "      <th>...</th>\n",
       "      <td>...</td>\n",
       "      <td>...</td>\n",
       "      <td>...</td>\n",
       "      <td>...</td>\n",
       "      <td>...</td>\n",
       "      <td>...</td>\n",
       "      <td>...</td>\n",
       "      <td>...</td>\n",
       "      <td>...</td>\n",
       "      <td>...</td>\n",
       "      <td>...</td>\n",
       "      <td>...</td>\n",
       "      <td>...</td>\n",
       "      <td>...</td>\n",
       "      <td>...</td>\n",
       "      <td>...</td>\n",
       "      <td>...</td>\n",
       "      <td>...</td>\n",
       "      <td>...</td>\n",
       "      <td>...</td>\n",
       "      <td>...</td>\n",
       "    </tr>\n",
       "    <tr>\n",
       "      <th>1048570</th>\n",
       "      <td>2</td>\n",
       "      <td>13</td>\n",
       "      <td>2</td>\n",
       "      <td>1</td>\n",
       "      <td>9999-99-99</td>\n",
       "      <td>97</td>\n",
       "      <td>2</td>\n",
       "      <td>40</td>\n",
       "      <td>97</td>\n",
       "      <td>2</td>\n",
       "      <td>...</td>\n",
       "      <td>2</td>\n",
       "      <td>2</td>\n",
       "      <td>2</td>\n",
       "      <td>2</td>\n",
       "      <td>2</td>\n",
       "      <td>2</td>\n",
       "      <td>2</td>\n",
       "      <td>2</td>\n",
       "      <td>7</td>\n",
       "      <td>97</td>\n",
       "    </tr>\n",
       "    <tr>\n",
       "      <th>1048571</th>\n",
       "      <td>1</td>\n",
       "      <td>13</td>\n",
       "      <td>2</td>\n",
       "      <td>2</td>\n",
       "      <td>9999-99-99</td>\n",
       "      <td>2</td>\n",
       "      <td>2</td>\n",
       "      <td>51</td>\n",
       "      <td>97</td>\n",
       "      <td>2</td>\n",
       "      <td>...</td>\n",
       "      <td>2</td>\n",
       "      <td>2</td>\n",
       "      <td>1</td>\n",
       "      <td>2</td>\n",
       "      <td>2</td>\n",
       "      <td>2</td>\n",
       "      <td>2</td>\n",
       "      <td>2</td>\n",
       "      <td>7</td>\n",
       "      <td>2</td>\n",
       "    </tr>\n",
       "    <tr>\n",
       "      <th>1048572</th>\n",
       "      <td>2</td>\n",
       "      <td>13</td>\n",
       "      <td>2</td>\n",
       "      <td>1</td>\n",
       "      <td>9999-99-99</td>\n",
       "      <td>97</td>\n",
       "      <td>2</td>\n",
       "      <td>55</td>\n",
       "      <td>97</td>\n",
       "      <td>2</td>\n",
       "      <td>...</td>\n",
       "      <td>2</td>\n",
       "      <td>2</td>\n",
       "      <td>2</td>\n",
       "      <td>2</td>\n",
       "      <td>2</td>\n",
       "      <td>2</td>\n",
       "      <td>2</td>\n",
       "      <td>2</td>\n",
       "      <td>7</td>\n",
       "      <td>97</td>\n",
       "    </tr>\n",
       "    <tr>\n",
       "      <th>1048573</th>\n",
       "      <td>2</td>\n",
       "      <td>13</td>\n",
       "      <td>2</td>\n",
       "      <td>1</td>\n",
       "      <td>9999-99-99</td>\n",
       "      <td>97</td>\n",
       "      <td>2</td>\n",
       "      <td>28</td>\n",
       "      <td>97</td>\n",
       "      <td>2</td>\n",
       "      <td>...</td>\n",
       "      <td>2</td>\n",
       "      <td>2</td>\n",
       "      <td>2</td>\n",
       "      <td>2</td>\n",
       "      <td>2</td>\n",
       "      <td>2</td>\n",
       "      <td>2</td>\n",
       "      <td>2</td>\n",
       "      <td>7</td>\n",
       "      <td>97</td>\n",
       "    </tr>\n",
       "    <tr>\n",
       "      <th>1048574</th>\n",
       "      <td>2</td>\n",
       "      <td>13</td>\n",
       "      <td>2</td>\n",
       "      <td>1</td>\n",
       "      <td>9999-99-99</td>\n",
       "      <td>97</td>\n",
       "      <td>2</td>\n",
       "      <td>52</td>\n",
       "      <td>97</td>\n",
       "      <td>2</td>\n",
       "      <td>...</td>\n",
       "      <td>2</td>\n",
       "      <td>2</td>\n",
       "      <td>2</td>\n",
       "      <td>2</td>\n",
       "      <td>2</td>\n",
       "      <td>2</td>\n",
       "      <td>2</td>\n",
       "      <td>2</td>\n",
       "      <td>7</td>\n",
       "      <td>97</td>\n",
       "    </tr>\n",
       "  </tbody>\n",
       "</table>\n",
       "<p>1048575 rows × 21 columns</p>\n",
       "</div>"
      ],
      "text/plain": [
       "         USMER  MEDICAL_UNIT  SEX  PATIENT_TYPE   DATE_DIED  INTUBED  \\\n",
       "0            2             1    1             1  03/05/2020       97   \n",
       "1            2             1    2             1  03/06/2020       97   \n",
       "2            2             1    2             2  09/06/2020        1   \n",
       "3            2             1    1             1  12/06/2020       97   \n",
       "4            2             1    2             1  21/06/2020       97   \n",
       "...        ...           ...  ...           ...         ...      ...   \n",
       "1048570      2            13    2             1  9999-99-99       97   \n",
       "1048571      1            13    2             2  9999-99-99        2   \n",
       "1048572      2            13    2             1  9999-99-99       97   \n",
       "1048573      2            13    2             1  9999-99-99       97   \n",
       "1048574      2            13    2             1  9999-99-99       97   \n",
       "\n",
       "         PNEUMONIA  AGE  PREGNANT  DIABETES  ...  ASTHMA  INMSUPR  \\\n",
       "0                1   65         2         2  ...       2        2   \n",
       "1                1   72        97         2  ...       2        2   \n",
       "2                2   55        97         1  ...       2        2   \n",
       "3                2   53         2         2  ...       2        2   \n",
       "4                2   68        97         1  ...       2        2   \n",
       "...            ...  ...       ...       ...  ...     ...      ...   \n",
       "1048570          2   40        97         2  ...       2        2   \n",
       "1048571          2   51        97         2  ...       2        2   \n",
       "1048572          2   55        97         2  ...       2        2   \n",
       "1048573          2   28        97         2  ...       2        2   \n",
       "1048574          2   52        97         2  ...       2        2   \n",
       "\n",
       "         HIPERTENSION  OTHER_DISEASE  CARDIOVASCULAR  OBESITY  RENAL_CHRONIC  \\\n",
       "0                   1              2               2        2              2   \n",
       "1                   1              2               2        1              1   \n",
       "2                   2              2               2        2              2   \n",
       "3                   2              2               2        2              2   \n",
       "4                   1              2               2        2              2   \n",
       "...               ...            ...             ...      ...            ...   \n",
       "1048570             2              2               2        2              2   \n",
       "1048571             1              2               2        2              2   \n",
       "1048572             2              2               2        2              2   \n",
       "1048573             2              2               2        2              2   \n",
       "1048574             2              2               2        2              2   \n",
       "\n",
       "         TOBACCO  CLASIFFICATION_FINAL  ICU  \n",
       "0              2                     3   97  \n",
       "1              2                     5   97  \n",
       "2              2                     3    2  \n",
       "3              2                     7   97  \n",
       "4              2                     3   97  \n",
       "...          ...                   ...  ...  \n",
       "1048570        2                     7   97  \n",
       "1048571        2                     7    2  \n",
       "1048572        2                     7   97  \n",
       "1048573        2                     7   97  \n",
       "1048574        2                     7   97  \n",
       "\n",
       "[1048575 rows x 21 columns]"
      ]
     },
     "execution_count": 3,
     "metadata": {},
     "output_type": "execute_result"
    }
   ],
   "source": [
    "df"
   ]
  },
  {
   "cell_type": "markdown",
   "id": "446fb826",
   "metadata": {},
   "source": [
    "# mortality column"
   ]
  },
  {
   "cell_type": "code",
   "execution_count": 4,
   "id": "88612f2e",
   "metadata": {},
   "outputs": [
    {
     "data": {
      "text/plain": [
       "0          03/05/2020\n",
       "1          03/06/2020\n",
       "2          09/06/2020\n",
       "3          12/06/2020\n",
       "4          21/06/2020\n",
       "              ...    \n",
       "1048570    9999-99-99\n",
       "1048571    9999-99-99\n",
       "1048572    9999-99-99\n",
       "1048573    9999-99-99\n",
       "1048574    9999-99-99\n",
       "Name: DATE_DIED, Length: 1048575, dtype: object"
      ]
     },
     "execution_count": 4,
     "metadata": {},
     "output_type": "execute_result"
    }
   ],
   "source": [
    "df['DATE_DIED'][df['DATE_DIED'].apply(lambda x: isinstance(x, str))]"
   ]
  },
  {
   "cell_type": "code",
   "execution_count": 5,
   "id": "ca72b841",
   "metadata": {},
   "outputs": [
    {
     "data": {
      "text/plain": [
       "0    971633\n",
       "1     76942\n",
       "Name: DEAD, dtype: int64"
      ]
     },
     "execution_count": 5,
     "metadata": {},
     "output_type": "execute_result"
    }
   ],
   "source": [
    "df['DEAD'] = [0 if i=='9999-99-99' else 1 for i in df.DATE_DIED]\n",
    "df['DEAD'].value_counts()"
   ]
  },
  {
   "cell_type": "code",
   "execution_count": 6,
   "id": "42cddbe4",
   "metadata": {},
   "outputs": [
    {
     "data": {
      "text/plain": [
       "0         2020-03-05\n",
       "1         2020-03-06\n",
       "2         2020-09-06\n",
       "3         2020-12-06\n",
       "4         2020-06-21\n",
       "             ...    \n",
       "1048570          NaT\n",
       "1048571          NaT\n",
       "1048572          NaT\n",
       "1048573          NaT\n",
       "1048574          NaT\n",
       "Name: DATE_DIED, Length: 1048575, dtype: datetime64[ns]"
      ]
     },
     "execution_count": 6,
     "metadata": {},
     "output_type": "execute_result"
    }
   ],
   "source": [
    "df['DATE_DIED'].replace('9999-99-99', np.nan, inplace = True)\n",
    "df['DATE_DIED'] =  pd.to_datetime(df['DATE_DIED'])\n",
    "df['DATE_DIED']"
   ]
  },
  {
   "cell_type": "markdown",
   "id": "cdab82d3",
   "metadata": {},
   "source": [
    "# Data Cleaning"
   ]
  },
  {
   "cell_type": "code",
   "execution_count": 7,
   "id": "4e2bee06",
   "metadata": {},
   "outputs": [
    {
     "data": {
      "text/plain": [
       "USMER                        0\n",
       "MEDICAL_UNIT                 0\n",
       "SEX                          0\n",
       "PATIENT_TYPE                 0\n",
       "DATE_DIED               971633\n",
       "INTUBED                 855869\n",
       "PNEUMONIA                16003\n",
       "AGE                        345\n",
       "PREGNANT                527265\n",
       "DIABETES                  3338\n",
       "COPD                      3003\n",
       "ASTHMA                    2979\n",
       "INMSUPR                   3404\n",
       "HIPERTENSION              3104\n",
       "OTHER_DISEASE             5045\n",
       "CARDIOVASCULAR            3076\n",
       "OBESITY                   3032\n",
       "RENAL_CHRONIC             3006\n",
       "TOBACCO                   3220\n",
       "CLASIFFICATION_FINAL         0\n",
       "ICU                     856032\n",
       "DEAD                         0\n",
       "dtype: int64"
      ]
     },
     "execution_count": 7,
     "metadata": {},
     "output_type": "execute_result"
    }
   ],
   "source": [
    "df_null = df.copy()\n",
    "for i in [97, 98, 99]:\n",
    "    df_null.replace(i , np.nan, inplace = True)\n",
    "df_null.isnull().sum()"
   ]
  },
  {
   "cell_type": "markdown",
   "id": "35c81c94",
   "metadata": {},
   "source": [
    "## Pregnant"
   ]
  },
  {
   "cell_type": "code",
   "execution_count": 8,
   "id": "75568feb",
   "metadata": {},
   "outputs": [],
   "source": [
    "df['PREGNANT'].replace (97, 2, inplace = True)"
   ]
  },
  {
   "cell_type": "code",
   "execution_count": 9,
   "id": "3424b8e3",
   "metadata": {},
   "outputs": [
    {
     "data": {
      "text/plain": [
       "2     1036690\n",
       "1        8131\n",
       "98       3754\n",
       "Name: PREGNANT, dtype: int64"
      ]
     },
     "execution_count": 9,
     "metadata": {},
     "output_type": "execute_result"
    }
   ],
   "source": [
    "df['PREGNANT'].value_counts()\n",
    "\n",
    "#98 is the actual missing value\n",
    "#1 means yes, 2 means no"
   ]
  },
  {
   "cell_type": "markdown",
   "id": "296ed42c",
   "metadata": {},
   "source": [
    "# ICU"
   ]
  },
  {
   "cell_type": "code",
   "execution_count": 10,
   "id": "d656c4e7",
   "metadata": {},
   "outputs": [],
   "source": [
    "df['ICU'].replace (97, 2, inplace = True)"
   ]
  },
  {
   "cell_type": "code",
   "execution_count": 11,
   "id": "22ec0d98",
   "metadata": {},
   "outputs": [
    {
     "data": {
      "text/plain": [
       "2     1024229\n",
       "1       16858\n",
       "99       7488\n",
       "Name: ICU, dtype: int64"
      ]
     },
     "execution_count": 11,
     "metadata": {},
     "output_type": "execute_result"
    }
   ],
   "source": [
    "df.ICU.value_counts()\n",
    "#99 is the actual missing values"
   ]
  },
  {
   "cell_type": "markdown",
   "id": "49e772f4",
   "metadata": {},
   "source": [
    "# Intubed"
   ]
  },
  {
   "cell_type": "code",
   "execution_count": 12,
   "id": "b70fed5a",
   "metadata": {},
   "outputs": [],
   "source": [
    "df['INTUBED'].replace (97, 2, inplace = True)"
   ]
  },
  {
   "cell_type": "code",
   "execution_count": 13,
   "id": "67151e4f",
   "metadata": {},
   "outputs": [
    {
     "data": {
      "text/plain": [
       "2     1007594\n",
       "1       33656\n",
       "99       7325\n",
       "Name: INTUBED, dtype: int64"
      ]
     },
     "execution_count": 13,
     "metadata": {},
     "output_type": "execute_result"
    }
   ],
   "source": [
    "df.INTUBED.value_counts()\n",
    "#99 actual missing value"
   ]
  },
  {
   "cell_type": "code",
   "execution_count": 14,
   "id": "9afa1c0c",
   "metadata": {},
   "outputs": [
    {
     "name": "stdout",
     "output_type": "stream",
     "text": [
      "USMER  ->  {2: 662903, 1: 385672}\n",
      "MEDICAL_UNIT  ->  {12: 602995, 4: 314405, 6: 40584, 9: 38116, 3: 19175, 8: 10399, 10: 7873, 5: 7244, 11: 5577, 13: 996, 7: 891, 2: 169, 1: 151}\n",
      "SEX  ->  {1: 525064, 2: 523511}\n",
      "PATIENT_TYPE  ->  {1: 848544, 2: 200031}\n",
      "INTUBED  ->  {2: 1007594, 1: 33656, 99: 7325}\n",
      "PNEUMONIA  ->  {2: 892534, 1: 140038, 99: 16003}\n",
      "PREGNANT  ->  {2: 1036690, 1: 8131, 98: 3754}\n",
      "DIABETES  ->  {2: 920248, 1: 124989, 98: 3338}\n",
      "COPD  ->  {2: 1030510, 1: 15062, 98: 3003}\n",
      "ASTHMA  ->  {2: 1014024, 1: 31572, 98: 2979}\n",
      "INMSUPR  ->  {2: 1031001, 1: 14170, 98: 3404}\n",
      "HIPERTENSION  ->  {2: 882742, 1: 162729, 98: 3104}\n",
      "OTHER_DISEASE  ->  {2: 1015490, 1: 28040, 98: 5045}\n",
      "CARDIOVASCULAR  ->  {2: 1024730, 1: 20769, 98: 3076}\n",
      "OBESITY  ->  {2: 885727, 1: 159816, 98: 3032}\n",
      "RENAL_CHRONIC  ->  {2: 1026665, 1: 18904, 98: 3006}\n",
      "TOBACCO  ->  {2: 960979, 1: 84376, 98: 3220}\n",
      "CLASIFFICATION_FINAL  ->  {7: 499250, 3: 381527, 6: 128133, 5: 26091, 1: 8601, 4: 3122, 2: 1851}\n",
      "ICU  ->  {2: 1024229, 1: 16858, 99: 7488}\n",
      "DEAD  ->  {0: 971633, 1: 76942}\n"
     ]
    }
   ],
   "source": [
    "# Let's have a look on our data's different classes:\n",
    "for i in df.columns:\n",
    "    if(i!='AGE' and i!='DATE_DIED'):\n",
    "        print(i,\" -> \", dict(df[i].value_counts()))"
   ]
  },
  {
   "cell_type": "code",
   "execution_count": 15,
   "id": "b3c7854b",
   "metadata": {},
   "outputs": [
    {
     "data": {
      "text/plain": [
       "76942"
      ]
     },
     "execution_count": 15,
     "metadata": {},
     "output_type": "execute_result"
    }
   ],
   "source": [
    "dict(df['DEAD'].value_counts())[1]"
   ]
  },
  {
   "cell_type": "code",
   "execution_count": 16,
   "id": "9d74cbbb",
   "metadata": {},
   "outputs": [
    {
     "data": {
      "text/plain": [
       "Text(0, 0.5, 'Count')"
      ]
     },
     "execution_count": 16,
     "metadata": {},
     "output_type": "execute_result"
    },
    {
     "data": {
      "image/png": "[encoded data removed]",
      "text/plain": [
       "<Figure size 432x288 with 1 Axes>"
      ]
     },
     "metadata": {
      "needs_background": "light"
     },
     "output_type": "display_data"
    }
   ],
   "source": [
    "D = df['DEAD']\n",
    "D = D.replace(1, \"Dead\")\n",
    "D = D.replace(2, \"Alive\")\n",
    "fig, ax = plt.subplots()\n",
    "ax.yaxis.set_major_formatter(FormatStrFormatter('%.f'))\n",
    "plt.xticks(fontsize=15)\n",
    "plt.yticks(fontsize=15)\n",
    "plt.title('Deaths Count', color = '#800000', fontsize = 20)\n",
    "sns.countplot(x=D, palette = ['#990000',\"#0a75ad\"])\n",
    "plt.xlabel(\"Dead or Alive\", fontsize=15)\n",
    "plt.ylabel(\"Count\", fontsize=15)"
   ]
  },
  {
   "cell_type": "code",
   "execution_count": 17,
   "id": "713ff181",
   "metadata": {},
   "outputs": [
    {
     "data": {
      "image/png": "[encoded data removed]",
      "text/plain": [
       "<Figure size 720x720 with 1 Axes>"
      ]
     },
     "metadata": {},
     "output_type": "display_data"
    }
   ],
   "source": [
    "labels = [\"Alive\", \"Dead\"]\n",
    "sizes = df['DEAD'].value_counts()\n",
    "colors = ['#0a75ad', '#990000']\n",
    "plt.figure(figsize = (10,10))\n",
    "plt.pie(sizes, labels=labels, autopct='%1.1f%%', textprops={'fontsize':20, 'color':\"black\"}, colors = colors,\n",
    "        explode=[0.05, 0.05])\n",
    "plt.title('Death Percentage',color = '#800000',fontsize = 30)\n",
    "plt.legend(df['DEAD'].value_counts(), loc = 'lower right', title = 'Death Rate')\n",
    "plt.show()"
   ]
  },
  {
   "cell_type": "code",
   "execution_count": 18,
   "id": "74f84662",
   "metadata": {},
   "outputs": [],
   "source": [
    "def Covid_or_Not(val):\n",
    "    if val >= 4:\n",
    "        return \"Not a Covid 19 Carrier\"\n",
    "    else:\n",
    "        return \"A Covid 19 Carrier\""
   ]
  },
  {
   "cell_type": "code",
   "execution_count": 19,
   "id": "082556c3",
   "metadata": {},
   "outputs": [],
   "source": [
    "df['Covid_or_Not'] = df[\"CLASIFFICATION_FINAL\"].apply(Covid_or_Not)"
   ]
  },
  {
   "cell_type": "code",
   "execution_count": 20,
   "id": "aec3079e",
   "metadata": {},
   "outputs": [
    {
     "data": {
      "text/plain": [
       "Not a Covid 19 Carrier    656596\n",
       "A Covid 19 Carrier        391979\n",
       "Name: Covid_or_Not, dtype: int64"
      ]
     },
     "execution_count": 20,
     "metadata": {},
     "output_type": "execute_result"
    }
   ],
   "source": [
    "df[\"Covid_or_Not\"].value_counts()"
   ]
  },
  {
   "cell_type": "code",
   "execution_count": 21,
   "id": "e636b686",
   "metadata": {},
   "outputs": [],
   "source": [
    "Covid_deaths = df[(df['Covid_or_Not'] == \"A Covid 19 Carrier\")]"
   ]
  },
  {
   "cell_type": "code",
   "execution_count": 22,
   "id": "5e8e6565",
   "metadata": {},
   "outputs": [
    {
     "data": {
      "image/png": "[encoded data removed]",
      "text/plain": [
       "<Figure size 720x720 with 1 Axes>"
      ]
     },
     "metadata": {},
     "output_type": "display_data"
    }
   ],
   "source": [
    "labels = [\"Alive\", \"Dead\"]\n",
    "sizes = Covid_deaths['DEAD'].value_counts()\n",
    "colors = ['#0a75ad', '#990000']\n",
    "plt.figure(figsize = (10,10))\n",
    "plt.pie(sizes, labels=labels, autopct='%1.1f%%', textprops={'fontsize':20, 'color':\"black\"}, colors = colors,\n",
    "        explode=[0.05, 0.05])\n",
    "plt.title('Death Percentage among Covid Carriers',color = 'red',fontsize = 30)\n",
    "plt.legend(Covid_deaths['DEAD'].value_counts(), loc = 'lower right', title = 'Death Rate')\n",
    "plt.show()"
   ]
  },
  {
   "cell_type": "code",
   "execution_count": 23,
   "id": "87d59f87",
   "metadata": {},
   "outputs": [
    {
     "data": {
      "text/plain": [
       "0    332967\n",
       "1     47042\n",
       "Name: DEAD, dtype: int64"
      ]
     },
     "execution_count": 23,
     "metadata": {},
     "output_type": "execute_result"
    }
   ],
   "source": [
    "Covid_deaths[(Covid_deaths['ICU'] == 2)]['DEAD'].value_counts()"
   ]
  },
  {
   "cell_type": "code",
   "execution_count": 24,
   "id": "c9a464f6",
   "metadata": {},
   "outputs": [
    {
     "data": {
      "image/png": "[encoded data removed]",
      "text/plain": [
       "<Figure size 720x720 with 1 Axes>"
      ]
     },
     "metadata": {},
     "output_type": "display_data"
    }
   ],
   "source": [
    "labels = [\"Alive\", \"Dead\"]\n",
    "sizes = Covid_deaths[(Covid_deaths['ICU'] == 1)]['DEAD'].value_counts()\n",
    "colors = ['#0a75ad', '#990000']\n",
    "plt.figure(figsize = (10,10))\n",
    "plt.pie(sizes, labels=labels, autopct='%1.1f%%', textprops={'fontsize':20, 'color':\"black\"}, colors = colors,\n",
    "        explode=[0.05, 0.05])\n",
    "plt.title('Death Percentage among Covid Carriers in ICU',color = 'red',fontsize = 30)\n",
    "plt.legend(Covid_deaths[(Covid_deaths['ICU'] == 1)]['DEAD'].value_counts(), loc = 'lower right', title = 'Death Rate')\n",
    "plt.show()"
   ]
  },
  {
   "cell_type": "code",
   "execution_count": 25,
   "id": "55b67517",
   "metadata": {},
   "outputs": [
    {
     "data": {
      "text/plain": [
       "2     380009\n",
       "1      10449\n",
       "99      1521\n",
       "Name: ICU, dtype: int64"
      ]
     },
     "execution_count": 25,
     "metadata": {},
     "output_type": "execute_result"
    }
   ],
   "source": [
    "Covid_deaths['ICU'].value_counts()"
   ]
  },
  {
   "cell_type": "code",
   "execution_count": null,
   "id": "971d666a",
   "metadata": {},
   "outputs": [],
   "source": []
  },
  {
   "cell_type": "markdown",
   "id": "e452fcc4",
   "metadata": {},
   "source": [
    "# Hospitalized people"
   ]
  },
  {
   "cell_type": "code",
   "execution_count": 42,
   "id": "47fa514a",
   "metadata": {},
   "outputs": [],
   "source": [
    "Hospitalized = df[(df['PATIENT_TYPE'] == 2)]\n",
    "for i in [97, 98, 99]:\n",
    "    Hospitalized.replace(i , np.nan, inplace = True)"
   ]
  },
  {
   "cell_type": "code",
   "execution_count": 43,
   "id": "8ec8f137",
   "metadata": {},
   "outputs": [
    {
     "data": {
      "text/plain": [
       "2.0    175685\n",
       "1.0     16858\n",
       "Name: ICU, dtype: int64"
      ]
     },
     "execution_count": 43,
     "metadata": {},
     "output_type": "execute_result"
    }
   ],
   "source": [
    "Hospitalized['ICU'].value_counts()"
   ]
  },
  {
   "cell_type": "code",
   "execution_count": 47,
   "id": "80be59c0",
   "metadata": {},
   "outputs": [
    {
     "data": {
      "image/png": "[encoded data removed]",
      "text/plain": [
       "<Figure size 720x720 with 1 Axes>"
      ]
     },
     "metadata": {},
     "output_type": "display_data"
    }
   ],
   "source": [
    "labels = [\"Alive\", \"Dead\"]\n",
    "sizes = Hospitalized['ICU'].value_counts()\n",
    "colors = ['#0a75ad', '#990000']\n",
    "plt.figure(figsize = (10,10))\n",
    "plt.pie(sizes, labels=labels, autopct='%1.1f%%', textprops={'fontsize':20, 'color':\"black\"}, colors = colors,\n",
    "        explode=[0.05, 0.05])\n",
    "plt.title('everyone got sent to ICU among Hospitalized people',color = 'red',fontsize = 30)\n",
    "plt.legend(Hospitalized['ICU'].value_counts(), loc = 'lower right', title = 'Death Rate')\n",
    "plt.show()"
   ]
  },
  {
   "cell_type": "code",
   "execution_count": 48,
   "id": "f961e09b",
   "metadata": {},
   "outputs": [
    {
     "data": {
      "image/png": "[encoded data removed]",
      "text/plain": [
       "<Figure size 720x720 with 1 Axes>"
      ]
     },
     "metadata": {},
     "output_type": "display_data"
    }
   ],
   "source": [
    "labels = [\"Alive\", \"Dead\"]\n",
    "sizes = Hospitalized[(Hospitalized[\"Covid_or_Not\"] == \"A Covid 19 Carrier\")]['ICU'].value_counts()\n",
    "colors = ['#0a75ad', '#990000']\n",
    "plt.figure(figsize = (10,10))\n",
    "plt.pie(sizes, labels=labels, autopct='%1.1f%%', textprops={'fontsize':20, 'color':\"black\"}, colors = colors,\n",
    "        explode=[0.05, 0.05])\n",
    "plt.title('covid carriergot sent to ICU among Hospitalized people',color = 'red',fontsize = 30)\n",
    "plt.legend(Hospitalized[(Hospitalized[\"Covid_or_Not\"] == \"A Covid 19 Carrier\")]['ICU'].value_counts(), loc = 'lower right', title = 'Death Rate')\n",
    "plt.show()"
   ]
  },
  {
   "cell_type": "markdown",
   "id": "b7997f7a",
   "metadata": {},
   "source": [
    "# drop null values"
   ]
  },
  {
   "cell_type": "code",
   "execution_count": 26,
   "id": "88e9c0e9",
   "metadata": {},
   "outputs": [
    {
     "data": {
      "text/plain": [
       "USMER                        0\n",
       "MEDICAL_UNIT                 0\n",
       "SEX                          0\n",
       "PATIENT_TYPE                 0\n",
       "DATE_DIED               971633\n",
       "INTUBED                   7325\n",
       "PNEUMONIA                16003\n",
       "AGE                        345\n",
       "PREGNANT                  3754\n",
       "DIABETES                  3338\n",
       "COPD                      3003\n",
       "ASTHMA                    2979\n",
       "INMSUPR                   3404\n",
       "HIPERTENSION              3104\n",
       "OTHER_DISEASE             5045\n",
       "CARDIOVASCULAR            3076\n",
       "OBESITY                   3032\n",
       "RENAL_CHRONIC             3006\n",
       "TOBACCO                   3220\n",
       "CLASIFFICATION_FINAL         0\n",
       "ICU                       7488\n",
       "DEAD                         0\n",
       "Covid_or_Not                 0\n",
       "dtype: int64"
      ]
     },
     "execution_count": 26,
     "metadata": {},
     "output_type": "execute_result"
    }
   ],
   "source": [
    "df_null = df.copy()\n",
    "for i in [97, 98, 99]:\n",
    "    df_null.replace(i , np.nan, inplace = True)\n",
    "df_null.isnull().sum()"
   ]
  },
  {
   "cell_type": "code",
   "execution_count": 27,
   "id": "deceb7c7",
   "metadata": {},
   "outputs": [],
   "source": [
    "df.to_csv(\"full_data_with_missing_value.csv\",index = False)"
   ]
  },
  {
   "cell_type": "code",
   "execution_count": 28,
   "id": "b7e3897c",
   "metadata": {},
   "outputs": [],
   "source": [
    "df_clean = df.copy()"
   ]
  },
  {
   "cell_type": "code",
   "execution_count": 29,
   "id": "333c309f",
   "metadata": {},
   "outputs": [
    {
     "data": {
      "text/plain": [
       "Index(['USMER', 'MEDICAL_UNIT', 'SEX', 'PATIENT_TYPE', 'INTUBED', 'PNEUMONIA',\n",
       "       'AGE', 'PREGNANT', 'DIABETES', 'COPD', 'ASTHMA', 'INMSUPR',\n",
       "       'HIPERTENSION', 'OTHER_DISEASE', 'CARDIOVASCULAR', 'OBESITY',\n",
       "       'RENAL_CHRONIC', 'TOBACCO', 'CLASIFFICATION_FINAL', 'ICU', 'DEAD',\n",
       "       'Covid_or_Not'],\n",
       "      dtype='object')"
      ]
     },
     "execution_count": 29,
     "metadata": {},
     "output_type": "execute_result"
    }
   ],
   "source": [
    "df_clean = df_null.drop(['DATE_DIED'],axis= 1)\n",
    "df_clean.columns"
   ]
  },
  {
   "cell_type": "code",
   "execution_count": 30,
   "id": "f92b4071",
   "metadata": {},
   "outputs": [
    {
     "data": {
      "text/plain": [
       "(1048575, 23)"
      ]
     },
     "execution_count": 30,
     "metadata": {},
     "output_type": "execute_result"
    }
   ],
   "source": [
    "df.shape"
   ]
  },
  {
   "cell_type": "code",
   "execution_count": 31,
   "id": "02e63ac8",
   "metadata": {},
   "outputs": [
    {
     "data": {
      "text/plain": [
       "(1019345, 22)"
      ]
     },
     "execution_count": 31,
     "metadata": {},
     "output_type": "execute_result"
    }
   ],
   "source": [
    "df_clean = df_clean.dropna()\n",
    "df_clean.shape"
   ]
  },
  {
   "cell_type": "code",
   "execution_count": 32,
   "id": "4dbf87fb",
   "metadata": {},
   "outputs": [
    {
     "data": {
      "text/plain": [
       "USMER                   0\n",
       "MEDICAL_UNIT            0\n",
       "SEX                     0\n",
       "PATIENT_TYPE            0\n",
       "INTUBED                 0\n",
       "PNEUMONIA               0\n",
       "AGE                     0\n",
       "PREGNANT                0\n",
       "DIABETES                0\n",
       "COPD                    0\n",
       "ASTHMA                  0\n",
       "INMSUPR                 0\n",
       "HIPERTENSION            0\n",
       "OTHER_DISEASE           0\n",
       "CARDIOVASCULAR          0\n",
       "OBESITY                 0\n",
       "RENAL_CHRONIC           0\n",
       "TOBACCO                 0\n",
       "CLASIFFICATION_FINAL    0\n",
       "ICU                     0\n",
       "DEAD                    0\n",
       "Covid_or_Not            0\n",
       "dtype: int64"
      ]
     },
     "execution_count": 32,
     "metadata": {},
     "output_type": "execute_result"
    }
   ],
   "source": [
    "df_clean.isnull().sum()"
   ]
  },
  {
   "cell_type": "code",
   "execution_count": 33,
   "id": "4e7321ac",
   "metadata": {},
   "outputs": [],
   "source": [
    "#df_clean.to_csv('fulldata_clean.csv',index = False)"
   ]
  },
  {
   "cell_type": "code",
   "execution_count": null,
   "id": "5fbbf586",
   "metadata": {},
   "outputs": [],
   "source": []
  },
  {
   "cell_type": "code",
   "execution_count": null,
   "id": "a11020e2",
   "metadata": {},
   "outputs": [],
   "source": []
  },
  {
   "cell_type": "code",
   "execution_count": null,
   "id": "c9ba396f",
   "metadata": {},
   "outputs": [],
   "source": []
  },
  {
   "cell_type": "code",
   "execution_count": null,
   "id": "1fdc6a5c",
   "metadata": {},
   "outputs": [],
   "source": []
  }
 ],
 "metadata": {
  "kernelspec": {
   "display_name": "Python 3 (ipykernel)",
   "language": "python",
   "name": "python3"
  },
  "language_info": {
   "codemirror_mode": {
    "name": "ipython",
    "version": 3
   },
   "file_extension": ".py",
   "mimetype": "text/x-python",
   "name": "python",
   "nbconvert_exporter": "python",
   "pygments_lexer": "ipython3",
   "version": "3.9.12"
  }
 },
 "nbformat": 4,
 "nbformat_minor": 5
}
