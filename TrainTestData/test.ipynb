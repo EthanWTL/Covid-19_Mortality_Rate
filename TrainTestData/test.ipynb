{
 "cells": [
  {
   "cell_type": "code",
   "execution_count": 1,
   "id": "c773be18",
   "metadata": {},
   "outputs": [],
   "source": [
    "import numpy as np\n",
    "import pandas as pd\n",
    "from keras.models import Sequential\n",
    "from keras.layers import Conv1D, MaxPooling1D, Flatten, Dense, Dropout\n",
    "from sklearn.metrics import confusion_matrix, classification_report\n",
    "from sklearn.model_selection import train_test_split"
   ]
  },
  {
   "cell_type": "code",
   "execution_count": 6,
   "id": "6da24494",
   "metadata": {},
   "outputs": [],
   "source": [
    "df = pd.read_csv('hospitalized_processed.csv').sample(10000)\n",
    "\n",
    "X = df.drop(['ICU'],axis  =1)\n",
    "y = df['ICU']\n",
    "\n",
    "X_train, X_test, Y_train, Y_test = train_test_split(X, y, test_size=0.2, random_state=42)"
   ]
  },
  {
   "cell_type": "code",
   "execution_count": 8,
   "id": "20e33945",
   "metadata": {},
   "outputs": [
    {
     "name": "stdout",
     "output_type": "stream",
     "text": [
      "Epoch 1/25\n",
      "250/250 [==============================] - 8s 30ms/step - loss: 0.5387 - accuracy: 0.7341\n",
      "Epoch 2/25\n",
      "250/250 [==============================] - 7s 29ms/step - loss: 0.5165 - accuracy: 0.7508\n",
      "Epoch 3/25\n",
      "250/250 [==============================] - 7s 30ms/step - loss: 0.5090 - accuracy: 0.7585\n",
      "Epoch 4/25\n",
      "250/250 [==============================] - 8s 30ms/step - loss: 0.5055 - accuracy: 0.7605\n",
      "Epoch 5/25\n",
      "250/250 [==============================] - 7s 30ms/step - loss: 0.5043 - accuracy: 0.7615\n",
      "Epoch 6/25\n",
      "250/250 [==============================] - 7s 29ms/step - loss: 0.5006 - accuracy: 0.7632\n",
      "Epoch 7/25\n",
      "250/250 [==============================] - 8s 30ms/step - loss: 0.4993 - accuracy: 0.7634\n",
      "Epoch 8/25\n",
      "250/250 [==============================] - 8s 30ms/step - loss: 0.4960 - accuracy: 0.7663\n",
      "Epoch 9/25\n",
      "250/250 [==============================] - 7s 30ms/step - loss: 0.4958 - accuracy: 0.7671\n",
      "Epoch 10/25\n",
      "250/250 [==============================] - 8s 30ms/step - loss: 0.4914 - accuracy: 0.7656\n",
      "Epoch 11/25\n",
      "250/250 [==============================] - 8s 30ms/step - loss: 0.4873 - accuracy: 0.7678\n",
      "Epoch 12/25\n",
      "250/250 [==============================] - 8s 30ms/step - loss: 0.4864 - accuracy: 0.7665\n",
      "Epoch 13/25\n",
      "250/250 [==============================] - 8s 30ms/step - loss: 0.4828 - accuracy: 0.7744\n",
      "Epoch 14/25\n",
      "250/250 [==============================] - 8s 30ms/step - loss: 0.4753 - accuracy: 0.7731\n",
      "Epoch 15/25\n",
      "250/250 [==============================] - 8s 30ms/step - loss: 0.4720 - accuracy: 0.7771\n",
      "Epoch 16/25\n",
      "250/250 [==============================] - 7s 30ms/step - loss: 0.4673 - accuracy: 0.7774\n",
      "Epoch 17/25\n",
      "250/250 [==============================] - 7s 30ms/step - loss: 0.4629 - accuracy: 0.7811\n",
      "Epoch 18/25\n",
      "250/250 [==============================] - 7s 30ms/step - loss: 0.4586 - accuracy: 0.7844\n",
      "Epoch 19/25\n",
      "250/250 [==============================] - 7s 30ms/step - loss: 0.4531 - accuracy: 0.7841\n",
      "Epoch 20/25\n",
      "250/250 [==============================] - 7s 30ms/step - loss: 0.4487 - accuracy: 0.7871\n",
      "Epoch 21/25\n",
      "250/250 [==============================] - 7s 30ms/step - loss: 0.4438 - accuracy: 0.7879\n",
      "Epoch 22/25\n",
      "250/250 [==============================] - 7s 30ms/step - loss: 0.4360 - accuracy: 0.7925\n",
      "Epoch 23/25\n",
      "250/250 [==============================] - 8s 31ms/step - loss: 0.4286 - accuracy: 0.7930\n",
      "Epoch 24/25\n",
      "250/250 [==============================] - 8s 30ms/step - loss: 0.4240 - accuracy: 0.7996\n",
      "Epoch 25/25\n",
      "250/250 [==============================] - 8s 30ms/step - loss: 0.4180 - accuracy: 0.7976\n",
      "63/63 [==============================] - 1s 7ms/step\n",
      "[[1001  355]\n",
      " [ 173  471]]\n",
      "              precision    recall  f1-score   support\n",
      "\n",
      "           0       0.74      0.85      0.79      1174\n",
      "           1       0.73      0.57      0.64       826\n",
      "\n",
      "    accuracy                           0.74      2000\n",
      "   macro avg       0.73      0.71      0.72      2000\n",
      "weighted avg       0.74      0.74      0.73      2000\n",
      "\n"
     ]
    }
   ],
   "source": [
    "# CNN\n",
    "model = Sequential()\n",
    "model.add(Conv1D(filters=256, kernel_size=3, activation='relu', input_shape=(35,1)))\n",
    "model.add(Conv1D(filters=256, kernel_size=3, activation='relu'))\n",
    "model.add(MaxPooling1D(pool_size=2))\n",
    "\n",
    "model.add(Conv1D(filters=512, kernel_size=3, activation='relu'))\n",
    "model.add(MaxPooling1D(pool_size=2))\n",
    "\n",
    "model.add(Flatten())\n",
    "model.add(Dense(512, activation='relu'))\n",
    "model.add(Dense(2, activation='sigmoid'))\n",
    "\n",
    "model.compile(loss='sparse_categorical_crossentropy', optimizer='adam', metrics=['accuracy'])\n",
    "\n",
    "model.fit(X_train, Y_train, epochs=25, batch_size=32)\n",
    "Y_pred = model.predict(X_test).argmax(axis=1)\n",
    "\n",
    "cm = confusion_matrix(Y_pred, Y_test)\n",
    "print(cm)\n",
    "print(classification_report(Y_test, Y_pred))"
   ]
  },
  {
   "cell_type": "code",
   "execution_count": null,
   "id": "41899833",
   "metadata": {},
   "outputs": [],
   "source": []
  }
 ],
 "metadata": {
  "kernelspec": {
   "display_name": "Python 3 (ipykernel)",
   "language": "python",
   "name": "python3"
  },
  "language_info": {
   "codemirror_mode": {
    "name": "ipython",
    "version": 3
   },
   "file_extension": ".py",
   "mimetype": "text/x-python",
   "name": "python",
   "nbconvert_exporter": "python",
   "pygments_lexer": "ipython3",
   "version": "3.9.12"
  }
 },
 "nbformat": 4,
 "nbformat_minor": 5
}
